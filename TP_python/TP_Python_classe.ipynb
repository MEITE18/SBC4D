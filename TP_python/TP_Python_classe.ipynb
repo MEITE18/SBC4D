{
 "cells": [
  {
   "cell_type": "markdown",
   "metadata": {},
   "source": [
    "# Mardi le 09 juillet 2019"
   ]
  },
  {
   "cell_type": "code",
   "execution_count": null,
   "metadata": {},
   "outputs": [],
   "source": [
    "def transforme(mot):\n",
    "    mot=input(\"Entrez un mot : \")\n",
    "    "
   ]
  },
  {
   "cell_type": "code",
   "execution_count": 45,
   "metadata": {},
   "outputs": [],
   "source": [
    "#mot=input(\"Entrez une phrase : \")   \n",
    "#mot =\"Je vous attends et on ira voire yao puis Dackoun\"\n",
    "def longmot(mot):\n",
    "    \n",
    "    maxi = 0\n",
    "    wordMax = ''\n",
    "    for compte in mot.split():\n",
    "        if len(compte) >= maxi:\n",
    "            wordMax = compte\n",
    "            maxi = len(compte)\n",
    "    return print(wordMax, \"est le plus long avec \" ,maxi,\" caractères\")\n",
    "    "
   ]
  },
  {
   "cell_type": "code",
   "execution_count": 46,
   "metadata": {},
   "outputs": [
    {
     "name": "stdout",
     "output_type": "stream",
     "text": [
      "Entrez une phrase : cool est non\n",
      "cool est le plus long avec  4  caractères\n"
     ]
    }
   ],
   "source": [
    "mot=input(\"Entrez une phrase : \")   \n",
    "longmot(mot)"
   ]
  },
  {
   "cell_type": "code",
   "execution_count": 78,
   "metadata": {},
   "outputs": [
    {
     "name": "stdout",
     "output_type": "stream",
     "text": [
      "Entrez un mot: dackoun est beau\n",
      "uackoun est bead\n"
     ]
    }
   ],
   "source": [
    "#Permutation des chaines de caractere \n",
    "ch1=input(\"Entrez un mot: \")\n",
    "def permutmot(ch1):\n",
    "    ch2=list(ch1)\n",
    "    ch2[0],ch2[-1]=ch2[-1],ch2[0]\n",
    "    ch4=\"\".join(ch2)\n",
    "    return print(ch4)\n",
    "permutmot(ch1)"
   ]
  },
  {
   "cell_type": "code",
   "execution_count": 52,
   "metadata": {},
   "outputs": [
    {
     "data": {
      "text/plain": [
       "-1"
      ]
     },
     "execution_count": 52,
     "metadata": {},
     "output_type": "execute_result"
    }
   ],
   "source": [
    "#exo3 \n",
    "r=input(\"Entrez un mot\")\n",
    "n=int(input(\"Entrez le numero de la lettre à supprimer\"))\n",
    "def nombre(r)\n",
    "return r.replace(r[n],'')\n",
    "nombre(r)\n"
   ]
  },
  {
   "cell_type": "code",
   "execution_count": null,
   "metadata": {},
   "outputs": [],
   "source": []
  },
  {
   "cell_type": "code",
   "execution_count": null,
   "metadata": {},
   "outputs": [],
   "source": [
    "#exo3\n",
    "cha=input(\"Entrez un mot\")\n",
    "n=int(input(\"Entrez le numero de la lettre à supprimer\"))\n",
    "p1=ch[:n]\n",
    "p2=cha[n+1:]\n",
    "p=p1+p2\n",
    "print(p)"
   ]
  },
  {
   "cell_type": "code",
   "execution_count": 83,
   "metadata": {},
   "outputs": [
    {
     "name": "stdout",
     "output_type": "stream",
     "text": [
      "Grand est le plus long avec  5  caractères\n"
     ]
    }
   ],
   "source": [
    "anim=[\"Femme\",\"Bébé\",\"Homme\",\"Petit\",\"Grand\"]\n",
    "def longmot(mot):\n",
    "    maxi = 0\n",
    "    wordMax = ''\n",
    "    for compte in anim:\n",
    "        if len(compte) >= maxi:\n",
    "            wordMax = compte\n",
    "            maxi = len(compte)\n",
    "    return print(wordMax, \"est le plus long avec \" ,maxi,\" caractères\")\n",
    "longmot(anim)"
   ]
  },
  {
   "cell_type": "code",
   "execution_count": 85,
   "metadata": {},
   "outputs": [
    {
     "name": "stdout",
     "output_type": "stream",
     "text": [
      "Entrez un mot ou un goupe de motbébé\n",
      "bé&é\n"
     ]
    }
   ],
   "source": [
    "r=input(\"Entrez un mot ou un goupe de mot\")\n",
    "def transform(r):\n",
    "    return r.replace(r[0],'&')\n",
    "transform(r)\n",
    "a=r[0]\n",
    "b=transform(r)\n",
    "y=a+b[1:]\n",
    "print(y)"
   ]
  },
  {
   "cell_type": "markdown",
   "metadata": {},
   "source": [
    "*iloc : on prends la position alors qu'avec loc : la serie avec des indexs"
   ]
  },
  {
   "cell_type": "code",
   "execution_count": 86,
   "metadata": {},
   "outputs": [
    {
     "name": "stdout",
     "output_type": "stream",
     "text": [
      "0                Naruto\n",
      "1         One Punch Man\n",
      "2    Attaque des titans\n",
      "3                Boruto\n",
      "4          Black Clover\n",
      "dtype: object\n"
     ]
    }
   ],
   "source": [
    "import numpy as np\n",
    "import pandas as pd\n",
    "manga=pd.Series([\"Naruto\",\"One Punch Man\",\"Attaque des titans\",\"Boruto\",\"Black Clover\"])\n",
    "print(manga)"
   ]
  },
  {
   "cell_type": "code",
   "execution_count": 2,
   "metadata": {},
   "outputs": [
    {
     "name": "stdout",
     "output_type": "stream",
     "text": [
      "                mang1  mang2\n",
      "0              Naruto     14\n",
      "1       One Punch Man     15\n",
      "2  Attaque des titans     17\n",
      "3                 NaN     16\n",
      "4              Boruto     14\n",
      "5        Black Clover     19\n"
     ]
    }
   ],
   "source": [
    "import numpy as np\n",
    "import pandas as pd\n",
    "mang1=pd.Series([\"Naruto\",\"One Punch Man\",\"Attaque des titans\",np.nan,\"Boruto\",\"Black Clover\"])\n",
    "mang2=pd.Series([14,15,17,16,14,19])\n",
    "dico=dict(mang1=mang1,mang2=mang2)\n",
    "df_manga=pd.DataFrame(dico)\n",
    "print(df_manga)"
   ]
  },
  {
   "cell_type": "code",
   "execution_count": 7,
   "metadata": {},
   "outputs": [
    {
     "data": {
      "text/plain": [
       "2    17\n",
       "3    16\n",
       "Name: mang2, dtype: int64"
      ]
     },
     "execution_count": 7,
     "metadata": {},
     "output_type": "execute_result"
    }
   ],
   "source": [
    "df_manga.iloc[:,1]"
   ]
  },
  {
   "cell_type": "code",
   "execution_count": 96,
   "metadata": {},
   "outputs": [
    {
     "data": {
      "text/plain": [
       "mang1    NaN\n",
       "mang2     16\n",
       "Name: 3, dtype: object"
      ]
     },
     "execution_count": 96,
     "metadata": {},
     "output_type": "execute_result"
    }
   ],
   "source": [
    "df_manga.loc[3]"
   ]
  },
  {
   "cell_type": "code",
   "execution_count": 97,
   "metadata": {},
   "outputs": [
    {
     "data": {
      "text/html": [
       "<div>\n",
       "<style scoped>\n",
       "    .dataframe tbody tr th:only-of-type {\n",
       "        vertical-align: middle;\n",
       "    }\n",
       "\n",
       "    .dataframe tbody tr th {\n",
       "        vertical-align: top;\n",
       "    }\n",
       "\n",
       "    .dataframe thead th {\n",
       "        text-align: right;\n",
       "    }\n",
       "</style>\n",
       "<table border=\"1\" class=\"dataframe\">\n",
       "  <thead>\n",
       "    <tr style=\"text-align: right;\">\n",
       "      <th></th>\n",
       "      <th>mang1</th>\n",
       "      <th>mang2</th>\n",
       "    </tr>\n",
       "  </thead>\n",
       "  <tbody>\n",
       "    <tr>\n",
       "      <th>1</th>\n",
       "      <td>One Punch Man</td>\n",
       "      <td>15</td>\n",
       "    </tr>\n",
       "    <tr>\n",
       "      <th>3</th>\n",
       "      <td>NaN</td>\n",
       "      <td>16</td>\n",
       "    </tr>\n",
       "    <tr>\n",
       "      <th>5</th>\n",
       "      <td>Black Clover</td>\n",
       "      <td>19</td>\n",
       "    </tr>\n",
       "  </tbody>\n",
       "</table>\n",
       "</div>"
      ],
      "text/plain": [
       "           mang1  mang2\n",
       "1  One Punch Man     15\n",
       "3            NaN     16\n",
       "5   Black Clover     19"
      ]
     },
     "execution_count": 97,
     "metadata": {},
     "output_type": "execute_result"
    }
   ],
   "source": [
    "df_manga.loc[[False,True,False,True,False,True]]"
   ]
  },
  {
   "cell_type": "code",
   "execution_count": 98,
   "metadata": {},
   "outputs": [
    {
     "name": "stdout",
     "output_type": "stream",
     "text": [
      "   mang1  mang2\n",
      "0  False  False\n",
      "1  False  False\n",
      "2  False  False\n",
      "3   True  False\n",
      "4  False  False\n",
      "5  False  False\n"
     ]
    }
   ],
   "source": [
    "print(df_manga.isnull())"
   ]
  },
  {
   "cell_type": "code",
   "execution_count": 99,
   "metadata": {},
   "outputs": [
    {
     "name": "stdout",
     "output_type": "stream",
     "text": [
      "                mang1  mang2\n",
      "0              Naruto     14\n",
      "1       One Punch Man     15\n",
      "2  Attaque des titans     17\n",
      "4              Boruto     14\n",
      "5        Black Clover     19\n"
     ]
    }
   ],
   "source": [
    "print(df_manga.dropna())"
   ]
  },
  {
   "cell_type": "code",
   "execution_count": null,
   "metadata": {},
   "outputs": [],
   "source": []
  },
  {
   "cell_type": "code",
   "execution_count": 11,
   "metadata": {},
   "outputs": [],
   "source": [
    "#II-2)\n",
    "def maxval(vallist):     \n",
    "    vallist=[32, 5, 12, 8, 3, 75, 2, 15]    \n",
    "    from functools import reduce     \n",
    "    return print(\"la valeur maximum est \",reduce(max, vallist),\" et la valeur minimun est \",reduce(min,vallist))     \n",
    "    maxval(vallist)"
   ]
  },
  {
   "cell_type": "code",
   "execution_count": 6,
   "metadata": {},
   "outputs": [
    {
     "data": {
      "text/plain": [
       "4"
      ]
     },
     "execution_count": 6,
     "metadata": {},
     "output_type": "execute_result"
    }
   ],
   "source": [
    "2*2"
   ]
  },
  {
   "cell_type": "code",
   "execution_count": 12,
   "metadata": {},
   "outputs": [
    {
     "name": "stdout",
     "output_type": "stream",
     "text": [
      "la valeur maximum est  75  et la valeur minimun est  2\n"
     ]
    }
   ],
   "source": [
    "maxval([32, 5, 12, 8, 3, 75, 2, 15] )"
   ]
  },
  {
   "cell_type": "code",
   "execution_count": 16,
   "metadata": {},
   "outputs": [],
   "source": [
    "#II-1)\n",
    "def somelts(vallist):\n",
    "    vallist=[32, 5, 12, 8, 3, 75, 2, 15]\n",
    "    total=0\n",
    "    for i in vallist:\n",
    "        total=total+i\n",
    "    return total\n",
    "        \n"
   ]
  },
  {
   "cell_type": "code",
   "execution_count": 18,
   "metadata": {},
   "outputs": [
    {
     "data": {
      "text/plain": [
       "152"
      ]
     },
     "execution_count": 18,
     "metadata": {},
     "output_type": "execute_result"
    }
   ],
   "source": [
    "somelts([32, 5, 12, 8, 3, 75, 2, 15])"
   ]
  },
  {
   "cell_type": "code",
   "execution_count": 1,
   "metadata": {},
   "outputs": [
    {
     "data": {
      "text/plain": [
       "152"
      ]
     },
     "execution_count": 1,
     "metadata": {},
     "output_type": "execute_result"
    }
   ],
   "source": [
    "#II-1) bis\n",
    "def some(vallist):\n",
    "    vallist=[32, 5, 12, 8, 3, 75, 2, 15]\n",
    "    total=sum(vallist)\n",
    "    return total\n",
    "some([32, 5, 12, 8, 3, 75, 2, 15])"
   ]
  },
  {
   "cell_type": "code",
   "execution_count": 22,
   "metadata": {},
   "outputs": [
    {
     "data": {
      "text/plain": [
       "[(2, 1), (1, 2), (2, 3), (4, 4), (2, 5)]"
      ]
     },
     "execution_count": 22,
     "metadata": {},
     "output_type": "execute_result"
    }
   ],
   "source": [
    "#II-3)\n",
    "\n",
    "import operator\n",
    "def trie(vallist):\n",
    "    vallist.sort(key=operator.itemgetter(1)) #Trie uniquement par rapport à l'élément d'index 1 dans une liste de tuple\n",
    "    return vallist\n",
    "trie([(2, 5), (1, 2), (4, 4), (2, 3), (2, 1)])"
   ]
  },
  {
   "cell_type": "code",
   "execution_count": 1,
   "metadata": {},
   "outputs": [],
   "source": [
    "#I-8)\n",
    "def supespace(chaine):\n",
    "    chaine2=chaine.replace(\" \",\"\")\n",
    "    return chaine2\n",
    "    "
   ]
  },
  {
   "cell_type": "code",
   "execution_count": 2,
   "metadata": {},
   "outputs": [
    {
     "name": "stdout",
     "output_type": "stream",
     "text": [
      "Entrez une phrase Bonjour petit Dackoun , je m'en gaba de toi\n"
     ]
    },
    {
     "data": {
      "text/plain": [
       "\"BonjourpetitDackoun,jem'engabadetoi\""
      ]
     },
     "execution_count": 2,
     "metadata": {},
     "output_type": "execute_result"
    }
   ],
   "source": [
    "test=str(input(\"Entrez une phrase \"))\n",
    "supespace(test)"
   ]
  },
  {
   "cell_type": "code",
   "execution_count": 13,
   "metadata": {},
   "outputs": [],
   "source": [
    "def remplettre(ch):\n",
    "    def f(c):\n",
    "        return ord(c) - ord('a') + 1\n",
    "    for i in ch:\n",
    "        ch[i]=ch[f('i')-3]\n",
    "    return ch"
   ]
  },
  {
   "cell_type": "code",
   "execution_count": 14,
   "metadata": {},
   "outputs": [
    {
     "name": "stdout",
     "output_type": "stream",
     "text": [
      "Entrez une phrase dackoun\n"
     ]
    },
    {
     "ename": "TypeError",
     "evalue": "'str' object does not support item assignment",
     "output_type": "error",
     "traceback": [
      "\u001b[1;31m---------------------------------------------------------------------------\u001b[0m",
      "\u001b[1;31mTypeError\u001b[0m                                 Traceback (most recent call last)",
      "\u001b[1;32m<ipython-input-14-9ca80a0286de>\u001b[0m in \u001b[0;36m<module>\u001b[1;34m\u001b[0m\n\u001b[0;32m      1\u001b[0m \u001b[0mtest\u001b[0m\u001b[1;33m=\u001b[0m\u001b[0mstr\u001b[0m\u001b[1;33m(\u001b[0m\u001b[0minput\u001b[0m\u001b[1;33m(\u001b[0m\u001b[1;34m\"Entrez une phrase \"\u001b[0m\u001b[1;33m)\u001b[0m\u001b[1;33m)\u001b[0m\u001b[1;33m\u001b[0m\u001b[1;33m\u001b[0m\u001b[0m\n\u001b[1;32m----> 2\u001b[1;33m \u001b[0mremplettre\u001b[0m\u001b[1;33m(\u001b[0m\u001b[0mtest\u001b[0m\u001b[1;33m)\u001b[0m\u001b[1;33m\u001b[0m\u001b[1;33m\u001b[0m\u001b[0m\n\u001b[0m",
      "\u001b[1;32m<ipython-input-13-b893bcd98f49>\u001b[0m in \u001b[0;36mremplettre\u001b[1;34m(ch)\u001b[0m\n\u001b[0;32m      3\u001b[0m         \u001b[1;32mreturn\u001b[0m \u001b[0mord\u001b[0m\u001b[1;33m(\u001b[0m\u001b[0mc\u001b[0m\u001b[1;33m)\u001b[0m \u001b[1;33m-\u001b[0m \u001b[0mord\u001b[0m\u001b[1;33m(\u001b[0m\u001b[1;34m'a'\u001b[0m\u001b[1;33m)\u001b[0m \u001b[1;33m+\u001b[0m \u001b[1;36m1\u001b[0m\u001b[1;33m\u001b[0m\u001b[1;33m\u001b[0m\u001b[0m\n\u001b[0;32m      4\u001b[0m     \u001b[1;32mfor\u001b[0m \u001b[0mi\u001b[0m \u001b[1;32min\u001b[0m \u001b[0mch\u001b[0m\u001b[1;33m:\u001b[0m\u001b[1;33m\u001b[0m\u001b[1;33m\u001b[0m\u001b[0m\n\u001b[1;32m----> 5\u001b[1;33m         \u001b[0mch\u001b[0m\u001b[1;33m[\u001b[0m\u001b[0mi\u001b[0m\u001b[1;33m]\u001b[0m\u001b[1;33m=\u001b[0m\u001b[0mch\u001b[0m\u001b[1;33m[\u001b[0m\u001b[0mf\u001b[0m\u001b[1;33m(\u001b[0m\u001b[1;34m'i'\u001b[0m\u001b[1;33m)\u001b[0m\u001b[1;33m-\u001b[0m\u001b[1;36m3\u001b[0m\u001b[1;33m]\u001b[0m\u001b[1;33m\u001b[0m\u001b[1;33m\u001b[0m\u001b[0m\n\u001b[0m\u001b[0;32m      6\u001b[0m     \u001b[1;32mreturn\u001b[0m \u001b[0mch\u001b[0m\u001b[1;33m\u001b[0m\u001b[1;33m\u001b[0m\u001b[0m\n",
      "\u001b[1;31mTypeError\u001b[0m: 'str' object does not support item assignment"
     ]
    }
   ],
   "source": [
    "test=str(input(\"Entrez une phrase \"))\n",
    "remplettre(test)"
   ]
  },
  {
   "cell_type": "code",
   "execution_count": 9,
   "metadata": {},
   "outputs": [],
   "source": [
    "def f(c):\n",
    "    return ord(c) - ord('a') + 1"
   ]
  },
  {
   "cell_type": "code",
   "execution_count": 11,
   "metadata": {},
   "outputs": [
    {
     "data": {
      "text/plain": [
       "2"
      ]
     },
     "execution_count": 11,
     "metadata": {},
     "output_type": "execute_result"
    }
   ],
   "source": [
    "f('b')"
   ]
  },
  {
   "cell_type": "code",
   "execution_count": 12,
   "metadata": {},
   "outputs": [
    {
     "data": {
      "text/plain": [
       "100"
      ]
     },
     "execution_count": 12,
     "metadata": {},
     "output_type": "execute_result"
    }
   ],
   "source": [
    "ord('d')"
   ]
  },
  {
   "cell_type": "code",
   "execution_count": 18,
   "metadata": {},
   "outputs": [
    {
     "name": "stdout",
     "output_type": "stream",
     "text": [
      "{1: 10, 2: 20, 3: 30, 4: 40, 5: 50, 6: 60}\n",
      "{1: 10, 2: 20, 3: 30, 4: 40, 5: 50, 6: 60}\n"
     ]
    }
   ],
   "source": [
    "#III-2)\n",
    "\n",
    "dic1={1:10, 2:20}  \n",
    "dic2={3:30, 4:40} \n",
    "dic3={5:50, 6:60}\n",
    "d4 = dict(dic1)\n",
    "for d in (dic2, dic3): \n",
    "    d4.update(d)\n",
    "print(d4)\n",
    "\n",
    "d5 = {} \n",
    "for d in (dic1, dic2, dic3):\n",
    "    d5.update(d)\n",
    "print(d5)"
   ]
  },
  {
   "cell_type": "code",
   "execution_count": 23,
   "metadata": {},
   "outputs": [
    {
     "ename": "TypeError",
     "evalue": "dict expected at most 1 arguments, got 2",
     "output_type": "error",
     "traceback": [
      "\u001b[1;31m---------------------------------------------------------------------------\u001b[0m",
      "\u001b[1;31mTypeError\u001b[0m                                 Traceback (most recent call last)",
      "\u001b[1;32m<ipython-input-23-9f08c168ba75>\u001b[0m in \u001b[0;36m<module>\u001b[1;34m\u001b[0m\n\u001b[0;32m      8\u001b[0m \u001b[0md1\u001b[0m\u001b[1;33m=\u001b[0m\u001b[0mpd\u001b[0m\u001b[1;33m.\u001b[0m\u001b[0mSeries\u001b[0m\u001b[1;33m(\u001b[0m\u001b[0md1\u001b[0m\u001b[1;33m)\u001b[0m\u001b[1;33m\u001b[0m\u001b[1;33m\u001b[0m\u001b[0m\n\u001b[0;32m      9\u001b[0m \u001b[0md2\u001b[0m\u001b[1;33m=\u001b[0m\u001b[0mpd\u001b[0m\u001b[1;33m.\u001b[0m\u001b[0mSeries\u001b[0m\u001b[1;33m(\u001b[0m\u001b[0md2\u001b[0m\u001b[1;33m)\u001b[0m\u001b[1;33m\u001b[0m\u001b[1;33m\u001b[0m\u001b[0m\n\u001b[1;32m---> 10\u001b[1;33m \u001b[0md3\u001b[0m\u001b[1;33m=\u001b[0m\u001b[0mdict\u001b[0m\u001b[1;33m(\u001b[0m\u001b[0md1\u001b[0m\u001b[1;33m,\u001b[0m\u001b[0md2\u001b[0m\u001b[1;33m)\u001b[0m\u001b[1;33m\u001b[0m\u001b[1;33m\u001b[0m\u001b[0m\n\u001b[0m\u001b[0;32m     11\u001b[0m \u001b[0mdf_d3\u001b[0m\u001b[1;33m=\u001b[0m\u001b[0mpd\u001b[0m\u001b[1;33m.\u001b[0m\u001b[0mDataFrame\u001b[0m\u001b[1;33m(\u001b[0m\u001b[0md3\u001b[0m\u001b[1;33m)\u001b[0m\u001b[1;33m\u001b[0m\u001b[1;33m\u001b[0m\u001b[0m\n\u001b[0;32m     12\u001b[0m \u001b[0mprint\u001b[0m\u001b[1;33m(\u001b[0m\u001b[0mdf_d3\u001b[0m\u001b[1;33m)\u001b[0m\u001b[1;33m\u001b[0m\u001b[1;33m\u001b[0m\u001b[0m\n",
      "\u001b[1;31mTypeError\u001b[0m: dict expected at most 1 arguments, got 2"
     ]
    }
   ],
   "source": [
    "d1 = {'a': 100, 'b': 200, 'c':300} \n",
    "d2 = {'a': 300, 'b': 200, 'd':400} \n",
    "#somme = 0;\n",
    "#for key, val in d1.items():\n",
    " #   somme += val['a']\n",
    "#print(somme)\n",
    "import pandas as pd\n",
    "d1=pd.Series(d1)\n",
    "d2=pd.Series(d2)\n",
    "d3=dict(d1,d2)\n",
    "df_d3=pd.DataFrame(d3)\n",
    "print(df_d3)"
   ]
  },
  {
   "cell_type": "code",
   "execution_count": 33,
   "metadata": {},
   "outputs": [],
   "source": [
    "def fact(n):\n",
    "    \"\"\"fact(n): calcule la factorielle de n (entier >= 0)\"\"\"\n",
    "    if n<2:\n",
    "        return 1\n",
    "    else:\n",
    "        return n*fact(n-1)"
   ]
  },
  {
   "cell_type": "code",
   "execution_count": 28,
   "metadata": {},
   "outputs": [
    {
     "name": "stdout",
     "output_type": "stream",
     "text": [
      "Entrez un entier : -4\n"
     ]
    },
    {
     "data": {
      "text/plain": [
       "1"
      ]
     },
     "execution_count": 28,
     "metadata": {},
     "output_type": "execute_result"
    }
   ],
   "source": [
    "test=int(input(\"Entrez un entier : \"))\n",
    "fact(test)"
   ]
  },
  {
   "cell_type": "code",
   "execution_count": 9,
   "metadata": {},
   "outputs": [
    {
     "name": "stdout",
     "output_type": "stream",
     "text": [
      "Counter({'a': 400, 'b': 400, 'd': 400, 'c': 300})\n"
     ]
    }
   ],
   "source": [
    "from collections import Counter\n",
    "d1={'a': 100, 'b': 200, 'c':300} \n",
    "d2={'a': 300, 'b': 200, 'd':400} \n",
    "d5 =Counter(d1)+Counter(d2)\n",
    "print(d5)"
   ]
  },
  {
   "cell_type": "code",
   "execution_count": 2,
   "metadata": {},
   "outputs": [
    {
     "name": "stdout",
     "output_type": "stream",
     "text": [
      "est le plus long avec  Petit  caractères\n"
     ]
    }
   ],
   "source": [
    "from functools import reduce\n",
    "anim=[\"bon\",\"Bébé\",\"Hom\",\"Petit\",\"Grand\"]\n",
    "def longmot(anim):\n",
    "    return print(\" le mot est le plus long avec \" ,reduce(max,anim),\" caractères\")\n",
    "longmot(anim)\n",
    "    "
   ]
  },
  {
   "cell_type": "code",
   "execution_count": 7,
   "metadata": {},
   "outputs": [
    {
     "name": "stdout",
     "output_type": "stream",
     "text": [
      "Entrez une phrase on va on dooolej\n",
      "la lettre  o  est répétée  5\n"
     ]
    }
   ],
   "source": [
    "a=str(input(\"Entrez une phrase \"))\n",
    "def nbreprime(a):\n",
    "    n=len(a)\n",
    "    for i in range(0,n):\n",
    "        if a.count(a[i])>1:\n",
    "            return print(\"la lettre \",a[i],\" est répétée \",a.count(a[i]))\n",
    "    else:\n",
    "        return print(\"Aucune lettre  n'est répétée\")\n",
    "nbreprime(a)"
   ]
  },
  {
   "cell_type": "code",
   "execution_count": 3,
   "metadata": {},
   "outputs": [
    {
     "name": "stdout",
     "output_type": "stream",
     "text": [
      "[1, 4, 2] ['abel', 11]\n"
     ]
    }
   ],
   "source": [
    "A=[1,5,4,2,7]\n",
    "B=['abel',5,7,11]\n",
    "a=[]\n",
    "b=[]\n",
    "for i in range(len(A)):\n",
    "    if A[i] not in B:\n",
    "        a.append(A[i])\n",
    "for i in range(len(B)):\n",
    "    if B[i] not in A:\n",
    "        b.append(B[i])\n",
    "print(a,b)"
   ]
  },
  {
   "cell_type": "code",
   "execution_count": 16,
   "metadata": {},
   "outputs": [
    {
     "name": "stdout",
     "output_type": "stream",
     "text": [
      "Entrez une liste de mot avec comme separateur blanc-rouge-vert-jaune-rose-brun\n",
      "blanc-brun-jaune-rose-rouge-vert\n"
     ]
    }
   ],
   "source": [
    "x=input(\"Entrez une liste de mot avec comme separateur \")\n",
    "the=[n for n in x.split(\"-\")]\n",
    "the.sort()\n",
    "print(\"-\".join(the))\n"
   ]
  },
  {
   "cell_type": "code",
   "execution_count": 12,
   "metadata": {},
   "outputs": [
    {
     "data": {
      "text/plain": [
       "['Bonjour', 'Monsieur', 'n', 'je', 'mappelle', 'yao']"
      ]
     },
     "execution_count": 12,
     "metadata": {},
     "output_type": "execute_result"
    }
   ],
   "source": [
    "a.split()"
   ]
  },
  {
   "cell_type": "code",
   "execution_count": 14,
   "metadata": {},
   "outputs": [
    {
     "ename": "AttributeError",
     "evalue": "'list' object has no attribute 'replace'",
     "output_type": "error",
     "traceback": [
      "\u001b[1;31m---------------------------------------------------------------------------\u001b[0m",
      "\u001b[1;31mAttributeError\u001b[0m                            Traceback (most recent call last)",
      "\u001b[1;32m<ipython-input-14-abce699edaa2>\u001b[0m in \u001b[0;36m<module>\u001b[1;34m\u001b[0m\n\u001b[0;32m      1\u001b[0m \u001b[0ma\u001b[0m\u001b[1;33m=\u001b[0m\u001b[1;33m[\u001b[0m\u001b[1;34m'Bonjour'\u001b[0m\u001b[1;33m,\u001b[0m \u001b[1;34m'Monsieur'\u001b[0m\u001b[1;33m,\u001b[0m \u001b[1;34m'n'\u001b[0m\u001b[1;33m,\u001b[0m \u001b[1;34m'je'\u001b[0m\u001b[1;33m,\u001b[0m \u001b[1;34m'mappelle'\u001b[0m\u001b[1;33m,\u001b[0m \u001b[1;34m'yao'\u001b[0m\u001b[1;33m]\u001b[0m\u001b[1;33m\u001b[0m\u001b[1;33m\u001b[0m\u001b[0m\n\u001b[1;32m----> 2\u001b[1;33m \u001b[0ma\u001b[0m\u001b[1;33m.\u001b[0m\u001b[0mreplace\u001b[0m\u001b[1;33m(\u001b[0m\u001b[1;34m'n'\u001b[0m\u001b[1;33m,\u001b[0m\u001b[1;34m'cool'\u001b[0m\u001b[1;33m)\u001b[0m\u001b[1;33m\u001b[0m\u001b[1;33m\u001b[0m\u001b[0m\n\u001b[0m",
      "\u001b[1;31mAttributeError\u001b[0m: 'list' object has no attribute 'replace'"
     ]
    }
   ],
   "source": [
    "a=['Bonjour', 'Monsieur', 'n', 'je', 'mappelle', 'yao']\n",
    "a.replace('n','cool')"
   ]
  },
  {
   "cell_type": "code",
   "execution_count": null,
   "metadata": {},
   "outputs": [],
   "source": []
  }
 ],
 "metadata": {
  "kernelspec": {
   "display_name": "Python 3",
   "language": "python",
   "name": "python3"
  },
  "language_info": {
   "codemirror_mode": {
    "name": "ipython",
    "version": 3
   },
   "file_extension": ".py",
   "mimetype": "text/x-python",
   "name": "python",
   "nbconvert_exporter": "python",
   "pygments_lexer": "ipython3",
   "version": "3.7.3"
  }
 },
 "nbformat": 4,
 "nbformat_minor": 2
}
