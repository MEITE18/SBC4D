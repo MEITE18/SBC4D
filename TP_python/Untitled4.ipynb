{
 "cells": [
  {
   "cell_type": "code",
   "execution_count": 4,
   "metadata": {},
   "outputs": [
    {
     "name": "stdout",
     "output_type": "stream",
     "text": [
      "{\n",
      "  \"ip\": \"213.136.103.166\",\n",
      "  \"city\": \"Abidjan\",\n",
      "  \"region\": \"Abidjan\",\n",
      "  \"country\": \"CI\",\n",
      "  \"loc\": \"5.3097,-4.0127\",\n",
      "  \"org\": \"AS29571 Orange Côte d'Ivoire\",\n",
      "  \"readme\": \"https://ipinfo.io/missingauth\"\n",
      "}\n"
     ]
    }
   ],
   "source": [
    "import requests\n",
    "res = requests.get('https://ipinfo.io/')\n",
    "print(res.text)\n",
    "data=res.json()"
   ]
  },
  {
   "cell_type": "code",
   "execution_count": 3,
   "metadata": {},
   "outputs": [
    {
     "name": "stdout",
     "output_type": "stream",
     "text": [
      "Requirement already satisfied: beautifulsoup4 in c:\\programdata\\anaconda3\\lib\\site-packages (4.7.1)\n",
      "Requirement already satisfied: soupsieve>=1.2 in c:\\programdata\\anaconda3\\lib\\site-packages (from beautifulsoup4) (1.8)\n"
     ]
    }
   ],
   "source": [
    "!pip install beautifulsoup4"
   ]
  },
  {
   "cell_type": "code",
   "execution_count": 5,
   "metadata": {},
   "outputs": [
    {
     "name": "stdout",
     "output_type": "stream",
     "text": [
      "Requirement already satisfied: requests in c:\\programdata\\anaconda3\\lib\\site-packages (2.21.0)\n",
      "Requirement already satisfied: certifi>=2017.4.17 in c:\\programdata\\anaconda3\\lib\\site-packages (from requests) (2019.3.9)\n",
      "Requirement already satisfied: urllib3<1.25,>=1.21.1 in c:\\programdata\\anaconda3\\lib\\site-packages (from requests) (1.24.1)\n",
      "Requirement already satisfied: idna<2.9,>=2.5 in c:\\programdata\\anaconda3\\lib\\site-packages (from requests) (2.8)\n",
      "Requirement already satisfied: chardet<3.1.0,>=3.0.2 in c:\\programdata\\anaconda3\\lib\\site-packages (from requests) (3.0.4)\n"
     ]
    }
   ],
   "source": [
    "!pip install requests"
   ]
  },
  {
   "cell_type": "code",
   "execution_count": 16,
   "metadata": {},
   "outputs": [
    {
     "ename": "SyntaxError",
     "evalue": "invalid syntax (<ipython-input-16-5b55a2c280a7>, line 6)",
     "output_type": "error",
     "traceback": [
      "\u001b[1;36m  File \u001b[1;32m\"<ipython-input-16-5b55a2c280a7>\"\u001b[1;36m, line \u001b[1;32m6\u001b[0m\n\u001b[1;33m    week= soup.find(class=\"global-weatherfinder__list\")\u001b[0m\n\u001b[1;37m                        ^\u001b[0m\n\u001b[1;31mSyntaxError\u001b[0m\u001b[1;31m:\u001b[0m invalid syntax\n"
     ]
    }
   ],
   "source": [
    "import requests\n",
    "from bs4 import BeautifulSoup\n",
    "page = requests.get('https://weather.com/fr-CI/temps/5jours/l/7a7588e46a1d1a9a545ef5280b8a406ec5426c9861447d778e6d55a66749d266')\n",
    "soup= BeautifulSoup(page.content, 'html.parser')\n",
    "#print(soup.find_all('a'))#Pour trouver le contenu de toutes les balise a\n",
    "week= soup.find(class=\"global-weatherfinder__container\")\n",
    "print(week)\n",
    "# items=week.find_all(class='Percentage__percentSymbol__2Q_AR')\n",
    "# print(items[0])\n",
    "\n",
    "# print(items[0].find(class='').get_text())\n"
   ]
  },
  {
   "cell_type": "code",
   "execution_count": null,
   "metadata": {},
   "outputs": [],
   "source": []
  }
 ],
 "metadata": {
  "kernelspec": {
   "display_name": "Python 3",
   "language": "python",
   "name": "python3"
  },
  "language_info": {
   "codemirror_mode": {
    "name": "ipython",
    "version": 3
   },
   "file_extension": ".py",
   "mimetype": "text/x-python",
   "name": "python",
   "nbconvert_exporter": "python",
   "pygments_lexer": "ipython3",
   "version": "3.7.3"
  }
 },
 "nbformat": 4,
 "nbformat_minor": 2
}
