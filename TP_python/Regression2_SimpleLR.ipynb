{
 "cells": [
  {
   "cell_type": "code",
   "execution_count": 7,
   "metadata": {},
   "outputs": [
    {
     "name": "stdout",
     "output_type": "stream",
     "text": [
      "    ListPrice  BestPrice\n",
      "0        12.4       10.5\n",
      "1        14.3       13.0\n",
      "2        14.5       12.7\n",
      "3        14.9       13.1\n",
      "4        16.1       14.1\n",
      "5        16.9       14.8\n",
      "6        16.5       15.0\n",
      "7        15.4       13.5\n",
      "8        17.0       14.9\n",
      "9        17.9       15.6\n",
      "10       18.8       16.4\n",
      "11       20.3       17.7\n",
      "12       22.4       19.6\n",
      "13       19.4       16.9\n",
      "14       15.5       14.0\n",
      "15       16.7       14.6\n",
      "16       17.3       15.1\n",
      "17       18.4       16.1\n",
      "18       19.2       16.8\n",
      "19       17.4       15.2\n",
      "20       19.5       17.0\n",
      "21       19.7       17.2\n",
      "22       21.2       21.0\n",
      "[[12.4]\n",
      " [14.3]\n",
      " [14.5]\n",
      " [14.9]\n",
      " [16.1]\n",
      " [16.9]\n",
      " [16.5]\n",
      " [15.4]\n",
      " [17. ]\n",
      " [17.9]\n",
      " [18.8]\n",
      " [20.3]\n",
      " [22.4]\n",
      " [19.4]\n",
      " [15.5]\n",
      " [16.7]\n",
      " [17.3]\n",
      " [18.4]\n",
      " [19.2]\n",
      " [17.4]\n",
      " [19.5]\n",
      " [19.7]\n",
      " [21.2]]\n",
      "[10.5 13.  12.7 13.1 14.1 14.8 15.  13.5 14.9 15.6 16.4 17.7 19.6 16.9\n",
      " 14.  14.6 15.1 16.1 16.8 15.2 17.  17.2 21. ]\n"
     ]
    },
    {
     "data": {
      "text/plain": [
       "LinearRegression(copy_X=True, fit_intercept=True, n_jobs=None,\n",
       "         normalize=False)"
      ]
     },
     "execution_count": 7,
     "metadata": {},
     "output_type": "execute_result"
    }
   ],
   "source": [
    "import pandas as pd\n",
    "import numpy as np\n",
    "import matplotlib.pyplot as plt\n",
    "dataset= pd.read_csv(\"D:\\TP DEH ABOUBACAR\\STAGE_SEJEN\\MACHINE LEARNING\\gm.csv\")\n",
    "print(dataset)\n",
    "\n",
    "x=dataset.iloc[:, :1].values #Prends toutes les colonnes sauf la derniere et affecte x toutes les colonnes sauf la derniere\n",
    "y=dataset.iloc[:,1].values # Affiche la derniere colonne et affecte à y la derniere colone\n",
    "print(x)\n",
    "print(y)\n",
    "#Traitement des données\n",
    "#from sklearn.preprocessing import Imputer\n",
    "#imputer= Imputer(missing_values =\"NaN\", strategy = \"mean\", axis = 0)\n",
    "#imputer= imputer.fit(x[:,[1,2]]) #prends toutes les lignes et les colonnes 1 & 2 car il y a des valeurs manquantes sur l'age et le salaire\n",
    "#x[:,1:3]=imputer.transform(x[:,1:3]) #Prends toutes les lignes et prend les colonnes 1 & 2\n",
    "#Normalisation des caractéristiques: Elles consiste à mettre les données dans la meme unité en centrant et reduisant par exemple\n",
    "\n",
    "#from sklearn.preprocessing import StandardScaler  \n",
    "#sc_x =StandardScaler() #StandarScaler pour centrer reduit et pour l'autre c'est min_maxScaler\n",
    "#x_train=sc_x.fit_transform(x_train)\n",
    "#x_test =sc_x.transform(x_test)\n",
    "#Scinder le jeu de données d'apprentissage et données test\n",
    "from sklearn.model_selection import train_test_split \n",
    "x_train, x_test, y_train, y_test = train_test_split(x,y,test_size=0.3,random_state=0) #y la variable à expliquer, test_size est la proportion des personnes à attribuer au test\n",
    "\n",
    "#Ajustement lineaire regression sur la donnée d'apprentissage\n",
    "from sklearn.linear_model import LinearRegression  \n",
    "lrObj =LinearRegression() \n",
    "lrObj.fit(x_train,y_train)\n"
   ]
  },
  {
   "cell_type": "code",
   "execution_count": 8,
   "metadata": {},
   "outputs": [
    {
     "data": {
      "text/plain": [
       "LinearRegression(copy_X=True, fit_intercept=True, n_jobs=None,\n",
       "         normalize=False)"
      ]
     },
     "execution_count": 8,
     "metadata": {},
     "output_type": "execute_result"
    }
   ],
   "source": [
    "#Ajustement lineaire regression sur la donnée d'apprentissage\n",
    "from sklearn.linear_model import LinearRegression  \n",
    "lrObj =LinearRegression() \n",
    "lrObj.fit(x_train,y_train)"
   ]
  },
  {
   "cell_type": "code",
   "execution_count": 9,
   "metadata": {},
   "outputs": [],
   "source": [
    "#Prédiction sur la donnée test  \n",
    "y_pred =lrObj.predict(x_test)"
   ]
  },
  {
   "cell_type": "code",
   "execution_count": 10,
   "metadata": {},
   "outputs": [
    {
     "name": "stdout",
     "output_type": "stream",
     "text": [
      "[17.7 16.4 17.2 14.  17.  13.  16.9]\n",
      "[18.31532579 16.81991435 17.71716121 13.53000918 17.51777302 12.33368002\n",
      " 17.41807892]\n"
     ]
    }
   ],
   "source": [
    "#Nous pouvons comparer les valeurs prédites avec les  \n",
    "#valeursactuelles \n",
    "print(y_test)  \n",
    "print(y_pred)"
   ]
  },
  {
   "cell_type": "code",
   "execution_count": 11,
   "metadata": {},
   "outputs": [
    {
     "data": {
      "image/png": "[encoded data removed]",
      "text/plain": [
       "<Figure size 432x288 with 1 Axes>"
      ]
     },
     "metadata": {
      "needs_background": "light"
     },
     "output_type": "display_data"
    }
   ],
   "source": [
    "#Exploration visuelle de ladonnée  #d’apprentissage\n",
    "plt.scatter(x_train,y_train,color='red')  # Affiche les points en rouge\n",
    "plt.plot(x_train, lrObj.predict(x_train),color='blue')  # Affiche la droite en bleue\n",
    "plt.title('List Price vs Best Price on Training Set')  \n",
    "plt.xlabel('ListPrice') \n",
    "plt.ylabel('BestPrice')  \n",
    "plt.show()"
   ]
  },
  {
   "cell_type": "code",
   "execution_count": 12,
   "metadata": {},
   "outputs": [
    {
     "data": {
      "image/png": "[encoded data removed]",
      "text/plain": [
       "<Figure size 432x288 with 1 Axes>"
      ]
     },
     "metadata": {
      "needs_background": "light"
     },
     "output_type": "display_data"
    }
   ],
   "source": [
    "#Exploration visuelle de ladonnée d’apprentissage\n",
    "plt.scatter(x_test,y_test,color='blue')  # Affiche les points en bleu\n",
    "plt.plot(x_test, lrObj.predict(x_test),color='green')  # Affiche la droite en verte\n",
    "plt.title('List Price vs Best Price on Testing Set')  \n",
    "plt.xlabel('ListPrice') \n",
    "plt.ylabel('BestPrice')  \n",
    "plt.show()"
   ]
  },
  {
   "cell_type": "code",
   "execution_count": 13,
   "metadata": {},
   "outputs": [
    {
     "data": {
      "text/plain": [
       "0.28911113654926546"
      ]
     },
     "execution_count": 13,
     "metadata": {},
     "output_type": "execute_result"
    }
   ],
   "source": [
    "from sklearn.metrics import mean_squared_error, r2_score, mean_absolute_error # le carre du RMSE , le R2 , le MAE\n",
    "mean_squared_error(y_test,y_pred)"
   ]
  },
  {
   "cell_type": "code",
   "execution_count": 14,
   "metadata": {},
   "outputs": [
    {
     "data": {
      "text/plain": [
       "0.8951099830378053"
      ]
     },
     "execution_count": 14,
     "metadata": {},
     "output_type": "execute_result"
    }
   ],
   "source": [
    "r2_score(y_test,y_pred)#Le coefficient de determination , ici la valeur explicative explique à 90% notre modele\n",
    "#ListePrice explique à 90% BestPrice"
   ]
  },
  {
   "cell_type": "code",
   "execution_count": 15,
   "metadata": {},
   "outputs": [
    {
     "ename": "NameError",
     "evalue": "name 'modeleReg' is not defined",
     "output_type": "error",
     "traceback": [
      "\u001b[1;31m---------------------------------------------------------------------------\u001b[0m",
      "\u001b[1;31mNameError\u001b[0m                                 Traceback (most recent call last)",
      "\u001b[1;32m<ipython-input-15-6402fefe10c8>\u001b[0m in \u001b[0;36m<module>\u001b[1;34m\u001b[0m\n\u001b[0;32m      1\u001b[0m \u001b[1;32mimport\u001b[0m \u001b[0mnumpy\u001b[0m \u001b[1;32mas\u001b[0m \u001b[0mnp\u001b[0m\u001b[1;33m\u001b[0m\u001b[1;33m\u001b[0m\u001b[0m\n\u001b[1;32m----> 2\u001b[1;33m \u001b[0mRMSE\u001b[0m\u001b[1;33m=\u001b[0m\u001b[0mnp\u001b[0m\u001b[1;33m.\u001b[0m\u001b[0msqrt\u001b[0m\u001b[1;33m(\u001b[0m\u001b[1;33m(\u001b[0m\u001b[1;33m(\u001b[0m\u001b[0my_test\u001b[0m\u001b[1;33m-\u001b[0m\u001b[0mmodeleReg\u001b[0m\u001b[1;33m.\u001b[0m\u001b[0mpredict\u001b[0m\u001b[1;33m(\u001b[0m\u001b[0mx_test\u001b[0m\u001b[1;33m)\u001b[0m\u001b[1;33m)\u001b[0m\u001b[1;33m**\u001b[0m\u001b[1;36m2\u001b[0m\u001b[1;33m)\u001b[0m\u001b[1;33m.\u001b[0m\u001b[0msum\u001b[0m\u001b[1;33m(\u001b[0m\u001b[1;33m)\u001b[0m\u001b[1;33m/\u001b[0m\u001b[0mlen\u001b[0m\u001b[1;33m(\u001b[0m\u001b[0my_test\u001b[0m\u001b[1;33m)\u001b[0m\u001b[1;33m)\u001b[0m\u001b[1;33m\u001b[0m\u001b[1;33m\u001b[0m\u001b[0m\n\u001b[0m",
      "\u001b[1;31mNameError\u001b[0m: name 'modeleReg' is not defined"
     ]
    }
   ],
   "source": [
    "import numpy as np\n",
    "RMSE=np.sqrt(((y_test-modeleReg.predict(x_test))**2).sum()/len(y_test))"
   ]
  },
  {
   "cell_type": "code",
   "execution_count": null,
   "metadata": {},
   "outputs": [],
   "source": []
  }
 ],
 "metadata": {
  "kernelspec": {
   "display_name": "Python 3",
   "language": "python",
   "name": "python3"
  },
  "language_info": {
   "codemirror_mode": {
    "name": "ipython",
    "version": 3
   },
   "file_extension": ".py",
   "mimetype": "text/x-python",
   "name": "python",
   "nbconvert_exporter": "python",
   "pygments_lexer": "ipython3",
   "version": "3.7.3"
  }
 },
 "nbformat": 4,
 "nbformat_minor": 2
}
