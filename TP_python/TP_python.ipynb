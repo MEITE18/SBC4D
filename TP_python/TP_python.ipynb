{
 "cells": [
  {
   "cell_type": "markdown",
   "metadata": {},
   "source": [
    "                                      **Vendredi 28 06 2019**"
   ]
  },
  {
   "cell_type": "code",
   "execution_count": 1,
   "metadata": {},
   "outputs": [
    {
     "name": "stdout",
     "output_type": "stream",
     "text": [
      "['Region', 'Departement', 'LocalitÃ©', 'Nature_localitÃ©', 'Nom_ecole', 'Milieu_Ã©cole', 'Total_eff_Ã©lÃ¨ves', 'Statut', 'eau_courante_bon_Ã©tat', 'LocalitÃ©_Ã©lectrifiÃ©e_Y_N', 'niveau']\n",
      "['GBÃŠKÃŠ', 'BEOUMI', 'KOUADIO-SAKASSOU', 'Un village', 'EPP KOUADIO-SAKASSOU', 'Rural', '253', 'Public', '0', '1', 'primaire']\n",
      "['GBÃŠKÃŠ', 'BEOUMI', 'ANDO', 'Un village', 'EPP ANDO', 'Rural', '254', 'Public', '0', '1', 'primaire']\n",
      "['GBÃŠKÃŠ', 'BEOUMI', 'KEKRENOU', 'Un village', 'EPP AMANI OKA DE KEKRENOU', 'Rural', '305', 'Public', '0', '1', 'primaire']\n",
      "['GBÃŠKÃŠ', 'BEOUMI', 'LINGUEBO', 'Un village', 'EPP LINGUEBO 2', 'Rural', '222', 'Public', '0', '1', 'primaire']\n",
      "['GBÃŠKÃŠ', 'BEOUMI', 'LINGUEBO', 'Un village', 'EPP LINGUEBO 1', 'Rural', '283', 'Public', '0', '1', 'primaire']\n",
      "['GBÃŠKÃŠ', 'BEOUMI', 'TIESSOU', 'Un village', 'EPP TIESSOU', 'Rural', '112', 'Public', '0', '1', 'primaire']\n",
      "['GBÃŠKÃŠ', 'BEOUMI', 'CIDT', 'Un village', 'EPP BEOUMI 2A', 'Urbain', '238', 'Public', '1', '1', 'primaire']\n",
      "['GBÃŠKÃŠ', 'BEOUMI', 'KENEFOUE', 'Un village', 'EPP KENEFOUE', 'Rural', '260', 'Public', '0', '1', 'primaire']\n",
      "['GBÃŠKÃŠ', 'BEOUMI', 'ANDO', 'Un village', 'EPP ANDO 2', 'Rural', '40', 'Public', '0', '1', 'primaire']\n",
      "['GBÃŠKÃŠ', 'BEOUMI', 'KOYARABO', 'Un village', 'EPP KOYARABO 2', 'Rural', '49', 'Public', '0', '0', 'primaire']\n",
      "['GBÃŠKÃŠ', 'BEOUMI', 'KEKRENOU', 'Un village', 'EPP KEKRENOU 1', 'Rural', '214', 'Public', '0', '1', 'primaire']\n",
      "['GBÃŠKÃŠ', 'BEOUMI', 'AGONASSOU', 'Un village', 'EPP AGONASSOU', 'Rural', '88', 'Public', '0', '1', 'primaire']\n",
      "['GBÃŠKÃŠ', 'BEOUMI', 'CIDT', 'Un quartier (Ville)', 'EPP BEOUMI 2B', 'Urbain', '262', 'Public', '1', '1', 'primaire']\n",
      "['GBÃŠKÃŠ', 'BEOUMI', 'SOKPA', 'Un village', 'EPP SOKPA-KPALEBO', 'Rural', '235', 'Public', '0', '1', 'primaire']\n",
      "['GBÃŠKÃŠ', 'BEOUMI', 'BACSOU', 'Un village', 'EPP BAC', 'Rural', '221', 'Public', '0', '0', 'primaire']\n",
      "['GBÃŠKÃŠ', 'BEOUMI', 'MANDIMAN-HESSE', 'Un village', 'EPP MANDIMAN-HESSE', 'Rural', '40', 'Public', '0', '0', 'primaire']\n",
      "['GBÃŠKÃŠ', 'BEOUMI', 'KENDE-DAN', 'Un village', 'EPP KENDE-DAN', 'Rural', '281', 'Public', '0', '0', 'primaire']\n",
      "['GBÃŠKÃŠ', 'BEOUMI', 'KOUASSI KOUAMEKRO', 'Un village', 'EPP KOUASSI KOUAMEKRO', 'Rural', '292', 'Public', '0', '0', 'primaire']\n",
      "['GBÃŠKÃŠ', 'BEOUMI', 'KONDROBO', 'Un village', 'EPP BAD KONDROBO', 'Rural', '360', 'Public', '0', '1', 'primaire']\n",
      "['GBÃŠKÃŠ', 'BEOUMI', 'KOYARABO', 'Un village', 'EPP KOYARABO 1', 'Rural', '286', 'Public', '0', '0', 'primaire']\n",
      "['GBÃŠKÃŠ', 'BEOUMI', 'BOUREBO', 'Un village', 'EPP BOUREBO', 'Rural', '319', 'Public', '0', '0', 'primaire']\n",
      "['GBÃŠKÃŠ', 'BEOUMI', 'KENDE-KAN', 'Un village', 'EPP KENDE-KAN', 'Rural', '118', 'Public', '0', '0', 'primaire']\n",
      "['GBÃŠKÃŠ', 'BEOUMI', 'TOTOKRO', 'Un village', 'EPC PROTESTANTE TOTOKRO', 'Rural', '147', 'PrivÃ©', '0', '0', 'primaire']\n",
      "['GBÃŠKÃŠ', 'BEOUMI', 'TOTOKRO', 'Un village', 'EPP TOTOKRO', 'Rural', '304', 'Public', '0', '0', 'primaire']\n",
      "['GBÃŠKÃŠ', 'BEOUMI', 'BELAKRO', 'Un village', 'EPP BELAKRO 1', 'Rural', '279', 'Public', '0', '1', 'primaire']\n",
      "['GBÃŠKÃŠ', 'BEOUMI', 'ZEDE KAN', 'Un village', 'EPP ZEDE KAN', 'Rural', '236', 'Public', '0', '1', 'primaire']\n",
      "['GBÃŠKÃŠ', 'BEOUMI', 'BEOUMI- RESIDENTIEL', 'Un quartier (Ville)', 'EPC PROTESTANTE', 'Urbain', '109', 'PrivÃ©', '1', '1', 'primaire']\n",
      "['GBÃŠKÃŠ', 'BEOUMI', \"N'ZUEDA\", 'Un village', \"EPP N'ZUEDA\", 'Rural', '252', 'Public', '0', '0', 'primaire']\n",
      "['GBÃŠKÃŠ', 'BEOUMI', 'BELAKRO', 'Un village', 'EPP BELAKRO 2', 'Rural', '115', 'Public', '0', '1', 'primaire']\n",
      "['GBÃŠKÃŠ', 'BEOUMI', \"ASSENGOU-N'GOTRAN\", 'Un village', 'EPP AKAMIAN-OUSSOU 2', 'Rural', '268', 'Public', '0', '1', 'primaire']\n",
      "['GBÃŠKÃŠ', 'BEOUMI', 'BEOUMI- RESIDENTIEL', 'Un quartier (Ville)', 'EPP BEOUMI 1', 'Urbain', '291', 'Public', '0', '1', 'primaire']\n",
      "['GBÃŠKÃŠ', 'BEOUMI', \"ASSENGOU-N'GOTRAN\", 'Un village', 'EPP AKAMIAN-OUSSOU 1', 'Rural', '265', 'Public', '0', '1', 'primaire']\n",
      "['GBÃŠKÃŠ', 'BEOUMI', 'SOUAFOUE', 'Un village', 'EPP SOUAFOUE', 'Rural', '264', 'Public', '0', '1', 'primaire']\n",
      "['GBÃŠKÃŠ', 'BEOUMI', 'BEOUMI- RESIDENTIEL', 'Un quartier (Ville)', 'EPP BEOUMI 3', 'Urbain', '269', 'Public', '0', '0', 'primaire']\n",
      "['GBÃŠKÃŠ', 'BEOUMI', 'BEOUMI- RESIDENTIEL', 'Un quartier (Ville)', 'EPP MUNICIPALITE', 'Urbain', '241', 'Public', '0', '1', 'primaire']\n",
      "['GBÃŠKÃŠ', 'BEOUMI', 'ASSAKRA', 'Un village', 'EPP ASSAKRA', 'Rural', '369', 'Public', '0', '1', 'primaire']\n",
      "['GBÃŠKÃŠ', 'BEOUMI', 'MONEBO', 'Un village', 'EPP MONEBO', 'Rural', '67', 'Public', '0', '0', 'primaire']\n",
      "['GBÃŠKÃŠ', 'BEOUMI', 'DIANHOUN', 'Un village', 'EPP DIANHOUN', 'Rural', '173', 'Public', '0', '1', 'primaire']\n",
      "['GBÃŠKÃŠ', 'BEOUMI', 'KOUMABO', 'Un village', 'EPP KOUMABO', 'Rural', '150', 'Public', '0', '0', 'primaire']\n",
      "['GBÃŠKÃŠ', 'BEOUMI', 'KAABO', 'Un village', 'EPP KAABO', 'Rural', '268', 'Public', '0', '0', 'primaire']\n",
      "['GBÃŠKÃŠ', 'BEOUMI', 'AFOTOBO', 'Un village', 'EPP AFOTOBO 1', 'Rural', '253', 'Public', '0', '1', 'primaire']\n",
      "['GBÃŠKÃŠ', 'BEOUMI', 'SANHOUNTY', 'Un village', 'EPP SANHOUNTY', 'Rural', '212', 'Public', '0', '0', 'primaire']\n",
      "['GBÃŠKÃŠ', 'BEOUMI', 'ZEDE BOSSI', 'Un village', 'EPP ZEDE BOSSI', 'Rural', '208', 'Public', '0', '1', 'primaire']\n",
      "['GBÃŠKÃŠ', 'BEOUMI', \"YOBOUE-N'ZUE\", 'Un village', \"EPP YOBOUE-N'ZUE 2\", 'Rural', '40', 'Public', '0', '1', 'primaire']\n",
      "['GBÃŠKÃŠ', 'BEOUMI', \"YOBOUE-N'ZUE\", 'Un village', \"EPP YOBOUE-N'ZUE 1\", 'Rural', '265', 'Public', '0', '1', 'primaire']\n",
      "['GBÃŠKÃŠ', 'BEOUMI', 'GOLIKRO', 'Un village', 'EPP GOLIKRO 2', 'Rural', '220', 'Public', '0', '1', 'primaire']\n",
      "['GBÃŠKÃŠ', 'BEOUMI', 'GOLIKRO', 'Un village', 'EPP GOLIKRO 1', 'Rural', '298', 'Public', '1', '1', 'primaire']\n",
      "['GBÃŠKÃŠ', 'BEOUMI', 'AFOTOBO', 'Un village', 'EPP AFOTOBO 2', 'Rural', '256', 'Public', '0', '1', 'primaire']\n",
      "['GBÃŠKÃŠ', 'BEOUMI', \"N'ZOUPOURI \", 'Un village', \"EPP N'ZOUPOURI\", 'Rural', '236', 'Public', '0', '0', 'primaire']\n",
      "['GBÃŠKÃŠ', 'BEOUMI', 'FITABRO', 'Un village', 'EPP FITABRO', 'Rural', '216', 'Public', '0', '1', 'primaire']\n",
      "['GBÃŠKÃŠ', 'BEOUMI', 'KONGOBO', 'Un village', 'EPP KONGOBO', 'Rural', '145', 'Public', '0', '1', 'primaire']\n",
      "['GBÃŠKÃŠ', 'BEOUMI', 'NIAMBRUN', 'Un village', 'EPP NIAMBRUN 2', 'Rural', '271', 'Public', '0', '1', 'primaire']\n",
      "['GBÃŠKÃŠ', 'BEOUMI', 'ZINDE', 'Un village', 'EPP ZINDE', 'Rural', '322', 'Public', '0', '1', 'primaire']\n",
      "['GBÃŠKÃŠ', 'BEOUMI', 'DIEVIESSOU', 'Un village', 'EPP DIEVIESSOU 1', 'Rural', '342', 'Public', '1', '1', 'primaire']\n",
      "['GBÃŠKÃŠ', 'BEOUMI', \"OUAOUASSI M'BABO\", 'Un village', \"EPP OUAOUASSI M'BABO\", 'Rural', '308', 'Public', '0', '0', 'primaire']\n",
      "['GBÃŠKÃŠ', 'BEOUMI', 'DIEVIESSOU', 'Un village', 'EPP DIEVIESSOU 2', 'Rural', '232', 'Public', '1', '1', 'primaire']\n",
      "['GBÃŠKÃŠ', 'BEOUMI', 'KONGONOUSSOU', 'Un village', 'EPP CNO', 'Rural', '179', 'Public', '0', '1', 'primaire']\n",
      "['GBÃŠKÃŠ', 'BEOUMI', 'NIAMBRUN', 'Un village', 'EPP NIAMBRUN 1', 'Rural', '201', 'Public', '0', '1', 'primaire']\n",
      "['GBÃŠKÃŠ', 'BEOUMI', 'ABOUAKRO', 'Un village', 'EPP ABOUAKRO 2', 'Rural', '266', 'Public', '0', '0', 'primaire']\n",
      "['GBÃŠKÃŠ', 'BEOUMI', 'DEKRETA', 'Un village', 'EPP DEKRETA', 'Rural', '173', 'Public', '0', '1', 'primaire']\n",
      "['GBÃŠKÃŠ', 'BEOUMI', 'DIACOHOU', 'Un village', 'EPP DIACOHOU 1', 'Rural', '291', 'Public', '0', '1', 'primaire']\n",
      "['GBÃŠKÃŠ', 'BEOUMI', 'DIACOHOU', 'Un village', 'EPP DIACOHOU 2', 'Rural', '222', 'Public', '0', '1', 'primaire']\n",
      "['GBÃŠKÃŠ', 'BEOUMI', 'ABOUAKRO', 'Un village', 'EPP ABOUAKRO 1', 'Rural', '31', 'Public', '0', '1', 'primaire']\n",
      "['GBÃŠKÃŠ', 'BEOUMI', 'LATOBO', 'Un quartier (Ville)', 'EPC MAAHAD TOURE ABDOULAYE', 'Urbain', '230', 'PrivÃ©', '1', '1', 'primaire']\n",
      "['GBÃŠKÃŠ', 'BEOUMI', 'AKADIAFOUE', 'Un village', 'EPP AKADIAFOUE', 'Rural', '320', 'Public', '0', '1', 'primaire']\n",
      "['GBÃŠKÃŠ', 'BEOUMI', 'KOUBEBO-DAN', 'Un village', 'EPP KOUBEBO-DAN', 'Rural', '206', 'Public', '0', '1', 'primaire']\n",
      "['GBÃŠKÃŠ', 'BEOUMI', 'TIENDIEBO', 'Un village', 'EPP TIENDIEBO', 'Rural', '246', 'Public', '1', '1', 'primaire']\n",
      "['GBÃŠKÃŠ', 'BEOUMI', \"N'DREBO\", 'Un village', \"EPP N'DREBO\", 'Rural', '352', 'Public', '0', '0', 'primaire']\n",
      "['GBÃŠKÃŠ', 'BEOUMI', 'BEOUMI PTT', 'Un quartier (Ville)', 'EPP BEOUMI PTT', 'Urbain', '301', 'Public', '0', '1', 'primaire']\n",
      "['GBÃŠKÃŠ', 'BEOUMI', 'MANDANOU', 'Un village', 'EPP MANDANOU', 'Rural', '295', 'Public', '0', '1', 'primaire']\n",
      "['GBÃŠKÃŠ', 'BEOUMI', 'BONIKRO', 'Un village', 'EPP BONIKRO', 'Rural', '135', 'Public', '0', '1', 'primaire']\n",
      "['GBÃŠKÃŠ', 'BEOUMI', 'BEOUMI', 'Un quartier (Ville)', 'EPP LATOBO 3', 'Urbain', '324', 'Public', '2', '1', 'primaire']\n",
      "['GBÃŠKÃŠ', 'BEOUMI', 'BEOUMI', 'Un quartier (Ville)', 'EPP LATOBO 1', 'Urbain', '329', 'Public', '1', '1', 'primaire']\n",
      "['GBÃŠKÃŠ', 'BEOUMI', 'BEOUMI', 'Un village', \"EPP N'DORI-SAKASSOU\", 'Urbain', '37', 'Public', '0', '1', 'primaire']\n",
      "['GBÃŠKÃŠ', 'BEOUMI', 'BEOUMI', 'Un village', \"EPP N'DEBO\", 'Rural', '154', 'Public', '1', '0', 'primaire']\n",
      "['GBÃŠKÃŠ', 'BEOUMI', 'ASSENZE', 'Un village', 'EPP ASSENZE', 'Rural', '247', 'Public', '1', '0', 'primaire']\n",
      "['GBÃŠKÃŠ', 'BEOUMI', 'GALEBO', 'Un village', 'EPP GALEBO', 'Rural', '48', 'Public', '0', '0', 'primaire']\n",
      "['GBÃŠKÃŠ', 'BEOUMI', 'MANGREKAN', 'Un village', 'EPP MANGREKAN', 'Rural', '77', 'Public', '0', '0', 'primaire']\n",
      "['GBÃŠKÃŠ', 'BEOUMI', 'BEOUMI', 'Un quartier (Ville)', 'EPP LATOBO 4', 'Urbain', '213', 'Public', '1', '1', 'primaire']\n",
      "['GBÃŠKÃŠ', 'BEOUMI', 'WAWANOUAN', 'Un village', 'EPP WAWANOUAN', 'Rural', '235', 'Public', '0', '1', 'primaire']\n",
      "['GBÃŠKÃŠ', 'BEOUMI', 'BEOUMI', 'Un quartier (Ville)', 'EPC 2 BEOUMI', 'Urbain', '267', 'PrivÃ©', '1', '1', 'primaire']\n",
      "['GBÃŠKÃŠ', 'BEOUMI', 'BEOUMI', 'Un quartier (Ville)', 'EPC 1 BEOUMI', 'Urbain', '182', 'PrivÃ©', '1', '1', 'primaire']\n",
      "['GBÃŠKÃŠ', 'BEOUMI', 'KONSOU', 'Un village', \"EPP NANA N'GUESSAN KOUADIO\", 'Rural', '292', 'Public', '0', '0', 'primaire']\n",
      "['GBÃŠKÃŠ', 'BOTRO', 'BALEKRO', 'Un village', 'EPP BALEKRO', 'Rural', '137', 'Public', '0', '0', 'primaire']\n",
      "['GBÃŠKÃŠ', 'BOTRO', 'TAKRA ADIEKRO', 'Un village', 'EPP TAKRA ADIEKRO', 'Rural', '263', 'Public', '0', '0', 'primaire']\n",
      "['GBÃŠKÃŠ', 'BEOUMI', 'KPANGUIBO', 'Un village', 'EPP KPANGUIBO', 'Rural', '33', 'Public', '0', '0', 'primaire']\n",
      "['GBÃŠKÃŠ', 'BOTRO', 'BAMELA', 'Un village', 'EPP BAMELA', 'Rural', '232', 'Public', '0', '1', 'primaire']\n",
      "['GBÃŠKÃŠ', 'BEOUMI', 'TAKRA MANGOUAKRO', 'Un village', 'EPP TAKRA MANGOUAKRO', 'Rural', '168', 'Public', '0', '0', 'primaire']\n",
      "['GBÃŠKÃŠ', 'BOTRO', 'ABE KOUADIOKRO', 'Un village', 'EPP ABE KOUADIOKRO', 'Rural', '135', 'Public', '0', '1', 'primaire']\n",
      "['GBÃŠKÃŠ', 'BOTRO', 'BOTRO KOUADIOKRO', 'Un quartier (Ville)', 'EPP BOTRO KOUADIOKRO 2', 'Urbain', '236', 'Public', '0', '1', 'primaire']\n",
      "['GBÃŠKÃŠ', 'BOTRO', 'KOUABOUMANSOU', 'Un village', 'EPP KOUABOUMANSOU', 'Rural', '172', 'Public', '0', '0', 'primaire']\n",
      "['GBÃŠKÃŠ', 'BOTRO', 'KOUADIOKRO', 'Un quartier (Ville)', 'EPP BOTROKOUADIOKRO 1', 'Urbain', '211', 'Public', '0', '1', 'primaire']\n",
      "['GBÃŠKÃŠ', 'BOTRO', 'KOUAKOU-KREMEKRO', 'Un village', 'EPP KOUAKOU-KREMEKRO', 'Rural', '89', 'Public', '0', '0', 'primaire']\n",
      "['GBÃŠKÃŠ', 'BOTRO', 'BOTRO', 'Un quartier (Ville)', 'EPP BOTRO 3', 'Urbain', '317', 'Public', '0', '1', 'primaire']\n",
      "['GBÃŠKÃŠ', 'BEOUMI', 'KONSOU', 'Un village', 'EPP KONSOU', 'Rural', '175', 'Public', '0', '0', 'primaire']\n",
      "['GBÃŠKÃŠ', 'BEOUMI', 'ANOUANZE', 'Un village', 'EPP ANOUANZE', 'Rural', '155', 'Public', '0', '0', 'primaire']\n",
      "['GBÃŠKÃŠ', 'BEOUMI', 'BEOUMI', 'Un village', 'EPP OUAOUASSI', 'Rural', '123', 'Public', '0', '1', 'primaire']\n",
      "['GBÃŠKÃŠ', 'BEOUMI', 'BEOUMI', 'Un quartier (Ville)', 'EPP LATOBO 2', 'Urbain', '288', 'Public', '2', '1', 'primaire']\n",
      "['GBÃŠKÃŠ', 'BEOUMI', 'BEOUMI', 'Un quartier (Ville)', 'EPP BEOUMI 4', 'Urbain', '313', 'Public', '0', '1', 'primaire']\n",
      "['GBÃŠKÃŠ', 'BOTRO', 'PLANHAN NAMOUENOU', 'Un village', 'EPP PLANHAN NAMOUENOU', 'Rural', '133', 'Public', '0', '0', 'primaire']\n",
      "['GBÃŠKÃŠ', 'BOTRO', 'ZANIKRO', 'Un village', 'EPP ZANIKRO 2', 'Rural', '181', 'Public', '0', '1', 'primaire']\n",
      "['GBÃŠKÃŠ', 'BOTRO', \"N'GUESSANKANKRO\", 'Un village', \"EPP N'GUESSANKANKRO\", 'Rural', '212', 'Public', '0', '0', 'primaire']\n",
      "['GBÃŠKÃŠ', 'BOTRO', 'WADAUD', 'Un quartier (Ville)', 'EPP BOTRO WADAUD 1', 'Urbain', '263', 'Public', '0', '1', 'primaire']\n",
      "['GBÃŠKÃŠ', 'BOTRO', 'BOTRO VILLAGE', 'Un quartier (Ville)', 'EPP BOTRO SOPIM', 'Urbain', '80', 'Public', '0', '1', 'primaire']\n",
      "['GBÃŠKÃŠ', 'BOTRO', 'KOUKROUTIE', 'Un village', 'EPP KOUKROUTIE', 'Rural', '269', 'Public', '0', '1', 'primaire']\n",
      "['GBÃŠKÃŠ', 'BOTRO', 'PLIKE TOTOKRO', 'Un village', 'EPP PLIKE TOTOKRO', 'Rural', '253', 'Public', '0', '0', 'primaire']\n",
      "['GBÃŠKÃŠ', 'BOTRO', 'GOSSOLI KONANKRO', 'Un village', 'EPP GOSSOLI KONANKRO', 'Rural', '125', 'Public', '0', '0', 'primaire']\n",
      "['GBÃŠKÃŠ', 'BOTRO', 'POKOU YAOKRO', 'Un village', 'EPP POKOU YAOKRO', 'Rural', '186', 'Public', '0', '0', 'primaire']\n",
      "['GBÃŠKÃŠ', 'BOTRO', 'BOTRO', 'Un quartier (Ville)', 'EPV AKPOLE KOUADIO', 'Urbain', '142', 'PrivÃ©', '0', '1', 'primaire']\n",
      "['GBÃŠKÃŠ', 'BOTRO', 'DIEDOU', 'Un village', 'EPP DIEDOU', 'Rural', '267', 'Public', '0', '1', 'primaire']\n",
      "['GBÃŠKÃŠ', 'BOTRO', 'BOTRO', 'Un quartier (Ville)', 'EPC BOTRO', 'Urbain', '298', 'PrivÃ©', '1', '1', 'primaire']\n",
      "['GBÃŠKÃŠ', 'BEOUMI', 'DELAKRO', 'Un village', 'EPP DELAKRO', 'Rural', '293', 'Public', '0', '0', 'primaire']\n",
      "['GBÃŠKÃŠ', 'BEOUMI', 'KROFOINSOU', 'Un village', 'EPP KROFOINSOU', 'Rural', '323', 'Public', '0', '1', 'primaire']\n",
      "['GBÃŠKÃŠ', 'BOTRO', 'WADAUD', 'Un quartier (Ville)', 'EPP BOTRO WADAUD 2', 'Urbain', '227', 'Public', '0', '1', 'primaire']\n",
      "['GBÃŠKÃŠ', 'BOTRO', 'ZANIKRO', 'Un village', 'EPP ZANIKRO 1', 'Rural', '256', 'Public', '0', '1', 'primaire']\n",
      "['GBÃŠKÃŠ', 'BOTRO', 'LOUGBONOU', 'Un village', 'EPP TOTOKRA', 'Rural', '193', 'Public', '0', '0', 'primaire']\n",
      "['GBÃŠKÃŠ', 'BOTRO', 'AOUAYENOU', 'Un quartier (Ville)', 'EPP BOTRO 2B', 'Urbain', '230', 'Public', '0', '1', 'primaire']\n",
      "['GBÃŠKÃŠ', 'BOTRO', 'DEMAKRO', 'Un village', 'EPP DEMAKRO', 'Rural', '285', 'Public', '0', '1', 'primaire']\n",
      "['GBÃŠKÃŠ', 'BOTRO', 'AOUAYENOU', 'Un quartier (Ville)', 'EPP BOTRO 2A', 'Urbain', '227', 'Public', '0', '1', 'primaire']\n",
      "['GBÃŠKÃŠ', 'BOUAKE', 'SOKOURA', 'Un quartier (Ville)', 'EPC ADVENTISTE', 'Urbain', '334', 'PrivÃ©', '2', '1', 'primaire']\n",
      "['GBÃŠKÃŠ', 'BOUAKE', 'AIR-FRANCE ', 'Un quartier (Ville)', 'EPC AL ITTIHADIYA', 'Urbain', '458', 'PrivÃ©', '1', '1', 'primaire']\n",
      "['GBÃŠKÃŠ', 'BOUAKE', 'AIR-FRANCE 1', 'Un quartier (Ville)', 'EPC AL-FOURQUANE', 'Urbain', '259', 'PrivÃ©', '0', '1', 'primaire']\n",
      "['GBÃŠKÃŠ', 'BOUAKE', 'AIR-FRANCE 1', 'Un quartier (Ville)', 'EPC ANASS BOUN MALICK', 'Urbain', '320', 'PrivÃ©', '1', '1', 'primaire']\n",
      "['GBÃŠKÃŠ', 'BOUAKE', 'BELLEVILLE 2', 'Un quartier (Ville)', 'EPC BARAKAT', 'Urbain', '63', 'PrivÃ©', '1', '1', 'primaire']\n",
      "['GBÃŠKÃŠ', 'BOUAKE', 'BELLEVILLE 2', 'Un quartier (Ville)', 'EPC DAR EL ARKAM', 'Urbain', '260', 'PrivÃ©', '0', '1', 'primaire']\n",
      "['GBÃŠKÃŠ', 'BOUAKE', 'SOKOURA', 'Un quartier (Ville)', 'EPC DAR EL HADISSE', 'Urbain', '504', 'PrivÃ©', '5', '1', 'primaire']\n",
      "['GBÃŠKÃŠ', 'BOUAKE', 'AIR-FRANCE 2', 'Un quartier (Ville)', 'EPC FRATERNITE NOTRE DAME', 'Urbain', '355', 'PrivÃ©', '1', '1', 'primaire']\n",
      "['GBÃŠKÃŠ', 'BOUAKE', 'BELLEVILLE 2', 'Un quartier (Ville)', 'EPC IMAM MALICK', 'Urbain', '664', 'PrivÃ©', '1', '1', 'primaire']\n",
      "['GBÃŠKÃŠ', 'BOUAKE', 'BELLEVILLE 2', 'Un quartier (Ville)', 'EPC NOTRE DAME DU ROSAIRE', 'Urbain', '219', 'PrivÃ©', '0', '1', 'primaire']\n",
      "['GBÃŠKÃŠ', 'BOUAKE', 'BELLEVILLE 2', 'Un quartier (Ville)', 'EPC PROTESTANTE CMA 1', 'Urbain', '256', 'PrivÃ©', '1', '0', 'primaire']\n",
      "['GBÃŠKÃŠ', 'BOUAKE', 'BELLEVILLE', 'Un quartier (Ville)', 'EPC PROTESTANTE CMA 2', 'Urbain', '148', 'PrivÃ©', '1', '1', 'primaire']\n",
      "['GBÃŠKÃŠ', 'BOUAKE', 'AIR-FRANCE 2', 'Un quartier (Ville)', 'EPC PROTESTANTE CMA AIR-FRANCE 1', 'Urbain', '166', 'PrivÃ©', '1', '1', 'primaire']\n",
      "['GBÃŠKÃŠ', 'BOUAKE', 'AIR-FRANCE 2', 'Un quartier (Ville)', 'EPC PROTESTANTE CMA AIR-FRANCE 2', 'Urbain', '160', 'PrivÃ©', '1', '1', 'primaire']\n",
      "['GBÃŠKÃŠ', 'BOUAKE', 'AIR-FRANCE 3', 'Un quartier (Ville)', 'EPC PROTESTANTE STATION 1', 'Urbain', '33', 'PrivÃ©', '1', '1', 'primaire']\n",
      "['GBÃŠKÃŠ', 'BOUAKE', 'AIR-FRANCE 1', 'Un quartier (Ville)', 'EPC SAINT ANDRE 1', 'Urbain', '301', 'PrivÃ©', '1', '1', 'primaire']\n",
      "['GBÃŠKÃŠ', 'BOUAKE', 'AIR-FRANCE 1', 'Un quartier (Ville)', 'EPC SAINT ANDRE 2', 'Urbain', '69', 'PrivÃ©', '1', '1', 'primaire']\n",
      "['GBÃŠKÃŠ', 'BOUAKE', 'BELLEVILLE', 'Un quartier (Ville)', 'EPC SAINT GEORGES', 'Urbain', '213', 'PrivÃ©', '0', '0', 'primaire']\n",
      "['GBÃŠKÃŠ', 'BOUAKE', 'BOUNDA', 'Un village', 'EPC SAINT PIERRE', 'Rural', '110', 'PrivÃ©', '0', '1', 'primaire']\n",
      "['GBÃŠKÃŠ', 'BOUAKE', 'BELLEVILLE 1', 'Un village', 'EPC SOILAHOU DINE AL AYOUBIE', 'Urbain', '569', 'PrivÃ©', '0', '1', 'primaire']\n",
      "['GBÃŠKÃŠ', 'BOUAKE', 'TIEPLE', 'Un village', 'EPC TIEPLE', 'Rural', '122', 'PrivÃ©', '0', '1', 'primaire']\n",
      "['GBÃŠKÃŠ', 'BOUAKE', 'ADIKRO', 'Un village', 'EPP ADIKRO', 'Rural', '259', 'Public', '0', '0', 'primaire']\n",
      "['GBÃŠKÃŠ', 'BOUAKE', 'AFFOUEKRO', 'Un village', 'EPP AFFOUEKRO', 'Rural', '124', 'Public', '0', '1', 'primaire']\n",
      "['GBÃŠKÃŠ', 'BOUAKE', 'AGBANGNASSOU', 'Un village', 'EPP AGBANGNASSOU', 'Rural', '239', 'Public', '0', '1', 'primaire']\n",
      "['GBÃŠKÃŠ', 'BOUAKE', 'AKAHOUA', 'Un village', 'EPP AKAHOUA MAHOUNOU', 'Rural', '103', 'Public', '0', '0', 'primaire']\n",
      "['GBÃŠKÃŠ', 'BOUAKE', 'ALLOMABO', 'Un village', 'EPP ALLOMABO', 'Rural', '108', 'Public', '0', '0', 'primaire']\n",
      "['GBÃŠKÃŠ', 'BOUAKE', 'ALLOUKRO', 'Un village', 'EPP ALLOUKRO', 'Rural', '196', 'Public', '0', '0', 'primaire']\n",
      "['GBÃŠKÃŠ', 'BOUAKE', 'ANGOUATANOUKRO', 'Un quartier (Ville)', 'EPP ANGOUATANOUKRO 1', 'Urbain', '314', 'Public', '2', '1', 'primaire']\n",
      "['GBÃŠKÃŠ', 'BOUAKE', 'ANGOUATANOUKRO', 'Un quartier (Ville)', 'EPP ANGOUATANOUKRO 2', 'Urbain', '289', 'Public', '1', '1', 'primaire']\n",
      "['GBÃŠKÃŠ', 'BOUAKE', 'ANGOUATANOUKRO', 'Un quartier (Ville)', 'EPP ANGOUATANOUKRO 3', 'Urbain', '366', 'Public', '0', '1', 'primaire']\n",
      "['GBÃŠKÃŠ', 'BOUAKE', 'SOKOURA', 'Un quartier (Ville)', 'EPP ANNEXE 1', 'Urbain', '417', 'Public', '1', '1', 'primaire']\n",
      "['GBÃŠKÃŠ', 'BOUAKE', 'SOKOURA', 'Un quartier (Ville)', 'EPP ANNEXE 2', 'Urbain', '356', 'Public', '1', '1', 'primaire']\n",
      "['GBÃŠKÃŠ', 'BOUAKE', 'SOKOURA', 'Un quartier (Ville)', 'EPP ANNEXE 3', 'Urbain', '396', 'Public', '1', '1', 'primaire']\n",
      "['GBÃŠKÃŠ', 'BOUAKE', 'SOKOURA', 'Un quartier (Ville)', 'EPP ANNEXE 4', 'Urbain', '492', 'Public', '1', '1', 'primaire']\n",
      "['GBÃŠKÃŠ', 'BOUAKE', 'ASSANDRE', 'Un village', 'EPP ASSANDRE', 'Rural', '242', 'Public', '0', '1', 'primaire']\n",
      "['GBÃŠKÃŠ', 'BOUAKE', 'ASSENGOU-PRI', 'Un village', 'EPP ASSENGOU-PRI', 'Rural', '146', 'Public', '0', '0', 'primaire']\n",
      "['GBÃŠKÃŠ', 'BOUAKE', 'ATTIENKRO', 'Un village', 'EPP ATTIENKRO 1', 'Rural', '369', 'Public', '1', '1', 'primaire']\n",
      "['GBÃŠKÃŠ', 'BOUAKE', 'ATTIENKRO', 'Un village', 'EPP ATTIENKRO 2', 'Rural', '350', 'Public', '1', '1', 'primaire']\n",
      "['GBÃŠKÃŠ', 'BOUAKE', 'AYABO ABOUOKRO', 'Un village', 'EPP AYABO ABOUOKRO', 'Rural', '104', 'Public', '0', '0', 'primaire']\n",
      "['GBÃŠKÃŠ', 'BOUAKE', ' BADIOKOUAMEKRO', 'Un village', 'EPP BADIOKOUAMEKRO', 'Rural', '202', 'Public', '0', '0', 'primaire']\n",
      "['GBÃŠKÃŠ', 'BOUAKE', 'SOKOURA', 'Un quartier (Ville)', 'EPP BAKASSA TRAORE 1', 'Urbain', '323', 'Public', '2', '1', 'primaire']\n",
      "['GBÃŠKÃŠ', 'BOUAKE', 'SOKOURA', 'Un quartier (Ville)', 'EPP BAKASSA TRAORE 2', 'Urbain', '387', 'Public', '3', '1', 'primaire']\n",
      "['GBÃŠKÃŠ', 'BOUAKE', 'SOKOURA', 'Un quartier (Ville)', 'EPP BAKASSA TRAORE 3', 'Urbain', '389', 'Public', '1', '1', 'primaire']\n",
      "['GBÃŠKÃŠ', 'BOUAKE', 'SOKOURA', 'Un quartier (Ville)', 'EPP BAKASSA TRAORE 4', 'Urbain', '319', 'Public', '1', '1', 'primaire']\n",
      "['GBÃŠKÃŠ', 'BOUAKE', 'BELLEVILLE 1', 'Un quartier (Ville)', 'EPP BELLEVILLE 1A', 'Urbain', '345', 'Public', '4', '1', 'primaire']\n",
      "['GBÃŠKÃŠ', 'BOUAKE', 'BELLEVILLE 1', 'Un quartier (Ville)', 'EPP BELLEVILLE 1B', 'Urbain', '367', 'Public', '1', '1', 'primaire']\n",
      "['GBÃŠKÃŠ', 'BOUAKE', 'BELLEVILLE 1', 'Un quartier (Ville)', 'EPP BELLEVILLE 1C', 'Urbain', '397', 'Public', '0', '1', 'primaire']\n",
      "['GBÃŠKÃŠ', 'BOUAKE', 'BELLEVILLE 1', 'Un quartier (Ville)', 'EPP BELLEVILLE 1D', 'Urbain', '379', 'Public', '0', '1', 'primaire']\n",
      "['GBÃŠKÃŠ', 'BOUAKE', 'BELLEVILLE 1', 'Un quartier (Ville)', 'EPP BELLEVILLE 1E', 'Urbain', '195', 'Public', '1', '1', 'primaire']\n",
      "['GBÃŠKÃŠ', 'BOUAKE', 'BELLEVILLE 2', 'Un quartier (Ville)', 'EPP BELLEVILLE 2A', 'Urbain', '411', 'Public', '0', '1', 'primaire']\n",
      "['GBÃŠKÃŠ', 'BOUAKE', 'BELLEVILLE 2', 'Un quartier (Ville)', 'EPP BELLEVILLE 2B', 'Urbain', '379', 'Public', '0', '1', 'primaire']\n",
      "['GBÃŠKÃŠ', 'BOUAKE', 'BELLEVILLE 2', 'Un village', 'EPP BELLEVILLE 3A', 'Urbain', '405', 'Public', '0', '1', 'primaire']\n",
      "['GBÃŠKÃŠ', 'BOUAKE', 'BELLEVILLE 2', 'Un quartier (Ville)', 'EPP BELLEVILLE 3B', 'Urbain', '378', 'Public', '0', '1', 'primaire']\n",
      "['GBÃŠKÃŠ', 'BOUAKE', 'BELLEVILLE 2', 'Un quartier (Ville)', 'EPP BELLEVILLE MUNICIPALITE', 'Urbain', '377', 'Public', '0', '1', 'primaire']\n",
      "['GBÃŠKÃŠ', 'BOUAKE', 'BELLEVILLE 2', 'Un quartier (Ville)', 'EPP BELLEVILLE NORD A', 'Urbain', '465', 'Public', '1', '1', 'primaire']\n",
      "['GBÃŠKÃŠ', 'BOUAKE', 'BELLEVILLE 2', 'Un quartier (Ville)', 'EPP BELLEVILLE NORD B', 'Urbain', '427', 'Public', '0', '1', 'primaire']\n",
      "['GBÃŠKÃŠ', 'BOUAKE', 'BELLEVILLE 2', 'Un quartier (Ville)', 'EPP BELLEVILLE NORD C', 'Urbain', '418', 'Public', '1', '1', 'primaire']\n",
      "['GBÃŠKÃŠ', 'BOUAKE', 'BELLEVILLE 2', 'Un quartier (Ville)', 'EPP BELLEVILLE NORD D', 'Urbain', '364', 'Public', '1', '1', 'primaire']\n",
      "['GBÃŠKÃŠ', 'BOUAKE', 'BELLEVILLE 2', 'Un quartier (Ville)', 'EPP BELLEVILLE NORD E', 'Urbain', '318', 'Public', '1', '1', 'primaire']\n",
      "['GBÃŠKÃŠ', 'BOUAKE', 'BOBOKRO', 'Un village', 'EPP BOBOKRO 1', 'Rural', '321', 'Public', '0', '0', 'primaire']\n",
      "['GBÃŠKÃŠ', 'BOUAKE', 'BOBOKRO', 'Un village', 'EPP BOBOKRO 2', 'Rural', '108', 'Public', '0', '0', 'primaire']\n",
      "['GBÃŠKÃŠ', 'BOUAKE', 'BONGRABO', 'Un village', 'EPP BONGRABO', 'Rural', '82', 'Public', '0', '0', 'primaire']\n",
      "['GBÃŠKÃŠ', 'BOUAKE', 'BOUNDA', 'Un village', 'EPP BOUNDA', 'Rural', '307', 'Public', '0', '1', 'primaire']\n",
      "['GBÃŠKÃŠ', 'BOUAKE', 'BELLE VILLE', 'Un quartier (Ville)', 'EPP BROBO 1', 'Urbain', '319', 'Public', '1', '1', 'primaire']\n",
      "['GBÃŠKÃŠ', 'BOUAKE', 'BELLE VILLE', 'Un quartier (Ville)', 'EPP BROBO 2', 'Urbain', '335', 'Public', '0', '1', 'primaire']\n",
      "['GBÃŠKÃŠ', 'BOUAKE', 'BELLE VILLE', 'Un quartier (Ville)', 'EPP BROBO 3', 'Urbain', '404', 'Public', '1', '1', 'primaire']\n",
      "['GBÃŠKÃŠ', 'BOUAKE', 'BELLE VILLE', 'Un quartier (Ville)', 'EPP BROBO 4', 'Urbain', '253', 'Public', '0', '1', 'primaire']\n",
      "['GBÃŠKÃŠ', 'BOUAKE', 'AKROUGBANGBOKRO', 'Un village', 'EPP BROUKRO', 'Rural', '265', 'Public', '0', '0', 'primaire']\n",
      "['GBÃŠKÃŠ', 'BOUAKE', 'SOKOURA', 'Un quartier (Ville)', 'EPP CAMP MILITAIRE 1A', 'Urbain', '206', 'Public', '0', '1', 'primaire']\n",
      "['GBÃŠKÃŠ', 'BOUAKE', 'SOKOURA', 'Un quartier (Ville)', 'EPP CAMP MILITAIRE 1B', 'Urbain', '202', 'Public', '1', '1', 'primaire']\n",
      "['GBÃŠKÃŠ', 'BOUAKE', 'SOKOURA', 'Un quartier (Ville)', 'EPP CAMP MILITAIRE 1C', 'Urbain', '212', 'Public', '1', '1', 'primaire']\n",
      "['GBÃŠKÃŠ', 'BOUAKE', 'SOKOURA', 'Un quartier (Ville)', 'EPP CAMP MILITAIRE 2A', 'Urbain', '67', 'Public', '0', '1', 'primaire']\n",
      "['GBÃŠKÃŠ', 'BOUAKE', 'SOKOURA', 'Un quartier (Ville)', 'EPP CAMP MILITAIRE 2B', 'Urbain', '178', 'Public', '0', '1', 'primaire']\n",
      "['GBÃŠKÃŠ', 'BOUAKE', 'SOKOURA', 'Un quartier (Ville)', 'EPP CAMP MILITAIRE 2C', 'Urbain', '107', 'Public', '0', '1', 'primaire']\n",
      "['GBÃŠKÃŠ', 'BOUAKE', 'DJETOUANKRO', 'Un village', 'EPP DIBY AHOGO DE DJETOUANKRO', 'Rural', '96', 'Public', '0', '1', 'primaire']\n",
      "['GBÃŠKÃŠ', 'BOUAKE', 'DJAMALAKRO', 'Un village', 'EPP DJAMALAKRO', 'Rural', '221', 'Public', '0', '0', 'primaire']\n",
      "['GBÃŠKÃŠ', 'BOUAKE', 'DJONGONOU', 'Un village', 'EPP DJONGONOU', 'Rural', '125', 'Public', '1', '0', 'primaire']\n",
      "['GBÃŠKÃŠ', 'BOUAKE', 'DOUAKANKRO', 'Un village', 'EPP DOUAKANKRO', 'Rural', '297', 'Public', '0', '1', 'primaire']\n",
      "['GBÃŠKÃŠ', 'BOUAKE', 'SOKOURA', 'Un quartier (Ville)', 'EPP ENI APPLICATION 1', 'Urbain', '186', 'Public', '0', '1', 'primaire']\n",
      "['GBÃŠKÃŠ', 'BOUAKE', 'SOKOURA', 'Un quartier (Ville)', 'EPP ENI APPLICATION 2', 'Urbain', '156', 'Public', '0', '1', 'primaire']\n",
      "['GBÃŠKÃŠ', 'BOUAKE', 'SOKOURA', 'Un quartier (Ville)', 'EPP ENI APPLICATION 3', 'Urbain', '175', 'Public', '0', '1', 'primaire']\n",
      "['GBÃŠKÃŠ', 'BOUAKE', 'TANOU-SAKASSOU', 'Un village', 'EPP ESSY AMARA', 'Rural', '143', 'Public', '1', '1', 'primaire']\n",
      "['GBÃŠKÃŠ', 'BOUAKE', 'AIR-FRANCE ', 'Un quartier (Ville)', 'EPP EX-FILLES 1', 'Urbain', '189', 'Public', '5', '1', 'primaire']\n",
      "['GBÃŠKÃŠ', 'BOUAKE', 'AIR-FRANCE ', 'Un quartier (Ville)', 'EPP EX-FILLES 2', 'Urbain', '208', 'Public', '1', '1', 'primaire']\n",
      "['GBÃŠKÃŠ', 'BOUAKE', 'AIR-FRANCE', 'Un quartier (Ville)', 'EPP EX-FILLES 3', 'Urbain', '155', 'Public', '1', '1', 'primaire']\n",
      "['GBÃŠKÃŠ', 'BOUAKE', 'AIR-FRANCE 1', 'Un quartier (Ville)', 'EPP EX-FILLES 4', 'Urbain', '200', 'Public', '1', '1', 'primaire']\n",
      "['GBÃŠKÃŠ', 'BOUAKE', 'AIR-FRANCE ', 'Un quartier (Ville)', 'EPP EX-FILLES 5', 'Urbain', '198', 'Public', '3', '1', 'primaire']\n",
      "['GBÃŠKÃŠ', 'BOUAKE', 'FETEKRO', 'Un village', 'EPP FETEKRO', 'Rural', '80', 'Public', '0', '0', 'primaire']\n",
      "['GBÃŠKÃŠ', 'BOUAKE', 'HABITAT SICOGI', 'Un quartier (Ville)', 'EPP HABITAT SICOGI', 'Urbain', '391', 'Public', '5', '1', 'primaire']\n",
      "['GBÃŠKÃŠ', 'BOUAKE', 'AIR-FRANCE', 'Un quartier (Ville)', 'EPP IRDO 1', 'Urbain', '243', 'Public', '3', '1', 'primaire']\n",
      "['GBÃŠKÃŠ', 'BOUAKE', 'AIR-FRANCE 1', 'Un quartier (Ville)', 'EPP IRDO 2', 'Urbain', '224', 'Public', '3', '1', 'primaire']\n",
      "['GBÃŠKÃŠ', 'BOUAKE', 'AIR-FRANCE ', 'Un quartier (Ville)', 'EPP IRDO 3', 'Urbain', '273', 'Public', '3', '1', 'primaire']\n",
      "['GBÃŠKÃŠ', 'BOUAKE', 'KALOUKRO', 'Un village', 'EPP KALOUKRO', 'Rural', '234', 'Public', '0', '1', 'primaire']\n",
      "['GBÃŠKÃŠ', 'BOUAKE', 'KANANKRO', 'Un village', 'EPP KANANKRO 1', 'Rural', '363', 'Public', '1', '0', 'primaire']\n",
      "['GBÃŠKÃŠ', 'BOUAKE', 'KANANKRO', 'Un village', 'EPP KANANKRO 2', 'Rural', '276', 'Public', '1', '0', 'primaire']\n",
      "['GBÃŠKÃŠ', 'BOUAKE', 'KANGARE', 'Un village', 'EPP KAN-GARE', 'Rural', '269', 'Public', '0', '1', 'primaire']\n",
      "['GBÃŠKÃŠ', 'BOUAKE', \"KANGUIRENOU-N'DOKRO\", 'Un village', \"EPP KANGUIRENOU-N'DOKRO\", 'Rural', '97', 'Public', '0', '0', 'primaire']\n",
      "['GBÃŠKÃŠ', 'BOUAKE', 'KANOUKRO', 'Un village', 'EPP KANOUKRO', 'Rural', '270', 'Public', '0', '1', 'primaire']\n",
      "['GBÃŠKÃŠ', 'BOUAKE', 'KEKREKOUAKOUKRO', 'Un village', 'EPP KEKREKOUAKOUKRO', 'Rural', '160', 'Public', '0', '1', 'primaire']\n",
      "['GBÃŠKÃŠ', 'BOUAKE', 'KIERAKRO', 'Un village', 'EPP KIERAKRO', 'Rural', '58', 'Public', '0', '0', 'primaire']\n",
      "['GBÃŠKÃŠ', 'BOUAKE', 'KOBLEKRO', 'Un village', 'EPP KOBLEKRO', 'Rural', '85', 'Public', '0', '1', 'primaire']\n",
      "['GBÃŠKÃŠ', 'BOUAKE', 'KOFFI KOFFIKRO', 'Un village', 'EPP KOFFI KOFFIKRO', 'Rural', '172', 'Public', '0', '0', 'primaire']\n",
      "['GBÃŠKÃŠ', 'BOUAKE', 'SAMINIKRO', 'Un village', 'EPP KONAN KOUASSI GERMAIN 1', 'Rural', '376', 'Public', '0', '1', 'primaire']\n",
      "['GBÃŠKÃŠ', 'BOUAKE', 'SAMINIKRO', 'Un village', 'EPP KONAN KOUASSI GERMAIN 2', 'Rural', '38', 'Public', '0', '1', 'primaire']\n",
      "['GBÃŠKÃŠ', 'BOUAKE', 'KAHANKRO', 'Un village', 'EPP KONGO KOUADIO PASCAL DE KAHANKRO', 'Rural', '344', 'Public', '1', '1', 'primaire']\n",
      "['GBÃŠKÃŠ', 'BOUAKE', 'KONGOKRO', 'Un village', 'EPP KONGOKRO', 'Rural', '137', 'Public', '0', '1', 'primaire']\n",
      "['GBÃŠKÃŠ', 'BOUAKE', 'KOUABO', 'Un village', 'EPP KOUABO', 'Rural', '144', 'Public', '0', '1', 'primaire']\n",
      "['GBÃŠKÃŠ', 'BOUAKE', 'KOUAKOU KOUADIOKRO', 'Un village', 'EPP KOUAKOU KOUADIOKRO', 'Rural', '82', 'Public', '0', '1', 'primaire']\n",
      "['GBÃŠKÃŠ', 'BOUAKE', 'KOUAKRO BROBO', 'Un village', 'EPP KOUAKRO BROBO', 'Rural', '198', 'Public', '0', '0', 'primaire']\n",
      "['GBÃŠKÃŠ', 'BOUAKE', 'KOUASSI ATTINKRO', 'Un village', 'EPP KOUASSI ATTINKRO', 'Rural', '171', 'Public', '0', '0', 'primaire']\n",
      "['GBÃŠKÃŠ', 'BOUAKE', 'KOUASSIBLEKRO', 'Un village', 'EPP KOUASSIBLEKRO 1', 'Rural', '202', 'Public', '1', '1', 'primaire']\n",
      "['GBÃŠKÃŠ', 'BOUAKE', 'KOUASSIBLEKRO', 'Un village', 'EPP KOUASSIBLEKRO 2', 'Rural', '181', 'Public', '1', '1', 'primaire']\n",
      "['GBÃŠKÃŠ', 'BOUAKE', 'KOUNDANOU', 'Un village', 'EPP KOUNDANOU', 'Urbain', '396', 'Public', '0', '1', 'primaire']\n",
      "['GBÃŠKÃŠ', 'BOUAKE', 'KPEKEKRO', 'Un village', 'EPP KPEKEKRO', 'Rural', '137', 'Public', '0', '0', 'primaire']\n",
      "['GBÃŠKÃŠ', 'BOUAKE', 'KPO-KAHANKRO', 'Un village', 'EPP KPO-KAHANKRO', 'Rural', '73', 'Public', '0', '0', 'primaire']\n",
      "['GBÃŠKÃŠ', 'BOUAKE', 'LANGBABOKOHOU', 'Un village', 'EPP LANGBA BOKOHOU', 'Rural', '176', 'Public', '0', '0', 'primaire']\n",
      "['GBÃŠKÃŠ', 'BOUAKE', 'LANGBASSOU', 'Un village', 'EPP LANGBASOU', 'Rural', '146', 'Public', '0', '0', 'primaire']\n",
      "['GBÃŠKÃŠ', 'BOUAKE', 'MAMINI', 'Un village', 'EPP MAMINI', 'Rural', '215', 'Public', '0', '0', 'primaire']\n",
      "['GBÃŠKÃŠ', 'BOUAKE', \"M'BRAKRO\", 'Un village', \"EPP M'BRAKRO\", 'Rural', '158', 'Public', '0', '1', 'primaire']\n",
      "['GBÃŠKÃŠ', 'BOUAKE', 'MEBO', 'Un village', 'EPP MEBO', 'Rural', '225', 'Public', '0', '1', 'primaire']\n",
      "['GBÃŠKÃŠ', 'BOUAKE', 'MLAN-KOUASSIKRO', 'Un village', 'EPP MLAN-KOUASSIKRO', 'Rural', '144', 'Public', '0', '1', 'primaire']\n",
      "['GBÃŠKÃŠ', 'BOUAKE', \"N'GBRENZUE\", 'Un village', \"EPP N'GBRENZUE\", 'Rural', '297', 'Public', '0', '1', 'primaire']\n",
      "['GBÃŠKÃŠ', 'BOUAKE', 'NIMBO', 'Un quartier (Ville)', 'EPP NIMBO 1', 'Urbain', '257', 'Public', '1', '1', 'primaire']\n",
      "['GBÃŠKÃŠ', 'BOUAKE', 'NIMBO', 'Un quartier (Ville)', 'EPP NIMBO 2', 'Urbain', '289', 'Public', '0', '1', 'primaire']\n",
      "['GBÃŠKÃŠ', 'BOUAKE', 'NIMBO', 'Un quartier (Ville)', 'EPP NIMBO 3', 'Urbain', '243', 'Public', '1', '1', 'primaire']\n",
      "['GBÃŠKÃŠ', 'BOUAKE', 'NIMBO', 'Un quartier (Ville)', 'EPP NIMBO 4', 'Urbain', '457', 'Public', '0', '1', 'primaire']\n",
      "['GBÃŠKÃŠ', 'BOUAKE', 'OLIENOU', 'Un quartier (Ville)', 'EPP OLIENOU 1', 'Urbain', '450', 'Public', '1', '1', 'primaire']\n",
      "['GBÃŠKÃŠ', 'BOUAKE', 'OLIENOU', 'Un quartier (Ville)', 'EPP OLIENOU 2', 'Urbain', '381', 'Public', '1', '1', 'primaire']\n",
      "['GBÃŠKÃŠ', 'BOUAKE', 'SOKOURA', 'Un quartier (Ville)', 'EPP PARIS BOUAKE 1', 'Urbain', '406', 'Public', '1', '1', 'primaire']\n",
      "['GBÃŠKÃŠ', 'BOUAKE', 'SOKOURA', 'Un quartier (Ville)', 'EPP PARIS BOUAKE 2', 'Urbain', '402', 'Public', '1', '1', 'primaire']\n",
      "['GBÃŠKÃŠ', 'BOUAKE', 'SOKOURA', 'Un quartier (Ville)', 'EPP PARIS BOUAKE 3', 'Urbain', '372', 'Public', '1', '1', 'primaire']\n",
      "['GBÃŠKÃŠ', 'BOUAKE', 'PINDIKRO', 'Un village', 'EPP PINDIKRO', 'Rural', '294', 'Public', '0', '1', 'primaire']\n",
      "['GBÃŠKÃŠ', 'BOUAKE', 'PINDIKRO', 'Un village', 'EPP PINDIKRO 2', 'Rural', '183', 'Public', '0', '0', 'primaire']\n",
      "['GBÃŠKÃŠ', 'BOUAKE', 'PRONOU', 'Un village', 'EPP PRONOU', 'Rural', '121', 'Public', '0', '1', 'primaire']\n",
      "['GBÃŠKÃŠ', 'BOUAKE', 'RAFFIERKRO', 'Un village', 'EPP RAFFIERKRO 1', 'Rural', '139', 'Public', '0', '1', 'primaire']\n",
      "['GBÃŠKÃŠ', 'BOUAKE', 'RAFFIERKRO', 'Un village', 'EPP RAFFIERKRO 2', 'Rural', '171', 'Public', '0', '1', 'primaire']\n",
      "['GBÃŠKÃŠ', 'BOUAKE', 'SAKASSOU OTTOKOUKRO', 'Un village', 'EPP SAKASSOU OTTOKOUKRO', 'Rural', '109', 'Public', '0', '0', 'primaire']\n",
      "['GBÃŠKÃŠ', 'BOUAKE', 'SARAKAKRO', 'Un village', 'EPP SARAKAKRO 1', 'Rural', '363', 'Public', '0', '0', 'primaire']\n",
      "['GBÃŠKÃŠ', 'BOUAKE', 'SARAKAKRO', 'Un village', 'EPP SARAKAKRO 2', 'Rural', '133', 'Public', '0', '0', 'primaire']\n",
      "['GBÃŠKÃŠ', 'BOTRO', 'ADIEKRO', 'Un village', 'EPP ADIEKRO', 'Rural', '284', 'Public', '0', '1', 'primaire']\n",
      "['GBÃŠKÃŠ', 'BOTRO', 'AGBAKRO', 'Un village', 'EPP AGBAKRO', 'Rural', '396', 'Public', '1', '1', 'primaire']\n",
      "['GBÃŠKÃŠ', 'BOTRO', 'DIABO', 'Un quartier (Ville)', 'EPP DIABO SAYA1', 'Urbain', '253', 'Public', '0', '1', 'primaire']\n",
      "['GBÃŠKÃŠ', 'BOTRO', 'DIABO SAYA', 'Un quartier (Ville)', 'EPP DIABO SAYA2', 'Urbain', '299', 'Public', '0', '1', 'primaire']\n",
      "['GBÃŠKÃŠ', 'BOTRO', 'DJAHA-ANDOKRO', 'Un village', 'EPP DJAHA-ANDOKRO', 'Rural', '108', 'Public', '0', '0', 'primaire']\n",
      "['GBÃŠKÃŠ', 'BOTRO', 'SINZEKRO', 'Un village', \"EPP KONAN N'ZUE MICHEL\", 'Rural', '246', 'Public', '0', '1', 'primaire']\n",
      "['GBÃŠKÃŠ', 'BOTRO', 'KOUASSI-GOLIKRO', 'Un quartier (Ville)', 'EPP KOUASSI-GOLIKRO', 'Urbain', '255', 'Public', '1', '1', 'primaire']\n",
      "['GBÃŠKÃŠ', 'BOTRO', 'MESSOUKRO', 'Un village', 'EPP MESSOUKRO', 'Rural', '125', 'Public', '0', '0', 'primaire']\n",
      "['GBÃŠKÃŠ', 'BOTRO', 'SELAKRO', 'Un quartier (Ville)', 'EPP MUNICIPALITE', 'Urbain', '260', 'Public', '0', '1', 'primaire']\n",
      "['GBÃŠKÃŠ', 'BOTRO', 'DIABO', 'Un quartier (Ville)', 'EPP NANAN KOUASSI BATTEY 1', 'Urbain', '310', 'Public', '0', '1', 'primaire']\n",
      "['GBÃŠKÃŠ', 'BOTRO', 'DIABO', 'Un quartier (Ville)', 'EPP NANAN KOUASSI BATTEY 2', 'Urbain', '299', 'Public', '0', '1', 'primaire']\n",
      "['GBÃŠKÃŠ', 'BOTRO', \"N'DA N'GUESSANKRO\", 'Un village', \"EPP N'DA N'GUESSANKRO\", 'Rural', '204', 'Public', '0', '0', 'primaire']\n",
      "['GBÃŠKÃŠ', 'BOTRO', \"N'GATTAKRO\", 'Un village', \"EPP N'GATTAKRO\", 'Rural', '28', 'Public', '0', '1', 'primaire']\n",
      "['GBÃŠKÃŠ', 'BOTRO', \"N'GATTA-KOFFIKRO\", 'Un village', \"EPP N'GATTA-KOFFIKRO\", 'Rural', '60', 'Public', '0', '0', 'primaire']\n",
      "['GBÃŠKÃŠ', 'BOTRO', \"N'DOUMOUKRO\", 'Un quartier (Ville)', \"EPP N'DOUMOUKRO\", 'Urbain', '225', 'Public', '0', '1', 'primaire']\n",
      "['GBÃŠKÃŠ', 'BOTRO', 'TIKAKRO', 'Un village', 'EPP TIKAKRO', 'Rural', '269', 'Public', '0', '1', 'primaire']\n",
      "['GBÃŠKÃŠ', 'BOTRO', 'TELEBOKAN', 'Un village', 'EPP TELEBOKAN', 'Rural', '212', 'Public', '0', '1', 'primaire']\n",
      "['GBÃŠKÃŠ', 'BOTRO', 'TELEBOKPLI', 'Un village', 'EPP TELEBOKPLI', 'Rural', '247', 'Public', '0', '1', 'primaire']\n",
      "['GBÃŠKÃŠ', 'BOTRO', 'YOMIEN KOUADIOKRO', 'Un village', 'EPP YOMIEN KOUADIOKRO', 'Rural', '164', 'Public', '0', '0', 'primaire']\n",
      "['GBÃŠKÃŠ', 'BOTRO', 'KAHABO', 'Un village', 'EPP KAHABO', 'Rural', '48', 'Public', '0', '0', 'primaire']\n",
      "['GBÃŠKÃŠ', 'BOTRO', 'KONANBLEKRO', 'Un village', 'EPP KONANBLEKRO', 'Rural', '148', 'Public', '0', '0', 'primaire']\n",
      "['GBÃŠKÃŠ', 'BOTRO', 'LAGAMAN', 'Un village', 'EPP LAGAMAN', 'Rural', '85', 'Public', '0', '0', 'primaire']\n",
      "['GBÃŠKÃŠ', 'BOUAKE', 'ZONE (BOUAKE)', 'Un quartier (Ville)', 'EPP DIEZOU 1A', 'Urbain', '378', 'Public', '1', '1', 'primaire']\n",
      "['GBÃŠKÃŠ', 'BOUAKE', 'ZONE (BOUAKE)', 'Un quartier (Ville)', 'EPP DIEZOU 1B', 'Urbain', '536', 'Public', '1', '1', 'primaire']\n",
      "['GBÃŠKÃŠ', 'BOUAKE', 'ZONE (BOUAKE)', 'Un quartier (Ville)', 'EPP DIEZOU 1C', 'Urbain', '439', 'Public', '1', '1', 'primaire']\n",
      "['GBÃŠKÃŠ', 'BOUAKE', 'ZONE (BOUAKE)', 'Un quartier (Ville)', 'EPP DIEZOU 1D', 'Urbain', '372', 'Public', '1', '1', 'primaire']\n",
      "['GBÃŠKÃŠ', 'BOUAKE', 'ZONE (BOUAKE)', 'Un quartier (Ville)', 'EPP DIEZOU 1E', 'Urbain', '311', 'Public', '0', '1', 'primaire']\n",
      "['GBÃŠKÃŠ', 'BOUAKE', 'DIEZOUKOUAMEKRO', 'Un quartier (Ville)', 'EPP DIEZOUKOUAMEKRO 2A', 'Urbain', '413', 'Public', '0', '1', 'primaire']\n",
      "['GBÃŠKÃŠ', 'BOUAKE', 'ZONE (BOUAKE)', 'Un quartier (Ville)', 'EPP DIEZOUKOUAMEKRO 2C', 'Urbain', '305', 'Public', '0', '1', 'primaire']\n",
      "['GBÃŠKÃŠ', 'BOUAKE', 'DIEZOUKOUAMEKRO', 'Un quartier (Ville)', 'EPP DIEZOUKOUAMEKRO 2D', 'Urbain', '213', 'Public', '0', '1', 'primaire']\n",
      "['GBÃŠKÃŠ', 'BOUAKE', 'DIEZOUKOUAMEKRO', 'Un quartier (Ville)', 'EPP DIEZOU RAIL 1', 'Urbain', '526', 'Public', '0', '1', 'primaire']\n",
      "['GBÃŠKÃŠ', 'BOUAKE', 'DIEZOUKOUAMEKRO', 'Un quartier (Ville)', 'EPP DIEZOU RAIL 2', 'Urbain', '611', 'Public', '0', '1', 'primaire']\n",
      "['GBÃŠKÃŠ', 'BOUAKE', 'KOLOMBONOUA', 'Un village', 'EPP KOLOMBONOUA', 'Rural', '242', 'Public', '0', '0', 'primaire']\n",
      "['GBÃŠKÃŠ', 'BOUAKE', 'GNANKOUKRO', 'Un quartier (Ville)', 'EPP GNANKOUKRO A', 'Urbain', '234', 'Public', '0', '1', 'primaire']\n",
      "['GBÃŠKÃŠ', 'BOUAKE', 'GNANKOUKRO', 'Un quartier (Ville)', 'EPP GNANKOUKRO B', 'Rural', '249', 'Public', '0', '1', 'primaire']\n",
      "['GBÃŠKÃŠ', 'BOUAKE', 'GONFREVILLE', 'Un quartier (Ville)', 'EPP GONFREVILLE 1A', 'Urbain', '424', 'Public', '0', '1', 'primaire']\n",
      "['GBÃŠKÃŠ', 'BOUAKE', 'GONFREVILLE', 'Un quartier (Ville)', 'EPP GONFREVILLE 1B', 'Urbain', '436', 'Public', '0', '1', 'primaire']\n",
      "['GBÃŠKÃŠ', 'BOUAKE', 'GONFREVILLE', 'Un quartier (Ville)', 'EPP GONFREVILLE 1C', 'Urbain', '513', 'Public', '0', '1', 'primaire']\n",
      "['GBÃŠKÃŠ', 'BOUAKE', 'GONFREVILLE', 'Un quartier (Ville)', 'EPP GONFREVILLE 1D', 'Urbain', '399', 'Public', '0', '1', 'primaire']\n",
      "['GBÃŠKÃŠ', 'BOUAKE', 'GONFREVILLE', 'Un quartier (Ville)', 'EPP GONFREVILLE 1E', 'Urbain', '395', 'Public', '1', '1', 'primaire']\n",
      "['GBÃŠKÃŠ', 'BOUAKE', 'KPANGBAMBO', 'Un village', 'EPP KPANGBAMBO 2', 'Rural', '122', 'Public', '0', '0', 'primaire']\n",
      "['GBÃŠKÃŠ', 'BOUAKE', 'KPANGBAMBO', 'Un village', 'EPP PANGBAMBO', 'Rural', '340', 'Public', '0', '1', 'primaire']\n",
      "['GBÃŠKÃŠ', 'BOUAKE', 'BEAUFORT', 'Un quartier (Ville)', 'EPP WALEBO B', 'Urbain', '427', 'Public', '3', '1', 'primaire']\n",
      "['GBÃŠKÃŠ', 'BOUAKE', 'BEAUFORT', 'Un quartier (Ville)', 'EPP WALEBO C', 'Urbain', '361', 'Public', '3', '1', 'primaire']\n",
      "['GBÃŠKÃŠ', 'BOUAKE', 'BEAUFORT', 'Un quartier (Ville)', 'EPP WALEBO A', 'Urbain', '465', 'Public', '2', '1', 'primaire']\n",
      "['GBÃŠKÃŠ', 'BOUAKE', 'ALLOKOKRO', 'Un village', 'EPP ALLOKOKRO', 'Rural', '237', 'Public', '0', '0', 'primaire']\n",
      "['GBÃŠKÃŠ', 'BOUAKE', '133 LOGEMENTS A', 'Un quartier (Ville)', 'EPP 133 LOGEMENTS A', 'Urbain', '220', 'Public', '1', '1', 'primaire']\n",
      "['GBÃŠKÃŠ', 'BOUAKE', '133 LOGEMENTS', 'Un quartier (Ville)', 'EPP 133 LOGEMENTS B', 'Urbain', '88', 'Public', '2', '1', 'primaire']\n",
      "['GBÃŠKÃŠ', 'BOUAKE', 'DIEZOUKOUAMEKRO', 'Un quartier (Ville)', 'EPP GONFREVILLE 2A', 'Urbain', '272', 'Public', '0', '1', 'primaire']\n",
      "['GBÃŠKÃŠ', 'BOUAKE', 'DIEZOUKOUAMEKRO', 'Un quartier (Ville)', 'EPP GONFREVILLE 2B', 'Urbain', '240', 'Public', '0', '1', 'primaire']\n",
      "['GBÃŠKÃŠ', 'BOUAKE', 'DIEZOUKOUAMEKRO', 'Un quartier (Ville)', 'EPP GONFREVILLE 2C', 'Urbain', '266', 'Public', '0', '1', 'primaire']\n",
      "['GBÃŠKÃŠ', 'BOUAKE', 'DIEZOUKOUAMEKRO', 'Un quartier (Ville)', 'EPP GONFREVILLE 2D', 'Urbain', '380', 'Public', '0', '1', 'primaire']\n",
      "['GBÃŠKÃŠ', 'BOUAKE', 'SARAKAKRO', 'Un quartier (Ville)', 'EPP KONAN BLEDOU 1', 'Urbain', '206', 'Public', '0', '1', 'primaire']\n",
      "['GBÃŠKÃŠ', 'BOUAKE', 'DIEZOUKOUAMEKRO', 'Un quartier (Ville)', 'EPP GONFREVILLE 2E', 'Urbain', '263', 'Public', '0', '1', 'primaire']\n",
      "['GBÃŠKÃŠ', 'BOUAKE', 'ZONE INDUSTRIELLE', 'Un quartier (Ville)', 'EPP KONAN BLEDOU 2', 'Urbain', '47', 'Public', '0', '1', 'primaire']\n",
      "['GBÃŠKÃŠ', 'BOUAKE', 'YAOKOFFIKRO', 'Un village', 'EPP YAOKOFFIKRO A', 'Rural', '230', 'Public', '0', '1', 'primaire']\n",
      "['GBÃŠKÃŠ', 'BOUAKE', 'YAOKOFFIKRO', 'Un village', 'EPP YAOKOFFIKRO B', 'Rural', '220', 'Public', '0', '1', 'primaire']\n",
      "['GBÃŠKÃŠ', 'BOUAKE', 'YAOKOFFIKRO', 'Un quartier (Ville)', 'EPP YAOKOFFIKRO C', 'Urbain', '185', 'Public', '0', '1', 'primaire']\n",
      "['GBÃŠKÃŠ', 'BOUAKE', 'ODIENNEKOURANI', 'Un quartier (Ville)', 'EPP HÃ”PITAL 2', 'Urbain', '374', 'Public', '1', '1', 'primaire']\n",
      "['GBÃŠKÃŠ', 'BOUAKE', 'ODIENNEKOURANI', 'Un quartier (Ville)', 'EPP HÃ”PITAL A', 'Urbain', '311', 'Public', '1', '1', 'primaire']\n",
      "['GBÃŠKÃŠ', 'BOUAKE', 'ODIENNEKOURANI', 'Un quartier (Ville)', 'EPP HÃ”PITAL B', 'Urbain', '371', 'Public', '1', '1', 'primaire']\n",
      "['GBÃŠKÃŠ', 'BOUAKE', 'ODIENNEKOURANI', 'Un quartier (Ville)', 'EPP HÃ”PITAL C', 'Urbain', '319', 'Public', '1', '1', 'primaire']\n",
      "['GBÃŠKÃŠ', 'BOUAKE', 'KONANKANKRO', 'Un quartier (Ville)', 'EPP KONANKANKRO A', 'Urbain', '166', 'Public', '0', '1', 'primaire']\n",
      "['GBÃŠKÃŠ', 'BOUAKE', 'KONANKANKRO', 'Un quartier (Ville)', 'EPP KONANKANKRO B', 'Urbain', '153', 'Public', '0', '1', 'primaire']\n",
      "['GBÃŠKÃŠ', 'BOUAKE', 'KONANKANKRO', 'Un quartier (Ville)', 'EPP KONANKANKRO C', 'Urbain', '155', 'Public', '0', '1', 'primaire']\n",
      "['GBÃŠKÃŠ', 'BOUAKE', 'KOUAKRO', 'Un village', 'EPP KOUAKRO 2', 'Rural', '292', 'Public', '0', '1', 'primaire']\n",
      "['GBÃŠKÃŠ', 'BOUAKE', 'MIZRON-KONANKRO', 'Un village', 'EPP MIZRON-KONANKRO', 'Rural', '270', 'Public', '0', '1', 'primaire']\n",
      "['GBÃŠKÃŠ', 'BOUAKE', 'ZONE INDUSTRIELLE', 'Un quartier (Ville)', 'EPV ARMANDO 1', 'Urbain', '71', 'PrivÃ©', '0', '1', 'primaire']\n",
      "['GBÃŠKÃŠ', 'BOUAKE', 'ZONE INDUSTRIELLE', 'Un quartier (Ville)', 'EPC ASSAKAFATOUL ISLAMIYA', 'Urbain', '479', 'PrivÃ©', '2', '1', 'primaire']\n",
      "['GBÃŠKÃŠ', 'BOUAKE', 'ZONE INDUSTRIELLE', 'Un quartier (Ville)', 'EPV BANDAMA', 'Urbain', '248', 'PrivÃ©', '1', '1', 'primaire']\n",
      "['GBÃŠKÃŠ', 'BOUAKE', 'ZONE INDUSTRIELLE', 'Un quartier (Ville)', 'EPV BERGER 1', 'Urbain', '217', 'PrivÃ©', '3', '1', 'primaire']\n",
      "['GBÃŠKÃŠ', 'BOUAKE', 'ZONE INDUSTRIELLE', 'Un quartier (Ville)', 'EPV LE BERGER 2', 'Urbain', '306', 'PrivÃ©', '3', '1', 'primaire']\n",
      "['GBÃŠKÃŠ', 'BOUAKE', 'GONFREVILLE', 'Un quartier (Ville)', 'EPV  ST MARCELLIN CHAMPAGNAT', 'Urbain', '588', 'PrivÃ©', '1', '1', 'primaire']\n",
      "['GBÃŠKÃŠ', 'BOUAKE', 'ZONE INDUSTRIELLE', 'Un quartier (Ville)', 'EPV LE SUCCES', 'Urbain', '13', 'PrivÃ©', '0', '1', 'primaire']\n",
      "['GBÃŠKÃŠ', 'BOUAKE', 'ZONE INDUSTRIELLE', 'Un quartier (Ville)', 'EPV PROTESTANTE 1 ZONE', 'Urbain', '273', 'PrivÃ©', '1', '1', 'primaire']\n",
      "['GBÃŠKÃŠ', 'BOUAKE', 'ZONE (BOUAKE)', 'Un quartier (Ville)', 'EPC PROTESTANTE 2 ZONE', 'Urbain', '339', 'PrivÃ©', '1', '1', 'primaire']\n",
      "['GBÃŠKÃŠ', 'BOTRO', 'ABOLIKRO', 'Un village', 'EPP ABOLIKRO', 'Rural', '357', 'Public', '0', '0', 'primaire']\n",
      "['GBÃŠKÃŠ', 'BOTRO', 'AOUNIANFOUTOU', 'Un village', 'EPP AOUNIANFOUTOU 1', 'Rural', '278', 'Public', '0', '1', 'primaire']\n",
      "['GBÃŠKÃŠ', 'BOTRO', 'AHOUGNANFOUTOU', 'Un village', 'EPP AHOUGNANFOUTOU 2', 'Rural', '237', 'Public', '0', '1', 'primaire']\n",
      "['GBÃŠKÃŠ', 'BOTRO', 'ANDOKRO-KOUAKOU', 'Un village', 'EPP ANDOKRO-KOUAKOU', 'Rural', '250', 'Public', '1', '1', 'primaire']\n",
      "['GBÃŠKÃŠ', 'BOTRO', 'ANGOKOUN-KPANGBASSOU', 'Un village', 'EPP ANGOKOUN-KPANGBASSOU', 'Rural', '196', 'Public', '0', '0', 'primaire']\n",
      "['GBÃŠKÃŠ', 'BOTRO', 'ASSAMOI POKOUKRO', 'Un village', 'EPP ASSAMOI POKOUKRO', 'Rural', '83', 'Public', '0', '0', 'primaire']\n",
      "['GBÃŠKÃŠ', 'BOTRO', 'ASSIEBLENOU', 'Un village', 'EPP ASSIEBLENOU', 'Rural', '321', 'Public', '0', '1', 'primaire']\n",
      "['GBÃŠKÃŠ', 'BOTRO', 'BEHEKE', 'Un village', 'EPP BEHEKE', 'Rural', '252', 'Public', '0', '1', 'primaire']\n",
      "['GBÃŠKÃŠ', 'BOTRO', 'BOUKEBO', 'Un village', 'EPP BOUKEBO A', 'Rural', '349', 'Public', '0', '1', 'primaire']\n",
      "['GBÃŠKÃŠ', 'BOTRO', 'GBANGAOUPLI', 'Un village', 'EPP GBANGAOUPLI', 'Rural', '146', 'Public', '0', '0', 'primaire']\n",
      "['GBÃŠKÃŠ', 'BOTRO', 'KATOKOSSOU', 'Un village', 'EPP KATOKOSSOU', 'Rural', '74', 'Public', '0', '0', 'primaire']\n",
      "['GBÃŠKÃŠ', 'BOTRO', 'KONDEHINOU', 'Un village', 'EPP KONDEHINOU', 'Rural', '297', 'Public', '0', '0', 'primaire']\n",
      "['GBÃŠKÃŠ', 'BOTRO', 'KLEMEKLO', 'Un village', 'EPP KLEMEKLO A', 'Rural', '345', 'Public', '0', '1', 'primaire']\n",
      "['GBÃŠKÃŠ', 'BOTRO', 'AKPROABO', 'Un village', 'EPP KOUA-KOUAMEKRO', 'Rural', '326', 'Public', '0', '1', 'primaire']\n",
      "['GBÃŠKÃŠ', 'BOTRO', 'KOUAKOUBLEKRO', 'Un village', 'EPP KOUAKOUBLEKRO', 'Rural', '326', 'Public', '1', '0', 'primaire']\n",
      "['GBÃŠKÃŠ', 'BOTRO', 'LANGUIBONOU', 'Un quartier (Ville)', 'EPP LANGUIBONOU 1', 'Urbain', '205', 'Public', '1', '1', 'primaire']\n",
      "['GBÃŠKÃŠ', 'BOTRO', 'LANGUIBONOU', 'Un village', 'EPP LANGUIBONOU 2', 'Rural', '205', 'Public', '1', '1', 'primaire']\n",
      "['GBÃŠKÃŠ', 'BOTRO', 'LOKANOUAN', 'Un village', 'EPP LOKANOUAN', 'Rural', '130', 'Public', '0', '0', 'primaire']\n",
      "['GBÃŠKÃŠ', 'BOTRO', 'OUESSINZUE', 'Un village', 'EPP OUESSINZUE', 'Rural', '76', 'Public', '0', '0', 'primaire']\n",
      "['GBÃŠKÃŠ', 'BOTRO', 'SAHEBO', 'Un village', 'EPP SAHEBO-BAD', 'Rural', '138', 'Public', '0', '1', 'primaire']\n",
      "['GBÃŠKÃŠ', 'BOTRO', 'SAOUNDI', 'Un village', 'EPP SAOUNDI A', 'Rural', '443', 'Public', '1', '1', 'primaire']\n",
      "['GBÃŠKÃŠ', 'BOTRO', 'ASSAN-KOUASSIKRO', 'Un village', 'EPP ASSAN-KOUASSIKRO', 'Rural', '38', 'Public', '0', '1', 'primaire']\n",
      "['GBÃŠKÃŠ', 'BOUAKE', 'ASSOUMANKRO', 'Un quartier (Ville)', 'EPP ASSOUMANKRO', 'Urbain', '113', 'Public', '0', '1', 'primaire']\n",
      "['GBÃŠKÃŠ', 'BOUAKE', 'BENDEKOUASSIKRO', 'Un village', 'EPP BENDEKOUASSIKRO 1', 'Rural', '275', 'Public', '1', '1', 'primaire']\n",
      "['GBÃŠKÃŠ', 'BOUAKE', 'BENDEKOUASSIKRO ', 'Un village', 'EPP BENDEKOUASSIKRO 2', 'Rural', '253', 'Public', '1', '1', 'primaire']\n",
      "['GBÃŠKÃŠ', 'BOUAKE', 'LOKANOU', 'Un village', 'EPP LOKANOU', 'Rural', '31', 'Public', '0', '0', 'primaire']\n",
      "['GBÃŠKÃŠ', 'BOUAKE', 'BOUAKE', 'Un quartier (Ville)', 'EPP PETIT LYCEE 1A', 'Urbain', '201', 'Public', '1', '1', 'primaire']\n",
      "['GBÃŠKÃŠ', 'BOUAKE', 'AHOUGNANSOU (BOUAKÃ‰)', 'Un quartier (Ville)', 'EPP PETIT LYCEE 1B', 'Urbain', '219', 'Public', '1', '1', 'primaire']\n",
      "['GBÃŠKÃŠ', 'BOUAKE', 'QUARTIER MUNICIPAL', 'Un quartier (Ville)', 'EPP PETIT LYCEE 2A', 'Urbain', '117', 'Public', '1', '1', 'primaire']\n",
      "['GBÃŠKÃŠ', 'BOUAKE', 'QUARTIER MUNICIPAL', 'Un quartier (Ville)', 'EPP PETIT LYCEE 2B', 'Urbain', '153', 'Public', '1', '1', 'primaire']\n",
      "['GBÃŠKÃŠ', 'BOUAKE', 'AHOUGNANSOU (BOUAKÃ‰)', 'Un quartier (Ville)', 'EPP PIERRE MAGNE', 'Urbain', '385', 'Public', '2', '1', 'primaire']\n",
      "['GBÃŠKÃŠ', 'BOUAKE', 'AHOUGNANSOU (BOUAKÃ‰)', 'Un quartier (Ville)', 'EPP REINE-POKOU A', 'Urbain', '130', 'Public', '2', '1', 'primaire']\n",
      "['GBÃŠKÃŠ', 'BOUAKE', 'AHOUGNANSOU (BOUAKÃ‰)', 'Un quartier (Ville)', 'EPP REINE-POKOU B', 'Urbain', '139', 'Public', '2', '1', 'primaire']\n",
      "['GBÃŠKÃŠ', 'BOUAKE', 'SESSENOUA', 'Un village', 'EPP SESSENOUA', 'Rural', '239', 'Public', '0', '1', 'primaire']\n",
      "['GBÃŠKÃŠ', 'BOUAKE', 'KOKO', 'Un quartier (Ville)', 'EPP ABOLIBA A', 'Urbain', '368', 'Public', '0', '1', 'primaire']\n",
      "['GBÃŠKÃŠ', 'BOUAKE', 'KOKO', 'Un quartier (Ville)', 'EPP ABOLIBA C', 'Urbain', '341', 'Public', '0', '1', 'primaire']\n",
      "['GBÃŠKÃŠ', 'BOUAKE', 'KOKO', 'Un quartier (Ville)', 'EPP ABOLIBA D', 'Urbain', '391', 'Public', '1', '1', 'primaire']\n",
      "['GBÃŠKÃŠ', 'BOUAKE', 'HABITAT-CNPS', 'Un quartier (Ville)', 'EPP CNPS B', 'Urbain', '425', 'Public', '1', '1', 'primaire']\n",
      "['GBÃŠKÃŠ', 'BOUAKE', 'HABITAT-CNPS', 'Un quartier (Ville)', 'EPP CNPS A', 'Urbain', '489', 'Public', '1', '1', 'primaire']\n",
      "['GBÃŠKÃŠ', 'BOUAKE', 'KOTTIAKOFFIKRO', 'Un quartier (Ville)', 'EPP KOTTIAKOFFIKRO A', 'Urbain', '516', 'Public', '0', '1', 'primaire']\n",
      "['GBÃŠKÃŠ', 'BOUAKE', 'KOTTIAKOFFIKRO', 'Un quartier (Ville)', 'EPP KOTTIAKOFFIKRO B', 'Urbain', '519', 'Public', '0', '1', 'primaire']\n",
      "['GBÃŠKÃŠ', 'BOUAKE', 'KOTTIAKOFFIKRO', 'Un quartier (Ville)', 'EPP KOTTIAKOFFIKRO C', 'Urbain', '551', 'Public', '0', '1', 'primaire']\n",
      "['GBÃŠKÃŠ', 'BOUAKE', 'KOTTIAKOFFIKRO', 'Un quartier (Ville)', 'EPP KOTTIAKOFFIKRO D', 'Urbain', '471', 'Public', '0', '1', 'primaire']\n",
      "['GBÃŠKÃŠ', 'BOUAKE', 'DJAMBOUROU', 'Un quartier (Ville)', 'EPP LIBERTE D', 'Urbain', '377', 'Public', '0', '1', 'primaire']\n",
      "['GBÃŠKÃŠ', 'BOUAKE', 'YANGAKRO', 'Un village', 'EPP YANGAKRO', 'Rural', '215', 'Public', '0', '0', 'primaire']\n",
      "['GBÃŠKÃŠ', 'BOUAKE', 'DAR-ES SALAM', 'Un quartier (Ville)', 'EPC EL MAKACID ISLAMIAT', 'Urbain', '409', 'PrivÃ©', '2', '1', 'primaire']\n",
      "['GBÃŠKÃŠ', 'BOUAKE', 'DAR-ES-SALAM ', 'Un quartier (Ville)', 'EPV YAMOUSSO MARIE THERESE', 'Urbain', '262', 'PrivÃ©', '2', '1', 'primaire']\n",
      "['GBÃŠKÃŠ', 'BOUAKE', 'HABITAT DE LA CAISSE', 'Un quartier (Ville)', 'EPP CNPS C', 'Urbain', '418', 'Public', '1', '1', 'primaire']\n",
      "['GBÃŠKÃŠ', 'BOUAKE', 'KOKO', 'Un quartier (Ville)', 'EPP ABOLIBA B', 'Urbain', '325', 'Public', '1', '1', 'primaire']\n",
      "['GBÃŠKÃŠ', 'BOUAKE', 'GOLIKRO', 'Un village', 'EPP GOLIKRO', 'Urbain', '290', 'Public', '0', '1', 'primaire']\n",
      "['GBÃŠKÃŠ', 'BOUAKE', 'BINKADI', 'Un quartier (Ville)', 'EPP BINKADI', 'Urbain', '520', 'Public', '0', '1', 'primaire']\n",
      "['GBÃŠKÃŠ', 'BOUAKE', 'DAR-ES SALAM', 'Un quartier (Ville)', 'EPP DAR-ES-SALAM 1A', 'Urbain', '474', 'Public', '1', '1', 'primaire']\n",
      "['GBÃŠKÃŠ', 'BOUAKE', 'DAR-ES SALAM', 'Un quartier (Ville)', 'EPP DAR-ES-SALAM 1B', 'Urbain', '480', 'Public', '1', '1', 'primaire']\n",
      "['GBÃŠKÃŠ', 'BOUAKE', 'DAR-ES SALAM', 'Un quartier (Ville)', 'EPP DAR-ES-SALAM 1C', 'Urbain', '406', 'Public', '1', '1', 'primaire']\n",
      "['GBÃŠKÃŠ', 'BOUAKE', 'DAR-ES SALAM', 'Un quartier (Ville)', 'EPP DAR-ES-SALAM 1D', 'Urbain', '491', 'Public', '1', '1', 'primaire']\n",
      "['GBÃŠKÃŠ', 'BOUAKE', 'DAR-ES SALAM', 'Un quartier (Ville)', 'EPP DAR-ES-SALAM 1E', 'Urbain', '451', 'Public', '1', '1', 'primaire']\n",
      "['GBÃŠKÃŠ', 'BOUAKE', 'DAR-ES SALAM', 'Un quartier (Ville)', 'EPP DAR-ES-SALAM 2A', 'Urbain', '579', 'Public', '1', '1', 'primaire']\n",
      "['GBÃŠKÃŠ', 'BOUAKE', 'DAR-ES SALAM', 'Un quartier (Ville)', 'EPP DAR-ES-SALAM 2B', 'Urbain', '525', 'Public', '1', '1', 'primaire']\n",
      "['GBÃŠKÃŠ', 'BOUAKE', 'DAR-ES SALAM', 'Un quartier (Ville)', 'EPP DAR-ES-SALAM 2C', 'Urbain', '448', 'Public', '1', '1', 'primaire']\n",
      "['GBÃŠKÃŠ', 'BOUAKE', 'DAR-ES SALAM', 'Un quartier (Ville)', 'EPP DAR-ES-SALAM 2D', 'Urbain', '386', 'Public', '1', '1', 'primaire']\n",
      "['GBÃŠKÃŠ', 'BOUAKE', 'DAR-ES SALAM', 'Un quartier (Ville)', 'EPP DAR-ES-SALAM 2E', 'Urbain', '406', 'Public', '1', '1', 'primaire']\n",
      "['GBÃŠKÃŠ', 'BOUAKE', 'KAHARO-GBLOBO', 'Un quartier (Ville)', 'EPP KAHARO-GBOBO', 'Urbain', '286', 'Public', '1', '0', 'primaire']\n",
      "['GBÃŠKÃŠ', 'BOUAKE', 'KOUAKRO', 'Un village', 'EPP KOUAKRO 1', 'Rural', '128', 'Public', '0', '0', 'primaire']\n",
      "['GBÃŠKÃŠ', 'BOUAKE', 'MAROC', 'Un quartier (Ville)', 'EPP TIDIA', 'Urbain', '36', 'Public', '1', '1', 'primaire']\n",
      "['GBÃŠKÃŠ', 'BOUAKE', 'GNAMIENAKAKRO', 'Un quartier (Ville)', 'EPV LE CONSULTANT', 'Urbain', '282', 'PrivÃ©', '0', '1', 'primaire']\n",
      "['GBÃŠKÃŠ', 'BOUAKE', 'DAR-ES SALAM', 'Un quartier (Ville)', 'EPC ZAWIYATOU HAMAWIYATOU', 'Urbain', '370', 'PrivÃ©', '4', '1', 'primaire']\n",
      "['GBÃŠKÃŠ', 'BOUAKE', 'TOLLAKOUADIOKRO', 'Un quartier (Ville)', 'EPV LE PARFAIT DE TOLLAKOUADIOKRO', 'Urbain', '609', 'PrivÃ©', '3', '1', 'primaire']\n",
      "['GBÃŠKÃŠ', 'BOUAKE', 'KOKO', 'Un quartier (Ville)', 'EPC SAINT JEAN', 'Urbain', '193', 'PrivÃ©', '6', '1', 'primaire']\n",
      "['GBÃŠKÃŠ', 'BOUAKE', 'KAMONOUKRO', 'Un quartier (Ville)', 'EPP KAMONOUKRO B', 'Urbain', '407', 'Public', '0', '1', 'primaire']\n",
      "['GBÃŠKÃŠ', 'BOUAKE', 'KOKO', 'Un quartier (Ville)', 'EPP KOKO 2 A', 'Urbain', '303', 'Public', '1', '1', 'primaire']\n",
      "['GBÃŠKÃŠ', 'BOUAKE', 'KOKO', 'Un quartier (Ville)', 'EPP KOKO 2B', 'Urbain', '358', 'Public', '1', '1', 'primaire']\n",
      "['GBÃŠKÃŠ', 'BOUAKE', 'KOKO', 'Un quartier (Ville)', 'EPP KOKO 2C', 'Urbain', '433', 'Public', '1', '1', 'primaire']\n",
      "['GBÃŠKÃŠ', 'BOUAKE', 'KOKO', 'Un quartier (Ville)', 'EPP KONE ISSIAKA MAURICE A', 'Urbain', '510', 'Public', '2', '1', 'primaire']\n",
      "['GBÃŠKÃŠ', 'BOUAKE', 'KOKO', 'Un quartier (Ville)', 'EPP KONE ISSIAKA MAURICE B', 'Urbain', '319', 'Public', '0', '1', 'primaire']\n",
      "['GBÃŠKÃŠ', 'BOUAKE', 'KOKO', 'Un quartier (Ville)', 'EPP KONE ISSIAKA MAURICE C', 'Urbain', '383', 'Public', '0', '1', 'primaire']\n",
      "['GBÃŠKÃŠ', 'BOUAKE', 'MAROC (BOUAKE)', 'Un quartier (Ville)', 'EPP KOTTIAKOFFIKRO-EXTENSION', 'Urbain', '492', 'Public', '0', '1', 'primaire']\n",
      "['GBÃŠKÃŠ', 'BOUAKE', 'MINANKRO', 'Un quartier (Ville)', 'EPP MINANKRO', 'Urbain', '443', 'Public', '0', '1', 'primaire']\n",
      "['GBÃŠKÃŠ', 'BOUAKE', \"N'GUESSANKRO\", 'Un village', \"EPP N'NANKRA DE N'GUESSANKRO\", 'Rural', '217', 'Public', '0', '1', 'primaire']\n",
      "['GBÃŠKÃŠ', 'BOUAKE', 'DAR-ES SALAM', 'Un quartier (Ville)', 'EPV LE BERGER', 'Urbain', '528', 'PrivÃ©', '4', '1', 'primaire']\n",
      "['GBÃŠKÃŠ', 'BOUAKE', 'KOKO', 'Un quartier (Ville)', 'EPP KONE ISSIAKA MAURICE D', 'Urbain', '297', 'Public', '2', '1', 'primaire']\n",
      "['GBÃŠKÃŠ', 'BOUAKE', 'ALLOMANOU', 'Un village', 'EPP ALLOMANOU', 'Rural', '174', 'Public', '0', '0', 'primaire']\n",
      "['GBÃŠKÃŠ', 'BOUAKE', 'DAR-ES-SALAM', 'Un quartier (Ville)', 'EPP DAR-ES-SALAM 4A', 'Urbain', '423', 'Public', '0', '1', 'primaire']\n",
      "['GBÃŠKÃŠ', 'BOUAKE', 'DAR-ES-SALAM', 'Un quartier (Ville)', 'EPP DAR-ES-SALAM 4B', 'Urbain', '343', 'Public', '0', '1', 'primaire']\n",
      "['GBÃŠKÃŠ', 'BOUAKE', 'KAMONOUKRO', 'Un quartier (Ville)', 'EPP KAMONOUKRO A', 'Urbain', '417', 'Public', '0', '1', 'primaire']\n",
      "['GBÃŠKÃŠ', 'BOUAKE', 'KAMONOUKRO', 'Un quartier (Ville)', 'EPP KAMONOUKRO C', 'Urbain', '433', 'Public', '1', '1', 'primaire']\n",
      "['GBÃŠKÃŠ', 'BOUAKE', 'DJAMOUROU', 'Un quartier (Ville)', 'EPP LIBERTE A', 'Urbain', '482', 'Public', '1', '1', 'primaire']\n",
      "['GBÃŠKÃŠ', 'BOUAKE', 'DJAMOUROU', 'Un quartier (Ville)', 'EPP LIBERTE B', 'Urbain', '466', 'Public', '0', '1', 'primaire']\n",
      "['GBÃŠKÃŠ', 'BOUAKE', 'DJAMOUROU', 'Un quartier (Ville)', 'EPP LIBERTE C', 'Urbain', '363', 'Public', '1', '1', 'primaire']\n",
      "['GBÃŠKÃŠ', 'BOUAKE', \"M'BLAKRO\", 'Un village', \"EPP M'BLAKRO\", 'Rural', '140', 'Public', '0', '0', 'primaire']\n",
      "['GBÃŠKÃŠ', 'BOUAKE', \"N'DENOU\", 'Un village', \"EPP N'DENOU\", 'Rural', '70', 'Public', '0', '0', 'primaire']\n",
      "['GBÃŠKÃŠ', 'BOUAKE', 'OKO', 'Un village', 'EPP OKO', 'Rural', '301', 'Public', '0', '0', 'primaire']\n",
      "['GBÃŠKÃŠ', 'BOUAKE', \"N'DOUAKOUAMEKRO\", 'Un village', \"EPP N'DOUAKOUAMEKRO\", 'Rural', '133', 'Public', '0', '0', 'primaire']\n",
      "['GBÃŠKÃŠ', 'BOUAKE', 'TCHIMOU-ASSEKRO', 'Un quartier (Ville)', 'EPP AKPOKRO', 'Rural', '335', 'Public', '0', '1', 'primaire']\n",
      "['GBÃŠKÃŠ', 'BOUAKE', 'ALLAKRO', 'Un village', 'EPP ALLAKRO', 'Rural', '105', 'Public', '0', '0', 'primaire']\n",
      "['GBÃŠKÃŠ', 'BOUAKE', 'BAMORO', 'Un village', 'EPP BAMORO 1', 'Rural', '212', 'Public', '0', '1', 'primaire']\n",
      "['GBÃŠKÃŠ', 'BOUAKE', 'BAMORO', 'Un village', 'EPP BAMORO 2', 'Rural', '164', 'Public', '0', '1', 'primaire']\n",
      "['GBÃŠKÃŠ', 'BOUAKE', 'BESSERITAKIKRO', 'Un village', 'EPP BESSERITAKIKRO', 'Rural', '216', 'Public', '0', '1', 'primaire']\n",
      "['GBÃŠKÃŠ', 'BOUAKE', 'DAR-ES-SALAM ', 'Un quartier (Ville)', 'EPP DAR-ES -SALAM 3B', 'Urbain', '490', 'Public', '1', '1', 'primaire']\n",
      "['GBÃŠKÃŠ', 'BOUAKE', 'DAR-ES SALAM', 'Un quartier (Ville)', 'EPP DAR-ES-SALAM 3A', 'Urbain', '458', 'Public', '1', '1', 'primaire']\n",
      "['GBÃŠKÃŠ', 'BOUAKE', 'DAR-ES SALAM', 'Un quartier (Ville)', 'EPP DAR-ES-SALAM 3C', 'Urbain', '439', 'Public', '1', '1', 'primaire']\n",
      "['GBÃŠKÃŠ', 'BOUAKE', 'DAR-ES SALAM', 'Un quartier (Ville)', 'EPP DAR-ES-SALAM 3D', 'Urbain', '416', 'Public', '1', '1', 'primaire']\n",
      "['GBÃŠKÃŠ', 'BOUAKE', \"N'GATTA-SAKASSOU\", 'Un village', \"EPP N'GATTA-SAKASSOU\", 'Rural', '255', 'Public', '0', '1', 'primaire']\n",
      "['GBÃŠKÃŠ', 'BOUAKE', 'KAMONOUKRO', 'Un quartier (Ville)', 'EPP PLATEAU A', 'Urbain', '363', 'Public', '1', '1', 'primaire']\n",
      "['GBÃŠKÃŠ', 'BOUAKE', 'KAMONOUKRO', 'Un quartier (Ville)', 'EPP PLATEAU B', 'Urbain', '402', 'Public', '0', '1', 'primaire']\n",
      "['GBÃŠKÃŠ', 'BOUAKE', 'KAMONOUKRO', 'Un quartier (Ville)', 'EPP PLATEAU C', 'Urbain', '350', 'Public', '1', '1', 'primaire']\n",
      "['GBÃŠKÃŠ', 'BOUAKE', 'TABAKO', 'Un village', 'EPP TABAKO', 'Rural', '92', 'Public', '0', '0', 'primaire']\n",
      "['GBÃŠKÃŠ', 'BOUAKE', 'DJIGBE', 'Un village', 'EPP DJIGBE', 'Rural', '32', 'Public', '0', '0', 'primaire']\n",
      "['GBÃŠKÃŠ', 'BOUAKE', 'SOKOURA', 'Un quartier (Ville)', 'EPP DOUGOUBA A', 'Urbain', '225', 'Public', '0', '1', 'primaire']\n",
      "['GBÃŠKÃŠ', 'BOUAKE', 'SOKOURA', 'Un quartier (Ville)', 'EPP DOUGOUBA B', 'Urbain', '257', 'Public', '2', '1', 'primaire']\n",
      "['GBÃŠKÃŠ', 'BOUAKE', 'SOKOURA', 'Un quartier (Ville)', 'EPP DOUGOUBA C', 'Urbain', '226', 'Public', '2', '1', 'primaire']\n",
      "['GBÃŠKÃŠ', 'BOUAKE', 'KOKO', 'Un quartier (Ville)', 'EPP MAMIANOU A', 'Urbain', '342', 'Public', '1', '1', 'primaire']\n",
      "['GBÃŠKÃŠ', 'BOUAKE', 'KOKO', 'Un quartier (Ville)', 'EPP MAMIANOU B', 'Urbain', '298', 'Public', '1', '1', 'primaire']\n",
      "['GBÃŠKÃŠ', 'BOUAKE', 'KOKO', 'Un quartier (Ville)', 'EPP RAN A', 'Urbain', '264', 'Public', '1', '1', 'primaire']\n",
      "['GBÃŠKÃŠ', 'BOUAKE', 'SESSEKRO', 'Un village', 'EPP SESSEKRO', 'Rural', '128', 'Public', '0', '1', 'primaire']\n",
      "['GBÃŠKÃŠ', 'BOUAKE', 'TOUNGBAKRO', 'Un village', 'EPP TOUNGBAKRO', 'Rural', '167', 'Public', '0', '0', 'primaire']\n",
      "['GBÃŠKÃŠ', 'BOUAKE', 'DAR-ES-SALAM', 'Un quartier (Ville)', 'EPV SYLKO', 'Urbain', '211', 'PrivÃ©', '0', '1', 'primaire']\n",
      "['GBÃŠKÃŠ', 'BOUAKE', 'BOUAKE-KOKO', 'Un quartier (Ville)', 'EPP RAN C', 'Urbain', '300', 'Public', '1', '1', 'primaire']\n",
      "['GBÃŠKÃŠ', 'BOUAKE', 'KOKO', 'Un quartier (Ville)', 'EPC NOTRE DAME DES APOTRES 1', 'Urbain', '332', 'PrivÃ©', '1', '1', 'primaire']\n",
      "['GBÃŠKÃŠ', 'BOUAKE', 'KOKO', 'Un quartier (Ville)', 'EPC NOTRE DAME DES APOTRES 2', 'Urbain', '354', 'PrivÃ©', '1', '1', 'primaire']\n",
      "['GBÃŠKÃŠ', 'BOUAKE', \"KONAN N'GUESSANKRO\", 'Un quartier (Ville)', \"EPP KONAN N'GUESSANKRO\", 'Rural', '99', 'Public', '0', '0', 'primaire']\n",
      "['GBÃŠKÃŠ', 'BOUAKE', 'KOKO', 'Un quartier (Ville)', 'EPP RAN B', 'Urbain', '293', 'Public', '2', '1', 'primaire']\n",
      "['GBÃŠKÃŠ', 'BOUAKE', 'AHOUGNANSOU', 'Un quartier (Ville)', 'EPV LES LILAS BLANCS', 'Urbain', '175', 'PrivÃ©', '8', '1', 'primaire']\n",
      "['GBÃŠKÃŠ', 'BOUAKE', 'AHOUGNANSOU', 'Un quartier (Ville)', 'EPP AHOUGNANSOU 1A', 'Urbain', '258', 'Public', '1', '1', 'primaire']\n",
      "['GBÃŠKÃŠ', 'BOUAKE', 'AHOUGNANSOU', 'Un quartier (Ville)', 'EPP AHOUGNANSOU 1B', 'Urbain', '237', 'Public', '1', '1', 'primaire']\n",
      "['GBÃŠKÃŠ', 'BOUAKE', 'AHOUGNANSOU', 'Un quartier (Ville)', 'EPP AHOUGNANSOU 1C', 'Urbain', '193', 'Public', '1', '1', 'primaire']\n",
      "['GBÃŠKÃŠ', 'BOUAKE', 'AHOUGNANSOU', 'Un quartier (Ville)', 'EPP AHOUGNANSOU 1D', 'Urbain', '188', 'Public', '1', '1', 'primaire']\n",
      "['GBÃŠKÃŠ', 'BOUAKE', 'AHOUGNANSOU', 'Un quartier (Ville)', 'EPP AHOUGNANSOU 1E', 'Urbain', '187', 'Public', '0', '1', 'primaire']\n",
      "['GBÃŠKÃŠ', 'BOUAKE', 'AHOUGNANSOU', 'Un quartier (Ville)', 'EPP AHOUGNANSOU 3', 'Urbain', '312', 'Public', '0', '1', 'primaire']\n",
      "['GBÃŠKÃŠ', 'BOUAKE', 'AHOUGNANSOU', 'Un quartier (Ville)', 'EPP BOUAKE-OUEST A', 'Urbain', '180', 'Public', '1', '1', 'primaire']\n",
      "['GBÃŠKÃŠ', 'BOUAKE', 'AHOUGNANSOU', 'Un quartier (Ville)', 'EPP BOUAKE-OUEST B', 'Urbain', '234', 'Public', '0', '1', 'primaire']\n",
      "['GBÃŠKÃŠ', 'BOUAKE', 'BROUKRO', 'Un quartier (Ville)', 'EPP BROUKRO 1A', 'Urbain', '346', 'Public', '0', '1', 'primaire']\n",
      "['GBÃŠKÃŠ', 'BOUAKE', 'BROUKRO', 'Un quartier (Ville)', 'EPP BROUKRO 1B', 'Urbain', '428', 'Public', '1', '1', 'primaire']\n",
      "['GBÃŠKÃŠ', 'BOUAKE', 'BROUKRO', 'Un quartier (Ville)', 'EPP BROUKRO 1C', 'Urbain', '258', 'Public', '1', '1', 'primaire']\n",
      "['GBÃŠKÃŠ', 'BOUAKE', 'BROUKRO', 'Un quartier (Ville)', 'EPP BROUKRO 1D', 'Urbain', '373', 'Public', '1', '1', 'primaire']\n",
      "['GBÃŠKÃŠ', 'BOUAKE', 'BROUKRO', 'Un quartier (Ville)', 'EPP BROUKRO 1E', 'Urbain', '246', 'Public', '1', '1', 'primaire']\n",
      "['GBÃŠKÃŠ', 'BOUAKE', 'BROUKRO', 'Un quartier (Ville)', 'EPP BROUKRO 2B', 'Urbain', '269', 'Public', '1', '1', 'primaire']\n",
      "['GBÃŠKÃŠ', 'BOUAKE', 'BROUKRO', 'Un quartier (Ville)', 'EPP BROUKRO 2A', 'Urbain', '326', 'Public', '1', '1', 'primaire']\n",
      "['GBÃŠKÃŠ', 'BOUAKE', 'BROUKRO', 'Un quartier (Ville)', 'EPP BROUKRO 2C', 'Urbain', '287', 'Public', '1', '1', 'primaire']\n",
      "['GBÃŠKÃŠ', 'BOUAKE', 'BROUKRO', 'Un quartier (Ville)', 'EPP BROUKRO 3', 'Urbain', '323', 'Public', '0', '1', 'primaire']\n",
      "['GBÃŠKÃŠ', 'BOUAKE', 'BROUKRO', 'Un quartier (Ville)', 'EPP BROUKRO 4', 'Urbain', '261', 'Public', '0', '0', 'primaire']\n",
      "['GBÃŠKÃŠ', 'BOUAKE', 'BROUKRO', 'Un quartier (Ville)', 'EPC PROTESTANTE CMA', 'Urbain', '285', 'PrivÃ©', '1', '1', 'primaire']\n",
      "['GBÃŠKÃŠ', 'BOUAKE', 'BROUKRO', 'Un quartier (Ville)', 'EPV LES HIRONDELLES', 'Urbain', '185', 'PrivÃ©', '2', '1', 'primaire']\n",
      "['GBÃŠKÃŠ', 'BOUAKE', 'BROUKRO', 'Un quartier (Ville)', 'EPV LE REPERE', 'Urbain', '260', 'PrivÃ©', '2', '1', 'primaire']\n",
      "['GBÃŠKÃŠ', 'BOUAKE', 'BROUKRO', 'Un quartier (Ville)', 'EPC SAINT PAUL BROUKRO', 'Urbain', '153', 'PrivÃ©', '4', '1', 'primaire']\n",
      "['GBÃŠKÃŠ', 'BOUAKE', 'BROUKRO', 'Un quartier (Ville)', 'EPC AD', 'Urbain', '234', 'PrivÃ©', '1', '1', 'primaire']\n",
      "['GBÃŠKÃŠ', 'BOUAKE', 'KONDOUKRO', 'Un village', 'EPP KONDOUKRO-SAKASSOU', 'Rural', '194', 'Public', '0', '1', 'primaire']\n",
      "['GBÃŠKÃŠ', 'BOUAKE', 'MEBO', 'Un village', 'EPP ADJOUASSOU', 'Rural', '182', 'Public', '0', '1', 'primaire']\n",
      "['GBÃŠKÃŠ', 'BOUAKE', 'APOUIBO', 'Un village', 'EPP APOUIBO', 'Rural', '299', 'Public', '0', '1', 'primaire']\n",
      "['GBÃŠKÃŠ', 'BOUAKE', 'ASSENGOU', 'Un village', 'EPP ASSENGOU', 'Rural', '91', 'Public', '1', '1', 'primaire']\n",
      "['GBÃŠKÃŠ', 'BOUAKE', 'ATTOHOU', 'Un village', 'EPP ATTOHOU', 'Rural', '75', 'Public', '0', '0', 'primaire']\n",
      "['GBÃŠKÃŠ', 'BOUAKE', 'BLEDI', 'Un village', 'EPP BLEDI BLESSOU', 'Rural', '315', 'Public', '0', '1', 'primaire']\n",
      "['GBÃŠKÃŠ', 'BOUAKE', 'DJEBONOUA', 'Un village', 'EPP DJEBONOUA 1', 'Rural', '295', 'Public', '1', '1', 'primaire']\n",
      "['GBÃŠKÃŠ', 'BOUAKE', 'DJEBONOUA', 'Un quartier (Ville)', 'EPP DJEBONOUA 3', 'Urbain', '159', 'Public', '1', '1', 'primaire']\n",
      "['GBÃŠKÃŠ', 'BOUAKE', 'DJEBONOUA VILLE', 'Un quartier (Ville)', 'EPP DJEBONOUA EXTENSION', 'Urbain', '264', 'Public', '1', '1', 'primaire']\n",
      "['GBÃŠKÃŠ', 'BOUAKE', 'KANOUA', 'Un village', 'EPP KANOUA', 'Rural', '162', 'Public', '0', '1', 'primaire']\n",
      "['GBÃŠKÃŠ', 'BOUAKE', 'DJEBONOUA', 'Un quartier (Ville)', \"EPP KONAN N'DRI ALBERT\", 'Urbain', '368', 'Public', '1', '1', 'primaire']\n",
      "['GBÃŠKÃŠ', 'BOUAKE', 'LOKASSOU', 'Un village', 'EPP LOKASSOU', 'Rural', '153', 'Public', '0', '1', 'primaire']\n",
      "['GBÃŠKÃŠ', 'BOUAKE', 'PETESSOU', 'Un village', 'EPP NANLO-BAMBA', 'Rural', '214', 'Public', '0', '1', 'primaire']\n",
      "['GBÃŠKÃŠ', 'BOUAKE', 'DJEBONOUA VILLAGE', 'Un village', 'EPP NANAN KOUADIO KONAN A.', 'Rural', '153', 'Public', '1', '1', 'primaire']\n",
      "['GBÃŠKÃŠ', 'BOUAKE', 'DJEBONOUA VILLAGE', 'Un village', 'EPP NANAN KOUADIO KONAN B', 'Rural', '139', 'Public', '0', '1', 'primaire']\n",
      "['GBÃŠKÃŠ', 'BOUAKE', 'TOLLA-TANOUKRO', 'Un village', 'EPP NANAN-TOLLA', 'Rural', '152', 'Public', '1', '0', 'primaire']\n",
      "['GBÃŠKÃŠ', 'BOUAKE', 'DJEBONOUA VILLE', 'Un quartier (Ville)', 'EPC SAINT MICHEL', 'Urbain', '95', 'PrivÃ©', '1', '1', 'primaire']\n",
      "['GBÃŠKÃŠ', 'BOUAKE', 'ANDOKRO', 'Un village', 'EPP ANDOKRO', 'Rural', '130', 'Public', '0', '0', 'primaire']\n",
      "['GBÃŠKÃŠ', 'BOUAKE', 'ASSOUAKRO', 'Un village', 'EPP ASSUAKRO 1', 'Rural', '172', 'Public', '0', '1', 'primaire']\n",
      "['GBÃŠKÃŠ', 'BOUAKE', 'ASSOUAKRO', 'Un village', 'EPP ASSOUAKRO 2', 'Rural', '168', 'Public', '0', '1', 'primaire']\n",
      "['GBÃŠKÃŠ', 'BOUAKE', 'GBADAHOU KOFFIKRO', 'Un village', 'EPP GBADAHOU KOFFIKRO', 'Rural', '119', 'Public', '0', '1', 'primaire']\n",
      "['GBÃŠKÃŠ', 'BOUAKE', 'BOKASSOU', 'Un village', 'EPP BOKASSOU', 'Rural', '95', 'Public', '0', '0', 'primaire']\n",
      "['GBÃŠKÃŠ', 'BOUAKE', 'KOUADIO-PRIKRO', 'Un village', 'EPP KOUADIO-PRIKRO', 'Rural', '131', 'Public', '0', '0', 'primaire']\n",
      "['GBÃŠKÃŠ', 'BOUAKE', 'GOMO', 'Un village', 'EPP GOMO', 'Rural', '74', 'Public', '0', '0', 'primaire']\n",
      "['GBÃŠKÃŠ', 'BOUAKE', 'KATIENOU', 'Un village', 'EPP KATIENOU', 'Rural', '193', 'Public', '0', '1', 'primaire']\n",
      "['GBÃŠKÃŠ', 'BOUAKE', 'KONZO', 'Un village', 'EPP KONZO', 'Rural', '371', 'Public', '1', '1', 'primaire']\n",
      "['GBÃŠKÃŠ', 'BOUAKE', 'KOUASSI BLE DJEKRO', 'Un village', 'EPP KOUASSI BLE DJEKRO', 'Rural', '88', 'Public', '0', '0', 'primaire']\n",
      "['GBÃŠKÃŠ', 'BOUAKE', 'LENGBRE', 'Un village', 'EPP LENGBRE 1', 'Rural', '306', 'Public', '0', '1', 'primaire']\n",
      "['GBÃŠKÃŠ', 'BOUAKE', 'LENGRE', 'Un village', 'EPP LENBGRE 2', 'Rural', '138', 'Public', '0', '1', 'primaire']\n",
      "['GBÃŠKÃŠ', 'BOUAKE', \"N'DOUAKRO\", 'Un village', \"EPP N'DOUAKRO\", 'Rural', '64', 'Public', '0', '0', 'primaire']\n",
      "['GBÃŠKÃŠ', 'BOUAKE', 'NIANGBAN', 'Un village', 'EPP NIANGBAN', 'Rural', '250', 'Public', '0', '1', 'primaire']\n",
      "['GBÃŠKÃŠ', 'BOUAKE', 'PLANGO', 'Un village', 'EPP PLANGO SEMOUKRO', 'Rural', '133', 'Public', '0', '1', 'primaire']\n",
      "['GBÃŠKÃŠ', 'BOUAKE', 'TOUNGBOKRO', 'Un village', 'EPP TOUNGBOKRO', 'Urbain', '205', 'Public', '0', '0', 'primaire']\n",
      "['GBÃŠKÃŠ', 'BOUAKE', \"N'DAKRO\", 'Un quartier (Ville)', 'EPP CHRISTIANE MOUROT B', 'Urbain', '39', 'Public', '0', '1', 'primaire']\n",
      "['GBÃŠKÃŠ', 'BOUAKE', 'AKANZANKRO', 'Un village', 'EPP AKANZAKRO 1A', 'Rural', '212', 'Public', '0', '1', 'primaire']\n",
      "['GBÃŠKÃŠ', 'BOUAKE', 'AKANZANKRO', 'Un village', 'EPP AKANZAKRO 1B', 'Rural', '199', 'Public', '0', '1', 'primaire']\n",
      "['GBÃŠKÃŠ', 'BOUAKE', 'ATTIEN KONANKRO', 'Un village', 'EPP ATTIEN KONANKRO', 'Rural', '146', 'Public', '0', '0', 'primaire']\n",
      "['GBÃŠKÃŠ', 'BOUAKE', \"N'ZUEKRO\", 'Un village', \"EPP BALLO N'GUESSAN\", 'Rural', '147', 'Public', '0', '0', 'primaire']\n",
      "['GBÃŠKÃŠ', 'BOUAKE', \"N'DAKRO\", 'Un quartier (Ville)', 'EPP CHRISTIANE MOUROT A', 'Urbain', '112', 'Public', '0', '1', 'primaire']\n",
      "['GBÃŠKÃŠ', 'BOUAKE', \"N'DAKRO\", 'Un quartier (Ville)', 'EPP CHRISTIANE MOUROT C', 'Urbain', '109', 'Public', '0', '1', 'primaire']\n",
      "['GBÃŠKÃŠ', 'BOUAKE', \"N'DAKRO\", 'Un quartier (Ville)', \"EPP N'DAKRO 1A\", 'Urbain', '294', 'Public', '1', '1', 'primaire']\n",
      "['GBÃŠKÃŠ', 'BOUAKE', \"N'DAKRO\", 'Un quartier (Ville)', \"EPP N'DAKRO 1B\", 'Urbain', '274', 'Public', '6', '1', 'primaire']\n",
      "['GBÃŠKÃŠ', 'BOUAKE', \"N'DAKRO\", 'Un quartier (Ville)', \"EPP N'DAKRO 1C\", 'Urbain', '243', 'Public', '6', '1', 'primaire']\n",
      "['GBÃŠKÃŠ', 'BOUAKE', \"N'DAKRO\", 'Un quartier (Ville)', \"EPP N'DAKRO 1D\", 'Urbain', '135', 'Public', '6', '1', 'primaire']\n",
      "['GBÃŠKÃŠ', 'BOUAKE', \"N'DAKRO\", 'Un quartier (Ville)', \"EPP N'DAKRO 2\", 'Urbain', '350', 'Public', '0', '1', 'primaire']\n",
      "['GBÃŠKÃŠ', 'BOUAKE', \"N'GATTAKRO\", 'Un quartier (Ville)', \"EPP N'GATTAKRO 1A\", 'Urbain', '230', 'Public', '2', '1', 'primaire']\n",
      "['GBÃŠKÃŠ', 'BOUAKE', \"N'GATTAKRO\", 'Un quartier (Ville)', \"EPP N'GATTAKRO 1B\", 'Urbain', '245', 'Public', '1', '1', 'primaire']\n",
      "['GBÃŠKÃŠ', 'BOUAKE', \"N'GATTAKRO\", 'Un quartier (Ville)', \"EPP N'GATTAKRO 1C\", 'Urbain', '186', 'Public', '2', '1', 'primaire']\n",
      "['GBÃŠKÃŠ', 'BOUAKE', \"N'GATTAKRO\", 'Un quartier (Ville)', \"EPP N'GATTAKRO 1D\", 'Urbain', '232', 'Public', '2', '1', 'primaire']\n",
      "['GBÃŠKÃŠ', 'BOUAKE', \"N'GATTAKRO\", 'Un quartier (Ville)', \"EPP N'GATTAKRO 2B\", 'Urbain', '226', 'Public', '2', '1', 'primaire']\n",
      "['GBÃŠKÃŠ', 'BOUAKE', \"N'GATTAKRO\", 'Un quartier (Ville)', \"EPP N'GATTAKRO 2C\", 'Urbain', '258', 'Public', '3', '1', 'primaire']\n",
      "['GBÃŠKÃŠ', 'BOUAKE', \"N'GATTAKRO\", 'Un quartier (Ville)', \"EPP N'GATTAKRO 2D\", 'Urbain', '197', 'Public', '1', '1', 'primaire']\n",
      "['GBÃŠKÃŠ', 'BOUAKE', \"N'GATTAKRO\", 'Un quartier (Ville)', \"EPP N'GATTAKRO 2E\", 'Urbain', '182', 'Public', '1', '1', 'primaire']\n",
      "['GBÃŠKÃŠ', 'BOUAKE', \"N'GATTAKRO\", 'Un quartier (Ville)', \"EPP N'GATTAKRO 3\", 'Urbain', '215', 'Public', '1', '1', 'primaire']\n",
      "['GBÃŠKÃŠ', 'BOUAKE', \"N'GATTAKRO\", 'Un quartier (Ville)', 'EPC SAINT-VIATEUR', 'Urbain', '312', 'PrivÃ©', '8', '1', 'primaire']\n",
      "['GBÃŠKÃŠ', 'BOUAKE', \"N'GATTAKRO\", 'Un quartier (Ville)', 'EPC SAINT-VIATEUR 2', 'Urbain', '307', 'PrivÃ©', '6', '1', 'primaire']\n",
      "['GBÃŠKÃŠ', 'BOUAKE', \"N'GATTAKRO\", 'Un quartier (Ville)', \"EPP N'GATTAKRO 2A\", 'Urbain', '315', 'Public', '1', '1', 'primaire']\n",
      "['GBÃŠKÃŠ', 'BOUAKE', 'BROUKRO VILLAGE', 'Un quartier (Ville)', 'EPP BROUKRO-VILLAGE B', 'Urbain', '194', 'Public', '0', '1', 'primaire']\n",
      "['GBÃŠKÃŠ', 'BOUAKE', 'TRAINOU', 'Un quartier (Ville)', 'EPP TRAINOU MUNICIPALITE', 'Urbain', '181', 'Public', '0', '1', 'primaire']\n",
      "['GBÃŠKÃŠ', 'BOUAKE', 'BANCO', 'Un quartier (Ville)', 'EPP BANCO', 'Urbain', '335', 'Public', '0', '1', 'primaire']\n",
      "['GBÃŠKÃŠ', 'BOUAKE', 'BROUKRO VILLAGE', 'Un quartier (Ville)', 'EPP BROUKRO-VILLAGE A', 'Urbain', '206', 'Public', '0', '0', 'primaire']\n",
      "['GBÃŠKÃŠ', 'BOUAKE', 'KONGODEKRO', 'Un village', 'EPP KONGODEKRO A', 'Rural', '248', 'Public', '1', '1', 'primaire']\n",
      "['GBÃŠKÃŠ', 'BOUAKE', 'KONGODEKRO', 'Un village', 'EPP KONGODEKRO B', 'Rural', '288', 'Public', '0', '1', 'primaire']\n",
      "['GBÃŠKÃŠ', 'BOUAKE', 'LOMIBO', 'Un village', 'EPP LOMIBO', 'Rural', '52', 'Public', '0', '0', 'primaire']\n",
      "['GBÃŠKÃŠ', 'BOUAKE', 'MAMIAN', 'Un village', 'EPP MAMIAN', 'Rural', '135', 'Public', '0', '0', 'primaire']\n",
      "['GBÃŠKÃŠ', 'BOUAKE', 'TRAINOU', 'Un quartier (Ville)', 'EPP TRAINOU A', 'Urbain', '225', 'Public', '1', '1', 'primaire']\n",
      "['GBÃŠKÃŠ', 'BOUAKE', 'COMMERCE', 'Un quartier (Ville)', 'EPP EECI', 'Urbain', '206', 'Public', '1', '1', 'primaire']\n",
      "['GBÃŠKÃŠ', 'BOUAKE', 'COMMERCE', 'Un quartier (Ville)', 'EPP VILLE NORD A', 'Urbain', '153', 'Public', '2', '1', 'primaire']\n",
      "['GBÃŠKÃŠ', 'BOUAKE', 'COMMERCE', 'Un quartier (Ville)', 'EPP VILLE NORD B', 'Urbain', '181', 'Public', '2', '1', 'primaire']\n",
      "['GBÃŠKÃŠ', 'BOUAKE', 'COMMERCE', 'Un quartier (Ville)', 'EPP VILLE NORD C', 'Urbain', '148', 'Public', '1', '1', 'primaire']\n",
      "['GBÃŠKÃŠ', 'BOUAKE', 'COMMERCE', 'Un quartier (Ville)', 'EPP VILLE NORD D', 'Urbain', '206', 'Public', '1', '1', 'primaire']\n",
      "['GBÃŠKÃŠ', 'BOUAKE', 'COMMERCE', 'Un quartier (Ville)', 'EPP VILLE-SUD A', 'Urbain', '166', 'Public', '1', '1', 'primaire']\n",
      "['GBÃŠKÃŠ', 'BOUAKE', 'COMMERCE', 'Un quartier (Ville)', 'EPP VILLE-SUD B', 'Urbain', '104', 'Public', '2', '1', 'primaire']\n",
      "['GBÃŠKÃŠ', 'BOUAKE', 'COMMERCE', 'Un quartier (Ville)', 'EPP VILLE-SUD C', 'Urbain', '148', 'Public', '2', '1', 'primaire']\n",
      "['GBÃŠKÃŠ', 'SAKASSOU', 'AKRETIA', 'Un village', 'EPP AKRETIA', 'Rural', '119', 'Public', '0', '0', 'primaire']\n",
      "['GBÃŠKÃŠ', 'SAKASSOU', 'ALLOKODJEKRO', 'Un village', 'EPP ALLOKODJEKRO', 'Rural', '344', 'Public', '0', '1', 'primaire']\n",
      "['GBÃŠKÃŠ', 'SAKASSOU', 'ANDOBO ALLUIBO', 'Un village', 'EPP ANDOBO ALLUIBO', 'Rural', '215', 'Public', '0', '1', 'primaire']\n",
      "['GBÃŠKÃŠ', 'SAKASSOU', 'ANDO-ZUME', 'Un village', 'EPP ANDO-ZUME1', 'Rural', '334', 'Public', '0', '1', 'primaire']\n",
      "['GBÃŠKÃŠ', 'SAKASSOU', 'ANDO-ZUME', 'Un village', 'EPP ANDO-ZUME2', 'Rural', '207', 'Public', '0', '1', 'primaire']\n",
      "['GBÃŠKÃŠ', 'SAKASSOU', 'ASSAFOU', 'Un village', \"EPP ASSAFOU-N'ZEGOUANOU\", 'Rural', '87', 'Public', '0', '0', 'primaire']\n",
      "['GBÃŠKÃŠ', 'SAKASSOU', 'ASSANDRE', 'Un village', 'EPP ASSANDRE1', 'Rural', '287', 'Public', '0', '1', 'primaire']\n",
      "['GBÃŠKÃŠ', 'SAKASSOU', 'ASSANDRE', 'Un village', 'EPP ASSANDRE2', 'Rural', '325', 'Public', '0', '1', 'primaire']\n",
      "['GBÃŠKÃŠ', 'SAKASSOU', 'ASSANDRE', 'Un village', 'EPP ASSANDRE4', 'Rural', '275', 'Public', '0', '1', 'primaire']\n",
      "['GBÃŠKÃŠ', 'SAKASSOU', 'ASSANDRE', 'Un village', \"EPP ASSANDRE CHATEAU D'EAU\", 'Rural', '208', 'Public', '0', '1', 'primaire']\n",
      "['GBÃŠKÃŠ', 'SAKASSOU', 'BLEKRO-NIANDA', 'Un village', 'EPP BLEKRO-NIANDA', 'Rural', '163', 'Public', '0', '1', 'primaire']\n",
      "['GBÃŠKÃŠ', 'SAKASSOU', 'KONANKRO-SAKASSOU', 'Un village', 'EPP KONANKRO-SAKASSOU', 'Rural', '262', 'Public', '0', '1', 'primaire']\n",
      "['GBÃŠKÃŠ', 'SAKASSOU', 'KPATO', 'Un village', 'EPP KPATO', 'Rural', '211', 'Public', '0', '0', 'primaire']\n",
      "['GBÃŠKÃŠ', 'SAKASSOU', 'KOUASSIKLOKRO', 'Un village', 'EPP KOUASSIKLOKRO', 'Rural', '66', 'Public', '0', '1', 'primaire']\n",
      "['GBÃŠKÃŠ', 'SAKASSOU', 'MANDEKE KPONKOUAKOUKRO', 'Un village', 'EPP MANDEKE KPONKOUAKOUKRO', 'Rural', '108', 'Public', '0', '0', 'primaire']\n",
      "['GBÃŠKÃŠ', 'SAKASSOU', 'TAYAMOUKRO', 'Un village', 'EPP TAYAMOUKRO', 'Rural', '71', 'Public', '0', '1', 'primaire']\n",
      "['GBÃŠKÃŠ', 'SAKASSOU', 'KOHOUNKRO', 'Un village', 'EC KOHOUNKRO', 'Rural', '46', 'Communautaire', '0', '0', 'primaire']\n",
      "['GBÃŠKÃŠ', 'SAKASSOU', 'KOUMELE ANGOSSE', 'Un village', 'EC KOUMELE ANGOSSE', 'Rural', '45', 'Communautaire', '0', '0', 'primaire']\n",
      "['GBÃŠKÃŠ', 'SAKASSOU', 'MANDEKE-KAHABO', 'Un village', 'EC MANDEKE-KAHABO', 'Rural', '37', 'Communautaire', '0', '0', 'primaire']\n",
      "['GBÃŠKÃŠ', 'SAKASSOU', 'NINKOUMANOU', 'Un village', 'EC NINKOUMANOU', 'Rural', '53', 'Communautaire', '0', '0', 'primaire']\n",
      "['GBÃŠKÃŠ', 'SAKASSOU', 'AKETE', 'Un village', 'EPP AKETE-SINGOLI', 'Rural', '168', 'Public', '0', '1', 'primaire']\n",
      "['GBÃŠKÃŠ', 'SAKASSOU', 'APPIAKRO', 'Un village', 'EPP APPIAKRO', 'Rural', '127', 'Public', '0', '0', 'primaire']\n",
      "['GBÃŠKÃŠ', 'SAKASSOU', 'ASRIKRO', 'Un village', 'EPP ASRIKRO1', 'Rural', '206', 'Public', '0', '1', 'primaire']\n",
      "['GBÃŠKÃŠ', 'SAKASSOU', 'ASRIKRO', 'Un village', 'EPP ASRIKRO2', 'Rural', '217', 'Public', '0', '1', 'primaire']\n",
      "['GBÃŠKÃŠ', 'SAKASSOU', 'FOTOKOUAMEKRO', 'Un village', 'EPP FOTOKOUAMEKRO1', 'Rural', '246', 'Public', '1', '1', 'primaire']\n",
      "['GBÃŠKÃŠ', 'SAKASSOU', 'FOTOKOUAMEKRO', 'Un village', 'EPP FOTOKOUAMEKRO2', 'Rural', '315', 'Public', '1', '1', 'primaire']\n",
      "['GBÃŠKÃŠ', 'SAKASSOU', 'GBANKOKORENOU', 'Un village', 'EPP GBANKOKORENOU', 'Rural', '25', 'Public', '0', '1', 'primaire']\n",
      "['GBÃŠKÃŠ', 'SAKASSOU', 'KANANGO-AHOBE', 'Un village', 'EPP KANANGO-AHOBE', 'Rural', '200', 'Public', '1', '1', 'primaire']\n",
      "['GBÃŠKÃŠ', 'SAKASSOU', 'KANANGO-PLI', 'Un village', 'EPP KANANGO-PLI', 'Rural', '349', 'Public', '1', '1', 'primaire']\n",
      "['GBÃŠKÃŠ', 'SAKASSOU', 'KANANGO-POKOUKRO', 'Un village', 'EPP KANANGO-POKOUKRO', 'Rural', '169', 'Public', '0', '1', 'primaire']\n",
      "['GBÃŠKÃŠ', 'SAKASSOU', 'MOLOUKRO', 'Un village', 'EPP MOLOUKRO', 'Rural', '349', 'Public', '2', '1', 'primaire']\n",
      "['GBÃŠKÃŠ', 'SAKASSOU', 'DIBRI-ASRIKRO', 'Un village', 'EPP NANGRE', 'Rural', '355', 'Public', '0', '1', 'primaire']\n",
      "['GBÃŠKÃŠ', 'SAKASSOU', \"N'GUESSAN POKOUKRO\", 'Un village', \"EPP N'GUESSAN POKOUKRO1\", 'Rural', '300', 'Public', '1', '1', 'primaire']\n",
      "['GBÃŠKÃŠ', 'SAKASSOU', \"N'GUESSAN POKOUKRO\", 'Un village', \"EPP N'GUESSAN POKOUKRO2\", 'Rural', '299', 'Public', '1', '1', 'primaire']\n",
      "['GBÃŠKÃŠ', 'SAKASSOU', 'SOLABONIBROUKRO', 'Un village', 'EPP SOLABONIBROUKRO', 'Rural', '310', 'Public', '0', '0', 'primaire']\n",
      "['GBÃŠKÃŠ', 'SAKASSOU', 'KPANIGOKRO', 'Un village', 'EC KPANIGOKRO', 'Rural', '25', 'Communautaire', '0', '0', 'primaire']\n",
      "['GBÃŠKÃŠ', 'SAKASSOU', 'SUIBONOU', 'Un village', 'EC SUIBONOU', 'Rural', '20', 'Communautaire', '0', '0', 'primaire']\n",
      "['GBÃŠKÃŠ', 'SAKASSOU', \"N'GBANDOBONOU\", 'Un village', \"EC N'GBANDOBONOU\", 'Rural', '46', 'Communautaire', '0', '0', 'primaire']\n",
      "['GBÃŠKÃŠ', 'SAKASSOU', 'AHOUE', 'Un village', 'EPP AHOUE', 'Rural', '233', 'Public', '0', '0', 'primaire']\n",
      "['GBÃŠKÃŠ', 'SAKASSOU', 'ANDOFOUEBONOU', 'Un village', 'EPP ANDOFOUEBONOU', 'Rural', '304', 'Public', '0', '1', 'primaire']\n",
      "['GBÃŠKÃŠ', 'SAKASSOU', 'ANOUGBLE ', 'Un quartier (Ville)', 'EPP ANOUGBLE 3 BAD', 'Urbain', '275', 'Public', '1', '1', 'primaire']\n",
      "['GBÃŠKÃŠ', 'SAKASSOU', 'ATTIAKRO', 'Un village', 'EPP ATTIAKRO', 'Rural', '278', 'Public', '0', '1', 'primaire']\n",
      "['GBÃŠKÃŠ', 'SAKASSOU', 'AGBANOU', 'Un quartier (Ville)', 'EPP LA ROCADE', 'Urbain', '248', 'Public', '0', '1', 'primaire']\n",
      "['GBÃŠKÃŠ', 'SAKASSOU', 'COMMERCE', 'Un quartier (Ville)', 'EPP SAKASSOU 1', 'Urbain', '301', 'Public', '0', '1', 'primaire']\n",
      "['GBÃŠKÃŠ', 'SAKASSOU', 'SAKASSOU 2', 'Un quartier (Ville)', 'EPP SAKASSOU 2', 'Urbain', '238', 'Public', '1', '1', 'primaire']\n",
      "['GBÃŠKÃŠ', 'SAKASSOU', 'SAKASSOU 3', 'Un quartier (Ville)', 'EPP SAKASSOU 3', 'Urbain', '286', 'Public', '1', '1', 'primaire']\n",
      "['GBÃŠKÃŠ', 'SAKASSOU', 'SAKASSOU 4', 'Un quartier (Ville)', 'EPP SAKASSOU 4', 'Urbain', '116', 'Public', '1', '1', 'primaire']\n",
      "['GBÃŠKÃŠ', 'SAKASSOU', 'SAKASSOU-EST', 'Un quartier (Ville)', 'EPP SAKASSOU-EST 1', 'Urbain', '210', 'Public', '0', '1', 'primaire']\n",
      "['GBÃŠKÃŠ', 'SAKASSOU', 'SAKASSOU-EST ', 'Un quartier (Ville)', 'EPP SAKASSOU-EST 2', 'Urbain', '203', 'Public', '1', '1', 'primaire']\n",
      "['GBÃŠKÃŠ', 'SAKASSOU', 'SANDO', 'Un village', 'EPP KONAN NOEL PEUHMOND DE SANDO', 'Rural', '300', 'Public', '0', '1', 'primaire']\n",
      "['GBÃŠKÃŠ', 'SAKASSOU', 'YABLASSOU', 'Un village', 'EPP YABLASSOU 1', 'Rural', '228', 'Public', '1', '1', 'primaire']\n",
      "['GBÃŠKÃŠ', 'SAKASSOU', 'YABLASSOU', 'Un village', 'EPP YABLASSOU 2', 'Rural', '105', 'Public', '0', '1', 'primaire']\n",
      "['GBÃŠKÃŠ', 'SAKASSOU', 'HABITAT-MISSION', 'Un quartier (Ville)', 'EPC 1 SAKASSOU', 'Urbain', '204', 'PrivÃ©', '1', '1', 'primaire']\n",
      "['GBÃŠKÃŠ', 'SAKASSOU', 'HABITAT-MISSION', 'Un quartier (Ville)', 'EPC 2 SAKASSOU', 'Urbain', '238', 'PrivÃ©', '0', '1', 'primaire']\n",
      "['GBÃŠKÃŠ', 'SAKASSOU', 'ADJOUGOUANSOU', 'Un village', 'EPP ADJOUGOUANSOU', 'Rural', '227', 'Public', '0', '0', 'primaire']\n",
      "['GBÃŠKÃŠ', 'SAKASSOU', 'ASSABOU-KOUASSIKRO', 'Un village', 'EPP ASSABOU-KOUASSIKRO', 'Rural', '190', 'Public', '1', '0', 'primaire']\n",
      "['GBÃŠKÃŠ', 'SAKASSOU', 'BONDOUKOU-PII', 'Un village', 'EPP BONDOUKOU-PII', 'Rural', '223', 'Public', '0', '0', 'primaire']\n",
      "['GBÃŠKÃŠ', 'SAKASSOU', 'AKETEDJABA/BROUKRO', 'Un village', 'EPP CARREFOUR', 'Rural', '93', 'Public', '0', '0', 'primaire']\n",
      "['GBÃŠKÃŠ', 'SAKASSOU', 'GOLIBLENOU', 'Un village', 'EPP GOLIBLENOU', 'Rural', '260', 'Public', '0', '1', 'primaire']\n",
      "['GBÃŠKÃŠ', 'SAKASSOU', 'KANGRE', 'Un village', 'EPP KANGRE', 'Rural', '238', 'Public', '0', '1', 'primaire']\n",
      "['GBÃŠKÃŠ', 'SAKASSOU', 'KOMOKONOUAN', 'Un village', 'EPP KOMOKONOUAN', 'Rural', '252', 'Public', '0', '0', 'primaire']\n",
      "['GBÃŠKÃŠ', 'SAKASSOU', 'KONAN MOUKRO', 'Un village', 'EPP KONAN MOUKRO', 'Rural', '218', 'Public', '0', '1', 'primaire']\n",
      "['GBÃŠKÃŠ', 'SAKASSOU', 'KOUEKRO-DJEHOU', 'Un village', 'EPP KOUEKRO-DJEHOU', 'Rural', '160', 'Public', '0', '0', 'primaire']\n",
      "['GBÃŠKÃŠ', 'SAKASSOU', \"N'GBEDIO-KOFFIKRO\", 'Un village', \"EPP N'GBEDIO-KOFFIKRO\", 'Rural', '320', 'Public', '0', '0', 'primaire']\n",
      "['GBÃŠKÃŠ', 'SAKASSOU', \"N'GBEDJO-KONGODJA\", 'Un village', \"EPP N'GBEDJO-KONGODJA\", 'Rural', '118', 'Public', '0', '0', 'primaire']\n",
      "['GBÃŠKÃŠ', 'SAKASSOU', 'ODIAE', 'Un village', 'EPP ODIAE 1', 'Rural', '280', 'Public', '0', '1', 'primaire']\n",
      "['GBÃŠKÃŠ', 'SAKASSOU', 'ODIAE', 'Un village', 'EPP ODIAE 2', 'Rural', '178', 'Public', '0', '1', 'primaire']\n",
      "['GBÃŠKÃŠ', 'SAKASSOU', 'QUARTIER RESIDENTIEL', 'Un quartier (Ville)', 'EPP QUARTIER RESIDENTIEL BAD', 'Urbain', '176', 'Public', '0', '0', 'primaire']\n",
      "['GBÃŠKÃŠ', 'SAKASSOU', 'KPATANOU', 'Un quartier (Ville)', 'EPP SAKASSOU-SUD 1', 'Urbain', '187', 'Public', '1', '1', 'primaire']\n",
      "['GBÃŠKÃŠ', 'SAKASSOU', 'KPATANOU', 'Un quartier (Ville)', 'EPP SAKASSOU-SUD 2', 'Urbain', '176', 'Public', '1', '1', 'primaire']\n",
      "['GBÃŠKÃŠ', 'SAKASSOU', 'SOKOBO', 'Un village', 'EPP SOKOBO', 'Rural', '302', 'Public', '1', '1', 'primaire']\n",
      "['GBÃŠKÃŠ', 'SAKASSOU', 'SOUAFOUE', 'Un village', 'EPP SAOUFOUE', 'Rural', '285', 'Public', '1', '0', 'primaire']\n",
      "['GBÃŠKÃŠ', 'SAKASSOU', 'DJACOHOU', 'Un village', 'EC DJACOHOU', 'Rural', '47', 'Communautaire', '0', '0', 'primaire']\n",
      "['GBÃŠKÃŠ', 'SAKASSOU', 'AYAOU-SOKPA', 'Un village', 'EPP AYAOU-SOKPA1', 'Rural', '372', 'Public', '0', '1', 'primaire']\n",
      "['GBÃŠKÃŠ', 'SAKASSOU', 'AYAOU-SOKPA', 'Un village', 'EPP AYAOU-SOKPA2', 'Rural', '282', 'Public', '0', '1', 'primaire']\n",
      "['GBÃŠKÃŠ', 'SAKASSOU', 'AYAOU-SOKPA', 'Un village', 'EPP AYAOU-SOKPA3', 'Rural', '250', 'Public', '0', '1', 'primaire']\n",
      "['GBÃŠKÃŠ', 'SAKASSOU', 'BONDOSSOU', 'Un village', 'EPP BONDOSSOU', 'Rural', '371', 'Public', '0', '1', 'primaire']\n",
      "['GBÃŠKÃŠ', 'SAKASSOU', 'KONGO', 'Un village', 'EPP KONGO', 'Rural', '331', 'Public', '0', '1', 'primaire']\n",
      "['GBÃŠKÃŠ', 'SAKASSOU', 'SRAN-BELAKRO', 'Un village', 'EPP SRAN-BELAKRO', 'Rural', '341', 'Public', '0', '1', 'primaire']\n",
      "['GBÃŠKÃŠ', 'SAKASSOU', 'SRAN-BELAKRO', 'Un village', 'EPP SRAN-BELAKRO2', 'Rural', '402', 'Public', '0', '1', 'primaire']\n",
      "['GBÃŠKÃŠ', 'SAKASSOU', 'TOUMODI-SAKASOU', 'Un quartier (Ville)', 'EPP TOUMODI-SAKASOU1', 'Urbain', '195', 'Public', '0', '1', 'primaire']\n",
      "['GBÃŠKÃŠ', 'SAKASSOU', 'TOUMODI-SAKASSOU', 'Un quartier (Ville)', 'EPP TOUMODI-SAKASSOU', 'Urbain', '258', 'Public', '0', '1', 'primaire']\n",
      "['GBÃŠKÃŠ', 'SAKASSOU', 'AYAOU-SRABANAN', 'Un village', 'EC AYAOU-SRABANAN', 'Rural', '68', 'Communautaire', '0', '0', 'primaire']\n",
      "['SAN PEDRO', 'SAN PEDRO', 'CITE', 'Un quartier (Ville)', 'EPP CITE SAN-PEDRO CITE 2', 'Urbain', '132', 'Public', '0', '1', 'primaire']\n",
      "['SAN PEDRO', 'SAN PEDRO', 'MOUSSADOUGOU', 'Un village', 'EPP MOUSSADOUGOU 2', 'Rural', '384', 'Public', '0', '0', 'primaire']\n",
      "['SAN PEDRO', 'SAN PEDRO', 'SEWEKE', 'Un quartier (Ville)', 'EPP SAN-PEDRO ANNEXE 1', 'Urbain', '316', 'Public', '0', '1', 'primaire']\n",
      "['SAN PEDRO', 'SAN PEDRO', 'CITE', 'Un quartier (Ville)', 'EPP  PORO 2', 'Urbain', '114', 'Public', '0', '1', 'primaire']\n",
      "['SAN PEDRO', 'SAN PEDRO', 'SEWEKE', 'Un quartier (Ville)', 'EPP SAN-PEDRO 5', 'Urbain', '310', 'Public', '1', '1', 'primaire']\n",
      "['SAN PEDRO', 'SAN PEDRO', 'KPOTE', 'Un village', 'EPP KPOTE', 'Rural', '86', 'Public', '0', '0', 'primaire']\n",
      "['SAN PEDRO', 'SAN PEDRO', 'KPOTE', 'Un village', 'EPP POTE', 'Rural', '214', 'Public', '0', '0', 'primaire']\n",
      "['SAN PEDRO', 'SAN PEDRO', \"N'GUESSANKO\", 'Un campement', \"EPP N'GUESSANKRO\", 'Rural', '81', 'Public', '0', '0', 'primaire']\n",
      "['SAN PEDRO', 'SAN PEDRO', 'LAPAIXKRO', 'Un village', 'EPP LA  PAIXKRO', 'Rural', '85', 'Public', '0', '0', 'primaire']\n",
      "['SAN PEDRO', 'SAN PEDRO', 'BOFLAPLA', 'Un village', 'EPP BOFLAPLA', 'Rural', '63', 'Public', '0', '0', 'primaire']\n",
      "['SAN PEDRO', 'SAN PEDRO', 'SEWEKE', 'Un quartier (Ville)', 'EPP SONOUKO 3', 'Urbain', '140', 'Public', '0', '1', 'primaire']\n",
      "['SAN PEDRO', 'SAN PEDRO', 'SEWEKE', 'Un quartier (Ville)', 'EPP SAN-PEDRO ANNEXE 2', 'Urbain', '351', 'Public', '1', '1', 'primaire']\n",
      "['SAN PEDRO', 'SAN PEDRO', 'SEWEKE 3', 'Un quartier (Ville)', 'EPP SAN-PEDRO 8', 'Urbain', '233', 'Public', '1', '1', 'primaire']\n",
      "['SAN PEDRO', 'SAN PEDRO', 'MOUSSADOUGOU', 'Un village', 'EPP MOUSSADOUGOU UNICEF', 'Rural', '298', 'Public', '0', '0', 'primaire']\n",
      "['SAN PEDRO', 'SAN PEDRO', 'CITE', 'Un quartier (Ville)', 'EPP SAN-PEDRO 1', 'Urbain', '301', 'Public', '1', '1', 'primaire']\n",
      "['SAN PEDRO', 'SAN PEDRO', 'MOUSSADOUGOU', 'Un village', 'EPP CAMO', 'Rural', '267', 'Public', '0', '0', 'primaire']\n",
      "['SAN PEDRO', 'SAN PEDRO', 'PETIT GABO', 'Un village', 'EPP PETIT GABO', 'Rural', '87', 'Public', '0', '0', 'primaire']\n",
      "['SAN PEDRO', 'SAN PEDRO', 'OUMAROU CISSEKRO', 'Un campement', 'EPP CISSEKRO', 'Rural', '201', 'Public', '0', '0', 'primaire']\n",
      "['SAN PEDRO', 'SAN PEDRO', 'AMIDOUKRO', 'Un village', 'EPP AMIDOUKRO', 'Rural', '126', 'Public', '0', '0', 'primaire']\n",
      "['SAN PEDRO', 'SAN PEDRO', 'GAI-CARREFOUR', 'Un village', 'EPP GAI-CARREFOUR', 'Rural', '277', 'Public', '0', '0', 'primaire']\n",
      "['SAN PEDRO', 'SAN PEDRO', 'TABOKE', 'Un village', 'EPP TABOKE', 'Rural', '230', 'Public', '0', '0', 'primaire']\n",
      "['SAN PEDRO', 'SAN PEDRO', 'BARDOT 18', 'Un quartier (Ville)', 'EPP SAN PEDRO MUNICIPAL 1', 'Urbain', '326', 'Public', '0', '1', 'primaire']\n",
      "['SAN PEDRO', 'SAN PEDRO', 'DJAHIO', 'Un village', 'EPP DJAHIO', 'Rural', '193', 'Public', '0', '0', 'primaire']\n",
      "['SAN PEDRO', 'SAN PEDRO', 'CATHEDRALE 2', 'Un quartier (Ville)', 'EPP CATHEDRALE 2', 'Urbain', '412', 'Public', '0', '0', 'primaire']\n",
      "['SAN PEDRO', 'SAN PEDRO', 'GOREKE', 'Un quartier (Ville)', 'EPP GOREKE', 'Urbain', '119', 'Public', '0', '0', 'primaire']\n",
      "['SAN PEDRO', 'SAN PEDRO', 'BARDOT 18', 'Un quartier (Ville)', 'EPP SAN PEDRO MUNICIPAL 2', 'Urbain', '308', 'Public', '0', '1', 'primaire']\n",
      "['SAN PEDRO', 'SAN PEDRO', 'CAMPEMENT COLONEL ', 'Un campement', 'EPP CAMPEMENT COLONEL', 'Rural', '207', 'Public', '0', '0', 'primaire']\n",
      "['SAN PEDRO', 'SAN PEDRO', 'DJIRO GNEPAHIO', 'Un village', 'EPP DJIRO GNEPAHIO', 'Rural', '356', 'Public', '0', '1', 'primaire']\n",
      "['SAN PEDRO', 'SAN PEDRO', 'SEWEKE ', 'Un quartier (Ville)', 'EPP SAN-PEDRO 4', 'Urbain', '290', 'Public', '1', '1', 'primaire']\n",
      "['SAN PEDRO', 'SAN PEDRO', 'SEWEKE ', 'Un quartier (Ville)', 'EPP SAN-PEDRO 3', 'Urbain', '273', 'Public', '1', '1', 'primaire']\n",
      "['SAN PEDRO', 'SAN PEDRO', 'SEWEKE 2', 'Un quartier (Ville)', 'EPP SAN PEDRO 6', 'Urbain', '223', 'Public', '0', '1', 'primaire']\n",
      "['SAN PEDRO', 'SAN PEDRO', 'CITE', 'Un quartier (Ville)', 'EPP PORO 1', 'Urbain', '253', 'Public', '0', '1', 'primaire']\n",
      "['SAN PEDRO', 'SAN PEDRO', 'PETIT- PEDRO', 'Un village', 'EPP  PETIT- PEDRO', 'Rural', '315', 'Public', '1', '0', 'primaire']\n",
      "['SAN PEDRO', 'SAN PEDRO', 'SEWEKE ', 'Un quartier (Ville)', 'EPP SAN PEDRO 7', 'Urbain', '209', 'Public', '1', '1', 'primaire']\n",
      "['SAN PEDRO', 'SAN PEDRO', 'PETIT ZENOULA ', 'Un campement', 'EPP PETIT ZENOULA', 'Rural', '175', 'Public', '0', '0', 'primaire']\n",
      "['SAN PEDRO', 'SAN PEDRO', 'CITE', 'Un quartier (Ville)', 'EPP SAN PEDRO CITE 1', 'Urbain', '206', 'Public', '0', '1', 'primaire']\n",
      "['SAN PEDRO', 'SAN PEDRO', 'LAC', 'Un quartier (Ville)', 'EPP LAC FRANCOPHONIE', 'Urbain', '180', 'Public', '0', '1', 'primaire']\n",
      "['SAN PEDRO', 'SAN PEDRO', 'JEAN BAPTISTEKRO', 'Un campement', 'EPP JEAN BAPTISTKRO', 'Rural', '85', 'Public', '0', '0', 'primaire']\n",
      "['SAN PEDRO', 'SAN PEDRO', 'CHATEAU', 'Un quartier (Ville)', 'EPP OLAM', 'Urbain', '326', 'Public', '0', '1', 'primaire']\n",
      "['SAN PEDRO', 'SAN PEDRO', 'LAC', 'Un quartier (Ville)', 'EPP SONOKO EXTENSION', 'Urbain', '240', 'Public', '1', '1', 'primaire']\n",
      "['SAN PEDRO', 'SAN PEDRO', 'WATTE', 'Un village', 'EPP WATTE UNICEF', 'Rural', '134', 'Public', '0', '0', 'primaire']\n",
      "['SAN PEDRO', 'SAN PEDRO', 'BABA', 'Un village', 'EPP BABA 1', 'Rural', '335', 'Public', '0', '1', 'primaire']\n",
      "['SAN PEDRO', 'SAN PEDRO', 'BARDOT 18', 'Un quartier (Ville)', 'EPP BARDOT SUD 1', 'Urbain', '378', 'Public', '0', '1', 'primaire']\n",
      "['SAN PEDRO', 'SAN PEDRO', ' BABA', 'Un village', 'EPP BABA 2', 'Rural', '422', 'Public', '0', '1', 'primaire']\n",
      "['SAN PEDRO', 'SAN PEDRO', 'BARDOT ', 'Un quartier (Ville)', 'EPP CANTINO', 'Urbain', '482', 'Public', '1', '1', 'primaire']\n",
      "['SAN PEDRO', 'SAN PEDRO', 'SOTREF', 'Un quartier (Ville)', 'EPP SOTREF 1', 'Urbain', '428', 'Public', '0', '1', 'primaire']\n",
      "['SAN PEDRO', 'SAN PEDRO', 'ZIMBABWE', 'Un quartier (Ville)', 'EPP ZIMBABWE 1', 'Urbain', '454', 'Public', '0', '1', 'primaire']\n",
      "['SAN PEDRO', 'SAN PEDRO', 'ZIMBABWE', 'Un quartier (Ville)', 'EPP MUNICIPALITE 3', 'Urbain', '532', 'Public', '0', '1', 'primaire']\n",
      "['SAN PEDRO', 'SAN PEDRO', 'VICTOR BALLET', 'Un quartier (Ville)', 'EPP VICTOR BALLET ANNEXE', 'Urbain', '322', 'Public', '0', '1', 'primaire']\n",
      "['SAN PEDRO', 'SAN PEDRO', 'BARDOT 16', 'Un quartier (Ville)', 'EPP ZIMBABWE 2', 'Urbain', '402', 'Public', '0', '1', 'primaire']\n",
      "['SAN PEDRO', 'SAN PEDRO', 'CITE AGRICOLE', 'Un village', 'EPP CITE AGRICOLE', 'Rural', '152', 'Public', '0', '0', 'primaire']\n",
      "['SAN PEDRO', 'SAN PEDRO', 'KOYEKRO', 'Un village', 'EPP KOYEKRO', 'Rural', '298', 'Public', '0', '0', 'primaire']\n",
      "['SAN PEDRO', 'SAN PEDRO', 'PONT-BRIME', 'Un village', 'EPP PONT-BRIME', 'Rural', '336', 'Public', '0', '0', 'primaire']\n",
      "['SAN PEDRO', 'SAN PEDRO', 'CAMPEMENT NEMLIN', 'Un campement', 'EPP CAMPEMENT NEMLIN', 'Rural', '170', 'Public', '0', '0', 'primaire']\n",
      "['SAN PEDRO', 'SAN PEDRO', 'BARDOT 18', 'Un quartier (Ville)', 'EPP BARDOT-CENTRE', 'Urbain', '344', 'Public', '0', '1', 'primaire']\n",
      "['SAN PEDRO', 'SAN PEDRO', 'FATOUAKRO', 'Un campement', 'EPP FATOUAKRO', 'Rural', '242', 'Public', '0', '0', 'primaire']\n",
      "['SAN PEDRO', 'SAN PEDRO', 'PODIO', 'Un village', 'EPP PODIO', 'Rural', '189', 'Public', '0', '0', 'primaire']\n",
      "['SAN PEDRO', 'SAN PEDRO', 'QUARTIER LAC', 'Un quartier (Ville)', 'EPP JEUNE CHAMBRE', 'Urbain', '308', 'Public', '0', '1', 'primaire']\n",
      "['SAN PEDRO', 'SAN PEDRO', 'LAC', 'Un quartier (Ville)', 'EPP SONOUKO JERUSALEM', 'Urbain', '233', 'Public', '0', '1', 'primaire']\n",
      "['SAN PEDRO', 'SAN PEDRO', 'DNADJI PASCAL', 'Un campement', 'EPP CAMPEMENT GNADJI PASCAL', 'Rural', '256', 'Public', '0', '0', 'primaire']\n",
      "['SAN PEDRO', 'SAN PEDRO', 'QUARTIER LAC', 'Un quartier (Ville)', 'EPP SICOGI', 'Urbain', '250', 'Public', '0', '1', 'primaire']\n",
      "['SAN PEDRO', 'SAN PEDRO', 'VILLAGE', 'Un campement', 'EPP CARREFOUR MONOGAGA', 'Rural', '297', 'Public', '0', '0', 'primaire']\n",
      "['SAN PEDRO', 'SAN PEDRO', 'CHARBONNIER', 'Un campement', 'EPP AFRICA NÂ°1', 'Rural', '116', 'Public', '0', '0', 'primaire']\n",
      "['SAN PEDRO', 'SAN PEDRO', 'MAMOUDOUKRO', 'Un village', 'EPP MAMOUDOUKRO', 'Rural', '115', 'Public', '0', '0', 'primaire']\n",
      "['SAN PEDRO', 'SAN PEDRO', 'BASSAWA', 'Un campement', 'EPP BASSAWA', 'Rural', '116', 'Public', '0', '0', 'primaire']\n",
      "['SAN PEDRO', 'SAN PEDRO', 'DIMOULE', 'Un village', 'EPP DIMOULE', 'Rural', '151', 'Public', '0', '0', 'primaire']\n",
      "['SAN PEDRO', 'SAN PEDRO', 'BARDOT 18', 'Un quartier (Ville)', 'EPP BARDOT SUD 2', 'Urbain', '407', 'Public', '0', '1', 'primaire']\n",
      "['SAN PEDRO', 'SAN PEDRO', 'WATTE', 'Un village', 'EPP WATTE SAN PEDRO', 'Rural', '306', 'Public', '0', '0', 'primaire']\n",
      "['SAN PEDRO', 'SAN PEDRO', 'BLEKRO-BATIAKE', 'Un campement', 'EPP KOUASSIBLEKRO', 'Rural', '104', 'Public', '0', '0', 'primaire']\n",
      "['SAN PEDRO', 'SAN PEDRO', 'BARDOT 18', 'Un quartier (Ville)', 'EPP SONOUKO 1', 'Urbain', '358', 'Public', '0', '1', 'primaire']\n",
      "['SAN PEDRO', 'SAN PEDRO', 'CANTONDOUGOU', 'Un village', 'EPP CANTONDOUGOU  PPU', 'Rural', '323', 'Public', '0', '0', 'primaire']\n",
      "['SAN PEDRO', 'SAN PEDRO', 'LAC', 'Un quartier (Ville)', 'EPP LAC 2', 'Urbain', '266', 'Public', '0', '1', 'primaire']\n",
      "['SAN PEDRO', 'SAN PEDRO', 'CANTONDOUGOU', 'Un village', 'EPP CANTONDOUGOU  ICI', 'Rural', '157', 'Public', '0', '0', 'primaire']\n",
      "['SAN PEDRO', 'SAN PEDRO', 'QUARTIER LAC', 'Un quartier (Ville)', 'EPP SAN PEDRO 2', 'Urbain', '289', 'Public', '1', '1', 'primaire']\n",
      "['SAN PEDRO', 'SAN PEDRO', 'QUARTIER LAC', 'Un quartier (Ville)', 'EPP LAC 1', 'Urbain', '289', 'Public', '0', '1', 'primaire']\n",
      "['SAN PEDRO', 'SAN PEDRO', 'VICTOR BALLET', 'Un quartier (Ville)', 'EPP DAFCI', 'Urbain', '243', 'Public', '0', '1', 'primaire']\n",
      "['SAN PEDRO', 'SAN PEDRO', 'VICTOR BALLET', 'Un quartier (Ville)', 'EPP VICTOR BALLET', 'Urbain', '348', 'Public', '0', '1', 'primaire']\n",
      "['SAN PEDRO', 'SAN PEDRO', 'NOEKRO', 'Un campement', 'EPP NOEKRO', 'Rural', '114', 'Public', '0', '0', 'primaire']\n",
      "['SAN PEDRO', 'SAN PEDRO', 'BARDOT 18', 'Un quartier (Ville)', 'EPP SAN PEDRO  LA PAIX', 'Urbain', '339', 'Public', '0', '1', 'primaire']\n",
      "['SAN PEDRO', 'SAN PEDRO', 'SOTREF', 'Un quartier (Ville)', 'EPP SOTREF 2', 'Urbain', '315', 'Public', '0', '1', 'primaire']\n",
      "['SAN PEDRO', 'SAN PEDRO', 'BARDOT 16', 'Un quartier (Ville)', 'EPP COLAS', 'Urbain', '457', 'Public', '0', '0', 'primaire']\n",
      "['SAN PEDRO', 'SAN PEDRO', 'KREMOUE', 'Un village', 'EPP KREMOUE', 'Rural', '347', 'Public', '0', '0', 'primaire']\n",
      "['SAN PEDRO', 'SAN PEDRO', 'BABA', 'Un village', 'EPP BABA 3', 'Rural', '138', 'Public', '0', '1', 'primaire']\n",
      "['SAN PEDRO', 'SAN PEDRO', 'BARDOT 18', 'Un quartier (Ville)', 'EPP BARDOT-OUEST', 'Urbain', '400', 'Public', '1', '1', 'primaire']\n",
      "['SAN PEDRO', 'SAN PEDRO', 'SOLEIL', 'Un quartier (Ville)', 'EPP BARDOT TERRE ROUGE', 'Urbain', '343', 'Public', '0', '0', 'primaire']\n",
      "['SAN PEDRO', 'SAN PEDRO', 'BARDOT ', 'Un quartier (Ville)', 'EPP BARDOT-NORD', 'Urbain', '379', 'Public', '1', '1', 'primaire']\n",
      "['SAN PEDRO', 'SAN PEDRO', 'YOUKOUDOUGOU', 'Un village', 'EPP YOUKOUDOUGOU', 'Urbain', '292', 'Public', '0', '0', 'primaire']\n",
      "['SAN PEDRO', 'SAN PEDRO', 'MONOGAGA CARREFOUR', 'Un village', 'EPP MONOGAGA  SAVE THE CHILDREN', 'Rural', '199', 'Public', '0', '0', 'primaire']\n",
      "['SAN PEDRO', 'SAN PEDRO', 'LAC', 'Un quartier (Ville)', 'EPP LAC BAD', 'Urbain', '253', 'Public', '2', '1', 'primaire']\n",
      "['SAN PEDRO', 'SAN PEDRO', 'DEDJAKO', 'Un quartier (Ville)', 'EPP DEDJAKO', 'Urbain', '228', 'Public', '0', '1', 'primaire']\n",
      "['SAN PEDRO', 'SAN PEDRO', 'MARIKRO', 'Un village', 'EPP DOMINGO', 'Rural', '153', 'Public', '0', '0', 'primaire']\n",
      "['SAN PEDRO', 'SAN PEDRO', 'CHATEAU', 'Un quartier (Ville)', 'EPP TERE KLA', 'Urbain', '243', 'Public', '0', '0', 'primaire']\n",
      "['SAN PEDRO', 'SAN PEDRO', 'BARDOT 16', 'Un quartier (Ville)', 'EPP BAD BARDOT 1', 'Urbain', '454', 'Public', '1', '1', 'primaire']\n",
      "['SAN PEDRO', 'SAN PEDRO', 'PORO-VILLAGE', 'Un village', 'EPP PORO VILLAGE', 'Rural', '292', 'Public', '0', '0', 'primaire']\n",
      "['SAN PEDRO', 'SAN PEDRO', 'FENESKEDOUGOU', 'Un campement', 'EPP VENISE', 'Rural', '246', 'Public', '0', '0', 'primaire']\n",
      "['SAN PEDRO', 'SAN PEDRO', 'BARDOT ', 'Un quartier (Ville)', 'EPP BAD BARDOT 3', 'Urbain', '249', 'Public', '0', '0', 'primaire']\n",
      "['SAN PEDRO', 'SAN PEDRO', 'BARDOT', 'Un quartier (Ville)', \"EPP LION'S CLUB\", 'Urbain', '332', 'Public', '0', '1', 'primaire']\n",
      "['SAN PEDRO', 'SAN PEDRO', 'MARIKRO', 'Un village', 'EPP TAKI 2', 'Rural', '283', 'Public', '0', '0', 'primaire']\n",
      "['SAN PEDRO', 'SAN PEDRO', 'DIGBOUE', 'Un village', 'EPP DIGBOUE 1', 'Rural', '272', 'Public', '0', '0', 'primaire']\n",
      "['SAN PEDRO', 'SAN PEDRO', 'DIGBOUE ', 'Un village', 'EPP DIGBOUE 2', 'Rural', '185', 'Public', '0', '0', 'primaire']\n",
      "['SAN PEDRO', 'SAN PEDRO', 'MAGNE', 'Un village', 'EPP MAGNE', 'Rural', '88', 'Public', '0', '0', 'primaire']\n",
      "['SAN PEDRO', 'SAN PEDRO', 'TAKI 1', 'Un village', 'EPP TAKI 1', 'Rural', '35', 'Public', '0', '0', 'primaire']\n",
      "['SAN PEDRO', 'SAN PEDRO', 'POPOKO', 'Un village', 'EPP POPOKO', 'Rural', '414', 'Public', '0', '0', 'primaire']\n",
      "['SAN PEDRO', 'SAN PEDRO', 'KABLAKE', 'Un village', 'EPP KABLAKE', 'Rural', '239', 'Public', '0', '0', 'primaire']\n",
      "['SAN PEDRO', 'SAN PEDRO', 'LOMOUROUKRO', 'Un campement', 'EPP LOMOUROUKRO', 'Rural', '67', 'Public', '0', '0', 'primaire']\n",
      "['SAN PEDRO', 'SAN PEDRO', 'BARDOT 18', 'Un quartier (Ville)', 'EPP BAD BARDOT 2', 'Urbain', '324', 'Public', '0', '1', 'primaire']\n",
      "['SAN PEDRO', 'SAN PEDRO', 'BARDOT 18', 'Un quartier (Ville)', 'EPP SONOUKO 2', 'Urbain', '454', 'Public', '1', '1', 'primaire']\n",
      "['SAN PEDRO', 'SAN PEDRO', 'SEWEKE 4', 'Un quartier (Ville)', 'EPC PROTESTANTE EVANGELIQUE UEESO', 'Urbain', '190', 'PrivÃ©', '1', '1', 'primaire']\n",
      "['SAN PEDRO', 'SAN PEDRO', 'ZONE COMMERCE', 'Un quartier (Ville)', 'EPC EVANGELIQUE', 'Urbain', '77', 'PrivÃ©', '1', '1', 'primaire']\n",
      "['SAN PEDRO', 'SAN PEDRO', 'ZIMBABWE', 'Un quartier (Ville)', 'EPC PROTESTANTE METHODISTE ZIMBABWE', 'Urbain', '323', 'PrivÃ©', '1', '0', 'primaire']\n",
      "['SAN PEDRO', 'SAN PEDRO', 'J.B', 'Un quartier (Ville)', 'EPC SAINT  PIERRE', 'Urbain', '201', 'PrivÃ©', '0', '1', 'primaire']\n",
      "['SAN PEDRO', 'SAN PEDRO', 'DOULAYEKRO', 'Un village', 'EPC METHODISTE MONOGAGA/VICTORY', 'Rural', '156', 'PrivÃ©', '0', '0', 'primaire']\n",
      "['SAN PEDRO', 'SAN PEDRO', 'QUARTIER SOLEIL', 'Un quartier (Ville)', 'EPC NOUR ISLAM DOUMBOUYA', 'Urbain', '898', 'PrivÃ©', '0', '0', 'primaire']\n",
      "['SAN PEDRO', 'SAN PEDRO', 'WATTE', 'Un village', 'EPC LA CONSOLATA DE WATTE', 'Rural', '305', 'PrivÃ©', '0', '0', 'primaire']\n",
      "['SAN PEDRO', 'SAN PEDRO', 'SEWEKE ', 'Un quartier (Ville)', 'EPC ASSEMBLEE DE DIEU 1', 'Urbain', '340', 'PrivÃ©', '0', '1', 'primaire']\n",
      "['SAN PEDRO', 'SAN PEDRO', 'CITE PORO', 'Un quartier (Ville)', 'EPC PROTESTANTE METHODISTE  CITE', 'Urbain', '327', 'PrivÃ©', '3', '1', 'primaire']\n",
      "['SAN PEDRO', 'SAN PEDRO', 'SEWEKE ', 'Un quartier (Ville)', 'EPC NOTRE DAME DE FATIMA', 'Urbain', '335', 'PrivÃ©', '6', '1', 'primaire']\n",
      "['SAN PEDRO', 'SAN PEDRO', 'COLAS', 'Un quartier (Ville)', 'EPC ASSEMBLEE DE DIEU 2', 'Urbain', '525', 'PrivÃ©', '1', '1', 'primaire']\n",
      "['SAN PEDRO', 'SAN PEDRO', 'SAN PEDRO', 'Un quartier (Ville)', 'EPC VICTOIRE CMA', 'Urbain', '439', 'PrivÃ©', '1', '1', 'primaire']\n",
      "['SAN PEDRO', 'SAN PEDRO', 'BARDOT 18', 'Un quartier (Ville)', 'EPC DAR EL HADIS ISLAMIYA', 'Urbain', '718', 'PrivÃ©', '1', '1', 'primaire']\n",
      "['SAN PEDRO', 'SAN PEDRO', 'BARDOT 14', 'Un quartier (Ville)', 'EPV GOSSO NEMLIN FELIX', 'Urbain', '356', 'PrivÃ©', '0', '1', 'primaire']\n",
      "['SAN PEDRO', 'SAN PEDRO', 'DIGBOUE', 'Un quartier (Ville)', 'EPV MADI EXCELLENCE', 'Urbain', '63', 'PrivÃ©', '1', '1', 'primaire']\n",
      "['SAN PEDRO', 'SAN PEDRO', 'QUATIER LAC', 'Un quartier (Ville)', 'EPC NOTRE DAME DE LA PAIX', 'Urbain', '488', 'PrivÃ©', '1', '1', 'primaire']\n",
      "['SAN PEDRO', 'SAN PEDRO', 'NITORO', 'Un quartier (Ville)', 'EPV ALGHADIR', 'Urbain', '72', 'PrivÃ©', '2', '1', 'primaire']\n",
      "['SAN PEDRO', 'SAN PEDRO', 'CITE 6', 'Un quartier (Ville)', 'EPV LA RUCHE', 'Urbain', '258', 'PrivÃ©', '2', '1', 'primaire']\n",
      "['SAN PEDRO', 'SAN PEDRO', 'ESCAF', 'Un quartier (Ville)', 'EPV LA PIONNIERE', 'Urbain', '333', 'PrivÃ©', '1', '0', 'primaire']\n",
      "['SAN PEDRO', 'SAN PEDRO', 'BARDOT 16', 'Un quartier (Ville)', 'EPV GROUPE SCOLAIRE LA FAYETTE', 'Urbain', '625', 'PrivÃ©', '1', '1', 'primaire']\n",
      "['SAN PEDRO', 'SAN PEDRO', 'CATHEDRALE 2', 'Un quartier (Ville)', 'EPV DIVINE GRACE', 'Urbain', '612', 'PrivÃ©', '0', '0', 'primaire']\n",
      "['SAN PEDRO', 'SAN PEDRO', 'SOLEIL', 'Un quartier (Ville)', 'EPV LE BONHEUR', 'Urbain', '417', 'PrivÃ©', '0', '1', 'primaire']\n",
      "['SAN PEDRO', 'SAN PEDRO', 'LAC/RTI', 'Un quartier (Ville)', 'EPV GROUPE SCOLAIRE CLAIRE ANGE', 'Urbain', '468', 'PrivÃ©', '3', '1', 'primaire']\n",
      "['SAN PEDRO', 'SAN PEDRO', 'IAC SONOUKO', 'Un quartier (Ville)', 'EPV JERUEL', 'Urbain', '57', 'PrivÃ©', '0', '0', 'primaire']\n",
      "['SAN PEDRO', 'SAN PEDRO', 'LAC', 'Un quartier (Ville)', 'EPV TON KOFFI', 'Urbain', '596', 'PrivÃ©', '1', '1', 'primaire']\n",
      "['SAN PEDRO', 'SAN PEDRO', 'MOUSSADOUGOU', 'Un village', 'EPV SAINT JEAN MOUSSADOUGOU', 'Rural', '631', 'PrivÃ©', '0', '1', 'primaire']\n",
      "['SAN PEDRO', 'SAN PEDRO', 'SOTREF', 'Un quartier (Ville)', 'EPV BEL  AIR  EDUCATION', 'Urbain', '397', 'PrivÃ©', '0', '1', 'primaire']\n",
      "['SAN PEDRO', 'SAN PEDRO', 'BARDOT ', 'Un quartier (Ville)', 'EPV PILOTE', 'Urbain', '204', 'PrivÃ©', '1', '1', 'primaire']\n",
      "['SAN PEDRO', 'SAN PEDRO', 'JULES FERRY', 'Un quartier (Ville)', 'EPV GROUPE SCOLAIRE JULES FERRY', 'Urbain', '22', 'PrivÃ©', '1', '0', 'primaire']\n",
      "['SAN PEDRO', 'SAN PEDRO', 'BARDOT', 'Un quartier (Ville)', 'EPV LA GALILEE', 'Urbain', '669', 'PrivÃ©', '1', '1', 'primaire']\n",
      "['SAN PEDRO', 'SAN PEDRO', 'THANRY', 'Un quartier (Ville)', 'EPV PENIEL', 'Urbain', '324', 'PrivÃ©', '0', '1', 'primaire']\n",
      "['SAN PEDRO', 'SAN PEDRO', 'CITE', 'Un quartier (Ville)', 'EPV LES LUTINS', 'Urbain', '195', 'PrivÃ©', '2', '1', 'primaire']\n",
      "['SAN PEDRO', 'SAN PEDRO', 'BARDOT 17', 'Un quartier (Ville)', 'EPV LES LUTINS 2', 'Urbain', '415', 'PrivÃ©', '0', '1', 'primaire']\n",
      "['SAN PEDRO', 'SAN PEDRO', 'CAMARABOUGOU', 'Un campement', 'EC CAMARABOUGOU', 'Rural', '91', 'Communautaire', '0', '0', 'primaire']\n",
      "['SAN PEDRO', 'SAN PEDRO', 'SINIMOAGAKRO', 'Un campement', 'EC SINIMOAGAKRO', 'Rural', '116', 'Communautaire', '0', '0', 'primaire']\n",
      "['SAN PEDRO', 'TABOU', 'BLIDOUBA V2', 'Un village', 'EPP BLIDOUBA V2 B', 'Rural', '271', 'Public', '0', '1', 'primaire']\n",
      "['SAN PEDRO', 'TABOU', 'DEHOULINKE', 'Un village', 'EPP DEHOULINKE', 'Rural', '147', 'Public', '0', '0', 'primaire']\n",
      "['SAN PEDRO', 'TABOU', 'DEWAKE', 'Un village', 'EPP DEWAKE-VILLAGE', 'Rural', '160', 'Public', '0', '0', 'primaire']\n",
      "['SAN PEDRO', 'TABOU', 'BLIDOUBA', 'Un village', 'EPP BLIDOUBA VILLAGE', 'Rural', '170', 'Public', '0', '0', 'primaire']\n",
      "['SAN PEDRO', 'TABOU', 'MANE', 'Un campement', 'EPP MANE', 'Rural', '249', 'Public', '0', '0', 'primaire']\n",
      "['SAN PEDRO', 'TABOU', 'IBOKE V2', 'Un village', 'EPP IBOKE V2 C', 'Rural', '154', 'Public', '1', '1', 'primaire']\n",
      "['SAN PEDRO', 'TABOU', 'IBOKE V3', 'Un village', 'EPP IBOKE V3', 'Rural', '278', 'Public', '0', '1', 'primaire']\n",
      "['SAN PEDRO', 'TABOU', 'IDIOKE', 'Un village', 'EPP IDIOKE', 'Rural', '94', 'Public', '0', '0', 'primaire']\n",
      "['SAN PEDRO', 'TABOU', 'IROUTOU', 'Un village', 'EPP IROUTOU', 'Rural', '97', 'Public', '0', '0', 'primaire']\n",
      "['SAN PEDRO', 'TABOU', 'TEPO-IBOKE', 'Un village', 'EPP TEPO-IBOKE', 'Rural', '211', 'Public', '0', '0', 'primaire']\n",
      "['SAN PEDRO', 'TABOU', 'PROLLO', 'Un village', 'EPP PROLLO', 'Rural', '245', 'Public', '0', '1', 'primaire']\n",
      "['SAN PEDRO', 'TABOU', 'KABLAKE', 'Un village', 'EPP SEOUEKE', 'Urbain', '387', 'Public', '0', '1', 'primaire']\n",
      "['SAN PEDRO', 'TABOU', 'SOUBLAKE', 'Un village', 'EPP SOUBLAKE', 'Rural', '285', 'Public', '0', '0', 'primaire']\n",
      "['SAN PEDRO', 'TABOU', 'OLODIO', 'Un village', 'EPP OLODIO 2', 'Rural', '357', 'Public', '0', '0', 'primaire']\n",
      "['SAN PEDRO', 'TABOU', 'OMBLOKE', 'Un village', 'EPP OMBLOKE', 'Rural', '161', 'Public', '0', '1', 'primaire']\n",
      "['SAN PEDRO', 'TABOU', 'SEH', 'Un village', 'EPP SEH', 'Rural', '114', 'Public', '0', '0', 'primaire']\n",
      "['SAN PEDRO', 'TABOU', 'SOUKE', 'Un village', 'EPP SOUKE', 'Rural', '58', 'Public', '0', '0', 'primaire']\n",
      "['SAN PEDRO', 'TABOU', 'PORT-BOUET', 'Un village', 'EPP TABOU 4 HCR', 'Urbain', '309', 'Public', '1', '1', 'primaire']\n",
      "['SAN PEDRO', 'TABOU', 'KABLAKE', 'Un quartier (Ville)', 'EPP TABOU 2', 'Urbain', '401', 'Public', '0', '1', 'primaire']\n",
      "['SAN PEDRO', 'TABOU', 'TOLOU  VILLAGE', 'Un village', 'EPP TOLOU', 'Rural', '44', 'Public', '0', '0', 'primaire']\n",
      "['SAN PEDRO', 'TABOU', 'DJAMANDJOKE', 'Un village', 'EPP YEOULI', 'Rural', '135', 'Public', '0', '0', 'primaire']\n",
      "['SAN PEDRO', 'TABOU', 'YOCOBO', 'Un village', 'EPP YOCOBO 2', 'Urbain', '256', 'Public', '0', '1', 'primaire']\n",
      "['SAN PEDRO', 'TABOU', 'TABOU 3', 'Un quartier (Ville)', 'EPP TABOU 3', 'Urbain', '429', 'Public', '0', '1', 'primaire']\n",
      "['SAN PEDRO', 'TABOU', 'TABOU 3', 'Un quartier (Ville)', 'EPP TABOU 3 HRC', 'Urbain', '290', 'Public', '0', '1', 'primaire']\n",
      "['SAN PEDRO', 'TABOU', 'BOUBELE', 'Un village', 'EPP BOUBELE', 'Rural', '253', 'Public', '0', '1', 'primaire']\n",
      "['SAN PEDRO', 'TABOU', 'DAHIE', 'Un village', 'EPP DAHIE', 'Rural', '350', 'Public', '0', '0', 'primaire']\n",
      "['SAN PEDRO', 'TABOU', 'GLIKE V3', 'Un village', 'EPP GLIKE V3', 'Rural', '261', 'Public', '0', '1', 'primaire']\n",
      "['SAN PEDRO', 'TABOU', 'MENEKE', 'Un village', 'EPP MENEKE', 'Rural', '405', 'Public', '0', '1', 'primaire']\n",
      "['SAN PEDRO', 'TABOU', 'OUEGUIRE', 'Un village', 'EPP OUEGUIRE', 'Rural', '364', 'Public', '1', '0', 'primaire']\n",
      "['SAN PEDRO', 'TABOU', 'SEKREKE', 'Un village', 'EPP SEKREKE', 'Rural', '352', 'Public', '0', '1', 'primaire']\n",
      "['SAN PEDRO', 'TABOU', 'TABOU', 'Un quartier (Ville)', 'EPP TABOU 1', 'Urbain', '340', 'Public', '0', '1', 'primaire']\n",
      "['SAN PEDRO', 'TABOU', 'PORT-BOUET', 'Un quartier (Ville)', 'EPP TABOU 4 B', 'Urbain', '325', 'Public', '2', '1', 'primaire']\n",
      "['SAN PEDRO', 'TABOU', 'YOCOBO ', 'Un quartier (Ville)', 'EPP YOCOBO 1', 'Urbain', '274', 'Public', '0', '1', 'primaire']\n",
      "['SAN PEDRO', 'TABOU', 'BLIDOUBA V2', 'Un village', 'EPP BLIDOUBA V2 A', 'Rural', '302', 'Public', '0', '1', 'primaire']\n",
      "['SAN PEDRO', 'TABOU', 'KABLAKE', 'Un quartier (Ville)', \"EPP CHATEAU D'EAU\", 'Urbain', '332', 'Public', '2', '1', 'primaire']\n",
      "['SAN PEDRO', 'TABOU', 'DJAMADIOKE', 'Un village', 'EPP DJAMADIOKE', 'Rural', '288', 'Public', '0', '1', 'primaire']\n",
      "['SAN PEDRO', 'TABOU', 'NERO CITE', 'Un village', 'EPP NERO 1', 'Rural', '302', 'Public', '1', '1', 'primaire']\n",
      "['SAN PEDRO', 'TABOU', 'NERO V 1', 'Un village', 'EPP NERO 2', 'Rural', '294', 'Public', '0', '0', 'primaire']\n",
      "['SAN PEDRO', 'TABOU', 'PATA-IDIE', 'Un village', 'EPP PATA-IDIE', 'Rural', '128', 'Public', '0', '1', 'primaire']\n",
      "['SAN PEDRO', 'TABOU', 'DAPO-IBOKE', 'Un village', 'EPP DAPO-IBOKE 1', 'Rural', '257', 'Public', '1', '0', 'primaire']\n",
      "['SAN PEDRO', 'TABOU', 'DAPO-IBOKE', 'Un village', 'EPP DAPO-IBOKE 2', 'Rural', '275', 'Public', '1', '0', 'primaire']\n",
      "['SAN PEDRO', 'TABOU', 'DAYOKE', 'Un village', 'EPP DAYOKE', 'Rural', '133', 'Public', '0', '0', 'primaire']\n",
      "['SAN PEDRO', 'TABOU', 'DEWAKE', 'Un village', 'EPP DEWAKE', 'Rural', '242', 'Public', '1', '0', 'primaire']\n",
      "['SAN PEDRO', 'TABOU', 'RANOUEKE', 'Un village', 'EPP GEORGES-TOWN', 'Rural', '356', 'Public', '0', '0', 'primaire']\n",
      "['SAN PEDRO', 'TABOU', 'HYRRE', 'Un village', 'EPP HYRRE', 'Rural', '150', 'Public', '0', '0', 'primaire']\n",
      "['SAN PEDRO', 'TABOU', 'IBOKE V2', 'Un village', 'EPP IBOKE V2 A', 'Rural', '358', 'Public', '2', '1', 'primaire']\n",
      "['SAN PEDRO', 'TABOU', 'IBOKE V2', 'Un village', 'EPP IBOKE V2 B', 'Rural', '315', 'Public', '2', '1', 'primaire']\n",
      "['SAN PEDRO', 'TABOU', 'KLODIO', 'Un campement', 'EPP KLODIO', 'Rural', '117', 'Public', '0', '0', 'primaire']\n",
      "['SAN PEDRO', 'TABOU', 'OLODIO', 'Un village', 'EPP OLODIO 1', 'Rural', '316', 'Public', '0', '0', 'primaire']\n",
      "['SAN PEDRO', 'TABOU', 'NIPLOU ', 'Un village', 'EPP NIPLOU', 'Rural', '220', 'Public', '0', '0', 'primaire']\n",
      "['SAN PEDRO', 'TABOU', 'GBAROKE', 'Un village', 'EPP GBAROKE', 'Rural', '88', 'Public', '0', '0', 'primaire']\n",
      "['SAN PEDRO', 'TABOU', 'PORT-BOUET', 'Un quartier (Ville)', 'EPP TABOU 4 A', 'Urbain', '346', 'Public', '2', '1', 'primaire']\n",
      "['SAN PEDRO', 'TABOU', 'GNENAHOLEKE', 'Un village', 'EPP GNENAHOLEKE', 'Rural', '142', 'Public', '0', '0', 'primaire']\n",
      "['SAN PEDRO', 'TABOU', 'BOKE', 'Un village', 'EPP BOKE', 'Rural', '221', 'Public', '0', '1', 'primaire']\n",
      "['SAN PEDRO', 'TABOU', 'BLIERON', 'Un village', 'EPP BLIERON', 'Rural', '93', 'Public', '0', '0', 'primaire']\n",
      "['SAN PEDRO', 'TABOU', 'NERO -VILLAGE', 'Un village', 'EPP NERO-VILLAGE', 'Rural', '165', 'Public', '0', '0', 'primaire']\n",
      "['SAN PEDRO', 'TABOU', 'DJOBLY', 'Un village', 'EPP DJOBLY', 'Rural', '72', 'Public', '0', '0', 'primaire']\n",
      "['SAN PEDRO', 'TABOU', 'OUEDEBO', 'Un village', 'EPP OUEDEBO', 'Rural', '55', 'Public', '0', '0', 'primaire']\n",
      "['SAN PEDRO', 'TABOU', 'PODOUE', 'Un village', 'EPP PODOUE', 'Rural', '185', 'Public', '1', '0', 'primaire']\n",
      "['SAN PEDRO', 'TABOU', 'COMMERCE', 'Un quartier (Ville)', 'EPC TABOU', 'Urbain', '214', 'PrivÃ©', '1', '1', 'primaire']\n",
      "['SAN PEDRO', 'TABOU', 'MENEKE', 'Un village', 'EC MA DESTINEE', 'Rural', '162', 'PrivÃ©', '0', '1', 'primaire']\n",
      "['SAN PEDRO', 'TABOU', 'PORT-BOUET', 'Un quartier (Ville)', 'EC LES DAUPHINS', 'Urbain', '88', 'PrivÃ©', '1', '1', 'primaire']\n",
      "['SAN PEDRO', 'TABOU', 'DEGNE', 'Un village', 'EC KAPET ELISABETH', 'Rural', '45', 'Communautaire', '0', '0', 'primaire']\n",
      "['SAN PEDRO', 'TABOU', 'OUEGUIRE', 'Un village', 'EC PAROLE DE VIE', 'Rural', '12', 'Communautaire', '0', '0', 'primaire']\n",
      "['SAN PEDRO', 'TABOU', 'MAHINO', 'Un village', \"EC CENTRE D'EDUCATION (IBOMOKE)\", 'Rural', '149', 'Communautaire', '0', '0', 'primaire']\n",
      "['GBÃŠKÃŠ', 'BEOUMI', 'AHOKOKRO', 'Un village', 'EPP AHOKOKRO', 'Rural', '286', 'Public', '0', '0', 'primaire']\n",
      "['GBÃŠKÃŠ', 'BEOUMI', 'ALLOKO-SAKASSOU', 'Un village', \"EPP YAO KOUAKOU EDOUARD D'ALLOKO-SAKASSOU\", 'Rural', '233', 'Public', '0', '1', 'primaire']\n",
      "['GBÃŠKÃŠ', 'BEOUMI', 'AHOUNZE', 'Un village', 'EPP AHOUNZE 1', 'Rural', '275', 'Public', '0', '1', 'primaire']\n",
      "['GBÃŠKÃŠ', 'BEOUMI', ' ASSEKRO', 'Un village', 'EPP ASSEKRO', 'Rural', '205', 'Public', '0', '0', 'primaire']\n",
      "['GBÃŠKÃŠ', 'BEOUMI', 'KOLIKRO-AHOUGNANOU', 'Un village', 'EPP KOLIKRO-AHOUGNANOU', 'Rural', '216', 'Public', '0', '0', 'primaire']\n",
      "['GBÃŠKÃŠ', 'BEOUMI', 'AHOUNZE', 'Un village', 'EPP AHOUNZE 2', 'Rural', '112', 'Public', '0', '1', 'primaire']\n",
      "['GBÃŠKÃŠ', 'BEOUMI', 'KUINDJANDA', 'Un village', 'EPP KUINDJANDA', 'Rural', '265', 'Public', '0', '0', 'primaire']\n",
      "['GBÃŠKÃŠ', 'BEOUMI', 'AHOUNZE KOUADIOKRO', 'Un village', 'EPP AHOUNZE KOUADIOKRO', 'Rural', '120', 'Public', '0', '0', 'primaire']\n",
      "['GBÃŠKÃŠ', 'BEOUMI', 'LOLOBO', 'Un village', 'EPP AGBANOU', 'Rural', '197', 'Public', '0', '0', 'primaire']\n",
      "['GBÃŠKÃŠ', 'BEOUMI', 'APPANI MANGOUAKRO', 'Un village', 'EPP APPANI-MANGOUAKRO', 'Rural', '11', 'Public', '0', '0', 'primaire']\n",
      "['GBÃŠKÃŠ', 'BEOUMI', 'DIERIBANOUAN', 'Un village', 'EPP DIERIBANOUAN', 'Rural', '144', 'Public', '0', '0', 'primaire']\n",
      "['GBÃŠKÃŠ', 'BEOUMI', 'ANGOUA-KOUAMEKRO', 'Un village', 'EPP ANGOUA-KOUAMEKRO', 'Rural', '127', 'Public', '0', '0', 'primaire']\n",
      "['GBÃŠKÃŠ', 'BEOUMI', 'ALLEKRO', 'Un village', 'EPP ALLEKRO 1', 'Rural', '282', 'Public', '0', '1', 'primaire']\n",
      "['GBÃŠKÃŠ', 'BEOUMI', 'DODOKRO ANCIEN', 'Un quartier (Ville)', 'EPP ANDOH KOFFI BERTIN 2', 'Urbain', '183', 'Public', '0', '1', 'primaire']\n",
      "['GBÃŠKÃŠ', 'BEOUMI', 'ZANGOKRO', 'Un village', 'EPP NANAN ZANGO', 'Rural', '189', 'Public', '0', '0', 'primaire']\n",
      "['GBÃŠKÃŠ', 'BEOUMI', 'DIBINOU', 'Un village', 'EPP DIBINOU', 'Rural', '96', 'Public', '0', '0', 'primaire']\n",
      "['GBÃŠKÃŠ', 'BEOUMI', 'KOUAKOU BAKAKRO', 'Un village', 'EPP AKOUNDA', 'Rural', '223', 'Public', '0', '0', 'primaire']\n",
      "['GBÃŠKÃŠ', 'BEOUMI', 'BODOKRO', 'Un quartier (Ville)', 'EPP ANDOH KOFFI BERTIN 1', 'Urbain', '246', 'Public', '0', '1', 'primaire']\n",
      "['GBÃŠKÃŠ', 'BEOUMI', 'AGBANOU DJOUKOUKRO', 'Un village', 'EPP AGBANOU DJOUKOUKRO', 'Rural', '106', 'Public', '0', '0', 'primaire']\n",
      "['GBÃŠKÃŠ', 'BEOUMI', 'KOKOTIKRO', 'Un village', 'EPP KONAN-KOKOTIKRO', 'Rural', '78', 'Public', '0', '0', 'primaire']\n",
      "['GBÃŠKÃŠ', 'BEOUMI', 'GUIENZOUKRO', 'Un village', 'EPP GUIENZOUKRO', 'Rural', '231', 'Public', '0', '1', 'primaire']\n",
      "['GBÃŠKÃŠ', 'BEOUMI', 'BODOKRO NOUVEAU', 'Un quartier (Ville)', 'EPP BODOKRO-PLATEAU', 'Urbain', '365', 'Public', '0', '1', 'primaire']\n",
      "['GBÃŠKÃŠ', 'BEOUMI', 'DIBIEKRO', 'Un village', 'EPP DIBIEKRO', 'Rural', '27', 'Public', '0', '0', 'primaire']\n",
      "['GBÃŠKÃŠ', 'BEOUMI', 'AKOUMIAKRO', 'Un village', 'EPP AKOUMIAKRO', 'Rural', '253', 'Public', '0', '0', 'primaire']\n",
      "['GBÃŠKÃŠ', 'BEOUMI', 'LOLOBO', 'Un village', 'EPP LOLOBO', 'Urbain', '277', 'Public', '0', '1', 'primaire']\n",
      "['GBÃŠKÃŠ', 'BEOUMI', 'KOUADIOFINKRO', 'Un village', 'EPP KOUADIOFINKRO', 'Rural', '35', 'Public', '0', '0', 'primaire']\n",
      "['GBÃŠKÃŠ', 'BEOUMI', 'AGBA KOUASSIKRO', 'Un village', 'EPP AGBA KOUASSIKRO', 'Rural', '35', 'Public', '0', '0', 'primaire']\n",
      "['GBÃŠKÃŠ', 'BEOUMI', 'GOLYKPANGBASSOU', 'Un village', 'EPP BENDEKRO', 'Rural', '110', 'Public', '0', '1', 'primaire']\n",
      "['GBÃŠKÃŠ', 'BEOUMI', 'GOLYKPANGBASSOU', 'Un village', 'EPP GOLYKPANGBASSOU', 'Rural', '292', 'Public', '0', '1', 'primaire']\n",
      "['GBÃŠKÃŠ', 'BEOUMI', 'ALLEKRO', 'Un village', 'EPP ALLEKRO 2', 'Rural', '54', 'Public', '0', '1', 'primaire']\n",
      "['GBÃŠKÃŠ', 'BEOUMI', 'PLI8AKAKRO', 'Un village', 'EPP PLI-AKAKRO', 'Rural', '216', 'Public', '0', '0', 'primaire']\n",
      "['GBÃŠKÃŠ', 'BEOUMI', 'KONGOSSOUNDRIKOFFIKRO', 'Un village', 'EPP KONGOSSOUNDRIKOFFIRO', 'Rural', '157', 'Public', '0', '0', 'primaire']\n",
      "['GBÃŠKÃŠ', 'BEOUMI', 'PETENOU', 'Un village', 'EPP PETENOU', 'Rural', '235', 'Public', '0', '0', 'primaire']\n",
      "['GBÃŠKÃŠ', 'BEOUMI', 'TOUDJAN 1', 'Un village', 'EPP TOUDJAN', 'Rural', '82', 'Public', '0', '0', 'primaire']\n",
      "['GBÃŠKÃŠ', 'BEOUMI', 'KISSIKRO', 'Un village', 'EPP KISSIKRO', 'Rural', '43', 'Public', '0', '0', 'primaire']\n",
      "['GBÃŠKÃŠ', 'BEOUMI', 'KONGOSSOU-KOUADIOKRO', 'Un village', 'EPP KONGOSSOU-KOUADIOKRO', 'Rural', '154', 'Public', '0', '0', 'primaire']\n",
      "['GBÃŠKÃŠ', 'BEOUMI', 'KONGOTI', 'Un village', 'EPP PLIBO 2', 'Rural', '158', 'Public', '0', '0', 'primaire']\n",
      "['GBÃŠKÃŠ', 'BEOUMI', 'MINAMBO', 'Un village', 'EPP MINAMBO', 'Rural', '162', 'Public', '0', '0', 'primaire']\n",
      "['GBÃŠKÃŠ', 'BEOUMI', 'TANOH-KOUASSIKRO', 'Un village', 'EPP TANOH-KOUASSIKRO', 'Rural', '137', 'Public', '0', '0', 'primaire']\n",
      "['GBÃŠKÃŠ', 'BEOUMI', 'OUANGALI', 'Un village', 'EC OUANGALI', 'Rural', '64', 'Communautaire', '0', '0', 'primaire']\n",
      "['GBÃŠKÃŠ', 'BEOUMI', 'KONGO KOUADIOKRO', 'Un village', 'EC KONGO KOUADIOKRO', 'Rural', '42', 'Communautaire', '0', '0', 'primaire']\n",
      "['GBÃŠKÃŠ', 'BEOUMI', 'MARABADJASSA', 'Un village', 'EPP MARABADIASSA 2', 'Rural', '229', 'Public', '1', '1', 'primaire']\n",
      "['GBÃŠKÃŠ', 'BEOUMI', 'BLEMPLO', 'Un village', 'EPP BLEMPLO', 'Rural', '91', 'Public', '0', '0', 'primaire']\n",
      "['GBÃŠKÃŠ', 'BEOUMI', 'ADOHOUSSOU', 'Un village', 'EPP ADOHOUSSOU', 'Rural', '181', 'Public', '0', '1', 'primaire']\n",
      "['GBÃŠKÃŠ', 'BEOUMI', 'BOUAKAMAN', 'Un village', 'EPP BOUAKAMAN', 'Rural', '156', 'Public', '0', '0', 'primaire']\n",
      "['GBÃŠKÃŠ', 'BEOUMI', 'PLIBO', 'Un village', 'EPP PLIBO 1', 'Rural', '317', 'Public', '0', '0', 'primaire']\n",
      "['GBÃŠKÃŠ', 'BEOUMI', 'TOUDJAN 2', 'Un village', 'EPP TOUDJAN DJIMINISSO', 'Rural', '130', 'Public', '0', '0', 'primaire']\n",
      "['GBÃŠKÃŠ', 'BEOUMI', 'MARABADJASSA', 'Un village', 'EPP MARABADIASSA 1', 'Rural', '281', 'Public', '0', '1', 'primaire']\n",
      "['GBÃŠKÃŠ', 'BEOUMI', 'GOLY-MAHIA', 'Un village', 'EPP GOLY-MAHIA', 'Rural', '248', 'Public', '0', '0', 'primaire']\n",
      "['GBÃŠKÃŠ', 'BEOUMI', 'MYAN', 'Un village', 'EPP MYANGOKRO', 'Rural', '252', 'Public', '0', '1', 'primaire']\n",
      "['GBÃŠKÃŠ', 'BOUAKE', 'SINANVESSOU', 'Un village', 'EPP SINANVESSOU 1', 'Rural', '289', 'Public', '0', '1', 'primaire']\n",
      "['GBÃŠKÃŠ', 'BOUAKE', 'SINANVESSOU', 'Un village', 'EPP SINANVESSOU 2', 'Rural', '175', 'Public', '0', '1', 'primaire']\n",
      "['GBÃŠKÃŠ', 'BOUAKE', 'SOMELASSOU', 'Un village', 'EPP SOMELASSOU', 'Rural', '149', 'Public', '0', '0', 'primaire']\n",
      "['GBÃŠKÃŠ', 'BOUAKE', 'AIR-FRANCE ', 'Un quartier (Ville)', 'EPP TSF 1', 'Urbain', '306', 'Public', '1', '1', 'primaire']\n",
      "['GBÃŠKÃŠ', 'BOUAKE', 'AIR-FRANCE 1', 'Un quartier (Ville)', 'EPP TSF 2', 'Urbain', '353', 'Public', '2', '1', 'primaire']\n",
      "['GBÃŠKÃŠ', 'BOUAKE', 'AIR-FRANCE 3', 'Un quartier (Ville)', 'EPP TSF 3A', 'Urbain', '396', 'Public', '1', '1', 'primaire']\n",
      "['GBÃŠKÃŠ', 'BOUAKE', 'AIR-FRANCE ', 'Un quartier (Ville)', 'EPP TSF 3B', 'Urbain', '355', 'Public', '1', '1', 'primaire']\n",
      "['GBÃŠKÃŠ', 'BOUAKE', 'AIR-FRANCE 2', 'Un quartier (Ville)', 'EPP TSF 3C', 'Urbain', '306', 'Public', '2', '1', 'primaire']\n",
      "['GBÃŠKÃŠ', 'BOUAKE', 'AIR-FRANCE 2', 'Un quartier (Ville)', 'EPP TSF 4A', 'Urbain', '281', 'Public', '0', '1', 'primaire']\n",
      "['GBÃŠKÃŠ', 'BOUAKE', 'AIR-FRANCE 3', 'Un quartier (Ville)', 'EPP TSF 4B', 'Urbain', '360', 'Public', '1', '1', 'primaire']\n",
      "['GBÃŠKÃŠ', 'BOUAKE', 'AIR-FRANCE 3', 'Un quartier (Ville)', 'EPP TSF 4C', 'Urbain', '330', 'Public', '1', '1', 'primaire']\n",
      "['GBÃŠKÃŠ', 'BOUAKE', 'AIR-FRANCE 3', 'Un quartier (Ville)', 'EPP TSF SUD 1', 'Urbain', '384', 'Public', '0', '1', 'primaire']\n",
      "['GBÃŠKÃŠ', 'BOUAKE', 'AIR-FRANCE 2', 'Un quartier (Ville)', 'EPP TSF SUD 2', 'Urbain', '417', 'Public', '2', '1', 'primaire']\n",
      "['GBÃŠKÃŠ', 'BOUAKE', 'YAO AMOINKRO', 'Un village', 'EPP YAO AMOINKRO', 'Rural', '149', 'Public', '0', '0', 'primaire']\n",
      "['GBÃŠKÃŠ', 'BOUAKE', 'YAPIKRO', 'Un village', 'EPP YAPIKRO', 'Rural', '266', 'Public', '0', '1', 'primaire']\n",
      "['GBÃŠKÃŠ', 'BOUAKE', 'YAPOKOUAKOUKRO', 'Un village', 'EPP YAPOKOUAKOUKRO', 'Rural', '179', 'Public', '0', '1', 'primaire']\n",
      "['GBÃŠKÃŠ', 'BOUAKE', 'YEGUEBO', 'Un village', 'EPP YEGUEBO', 'Rural', '131', 'Public', '0', '1', 'primaire']\n",
      "['GBÃŠKÃŠ', 'BOUAKE', 'ZOUGBAN', 'Un village', 'EPP ZOUGBAN', 'Rural', '119', 'Public', '0', '1', 'primaire']\n",
      "['GBÃŠKÃŠ', 'BOUAKE', 'AIR-FRANCE 3', 'Un quartier (Ville)', 'EPV ANGELBERT', 'Urbain', '142', 'PrivÃ©', '1', '1', 'primaire']\n",
      "['GBÃŠKÃŠ', 'BOUAKE', 'BELLEVILLE 2', 'Un quartier (Ville)', 'EPV ARCHANGE', 'Urbain', '402', 'PrivÃ©', '1', '1', 'primaire']\n",
      "['GBÃŠKÃŠ', 'BOUAKE', 'AIR-FRANCE 2', 'Un quartier (Ville)', 'EPV ERE NOUVELLE', 'Urbain', '332', 'PrivÃ©', '3', '1', 'primaire']\n",
      "['GBÃŠKÃŠ', 'BOUAKE', 'AIR-FRANCE 1', 'Un quartier (Ville)', 'EPV JEAN PAUL SARTRE', 'Urbain', '167', 'PrivÃ©', '1', '1', 'primaire']\n",
      "['GBÃŠKÃŠ', 'BOUAKE', 'KENNEDY', 'Un quartier (Ville)', 'EPV LA MAISON DE BAMBI', 'Urbain', '130', 'PrivÃ©', '1', '1', 'primaire']\n",
      "['GBÃŠKÃŠ', 'BOUAKE', 'NIMBO', 'Un quartier (Ville)', 'EPV LA NOUVELLE EDUCATIVE DE NIMBO', 'Urbain', '122', 'PrivÃ©', '1', '1', 'primaire']\n",
      "['GBÃŠKÃŠ', 'BOUAKE', 'NIMBO', 'Un quartier (Ville)', 'EPV LA SOURCE', 'Urbain', '260', 'PrivÃ©', '1', '1', 'primaire']\n",
      "['GBÃŠKÃŠ', 'BOUAKE', 'AIR-FRANCE 3', 'Un quartier (Ville)', 'EPV LE FLAMBOYANT', 'Urbain', '76', 'PrivÃ©', '1', '1', 'primaire']\n",
      "['GBÃŠKÃŠ', 'BOUAKE', 'AIR-FRANCE 3', 'Un quartier (Ville)', 'EPV LE JOURDAIN', 'Urbain', '93', 'PrivÃ©', '2', '1', 'primaire']\n",
      "['GBÃŠKÃŠ', 'BOUAKE', 'NIMBO', 'Un quartier (Ville)', 'EPV LE NID DE NIMBO', 'Urbain', '181', 'PrivÃ©', '1', '1', 'primaire']\n",
      "['GBÃŠKÃŠ', 'BOUAKE', 'AIR-FRANCE 1', 'Un quartier (Ville)', 'EPV LES ASSEMBLEES DE DIEU', 'Urbain', '155', 'PrivÃ©', '1', '1', 'primaire']\n",
      "['GBÃŠKÃŠ', 'BOUAKE', 'AIR-FRANCE', 'Un quartier (Ville)', 'EPV LES HEURES CLAIRES', 'Urbain', '104', 'PrivÃ©', '2', '1', 'primaire']\n",
      "['GBÃŠKÃŠ', 'BOUAKE', 'AIR-FRANCE 1', 'Un quartier (Ville)', 'EPV LES MYRIADES', 'Urbain', '22', 'PrivÃ©', '1', '1', 'primaire']\n",
      "['GBÃŠKÃŠ', 'BOUAKE', 'BELLEVILLE 2', 'Un quartier (Ville)', 'EPV LES MYRIADES', 'Urbain', '321', 'PrivÃ©', '1', '1', 'primaire']\n",
      "['GBÃŠKÃŠ', 'BOUAKE', 'AIR-FRANCE 1', 'Un quartier (Ville)', 'EPV LES PAPILLONS', 'Urbain', '25', 'PrivÃ©', '1', '1', 'primaire']\n",
      "['GBÃŠKÃŠ', 'BOUAKE', 'BELLEVILLE 2', 'Un quartier (Ville)', 'EPV MOHAMED 5', 'Urbain', '57', 'PrivÃ©', '1', '1', 'primaire']\n",
      "['GBÃŠKÃŠ', 'BOUAKE', 'FÃŠTÃŠKRO', 'Un quartier (Ville)', 'EPV MUDES', 'Urbain', '156', 'PrivÃ©', '1', '1', 'primaire']\n",
      "['GBÃŠKÃŠ', 'BOUAKE', 'AIR-FRANCE 3', 'Un quartier (Ville)', 'EPV NACEL ELITES', 'Urbain', '118', 'PrivÃ©', '1', '1', 'primaire']\n",
      "['GBÃŠKÃŠ', 'BOUAKE', 'AIR-FRANCE', 'Un quartier (Ville)', 'EPV RESIE', 'Urbain', '197', 'PrivÃ©', '1', '1', 'primaire']\n",
      "['GBÃŠKÃŠ', 'BOUAKE', 'BELLEVILLE 2', 'Un quartier (Ville)', 'EPV SAINTE ANNE AMOIN', 'Urbain', '185', 'PrivÃ©', '1', '1', 'primaire']\n",
      "['SAN PEDRO', 'SAN PEDRO', 'ADAMADOUGOU ', 'Un village', 'EPP ADAMADOUGOU 1', 'Rural', '95', 'Public', '0', '0', 'primaire']\n",
      "['SAN PEDRO', 'SAN PEDRO', 'ADAMADOUGOU ', 'Un village', 'EPP ADAMADOUGOU 2', 'Rural', '99', 'Public', '0', '0', 'primaire']\n",
      "['SAN PEDRO', 'SAN PEDRO', 'DJAPADJI', 'Un village', 'EPP DJAPAGUI 3', 'Rural', '302', 'Public', '0', '0', 'primaire']\n",
      "['SAN PEDRO', 'SAN PEDRO', 'DOHOLIN', 'Un campement', 'EPP DOHOLIN', 'Rural', '141', 'Public', '0', '0', 'primaire']\n",
      "['SAN PEDRO', 'SAN PEDRO', 'IPODEH', 'Un village', 'EPP IPODEH', 'Rural', '124', 'Public', '0', '0', 'primaire']\n",
      "['SAN PEDRO', 'SAN PEDRO', 'KANGAKRO', 'Un campement', 'EPP KANGAKRO 1', 'Urbain', '74', 'Public', '0', '0', 'primaire']\n",
      "['SAN PEDRO', 'SAN PEDRO', 'GAGNY', 'Un village', 'EPP INIDIA 2', 'Rural', '260', 'Public', '0', '1', 'primaire']\n",
      "['SAN PEDRO', 'SAN PEDRO', 'KAMIADJI', 'Un village', 'EPP KAMIADJI', 'Rural', '193', 'Public', '0', '0', 'primaire']\n",
      "['SAN PEDRO', 'SAN PEDRO', 'BRAZZAVILLE', 'Un village', 'EPP BRAZZAVILLE', 'Rural', '346', 'Public', '0', '1', 'primaire']\n",
      "['SAN PEDRO', 'SAN PEDRO', 'ASSEMIANKRO', 'Un campement', 'EPP ASSEMIANKRO', 'Rural', '133', 'Public', '0', '0', 'primaire']\n",
      "['SAN PEDRO', 'SAN PEDRO', 'SCAF', 'Un village', 'EPP SCAF', 'Rural', '395', 'Public', '0', '0', 'primaire']\n",
      "['SAN PEDRO', 'SAN PEDRO', 'NABOVILLE', 'Un village', 'EPP NABOVILLE', 'Rural', '274', 'Public', '0', '1', 'primaire']\n",
      "['SAN PEDRO', 'SAN PEDRO', \"N'DRIKRO 2\", 'Un village', \"EPP N'DRIKRO 2\", 'Rural', '109', 'Public', '0', '0', 'primaire']\n",
      "['SAN PEDRO', 'SAN PEDRO', 'TOUREDOUGOU', 'Un village', 'EPP TOUREDOUGOU', 'Rural', '353', 'Public', '0', '0', 'primaire']\n",
      "['SAN PEDRO', 'SAN PEDRO', 'SAINTE MARIE', 'Un village', 'EPP SAINTE-MARIE', 'Rural', '404', 'Public', '0', '0', 'primaire']\n",
      "['SAN PEDRO', 'SAN PEDRO', 'SAPH VILLAGE 4', 'Un village', 'EPP SAPH 2B', 'Rural', '145', 'Public', '0', '1', 'primaire']\n",
      "['SAN PEDRO', 'SAN PEDRO', 'SAPH RAPIDE GRAH', 'Un village', 'EPP SAPH 4', 'Rural', '236', 'Public', '2', '1', 'primaire']\n",
      "['SAN PEDRO', 'SAN PEDRO', 'GNITY', 'Un village', 'EPP TAKORANIDI', 'Rural', '264', 'Public', '0', '1', 'primaire']\n",
      "['SAN PEDRO', 'SAN PEDRO', 'TOUIH', 'Un village', 'EPP TOUIH 4', 'Rural', '307', 'Public', '0', '0', 'primaire']\n",
      "['SAN PEDRO', 'SAN PEDRO', 'LOUKOUKOFFIKRO', 'Un campement', 'EPP LOUKOUKOFFIKRO', 'Rural', '177', 'Public', '0', '0', 'primaire']\n",
      "['SAN PEDRO', 'SAN PEDRO', 'GBAPOTOU', 'Un village', 'EPP GBAPOUTOU', 'Rural', '227', 'Public', '0', '0', 'primaire']\n",
      "['SAN PEDRO', 'SAN PEDRO', 'SCASO', 'Un village', 'EPP HEVEGO', 'Rural', '382', 'Public', '0', '1', 'primaire']\n",
      "['SAN PEDRO', 'SAN PEDRO', 'FAHE', 'Un village', 'EPP FAHE', 'Rural', '371', 'Public', '1', '1', 'primaire']\n",
      "['SAN PEDRO', 'SAN PEDRO', 'GNITY', 'Un village', 'EPP TAKORANIDI 1', 'Rural', '354', 'Public', '0', '1', 'primaire']\n",
      "['SAN PEDRO', 'SAN PEDRO', 'SOUMAHORODOUGOU', 'Un village', 'EPP SOUMAHORODOUGOU', 'Rural', '171', 'Public', '0', '0', 'primaire']\n",
      "['SAN PEDRO', 'SAN PEDRO', 'SAPH CENTRE USINE', 'Un village', 'EPP SAPH-3', 'Rural', '331', 'Public', '2', '1', 'primaire']\n",
      "['SAN PEDRO', 'SAN PEDRO', 'GNITY-CAILLOUX', 'Un village', 'EPP GNITY-CAILLOUX', 'Rural', '412', 'Public', '0', '0', 'primaire']\n",
      "['SAN PEDRO', 'SAN PEDRO', 'MENEGBE', 'Un village', 'EPP MENEGBE', 'Rural', '428', 'Public', '0', '1', 'primaire']\n",
      "['SAN PEDRO', 'SAN PEDRO', 'GABIADJI', 'Un campement', 'EPP GABIODJI 4', 'Rural', '333', 'Public', '0', '1', 'primaire']\n",
      "['SAN PEDRO', 'SAN PEDRO', 'GABIADJI', 'Un quartier (Ville)', 'EPP GABIODJI 5', 'Rural', '182', 'Public', '0', '0', 'primaire']\n",
      "['SAN PEDRO', 'SAN PEDRO', 'NONOUA', 'Un village', 'EPP NONOUA 1', 'Rural', '423', 'Public', '1', '1', 'primaire']\n",
      "['SAN PEDRO', 'SAN PEDRO', 'NONOUA', 'Un village', 'EPP NONOUA 2', 'Rural', '281', 'Public', '1', '1', 'primaire']\n",
      "['SAN PEDRO', 'SAN PEDRO', 'AKADJI', 'Un campement', 'EPP AKADJI', 'Rural', '151', 'Public', '0', '0', 'primaire']\n",
      "['SAN PEDRO', 'SAN PEDRO', 'MARIE CHANTIER', 'Un village', 'EPP MARIE CHANTIER 1', 'Rural', '208', 'Public', '0', '0', 'primaire']\n",
      "['SAN PEDRO', 'SAN PEDRO', 'MARIE CHANTIER', 'Un village', 'EPP MARIE CHANTIER 2', 'Rural', '257', 'Public', '0', '0', 'primaire']\n",
      "['SAN PEDRO', 'SAN PEDRO', 'PAPEKRO', 'Un village', 'EPP PAPEKRO', 'Rural', '94', 'Public', '0', '0', 'primaire']\n",
      "['SAN PEDRO', 'SAN PEDRO', 'SOGEFIA', 'Un village', 'EPP SOGEFIA', 'Rural', '242', 'Public', '0', '0', 'primaire']\n",
      "['SAN PEDRO', 'SAN PEDRO', 'SAPH RGH', 'Un village', 'EPP SAPH 2', 'Rural', '245', 'Public', '0', '1', 'primaire']\n",
      "['SAN PEDRO', 'SAN PEDRO', 'GAGNY', 'Un village', 'EPP INIDIA 1', 'Rural', '483', 'Public', '0', '0', 'primaire']\n",
      "['SAN PEDRO', 'SAN PEDRO', 'GABIADJI', 'Un quartier (Ville)', 'EPP GABIODJI 1', 'Rural', '489', 'Public', '0', '1', 'primaire']\n",
      "['SAN PEDRO', 'SAN PEDRO', 'GABIADJI', 'Un quartier (Ville)', 'EPP GABIODJI 2', 'Rural', '312', 'Public', '0', '1', 'primaire']\n",
      "['SAN PEDRO', 'SAN PEDRO', 'KASSOUMKRO', 'Un campement', 'EPP KASSOUMKRO', 'Rural', '285', 'Public', '0', '0', 'primaire']\n",
      "['SAN PEDRO', 'SAN PEDRO', 'FOFANADOUGOU', 'Un village', 'EPP FOFANADOUGOU', 'Rural', '160', 'Public', '0', '0', 'primaire']\n",
      "['SAN PEDRO', 'SAN PEDRO', 'BOIGNYKRO', 'Un village', 'EPP BOIGNYKRO 1', 'Rural', '280', 'Public', '0', '0', 'primaire']\n",
      "['SAN PEDRO', 'SAN PEDRO', 'BOIGNYKRO', 'Un village', 'EPP BOIGNYKRO 2', 'Rural', '267', 'Public', '0', '0', 'primaire']\n",
      "['SAN PEDRO', 'SAN PEDRO', 'DO-SAKASSOU', 'Un village', 'EPP DO-SAKASSOU 1', 'Rural', '257', 'Public', '0', '1', 'primaire']\n",
      "['SAN PEDRO', 'SAN PEDRO', 'DO-SAKASSOU', 'Un village', 'EPP DO-SAKASSOU 2', 'Rural', '296', 'Public', '0', '0', 'primaire']\n",
      "['SAN PEDRO', 'SAN PEDRO', 'GROBONOUDAN 1', 'Un village', 'EPP GROBONOUDAN 1', 'Rural', '299', 'Public', '0', '1', 'primaire']\n",
      "['SAN PEDRO', 'SAN PEDRO', 'GROBONOUDAN', 'Un village', 'EPP GROBONOUDAN 2', 'Rural', '290', 'Public', '0', '1', 'primaire']\n",
      "['SAN PEDRO', 'SAN PEDRO', 'GROBONOUDAN', 'Un village', 'EPP GROBONOUDAN 3', 'Rural', '252', 'Public', '0', '1', 'primaire']\n",
      "['SAN PEDRO', 'SAN PEDRO', 'GROBONOUDAN', 'Un village', 'EPP GROBONOUDAN 4', 'Rural', '287', 'Public', '0', '1', 'primaire']\n",
      "['SAN PEDRO', 'SAN PEDRO', 'NIAMKEYKRO', 'Un village', 'EPP NIAMKEYKRO', 'Rural', '260', 'Public', '0', '0', 'primaire']\n",
      "['SAN PEDRO', 'SAN PEDRO', 'BIDA', 'Un village', 'EPP BIDAKRO 1', 'Rural', '261', 'Public', '0', '0', 'primaire']\n",
      "['SAN PEDRO', 'SAN PEDRO', 'BIDA', 'Un village', 'EPP BIDAKRO 2', 'Rural', '106', 'Public', '0', '0', 'primaire']\n",
      "['SAN PEDRO', 'SAN PEDRO', 'MATHIEUKRO', 'Un village', 'EPP MATHIEUKRO', 'Rural', '175', 'Public', '0', '0', 'primaire']\n",
      "['SAN PEDRO', 'SAN PEDRO', 'BLAHOU', 'Un village', 'EPP BLAHOU 1', 'Rural', '266', 'Public', '0', '0', 'primaire']\n",
      "['SAN PEDRO', 'SAN PEDRO', 'BLAHOU', 'Un village', 'EPP BLAHOU 2', 'Rural', '274', 'Public', '0', '0', 'primaire']\n",
      "['SAN PEDRO', 'SAN PEDRO', 'BLAHOU', 'Un village', 'EPP BLAHOU 3', 'Rural', '219', 'Public', '0', '0', 'primaire']\n",
      "['SAN PEDRO', 'SAN PEDRO', 'MENEE CENTRE', 'Un village', 'EPP MENEE CENTRE', 'Rural', '246', 'Public', '0', '1', 'primaire']\n",
      "['SAN PEDRO', 'SAN PEDRO', 'GABIADJI', 'Un quartier (Ville)', 'EPP GABIODJI 3', 'Rural', '266', 'Public', '0', '1', 'primaire']\n",
      "['SAN PEDRO', 'SAN PEDRO', 'LASSINABANGO', 'Un campement', 'EPP LASSINABANGO', 'Rural', '132', 'Public', '0', '0', 'primaire']\n",
      "['SAN PEDRO', 'SAN PEDRO', 'ITRADJI KPAKOBO', 'Un village', 'EPP KPAKOBO', 'Rural', '359', 'Public', '0', '0', 'primaire']\n",
      "['SAN PEDRO', 'SAN PEDRO', 'NETOUAGUI', 'Un village', 'EPP NETOUAGUI', 'Rural', '174', 'Public', '0', '0', 'primaire']\n",
      "['SAN PEDRO', 'SAN PEDRO', 'GLOUSSIKRO', 'Un campement', 'EPP GLOUSSIKRO', 'Urbain', '229', 'Public', '0', '0', 'primaire']\n",
      "['SAN PEDRO', 'SAN PEDRO', 'SABARIKADI', 'Un campement', 'EPP SABARIKADI', 'Rural', '204', 'Public', '0', '0', 'primaire']\n",
      "['SAN PEDRO', 'SAN PEDRO', 'SANKARA CARREFOUR', 'Un campement', 'EPP SANKARA CARREFOUR', 'Rural', '149', 'Public', '0', '0', 'primaire']\n",
      "['SAN PEDRO', 'SAN PEDRO', 'JOSEPH CARREFOUR', 'Un campement', 'EPP JOSEPH CARREFOUR', 'Rural', '153', 'Public', '0', '0', 'primaire']\n",
      "['SAN PEDRO', 'SAN PEDRO', 'DAGADJI', 'Un village', 'EPP DAGADJI 2', 'Rural', '337', 'Public', '0', '0', 'primaire']\n",
      "['SAN PEDRO', 'SAN PEDRO', 'GLIGBEUADJI', 'Un village', 'EPP GLIGBEUADJI 2', 'Rural', '232', 'Public', '0', '0', 'primaire']\n",
      "['SAN PEDRO', 'SAN PEDRO', 'DAGADJI', 'Un village', 'EPP DAGADJI 3', 'Rural', '335', 'Public', '0', '0', 'primaire']\n",
      "['SAN PEDRO', 'SAN PEDRO', 'TAHADJI', 'Un village', 'EPP TAHADJI', 'Rural', '276', 'Public', '0', '0', 'primaire']\n",
      "['SAN PEDRO', 'SAN PEDRO', 'JEANNOKRO', 'Un village', 'EPP JEANNOKRO', 'Rural', '348', 'Public', '0', '0', 'primaire']\n",
      "['SAN PEDRO', 'SAN PEDRO', 'GRAND-DOMAINE', 'Un village', 'EPP EXAT', 'Rural', '207', 'Public', '0', '0', 'primaire']\n",
      "['SAN PEDRO', 'SAN PEDRO', 'GOH', 'Un village', 'EPP GOH 2', 'Rural', '234', 'Public', '0', '0', 'primaire']\n",
      "['SAN PEDRO', 'SAN PEDRO', 'DJAPADJI', 'Un village', 'EPP DJAPAGUI 2', 'Rural', '445', 'Public', '0', '0', 'primaire']\n",
      "['SAN PEDRO', 'SAN PEDRO', 'TOUIH', 'Un village', 'EPP TOUIH 2', 'Rural', '391', 'Public', '0', '1', 'primaire']\n",
      "['SAN PEDRO', 'SAN PEDRO', 'DAGADJI', 'Un village', 'EPP DAGADJI 1', 'Rural', '373', 'Public', '0', '0', 'primaire']\n",
      "['SAN PEDRO', 'SAN PEDRO', 'DJAPADJI', 'Un village', 'EPP DJAPAGUI 1', 'Rural', '450', 'Public', '0', '0', 'primaire']\n",
      "['SAN PEDRO', 'SAN PEDRO', 'DOBA', 'Un quartier (Ville)', 'EPP DOBA 1', 'Urbain', '345', 'Public', '0', '1', 'primaire']\n",
      "['SAN PEDRO', 'SAN PEDRO', 'TOUIH', 'Un village', 'EPP TOUIH 3', 'Rural', '395', 'Public', '0', '1', 'primaire']\n",
      "['SAN PEDRO', 'SAN PEDRO', 'KOUAMEKRO', 'Un village', 'EPP KOUAMEFRANCOIKRO', 'Rural', '145', 'Public', '0', '0', 'primaire']\n",
      "['SAN PEDRO', 'SAN PEDRO', 'YOUKOUAGUI', 'Un campement', 'EPP YOUKOUADJI', 'Rural', '175', 'Public', '0', '0', 'primaire']\n",
      "['SAN PEDRO', 'SAN PEDRO', 'DOBA', 'Un quartier (Ville)', 'EPP DOBA 2', 'Urbain', '380', 'Public', '0', '1', 'primaire']\n",
      "['SAN PEDRO', 'SAN PEDRO', 'MOGOKELEDOUGOU', 'Un campement', 'EPP MOGOKELEDOUGOU', 'Rural', '313', 'Public', '0', '0', 'primaire']\n",
      "['SAN PEDRO', 'SAN PEDRO', 'GNANKE', 'Un village', 'EPP GNANKE', 'Rural', '209', 'Public', '0', '1', 'primaire']\n",
      "['SAN PEDRO', 'SAN PEDRO', 'MIANGANBOUGOU', 'Un campement', 'EPP GBAME', 'Rural', '245', 'Public', '0', '0', 'primaire']\n",
      "['SAN PEDRO', 'SAN PEDRO', 'TOUIH', 'Un village', 'EPP TOUIH 5', 'Rural', '227', 'Public', '0', '1', 'primaire']\n",
      "['SAN PEDRO', 'SAN PEDRO', 'GOH', 'Un village', 'EPP GOH 1', 'Rural', '324', 'Public', '0', '0', 'primaire']\n",
      "['SAN PEDRO', 'SAN PEDRO', 'TOUIH', 'Un village', 'EPP TOUIH 1', 'Rural', '324', 'Public', '0', '1', 'primaire']\n",
      "['SAN PEDRO', 'SAN PEDRO', 'DJIROPOADJI', 'Un campement', 'EPP DJIROPOADJI', 'Rural', '217', 'Public', '0', '0', 'primaire']\n",
      "['SAN PEDRO', 'SAN PEDRO', 'KANGAKRO', 'Un campement', 'EPP KANGAKRO 2', 'Rural', '74', 'Public', '0', '0', 'primaire']\n",
      "['SAN PEDRO', 'SAN PEDRO', 'GLIGBEUADJI', 'Un village', 'EPP GLIGBEUADJI 1', 'Rural', '324', 'Public', '0', '0', 'primaire']\n",
      "['SAN PEDRO', 'SAN PEDRO', 'KOFFI KOUADIOKRO', 'Un campement', 'EPP KOFFI KOUADIOKRO', 'Rural', '80', 'Public', '0', '0', 'primaire']\n",
      "['SAN PEDRO', 'SAN PEDRO', 'SAPH RGH CENTRE USINE', 'Un village', 'EPP SAPH 1', 'Rural', '232', 'Public', '0', '1', 'primaire']\n",
      "['SAN PEDRO', 'SAN PEDRO', 'YOBOUET KONANKRO', 'Un campement', 'EPP YOBOUET KONANKRO', 'Rural', '76', 'Public', '0', '0', 'primaire']\n",
      "['SAN PEDRO', 'SAN PEDRO', 'CAMPEMENT ALBERT', 'Un campement', 'EPP TAGNONDJI', 'Rural', '121', 'Public', '0', '0', 'primaire']\n",
      "['SAN PEDRO', 'SAN PEDRO', 'BIGNE', 'Un village', 'EPP BIGNE', 'Rural', '471', 'Public', '0', '0', 'primaire']\n",
      "['SAN PEDRO', 'SAN PEDRO', 'KOUADIOKANKRO', 'Un campement', 'EPP KOUADIOKANKRO', 'Rural', '86', 'Public', '0', '0', 'primaire']\n",
      "['SAN PEDRO', 'SAN PEDRO', 'DOBA', 'Un quartier (Ville)', 'EPP DOBA 3', 'Urbain', '298', 'Public', '0', '1', 'primaire']\n",
      "['SAN PEDRO', 'SAN PEDRO', 'GABIADJI', 'Un quartier (Ville)', 'EPC SAINTE-TRINITE 1', 'Urbain', '262', 'PrivÃ©', '0', '1', 'primaire']\n",
      "['SAN PEDRO', 'SAN PEDRO', 'DAGADJI', 'Un quartier (Ville)', 'EPC SECUNDO-CANTINO', 'Rural', '318', 'PrivÃ©', '0', '0', 'primaire']\n",
      "['SAN PEDRO', 'SAN PEDRO', 'TOUIH', 'Un village', 'EPV MARCO', 'Rural', '255', 'PrivÃ©', '0', '0', 'primaire']\n",
      "['SAN PEDRO', 'SAN PEDRO', 'BRAHIMAKRO', 'Un village', 'EPC MARTINO DE BRAHIMAKRO', 'Rural', '292', 'PrivÃ©', '0', '0', 'primaire']\n",
      "['SAN PEDRO', 'SAN PEDRO', 'DJAPADJI', 'Un village', 'EPC MERE HELENE', 'Rural', '342', 'PrivÃ©', '0', '0', 'primaire']\n",
      "['SAN PEDRO', 'SAN PEDRO', 'GABIADJI', 'Un village', 'EC CLASSIC', 'Urbain', '92', 'Communautaire', '0', '1', 'primaire']\n",
      "['SAN PEDRO', 'SAN PEDRO', 'GABIADJI', 'Un quartier (Ville)', 'EC CMA GABIADJI', 'Urbain', '72', 'Communautaire', '0', '1', 'primaire']\n",
      "['SAN PEDRO', 'SAN PEDRO', 'GABIADJI', 'Un quartier (Ville)', 'EC UNION DES ETOILES', 'Rural', '55', 'Communautaire', '0', '1', 'primaire']\n",
      "['SAN PEDRO', 'SAN PEDRO', 'DAGADJI', 'Un village', 'EPC BETHANIE', 'Urbain', '215', 'PrivÃ©', '0', '0', 'primaire']\n",
      "['SAN PEDRO', 'SAN PEDRO', 'GLIGBEUADJI', 'Un village', 'EC LES MIGNONS DE GLIGBEUADJI', 'Rural', '145', 'PrivÃ©', '0', '0', 'primaire']\n",
      "['SAN PEDRO', 'SAN PEDRO', 'TOUIH', 'Un village', 'EC PROTESTANTE CMA MARANATHA-TOUIH', 'Rural', '296', 'Communautaire', '0', '1', 'primaire']\n",
      "['SAN PEDRO', 'SAN PEDRO', 'GABIADJI', 'Un quartier (Ville)', 'EC TRAZIE', 'Rural', '218', 'Communautaire', '0', '1', 'primaire']\n",
      "['SAN PEDRO', 'TABOU', 'PLATEAU', 'Un quartier (Ville)', 'EPP GRABO 1A', 'Urbain', '340', 'Public', '1', '1', 'primaire']\n",
      "['SAN PEDRO', 'TABOU', 'PLATEAU', 'Un quartier (Ville)', 'EPP GRABO 1B', 'Urbain', '302', 'Public', '1', '1', 'primaire']\n",
      "['SAN PEDRO', 'TABOU', 'GBAPET', 'Un village', 'EPP GBAPET 2', 'Rural', '247', 'Public', '0', '0', 'primaire']\n",
      "['SAN PEDRO', 'TABOU', 'YASSOAKRO', 'Un campement', 'EPP YASSOAKRO', 'Rural', '151', 'Public', '0', '0', 'primaire']\n",
      "['SAN PEDRO', 'TABOU', 'BEOUE', 'Un village', 'EPP BEOUE', 'Rural', '286', 'Public', '0', '0', 'primaire']\n",
      "['SAN PEDRO', 'TABOU', 'KARIE', 'Un campement', 'EPP KARIE 2', 'Rural', '193', 'Public', '0', '0', 'primaire']\n",
      "['SAN PEDRO', 'TABOU', 'KARIE', 'Un village', 'EPP KARIE 1', 'Rural', '291', 'Public', '0', '0', 'primaire']\n",
      "['SAN PEDRO', 'TABOU', 'HANNIE', 'Un village', 'EPP HANNIE VO -C', 'Rural', '213', 'Public', '1', '1', 'primaire']\n",
      "['SAN PEDRO', 'TABOU', 'QUARTIER BASILE', 'Un quartier (Ville)', 'EPP JULES HIE NEA', 'Urbain', '316', 'Public', '1', '1', 'primaire']\n",
      "['SAN PEDRO', 'TABOU', 'NIGRE', 'Un village', 'EPP NIGRE', 'Rural', '261', 'Public', '0', '0', 'primaire']\n",
      "['SAN PEDRO', 'TABOU', 'GBELETO', 'Un village', 'EPP GBELETO', 'Rural', '272', 'Public', '0', '0', 'primaire']\n",
      "['SAN PEDRO', 'TABOU', 'GBAPET CHANTIER', 'Un village', 'EPP UAI GBAPET', 'Rural', '299', 'Public', '1', '1', 'primaire']\n",
      "['SAN PEDRO', 'TABOU', 'SOTO', 'Un village', 'EPP SOTO', 'Rural', '222', 'Public', '0', '0', 'primaire']\n",
      "['SAN PEDRO', 'TABOU', 'GBAPET', 'Un village', 'EPP GBAPET 1', 'Rural', '171', 'Public', '0', '0', 'primaire']\n",
      "['SAN PEDRO', 'TABOU', 'GNATO', 'Un village', 'EPP GNATO 1', 'Rural', '321', 'Public', '0', '0', 'primaire']\n",
      "['SAN PEDRO', 'TABOU', 'QUARTIER BAOULE', 'Un quartier (Ville)', 'EPP QUARTIER BAOULE', 'Urbain', '271', 'Public', '0', '1', 'primaire']\n",
      "['SAN PEDRO', 'TABOU', 'QUARTIER BASILE', 'Un quartier (Ville)', 'EPP ALASSANE OUATTARA', 'Urbain', '189', 'Public', '0', '1', 'primaire']\n",
      "['SAN PEDRO', 'TABOU', 'HANNIE', 'Un quartier (Ville)', 'EPP KOUAMEKRO', 'Rural', '108', 'Public', '0', '0', 'primaire']\n",
      "['SAN PEDRO', 'TABOU', 'PETIT GUIGLO', 'Un village', 'EPP DJEKA', 'Rural', '103', 'Public', '0', '0', 'primaire']\n",
      "['SAN PEDRO', 'TABOU', 'GNATO', 'Un village', 'EPP GNATO 2', 'Rural', '254', 'Public', '0', '0', 'primaire']\n",
      "['SAN PEDRO', 'TABOU', 'HANNIE', 'Un village', 'EPP HANNIE VO B', 'Rural', '382', 'Public', '1', '0', 'primaire']\n",
      "['SAN PEDRO', 'TABOU', 'GNATO', 'Un village', 'EPP UNICEF GNATO', 'Rural', '369', 'Public', '0', '0', 'primaire']\n",
      "['SAN PEDRO', 'TABOU', 'NEGBATCHI', 'Un village', 'EPP NEGBATCHI', 'Rural', '28', 'Public', '0', '0', 'primaire']\n",
      "['SAN PEDRO', 'TABOU', 'BOUHOUSSOUKRO', 'Un campement', 'EPP BOUHOUSSOUKRO', 'Rural', '90', 'Public', '0', '0', 'primaire']\n",
      "['SAN PEDRO', 'TABOU', 'NEKA PALMCI V1', 'Un village', 'EPP PALM NEKA', 'Rural', '238', 'Public', '0', '1', 'primaire']\n",
      "['SAN PEDRO', 'TABOU', 'GBAROU', 'Un village', 'EPP GBAROU', 'Rural', '166', 'Public', '0', '0', 'primaire']\n",
      "['SAN PEDRO', 'TABOU', 'MAHINO', 'Un village', 'EPP MAHINO 1', 'Rural', '303', 'Public', '0', '0', 'primaire']\n",
      "['SAN PEDRO', 'TABOU', 'YOUKOU', 'Un village', 'EPP YOUKOU', 'Rural', '389', 'Public', '0', '0', 'primaire']\n",
      "['SAN PEDRO', 'TABOU', 'DIAOUDI', 'Un village', 'EPP DIAOUDI', 'Rural', '68', 'Public', '0', '0', 'primaire']\n",
      "['SAN PEDRO', 'TABOU', 'PARA', 'Un village', 'EPP PARA A', 'Rural', '392', 'Public', '0', '0', 'primaire']\n",
      "['SAN PEDRO', 'TABOU', 'SIAHE', 'Un village', 'EPP SIAHE', 'Rural', '136', 'Public', '0', '0', 'primaire']\n",
      "['SAN PEDRO', 'TABOU', 'MAHINO', 'Un village', 'EPP MAHINO 2', 'Rural', '312', 'Public', '0', '0', 'primaire']\n",
      "['SAN PEDRO', 'TABOU', 'HANNIE', 'Un village', 'EPP HANNIE VO A', 'Rural', '394', 'Public', '1', '0', 'primaire']\n",
      "['SAN PEDRO', 'TABOU', 'DJOUROUTOU', 'Un village', 'EPP GUIROUTOU A', 'Urbain', '389', 'Public', '0', '0', 'primaire']\n",
      "['SAN PEDRO', 'TABOU', 'DEBLABLAI', 'Un village', 'EPP DEBLABLAI', 'Rural', '118', 'Public', '0', '0', 'primaire']\n",
      "['SAN PEDRO', 'TABOU', 'NEKA', 'Un village', 'EPP NEKA 1', 'Rural', '205', 'Public', '0', '0', 'primaire']\n",
      "['SAN PEDRO', 'TABOU', 'PARA', 'Un village', 'EPP PARA B', 'Rural', '406', 'Public', '0', '0', 'primaire']\n",
      "['SAN PEDRO', 'TABOU', 'DJOUROUTOU', 'Un quartier (Ville)', 'EPP GUIROUTOU B', 'Urbain', '387', 'Public', '0', '0', 'primaire']\n",
      "['SAN PEDRO', 'TABOU', 'NEKA', 'Un village', 'EPP NEKA 2', 'Rural', '105', 'Public', '0', '0', 'primaire']\n",
      "['SAN PEDRO', 'TABOU', 'BEREBLO', 'Un village', 'EPP BEREBLO', 'Rural', '208', 'Public', '0', '0', 'primaire']\n",
      "['SAN PEDRO', 'TABOU', 'HANNIE V2', 'Un village', 'EPP HANNIE', 'Rural', '356', 'Public', '0', '1', 'primaire']\n",
      "['SAN PEDRO', 'TABOU', 'POUTOU', 'Un village', 'EPP POUTOU', 'Rural', '139', 'Public', '0', '0', 'primaire']\n",
      "['SAN PEDRO', 'TABOU', \"N'DRI KOUASSIKRO\", 'Un campement', \"EC N'DRI KOUASSIKRO\", 'Rural', '32', 'Communautaire', '0', '0', 'primaire']\n",
      "['SAN PEDRO', 'TABOU', 'GBAPET', 'Un village', 'EC GBAPET VILLAGE', 'Rural', '130', 'Communautaire', '0', '0', 'primaire']\n",
      "['SAN PEDRO', 'TABOU', 'ALLOKO KONANKRO', 'Un campement', 'EC LA GRACE ALLOKO KONANKRO', 'Rural', '77', 'Communautaire', '0', '0', 'primaire']\n",
      "['SAN PEDRO', 'TABOU', 'SAINT MICHEL', 'Un quartier (Ville)', 'EC SAINT MICHEL', 'Urbain', '205', 'Communautaire', '0', '0', 'primaire']\n",
      "['SAN PEDRO', 'TABOU', 'BINKADI', 'Un campement', 'EC BINKADI', 'Rural', '96', 'Communautaire', '0', '0', 'primaire']\n",
      "['SAN PEDRO', 'TABOU', '2 PLATEAUX', 'Un campement', 'EC CATHOLIQUE ST JEAN 2 PLATEAUX', 'Rural', '53', 'Communautaire', '0', '0', 'primaire']\n",
      "['SAN PEDRO', 'TABOU', 'SAMOGOBOUGOU', 'Un campement', 'EC SAMOGOBOUGOU', 'Rural', '101', 'Communautaire', '0', '0', 'primaire']\n",
      "['SAN PEDRO', 'TABOU', 'GNATO', 'Un village', 'EC SAINTE MARTHE', 'Rural', '208', 'Communautaire', '0', '0', 'primaire']\n",
      "['SAN PEDRO', 'TABOU', 'GNATO', 'Un village', 'EC LAMBERTINI DE GNATO', 'Rural', '299', 'Communautaire', '0', '0', 'primaire']\n",
      "['SAN PEDRO', 'TABOU', 'GNATO', 'Un campement', 'EC SAINT PASCAL', 'Rural', '62', 'Communautaire', '0', '0', 'primaire']\n",
      "['SAN PEDRO', 'TABOU', 'CAVALLY DROIT', 'Un campement', 'EC CAVALLY DROIT', 'Rural', '123', 'Communautaire', '0', '0', 'primaire']\n",
      "['SAN PEDRO', 'TABOU', 'GNATO', 'Un campement', 'EC JOACHIMKRO', 'Rural', '40', 'Communautaire', '0', '0', 'primaire']\n",
      "['SAN PEDRO', 'TABOU', 'SRADOUGOU', 'Un campement', 'EC SRADOUGOU', 'Rural', '35', 'Communautaire', '0', '0', 'primaire']\n",
      "['SAN PEDRO', 'TABOU', 'CAMARADOUGOU', 'Un campement', 'EC CAMARADOUGOU', 'Rural', '63', 'Communautaire', '0', '0', 'primaire']\n",
      "['SAN PEDRO', 'TABOU', 'CARREFOUR DAO', 'Un campement', 'EC CARREFOUR DAO', 'Rural', '59', 'Communautaire', '0', '0', 'primaire']\n",
      "['SAN PEDRO', 'TABOU', 'GNATO', 'Un village', 'EC SIBIL EL NADJEH', 'Rural', '139', 'Communautaire', '0', '0', 'primaire']\n",
      "['SAN PEDRO', 'TABOU', 'PAULKAKRO', 'Un campement', 'EC PAULKAKRO', 'Rural', '101', 'Communautaire', '0', '0', 'primaire']\n",
      "['SAN PEDRO', 'TABOU', 'PARA', 'Un village', 'EC MANASSE', 'Rural', '215', 'Communautaire', '0', '0', 'primaire']\n",
      "['SAN PEDRO', 'TABOU', 'GEORGESKRO', 'Un campement', 'EC GEORGESKRO', 'Rural', '85', 'Communautaire', '0', '0', 'primaire']\n",
      "['SAN PEDRO', 'TABOU', 'NOIVEAU VILLAGE', 'Un campement', 'EC NOUVEAU VILLAGE', 'Rural', '136', 'Communautaire', '0', '0', 'primaire']\n",
      "['SAN PEDRO', 'TABOU', 'GRABO', 'Un quartier (Ville)', 'EC NOUROUL MOUBARAK', 'Urbain', '62', 'Communautaire', '0', '1', 'primaire']\n",
      "['SAN PEDRO', 'TABOU', 'WATINOUMA', 'Un campement', 'EC NASROU DIRN', 'Rural', '60', 'Communautaire', '0', '0', 'primaire']\n",
      "['SAN PEDRO', 'TABOU', 'MAHINO', 'Un village', 'EC EXCELLENCE', 'Rural', '141', 'Communautaire', '0', '0', 'primaire']\n",
      "['SAN PEDRO', 'TABOU', 'KASSOUMKRO', 'Un campement', 'EC KASSOUMKRO', 'Rural', '120', 'Communautaire', '0', '0', 'primaire']\n",
      "['SAN PEDRO', 'TABOU', 'WEREDOUGOU', 'Un campement', 'EC WEREDOUGOU', 'Rural', '37', 'Communautaire', '0', '0', 'primaire']\n",
      "['SAN PEDRO', 'TABOU', 'YAO-KRO', 'Un campement', 'EC YAO KRO', 'Rural', '43', 'Communautaire', '0', '0', 'primaire']\n",
      "['SAN PEDRO', 'TABOU', 'DJOUMAMISSIRY', 'Un campement', 'EC DJOUMAMISSIRY', 'Rural', '170', 'Communautaire', '0', '0', 'primaire']\n",
      "['SAN PEDRO', 'TABOU', 'DJEKRO', 'Un campement', 'EC DJEKRO', 'Rural', '62', 'Communautaire', '0', '0', 'primaire']\n",
      "['SAN PEDRO', 'TABOU', 'ADJINAMOKRO', 'Un campement', 'EC ADJINAMOKRO', 'Rural', '140', 'Communautaire', '0', '0', 'primaire']\n",
      "['SAN PEDRO', 'TABOU', 'MAMROUKRO', 'Un campement', 'EC CHERIFLA', 'Rural', '73', 'Communautaire', '0', '0', 'primaire']\n",
      "['SAN PEDRO', 'TABOU', 'BOTYKRO', 'Un campement', 'EC SHEBANIA BOTYKRO', 'Rural', '111', 'Communautaire', '0', '0', 'primaire']\n",
      "['SAN PEDRO', 'TABOU', 'MAHINO', 'Un campement', 'EC PARC', 'Rural', '71', 'Communautaire', '0', '0', 'primaire']\n",
      "['SAN PEDRO', 'TABOU', 'DIOULAKRO', 'Un campement', 'EC DIOULAKRO', 'Rural', '65', 'Communautaire', '0', '0', 'primaire']\n",
      "['SAN PEDRO', 'TABOU', 'HANNIE V3', 'Un village', 'EC LA REUSSITE', 'Rural', '239', 'Communautaire', '0', '0', 'primaire']\n",
      "['SAN PEDRO', 'TABOU', 'KOUAKOU KOUAKOUKRO', 'Un village', 'EC KOUAKOU KOUAMEKRO', 'Rural', '71', 'Communautaire', '0', '0', 'primaire']\n",
      "['SAN PEDRO', 'TABOU', \"N'GATTAKRO\", 'Un campement', \"EC N'GATTAKRO\", 'Rural', '43', 'Communautaire', '0', '0', 'primaire']\n",
      "['SAN PEDRO', 'TABOU', 'PETIT ABIDJAN', 'Un campement', 'EC PETIT ABIDJAN', 'Rural', '86', 'Communautaire', '0', '0', 'primaire']\n",
      "['SAN PEDRO', 'TABOU', 'ILASSAKRO', 'Un village', 'EC ILASSAKRO', 'Rural', '97', 'Communautaire', '0', '0', 'primaire']\n",
      "['SAN PEDRO', 'TABOU', 'PARA', 'Un village', 'EC AWANE', 'Rural', '261', 'Communautaire', '0', '0', 'primaire']\n",
      "['SAN PEDRO', 'TABOU', 'HANNIE VO', 'Un village', 'EC SAGESSE', 'Rural', '79', 'Communautaire', '0', '0', 'primaire']\n",
      "['SAN PEDRO', 'TABOU', 'MANASSE DJOUROUTOU', 'Un campement', 'EC MANASSE DJOUROUTOU', 'Rural', '66', 'Communautaire', '0', '0', 'primaire']\n",
      "['SAN PEDRO', 'TABOU', 'BEOUE', 'Un village', 'EC SAGESSE BEOUE', 'Rural', '47', 'Communautaire', '0', '0', 'primaire']\n",
      "['SAN PEDRO', 'TABOU', 'DJOUROUTOU', 'Un village', 'EC GROUPE SCOLAIRE CONFESSIONNEL CHERIFLA', 'Rural', '205', 'Communautaire', '0', '0', 'primaire']\n",
      "['SAN PEDRO', 'TABOU', 'PETIT DABAKALA', 'Un village', 'EC PETIT DABAKALA', 'Rural', '38', 'Communautaire', '0', '0', 'primaire']\n",
      "['SAN PEDRO', 'TABOU', 'PLATEAU', 'Un campement', 'EC SHEBANIA ELIEL PLATEAU', 'Rural', '118', 'Communautaire', '0', '0', 'primaire']\n",
      "['SAN PEDRO', 'TABOU', 'PARA', 'Un village', 'EC SNEBANIA ELIEL', 'Rural', '281', 'Communautaire', '0', '0', 'primaire']\n",
      "['SAN PEDRO', 'TABOU', 'ALLAKOFFIKRO', 'Un campement', 'EC SHEBANIA ALLAKOFFIKRO', 'Rural', '114', 'Communautaire', '0', '0', 'primaire']\n",
      "['SAN PEDRO', 'TABOU', 'DOMINIQUEKRO', 'Un campement', 'EC SHEBANIA DOMINIQUEKRO', 'Rural', '74', 'Communautaire', '0', '0', 'primaire']\n",
      "['SAN PEDRO', 'TABOU', 'SOUMAILAKRO', 'Un campement', 'EC SHEBANIA SOUMAILAKRO', 'Rural', '54', 'Communautaire', '0', '0', 'primaire']\n",
      "['SAN PEDRO', 'TABOU', 'GNATO', 'Un village', 'EC SAINT JEAN BOSCO', 'Rural', '31', 'Communautaire', '0', '0', 'primaire']\n",
      "['SAN PEDRO', 'TABOU', 'ADAMADOUGOU', 'Un campement', 'EC ADAMADOUGOU', 'Rural', '96', 'Communautaire', '0', '0', 'primaire']\n",
      "['SAN PEDRO', 'TABOU', 'CAMPEMENT DE MAHAMOUDOU', 'Un campement', 'EC NASROUL ALLAH', 'Rural', '13', 'Communautaire', '0', '0', 'primaire']\n",
      "['SAN PEDRO', 'TABOU', 'CAVALLY GAUCHE', 'Un campement', 'EC MOUROUL DIRN', 'Rural', '57', 'Communautaire', '0', '0', 'primaire']\n",
      "['SAN PEDRO', 'TABOU', 'DAR SALAM', 'Un campement', 'EC NOUROU SABIL', 'Rural', '55', 'Communautaire', '0', '0', 'primaire']\n",
      "['SAN PEDRO', 'TABOU', 'PETIT LYBIC', 'Un campement', 'EC PETIT LYDIE ECOLE CORANIQUE', 'Rural', '72', 'Communautaire', '0', '0', 'primaire']\n",
      "['SAN PEDRO', 'TABOU', 'MAKASIDI', 'Un village', 'EC MAKASIDI ISLAMA', 'Rural', '134', 'Communautaire', '0', '0', 'primaire']\n",
      "['SAN PEDRO', 'TABOU', 'MIANGOBOUGOU', 'Un campement', 'EC MIANGABOUGOU', 'Rural', '44', 'Communautaire', '0', '0', 'primaire']\n",
      "['SAN PEDRO', 'TABOU', 'CITERNE', 'Un campement', 'EC CITERNE', 'Rural', '73', 'Communautaire', '0', '0', 'primaire']\n",
      "['SAN PEDRO', 'SAN PEDRO', 'ABOULAYEKRO', 'Un campement', 'EPP ABOULAYEKRO', 'Rural', '173', 'Public', '0', '0', 'primaire']\n",
      "['SAN PEDRO', 'SAN PEDRO', 'IRATEKE', 'Un village', 'EPP IRATEKE 2', 'Rural', '133', 'Public', '0', '0', 'primaire']\n",
      "['SAN PEDRO', 'SAN PEDRO', 'OUEOULO', 'Un village', 'EPP OUEOULO 2', 'Rural', '264', 'Public', '0', '1', 'primaire']\n",
      "['SAN PEDRO', 'SAN PEDRO', 'KOTO 1', 'Un village', 'EPP KOTO -SOGB', 'Rural', '327', 'Public', '1', '1', 'primaire']\n",
      "['SAN PEDRO', 'SAN PEDRO', 'YOUWASSO', 'Un village', 'EPP YOUWASSO 2', 'Rural', '260', 'Public', '0', '1', 'primaire']\n",
      "['SAN PEDRO', 'SAN PEDRO', 'GRAND-GRELEON', 'Un village', 'EPP GRAND-GRELEON', 'Rural', '296', 'Public', '0', '0', 'primaire']\n",
      "['SAN PEDRO', 'SAN PEDRO', 'DJIKLA', 'Un village', 'EPP DJIKLA', 'Rural', '345', 'Public', '0', '1', 'primaire']\n",
      "['SAN PEDRO', 'SAN PEDRO', 'EQUATORIAL', 'Un quartier (Ville)', 'EPP GRAND BEREBY 1', 'Urbain', '333', 'Public', '1', '1', 'primaire']\n",
      "['SAN PEDRO', 'SAN PEDRO', 'NERO-BROUSSE', 'Un village', 'EPP NERO-BROUSSE', 'Rural', '308', 'Public', '0', '0', 'primaire']\n",
      "['SAN PEDRO', 'SAN PEDRO', 'EQUATORIAL', 'Un quartier (Ville)', 'EPP GRAND-BEREBY 3', 'Urbain', '333', 'Public', '1', '1', 'primaire']\n",
      "['SAN PEDRO', 'SAN PEDRO', 'MANI-BEREBY', 'Un village', 'EPP MANI-BEREBY', 'Rural', '173', 'Public', '0', '0', 'primaire']\n",
      "['SAN PEDRO', 'SAN PEDRO', 'PAIKRO', 'Un campement', 'EPP PAIKRO', 'Rural', '118', 'Public', '0', '1', 'primaire']\n",
      "['SAN PEDRO', 'SAN PEDRO', 'PETIT NADO', 'Un village', 'EPP PETIT-NADO', 'Rural', '194', 'Public', '0', '0', 'primaire']\n",
      "['SAN PEDRO', 'SAN PEDRO', 'EQUATORIAL', 'Un quartier (Ville)', 'EPP GRAND-BEREBY 4', 'Urbain', '385', 'Public', '0', '1', 'primaire']\n",
      "['SAN PEDRO', 'SAN PEDRO', 'SODEFOR', 'Un quartier (Ville)', 'EPP GRAND-BEREBY 5', 'Urbain', '225', 'Public', '0', '1', 'primaire']\n",
      "['SAN PEDRO', 'SAN PEDRO', 'OURO', 'Un village', 'EPP OURO', 'Rural', '138', 'Public', '0', '0', 'primaire']\n",
      "['SAN PEDRO', 'SAN PEDRO', 'BLEDIE', 'Un village', 'EPP BLEDIE', 'Rural', '331', 'Public', '0', '0', 'primaire']\n",
      "['SAN PEDRO', 'SAN PEDRO', 'BELEM 2', 'Un campement', 'EPP BELEM 2', 'Rural', '247', 'Public', '1', '0', 'primaire']\n",
      "['SAN PEDRO', 'SAN PEDRO', 'PATRICEKRO', 'Un campement', 'EPP PATRICEKRO', 'Rural', '363', 'Public', '0', '0', 'primaire']\n",
      "['SAN PEDRO', 'SAN PEDRO', 'VINCENTKRO', 'Un campement', 'EPP VINCENTKRO', 'Rural', '82', 'Public', '0', '0', 'primaire']\n",
      "['SAN PEDRO', 'SAN PEDRO', 'KAKO', 'Un village', 'EPP KAKO-VILLAGE', 'Rural', '316', 'Public', '1', '0', 'primaire']\n",
      "['SAN PEDRO', 'SAN PEDRO', 'BATCHA', 'Un village', 'EPP BATCHA', 'Rural', '95', 'Public', '0', '0', 'primaire']\n",
      "['SAN PEDRO', 'SAN PEDRO', 'KAKO', 'Un village', 'EPP KAKO 1', 'Rural', '386', 'Public', '0', '0', 'primaire']\n",
      "['SAN PEDRO', 'SAN PEDRO', 'DOGBO-GARAGE', 'Un quartier (Ville)', 'EPP DOGBO-1', 'Urbain', '212', 'Public', '0', '0', 'primaire']\n",
      "['SAN PEDRO', 'SAN PEDRO', 'ADJAMENE', 'Un village', 'EPP ADJAMENE 1', 'Rural', '391', 'Public', '0', '1', 'primaire']\n",
      "['SAN PEDRO', 'SAN PEDRO', 'EQUATORIAL', 'Un quartier (Ville)', 'EPP GRAND-BEREBY 2', 'Urbain', '441', 'Public', '0', '1', 'primaire']\n",
      "['SAN PEDRO', 'SAN PEDRO', 'SINGHE', 'Un village', 'EPP SINGHE', 'Rural', '515', 'Public', '2', '1', 'primaire']\n",
      "['SAN PEDRO', 'SAN PEDRO', 'DOGBO', 'Un village', 'EPP DOGBO-2', 'Urbain', '161', 'Public', '0', '0', 'primaire']\n",
      "['SAN PEDRO', 'SAN PEDRO', 'BOUKARIKRO', 'Un campement', 'EPP BOUKARIKRO', 'Rural', '215', 'Public', '0', '0', 'primaire']\n",
      "['SAN PEDRO', 'SAN PEDRO', 'BELEM 1', 'Un campement', 'EPP BELEM 1', 'Rural', '377', 'Public', '0', '0', 'primaire']\n",
      "['SAN PEDRO', 'SAN PEDRO', 'KOFFIKRAKRO', 'Un campement', 'EPP KOFFIKRAKRO', 'Rural', '156', 'Public', '0', '0', 'primaire']\n",
      "['SAN PEDRO', 'SAN PEDRO', 'SAINT-PAUL', 'Un campement', 'EPP SAINT-PAUL', 'Rural', '440', 'Public', '0', '0', 'primaire']\n",
      "['SAN PEDRO', 'SAN PEDRO', 'MAGNERI', 'Un village', 'EPP MAGNERI', 'Rural', '450', 'Public', '0', '0', 'primaire']\n",
      "['SAN PEDRO', 'SAN PEDRO', 'MALAN', 'Un village', 'EPP PAULKRO', 'Rural', '219', 'Public', '0', '0', 'primaire']\n",
      "['SAN PEDRO', 'SAN PEDRO', 'BOUA', 'Un village', 'EPP BOUA', 'Rural', '405', 'Public', '0', '0', 'primaire']\n",
      "['SAN PEDRO', 'SAN PEDRO', 'WATE', 'Un village', 'EPP WATE -SOGB', 'Rural', '236', 'Public', '0', '1', 'primaire']\n",
      "['SAN PEDRO', 'SAN PEDRO', 'SOGB', 'Un village', 'EPP TIEPE 1', 'Rural', '455', 'Public', '2', '1', 'primaire']\n",
      "['SAN PEDRO', 'SAN PEDRO', 'EPP TRAHE', 'Un village', 'EPP TRAHE', 'Rural', '341', 'Public', '0', '0', 'primaire']\n",
      "['SAN PEDRO', 'SAN PEDRO', 'KAKO 2', 'Un village', 'EPP KAKO 2', 'Rural', '473', 'Public', '1', '1', 'primaire']\n",
      "['SAN PEDRO', 'SAN PEDRO', 'ROC', 'Un village', 'EPP ROC', 'Rural', '203', 'Public', '0', '0', 'primaire']\n",
      "['SAN PEDRO', 'SAN PEDRO', 'RAPHAELKRO', 'Un campement', 'EPP RAPHAELKRO', 'Rural', '133', 'Public', '0', '0', 'primaire']\n",
      "['SAN PEDRO', 'SAN PEDRO', 'ADAMADOUGOU', 'Un village', 'EPP NEMLINKLA', 'Rural', '180', 'Public', '0', '0', 'primaire']\n",
      "['SAN PEDRO', 'SAN PEDRO', 'YOUWASSO', 'Un village', 'EPP YOUWASSO 1', 'Rural', '314', 'Public', '0', '1', 'primaire']\n",
      "['SAN PEDRO', 'SAN PEDRO', 'DOTOU', 'Un village', 'EPP DOTOU', 'Rural', '205', 'Public', '0', '0', 'primaire']\n",
      "['SAN PEDRO', 'SAN PEDRO', 'PONT-NERO', 'Un village', 'EPP PONT-NERO 1', 'Rural', '268', 'Public', '0', '1', 'primaire']\n",
      "['SAN PEDRO', 'SAN PEDRO', 'PONT- NERO', 'Un village', 'EPP PONT-NERO 2', 'Rural', '265', 'Public', '0', '0', 'primaire']\n",
      "['SAN PEDRO', 'SAN PEDRO', 'GBORO', 'Un village', 'EPP GBORO', 'Rural', '120', 'Public', '0', '1', 'primaire']\n",
      "['SAN PEDRO', 'SAN PEDRO', 'DOLE 1', 'Un village', 'EPP DOLE', 'Rural', '418', 'Public', '0', '1', 'primaire']\n",
      "['SAN PEDRO', 'SAN PEDRO', 'HEKE 1', 'Un village', 'EPP HEKE-SOGB', 'Rural', '281', 'Public', '0', '1', 'primaire']\n",
      "['SAN PEDRO', 'SAN PEDRO', 'HEKE-VILLAGE', 'Un village', 'EPP HEKE-VILLAGE', 'Rural', '204', 'Public', '0', '1', 'primaire']\n",
      "['SAN PEDRO', 'SAN PEDRO', 'IBOKE', 'Un village', 'EPP IBOKE', 'Rural', '228', 'Public', '0', '0', 'primaire']\n",
      "['SAN PEDRO', 'SAN PEDRO', 'DEKO', 'Un village', 'EPP DEKO 2', 'Rural', '363', 'Public', '0', '1', 'primaire']\n",
      "['SAN PEDRO', 'SAN PEDRO', 'IRATEKE', 'Un village', 'EPP IRATEKE 1', 'Rural', '338', 'Public', '0', '0', 'primaire']\n",
      "['SAN PEDRO', 'SAN PEDRO', 'BACO 1', 'Un village', 'EPP BACO SOGB', 'Rural', '477', 'Public', '1', '1', 'primaire']\n",
      "['SAN PEDRO', 'SAN PEDRO', 'BAKRO 3', 'Un village', 'EPP BAKRO 3', 'Rural', '206', 'Public', '0', '0', 'primaire']\n",
      "['SAN PEDRO', 'SAN PEDRO', 'DEKO', 'Un quartier (Ville)', 'EPP DEKO 1', 'Rural', '310', 'Public', '1', '1', 'primaire']\n",
      "['SAN PEDRO', 'SAN PEDRO', 'SOGB', 'Un village', 'EPP TIEPE 2', 'Rural', '415', 'Public', '0', '1', 'primaire']\n",
      "['SAN PEDRO', 'SAN PEDRO', 'OUEOULO', 'Un village', 'EPP OUEOULO 1', 'Rural', '261', 'Public', '0', '1', 'primaire']\n",
      "['SAN PEDRO', 'SAN PEDRO', 'OUELEKE', 'Un village', 'EPP OUELEKE', 'Rural', '242', 'Public', '0', '1', 'primaire']\n",
      "['SAN PEDRO', 'SAN PEDRO', 'KLOTOU', 'Un village', 'EPP KLOTOU', 'Rural', '275', 'Public', '0', '1', 'primaire']\n",
      "['SAN PEDRO', 'SAN PEDRO', 'NOUVEAU-VILLAGE', 'Un campement', 'EPP NOUVEAU-VILLAGE', 'Rural', '256', 'Public', '0', '0', 'primaire']\n",
      "['SAN PEDRO', 'SAN PEDRO', 'NANE SS', 'Un campement', 'EPP NANE SS', 'Rural', '116', 'Public', '0', '0', 'primaire']\n",
      "['SAN PEDRO', 'SAN PEDRO', 'DJIMBO', 'Un village', 'EPP DJIMBO', 'Rural', '270', 'Public', '0', '0', 'primaire']\n",
      "['SAN PEDRO', 'SAN PEDRO', 'KANDAKRO', 'Un campement', 'EPP KANDAKRO', 'Rural', '276', 'Public', '0', '0', 'primaire']\n",
      "['SAN PEDRO', 'SAN PEDRO', 'BAKRO 2', 'Un village', 'EPP BAKRO 2', 'Rural', '192', 'Public', '0', '0', 'primaire']\n",
      "['SAN PEDRO', 'SAN PEDRO', 'DAR-ES-SALAM', 'Un village', 'EPP DAR-ES- SALAM', 'Rural', '163', 'Public', '0', '0', 'primaire']\n",
      "['SAN PEDRO', 'SAN PEDRO', 'PATAKE', 'Un village', 'EPP PATAKE', 'Rural', '290', 'Public', '0', '0', 'primaire']\n",
      "['SAN PEDRO', 'SAN PEDRO', 'GNEPASSO', 'Un village', 'EPP GNEPASSO', 'Rural', '133', 'Public', '0', '0', 'primaire']\n",
      "['SAN PEDRO', 'SAN PEDRO', 'PATAPATAKRO', 'Un campement', 'EPP PATAPATAKRO', 'Rural', '248', 'Public', '0', '0', 'primaire']\n",
      "['SAN PEDRO', 'SAN PEDRO', 'TAKORO', 'Un village', 'EPP TAKORO', 'Rural', '134', 'Public', '0', '0', 'primaire']\n",
      "['SAN PEDRO', 'SAN PEDRO', 'CHEFKRO', 'Un campement', 'EPP CHEFKRO', 'Rural', '77', 'Public', '0', '0', 'primaire']\n",
      "['SAN PEDRO', 'SAN PEDRO', 'WATINOUMA', 'Un campement', 'EPP WATINOUMA', 'Rural', '31', 'Public', '0', '0', 'primaire']\n",
      "['SAN PEDRO', 'SAN PEDRO', 'GRAND-DJOUROU', 'Un village', 'EPP GRAND-DJOUROU', 'Rural', '73', 'Public', '0', '0', 'primaire']\n",
      "['SAN PEDRO', 'SAN PEDRO', 'ADJAMENE', 'Un village', 'EPP ADJAMENE 3', 'Rural', '353', 'Public', '0', '1', 'primaire']\n",
      "['SAN PEDRO', 'SAN PEDRO', 'YOHOU', 'Un village', 'EPP YOHOU 2', 'Rural', '114', 'Public', '0', '0', 'primaire']\n",
      "['SAN PEDRO', 'SAN PEDRO', 'ADJAMENE', 'Un village', 'EPP ADJAMENE 2', 'Rural', '364', 'Public', '0', '1', 'primaire']\n",
      "['SAN PEDRO', 'SAN PEDRO', 'KWADIOKOUMAN', 'Un campement', 'EPP KWADIOKOUMAN', 'Rural', '159', 'Public', '0', '0', 'primaire']\n",
      "['SAN PEDRO', 'SAN PEDRO', 'YOHOU', 'Un village', 'EPP YOHOU 1', 'Rural', '296', 'Public', '0', '0', 'primaire']\n",
      "['SAN PEDRO', 'SAN PEDRO', 'DESSAMBA', 'Un campement', 'EPP DESSAMBA', 'Rural', '221', 'Public', '0', '0', 'primaire']\n",
      "['SAN PEDRO', 'SAN PEDRO', 'BACRO CARREFOUR', 'Un campement', 'EPP BACRO CARREFOUR', 'Rural', '144', 'Public', '0', '0', 'primaire']\n",
      "['SAN PEDRO', 'SAN PEDRO', 'PETIT OUAGA', 'Un campement', 'EPP PETIT OUAGA', 'Rural', '74', 'Public', '0', '0', 'primaire']\n",
      "['SAN PEDRO', 'SAN PEDRO', 'HEREMANKONO', 'Un campement', 'EPP HERE MANKONO', 'Rural', '200', 'Public', '0', '0', 'primaire']\n",
      "['SAN PEDRO', 'SAN PEDRO', 'KORHOGOBOUGOU 1', 'Un campement', 'EPP KORHOGOBOUGOU 1', 'Rural', '307', 'Public', '0', '0', 'primaire']\n",
      "['SAN PEDRO', 'SAN PEDRO', 'OUSMANEDOUGOU', 'Un campement', 'EPP OUSMANEDOUGOU', 'Rural', '182', 'Public', '0', '0', 'primaire']\n",
      "['SAN PEDRO', 'SAN PEDRO', 'KORHOGOBOUGOU 2', 'Un campement', 'EPP KORHOGOBOUGOU 2', 'Rural', '208', 'Public', '0', '0', 'primaire']\n",
      "['SAN PEDRO', 'SAN PEDRO', 'ANCIEN-DOGBO', 'Un campement', 'EPP ANCIEN-DOGBO', 'Rural', '105', 'Public', '0', '0', 'primaire']\n",
      "['SAN PEDRO', 'SAN PEDRO', 'ADJAMENE', 'Un village', 'EPV  DJIE GAGNE VICTOR', 'Rural', '245', 'PrivÃ©', '0', '1', 'primaire']\n",
      "['SAN PEDRO', 'SAN PEDRO', 'YOUWASSO', 'Un village', 'EPV  ABROU-KADJI', 'Urbain', '312', 'PrivÃ©', '0', '1', 'primaire']\n",
      "['SAN PEDRO', 'SAN PEDRO', 'ADJAMENE', 'Un village', 'EPV ABROU BOGA', 'Rural', '277', 'PrivÃ©', '1', '1', 'primaire']\n",
      "['SAN PEDRO', 'SAN PEDRO', 'YOHOUKPA', 'Un village', 'EPC YOHOUKPA', 'Rural', '160', 'PrivÃ©', '0', '0', 'primaire']\n",
      "['SAN PEDRO', 'SAN PEDRO', 'GUY EMMANUEL', 'Un village', 'EPV  GUY EMMANUEL', 'Rural', '542', 'PrivÃ©', '0', '1', 'primaire']\n",
      "['SAN PEDRO', 'SAN PEDRO', 'DOGBO', 'Un quartier (Ville)', 'EC ISLAMIA SOLAHIDINE DOGBO', 'Urbain', '126', 'Communautaire', '0', '0', 'primaire']\n",
      "['SAN PEDRO', 'SAN PEDRO', 'DEUX CENTS VINGT', 'Un campement', 'EC DEUX CENTS VINGT', 'Rural', '24', 'Communautaire', '0', '0', 'primaire']\n",
      "['SAN PEDRO', 'SAN PEDRO', 'BOUA', 'Un campement', 'EC SOLAHIDINE ISLAMIA BOUA', 'Rural', '108', 'Communautaire', '0', '0', 'primaire']\n",
      "['SAN PEDRO', 'SAN PEDRO', '2 CARREFOURS', 'Un campement', 'EC 2 CAREFOURS', 'Rural', '92', 'Communautaire', '0', '0', 'primaire']\n",
      "['SAN PEDRO', 'SAN PEDRO', 'BROUKRO', 'Un campement', 'EC BROUKRO', 'Rural', '129', 'Communautaire', '0', '0', 'primaire']\n",
      "['SAN PEDRO', 'SAN PEDRO', 'BALLOKRO', 'Un campement', 'EC BALLOKRO', 'Rural', '82', 'Communautaire', '0', '0', 'primaire']\n",
      "['SAN PEDRO', 'SAN PEDRO', '2 SAMBA', 'Un campement', 'EC 2 SAMBA', 'Rural', '94', 'Communautaire', '0', '0', 'primaire']\n",
      "['SAN PEDRO', 'SAN PEDRO', 'NERO-BROUSSE', 'Un village', 'EC MIFTAHOUL OULOUM', 'Rural', '61', 'Communautaire', '0', '0', 'primaire']\n",
      "['SAN PEDRO', 'SAN PEDRO', 'ADJAMENE', 'Un village', 'EC CLAUGHIS', 'Rural', '70', 'Communautaire', '0', '1', 'primaire']\n",
      "['SAN PEDRO', 'SAN PEDRO', 'ROC-OULIDIE', 'Un campement', 'EC NAWADE/EVELYNE CASTELINO', 'Rural', '74', 'Communautaire', '0', '0', 'primaire']\n",
      "['SAN PEDRO', 'SAN PEDRO', 'BELEM1', 'Un village', 'EC FRANCO-ARABE SOUDAN BELEM 1', 'Rural', '117', 'Communautaire', '0', '0', 'primaire']\n",
      "['SAN PEDRO', 'SAN PEDRO', 'MOROKRO', 'Un village', 'EC MOROKRO', 'Rural', '48', 'Communautaire', '0', '0', 'primaire']\n",
      "['SAN PEDRO', 'SAN PEDRO', 'HILAIKRO', 'Un campement', 'EC HILAIKRO', 'Rural', '76', 'Communautaire', '0', '0', 'primaire']\n",
      "['SAN PEDRO', 'SAN PEDRO', 'PETIT ZANZAN', 'Un campement', 'EC PETIT ZANZAN', 'Rural', '56', 'Communautaire', '0', '0', 'primaire']\n",
      "['SAN PEDRO', 'SAN PEDRO', 'BELLE VILLE', 'Un village', 'EC BELLE-VILLE', 'Rural', '19', 'Communautaire', '0', '0', 'primaire']\n",
      "['SAN PEDRO', 'SAN PEDRO', 'TREICICHVILLE', 'Un campement', 'EC TREICHVILLE', 'Rural', '37', 'Communautaire', '0', '0', 'primaire']\n",
      "['SAN PEDRO', 'SAN PEDRO', 'PETIT DALOA', 'Un campement', 'EC PETIT DALOA', 'Rural', '69', 'Communautaire', '0', '0', 'primaire']\n",
      "['SAN PEDRO', 'SAN PEDRO', 'CFI JEROME', 'Un campement', 'EC CFI JEROME', 'Rural', '44', 'Communautaire', '0', '0', 'primaire']\n",
      "['SAN PEDRO', 'SAN PEDRO', 'NIKEMANKRO', 'Un campement', 'EC NIMANTOULAYE', 'Rural', '90', 'Communautaire', '0', '0', 'primaire']\n",
      "['SAN PEDRO', 'SAN PEDRO', 'DOGBO', 'Un quartier (Ville)', 'EC DOGBO', 'Rural', '202', 'Communautaire', '0', '0', 'primaire']\n",
      "['SAN PEDRO', 'SAN PEDRO', 'KOUADIOKRO', 'Un campement', 'EC KOUADIOKRO', 'Rural', '145', 'Communautaire', '0', '0', 'primaire']\n",
      "['SAN PEDRO', 'SAN PEDRO', 'PETIT VAVOUA', 'Un campement', 'EC PETIT VAVOUA', 'Rural', '104', 'Communautaire', '0', '0', 'primaire']\n",
      "['SAN PEDRO', 'SAN PEDRO', 'ARABALOGO', 'Un campement', 'EC ARABALOGO 2', 'Urbain', '196', 'Communautaire', '0', '0', 'primaire']\n",
      "['SAN PEDRO', 'SAN PEDRO', 'MARCELKRO', 'Un campement', 'EC MARCELKRO', 'Rural', '46', 'Communautaire', '0', '0', 'primaire']\n",
      "['SAN PEDRO', 'SAN PEDRO', 'BONIKRO', 'Un campement', 'EC BONIKRO', 'Rural', '54', 'Communautaire', '0', '0', 'primaire']\n",
      "['SAN PEDRO', 'SAN PEDRO', 'KOFFIKOFFIKRO', 'Un campement', 'EC KOFFIKOFFIKRO', 'Rural', '45', 'Communautaire', '0', '0', 'primaire']\n",
      "['SAN PEDRO', 'SAN PEDRO', '4 KILOS', 'Un campement', 'EC 4 KILOS', 'Rural', '58', 'Communautaire', '0', '0', 'primaire']\n",
      "['SAN PEDRO', 'SAN PEDRO', 'KOUASSIKRO', 'Un campement', 'EC KOUASSIKRO', 'Rural', '185', 'Communautaire', '0', '0', 'primaire']\n",
      "['SAN PEDRO', 'SAN PEDRO', 'KAKO VILLAGE', 'Un village', 'EC ISLAMIA KAKO', 'Rural', '45', 'Communautaire', '0', '0', 'primaire']\n",
      "['SAN PEDRO', 'SAN PEDRO', 'AMADOU CARREFOUR', 'Un campement', 'EC AMADOU CARREFOUR', 'Rural', '30', 'Communautaire', '0', '0', 'primaire']\n",
      "['SAN PEDRO', 'SAN PEDRO', 'ARABALOGO ', 'Un village', 'EC ARABALOGO 1', 'Rural', '76', 'Communautaire', '0', '0', 'primaire']\n",
      "['SAN PEDRO', 'SAN PEDRO', 'PETIT MARCHE', 'Un campement', 'EC PETIT MARCHE', 'Rural', '58', 'Communautaire', '0', '0', 'primaire']\n",
      "['SAN PEDRO', 'SAN PEDRO', 'DJAMANOUROU', 'Un campement', 'EC DJAMANOUROU 1', 'Rural', '60', 'Communautaire', '0', '0', 'primaire']\n",
      "['SAN PEDRO', 'SAN PEDRO', 'KAKO VILLAGE', 'Un village', 'EC GUY PIERREKRO', 'Rural', '55', 'Communautaire', '0', '0', 'primaire']\n"
     ]
    }
   ],
   "source": [
    "import csv\n",
    "with open (\"D:/TP DEH ABOUBACAR/STAGE_SEJEN/PYTHON/PRIMAIRE.csv\",\"r\") as fichiercsv :\n",
    "    p=csv.reader(fichiercsv,delimiter=\",\")\n",
    "    for i in p:\n",
    "        print(i)"
   ]
  },
  {
   "cell_type": "code",
   "execution_count": 4,
   "metadata": {},
   "outputs": [],
   "source": [
    "import csv\n",
    "with open (\"D:/TP DEH ABOUBACAR/STAGE_SEJEN/PYTHON/PRIMAIRE.csv\",\"r\") as fichiercsv :\n",
    "    p=csv.reader(fichiercsv,delimiter=\",\")\n",
    "    lines=[]\n",
    "    for i in p:\n",
    "        if len(lines)<5:\n",
    "            lines.append(i)\n",
    "        "
   ]
  },
  {
   "cell_type": "code",
   "execution_count": 6,
   "metadata": {},
   "outputs": [
    {
     "name": "stdout",
     "output_type": "stream",
     "text": [
      "[['Region', 'Departement', 'LocalitÃ©', 'Nature_localitÃ©', 'Nom_ecole', 'Milieu_Ã©cole', 'Total_eff_Ã©lÃ¨ves', 'Statut', 'eau_courante_bon_Ã©tat', 'LocalitÃ©_Ã©lectrifiÃ©e_Y_N', 'niveau'], ['GBÃŠKÃŠ', 'BEOUMI', 'KOUADIO-SAKASSOU', 'Un village', 'EPP KOUADIO-SAKASSOU', 'Rural', '253', 'Public', '0', '1', 'primaire'], ['GBÃŠKÃŠ', 'BEOUMI', 'ANDO', 'Un village', 'EPP ANDO', 'Rural', '254', 'Public', '0', '1', 'primaire'], ['GBÃŠKÃŠ', 'BEOUMI', 'KEKRENOU', 'Un village', 'EPP AMANI OKA DE KEKRENOU', 'Rural', '305', 'Public', '0', '1', 'primaire'], ['GBÃŠKÃŠ', 'BEOUMI', 'LINGUEBO', 'Un village', 'EPP LINGUEBO 2', 'Rural', '222', 'Public', '0', '1', 'primaire']]\n"
     ]
    }
   ],
   "source": [
    "print(lines)"
   ]
  },
  {
   "cell_type": "code",
   "execution_count": 7,
   "metadata": {},
   "outputs": [],
   "source": [
    "#Premiere façon de créer un fichier csv\n",
    "import csv\n",
    "with open (\"D:/TP DEH ABOUBACAR/STAGE_SEJEN/PYTHON/creer_un_fichier_csv.csv\",\"w\") as fichiercsv :\n",
    "    p=csv.writer(fichiercsv,delimiter=\";\")\n",
    "    for i in lines:\n",
    "        p.writerow(i)"
   ]
  },
  {
   "cell_type": "code",
   "execution_count": 8,
   "metadata": {},
   "outputs": [],
   "source": [
    "#Deuxieme façon de créer un fichier csv , et cele ne se fait lorsque la liste concernée est une liste de liste\n",
    "import csv\n",
    "with open (\"D:/TP DEH ABOUBACAR/STAGE_SEJEN/PYTHON/creer_un_fichier_csv2.csv\",\"w\") as fichiercsv :\n",
    "    p=csv.writer(fichiercsv,delimiter=\";\")\n",
    "    for i in lines:\n",
    "        p.writerow(lines)"
   ]
  },
  {
   "cell_type": "code",
   "execution_count": 11,
   "metadata": {},
   "outputs": [],
   "source": [
    "#Creationd'un fichier excel\n",
    "from openpyxl import Workbook\n",
    "wb=Workbook() #On se trouve dans le classeur\n",
    "ws=wb.active #On selectionne la feuille active\n",
    "ws.title=\"Liste des stagiaires SEJEN\" #affecter un nom à la feuille active\n",
    "ws[\"A1\"]=\"nom\"\n",
    "ws[\"B1\"]=\"Prenom\"\n",
    "wb.save(\"D:/TP DEH ABOUBACAR/STAGE_SEJEN/PYTHON/creer_un_fichier_excel.xlsx\") #Pour sauvegarder dans ce chemin chemin precis"
   ]
  },
  {
   "cell_type": "code",
   "execution_count": 13,
   "metadata": {},
   "outputs": [],
   "source": [
    "#Pour lire un fichier \n",
    "from openpyxl import load_workbook #on importe le module load_workbook\n",
    "wb=load_workbook(\"D:/TP DEH ABOUBACAR/STAGE_SEJEN/PYTHON/Superstore.xlsx\") #On lit le contenu du fichier spécifié dans le chemin d'accés"
   ]
  },
  {
   "cell_type": "code",
   "execution_count": 14,
   "metadata": {},
   "outputs": [
    {
     "data": {
      "text/plain": [
       "['Orders', 'Returns', 'People']"
      ]
     },
     "execution_count": 14,
     "metadata": {},
     "output_type": "execute_result"
    }
   ],
   "source": [
    "wb.sheetnames #Afficher les feuilles actives"
   ]
  },
  {
   "cell_type": "code",
   "execution_count": 15,
   "metadata": {},
   "outputs": [],
   "source": [
    "wb.active=wb.worksheets[1]"
   ]
  },
  {
   "cell_type": "code",
   "execution_count": 16,
   "metadata": {},
   "outputs": [
    {
     "data": {
      "text/plain": [
       "<Worksheet \"Returns\">"
      ]
     },
     "execution_count": 16,
     "metadata": {},
     "output_type": "execute_result"
    }
   ],
   "source": [
    "wb.active"
   ]
  },
  {
   "cell_type": "code",
   "execution_count": 17,
   "metadata": {},
   "outputs": [
    {
     "data": {
      "text/plain": [
       "'nom'"
      ]
     },
     "execution_count": 17,
     "metadata": {},
     "output_type": "execute_result"
    }
   ],
   "source": [
    "ws[\"A1\"].value"
   ]
  },
  {
   "cell_type": "code",
   "execution_count": 18,
   "metadata": {},
   "outputs": [],
   "source": [
    "ws=wb.active #Pour activer la feuille"
   ]
  },
  {
   "cell_type": "code",
   "execution_count": 19,
   "metadata": {},
   "outputs": [
    {
     "data": {
      "text/plain": [
       "'Returned'"
      ]
     },
     "execution_count": 19,
     "metadata": {},
     "output_type": "execute_result"
    }
   ],
   "source": [
    "ws[\"A1\"].value #Pour afficher la valeur "
   ]
  },
  {
   "cell_type": "code",
   "execution_count": 20,
   "metadata": {},
   "outputs": [
    {
     "name": "stdout",
     "output_type": "stream",
     "text": [
      "Returned\n",
      "Order ID\n",
      "Yes\n",
      "CA-2014-153822\n",
      "Yes\n",
      "CA-2014-129707\n",
      "Yes\n",
      "CA-2011-152345\n",
      "Yes\n",
      "CA-2012-156440\n",
      "Yes\n",
      "US-2014-155999\n",
      "Yes\n",
      "CA-2011-157924\n",
      "Yes\n",
      "CA-2014-131807\n",
      "Yes\n",
      "CA-2013-124527\n",
      "Yes\n",
      "CA-2014-135692\n",
      "Yes\n",
      "CA-2011-123225\n",
      "Yes\n",
      "CA-2014-145772\n",
      "Yes\n",
      "US-2011-105137\n",
      "Yes\n",
      "CA-2014-101805\n",
      "Yes\n",
      "CA-2013-111682\n",
      "Yes\n",
      "CA-2014-131492\n",
      "Yes\n",
      "CA-2012-104129\n",
      "Yes\n",
      "CA-2014-117926\n",
      "Yes\n",
      "US-2013-115952\n",
      "Yes\n",
      "CA-2012-155761\n",
      "Yes\n",
      "CA-2014-100111\n",
      "Yes\n",
      "CA-2011-156349\n",
      "Yes\n",
      "CA-2013-118899\n",
      "Yes\n",
      "CA-2014-108294\n",
      "Yes\n",
      "US-2014-123834\n",
      "Yes\n",
      "CA-2012-168480\n",
      "Yes\n",
      "CA-2014-122007\n",
      "Yes\n",
      "CA-2014-128965\n",
      "Yes\n",
      "CA-2012-169397\n",
      "Yes\n",
      "CA-2012-168564\n",
      "Yes\n",
      "CA-2011-102652\n",
      "Yes\n",
      "CA-2013-112340\n",
      "Yes\n",
      "CA-2013-114727\n",
      "Yes\n",
      "US-2013-151827\n",
      "Yes\n",
      "CA-2013-152814\n",
      "Yes\n",
      "US-2013-114230\n",
      "Yes\n",
      "CA-2012-146486\n",
      "Yes\n",
      "CA-2012-116092\n",
      "Yes\n",
      "CA-2014-118542\n",
      "Yes\n",
      "CA-2012-140984\n",
      "Yes\n",
      "CA-2014-127306\n",
      "Yes\n",
      "CA-2014-119284\n",
      "Yes\n",
      "CA-2014-150609\n",
      "Yes\n",
      "CA-2014-136651\n",
      "Yes\n",
      "CA-2014-136539\n",
      "Yes\n",
      "CA-2011-110786\n",
      "Yes\n",
      "CA-2011-126403\n",
      "Yes\n",
      "CA-2013-157280\n",
      "Yes\n",
      "CA-2013-162138\n",
      "Yes\n",
      "CA-2013-114307\n",
      "Yes\n",
      "CA-2011-123498\n",
      "Yes\n",
      "CA-2013-142398\n",
      "Yes\n",
      "CA-2014-161956\n",
      "Yes\n",
      "CA-2014-134194\n",
      "Yes\n",
      "CA-2012-134075\n",
      "Yes\n",
      "US-2013-156986\n",
      "Yes\n",
      "US-2013-105578\n",
      "Yes\n",
      "US-2013-131149\n",
      "Yes\n",
      "US-2014-147886\n",
      "Yes\n",
      "CA-2011-126361\n",
      "Yes\n",
      "CA-2014-141929\n",
      "Yes\n",
      "CA-2013-145583\n",
      "Yes\n",
      "CA-2012-154970\n",
      "Yes\n",
      "CA-2013-167759\n",
      "Yes\n",
      "CA-2014-109085\n",
      "Yes\n",
      "CA-2011-142769\n",
      "Yes\n",
      "US-2014-107888\n",
      "Yes\n",
      "CA-2011-109918\n",
      "Yes\n",
      "CA-2014-131618\n",
      "Yes\n",
      "US-2014-109253\n",
      "Yes\n",
      "CA-2014-130631\n",
      "Yes\n",
      "US-2014-118087\n",
      "Yes\n",
      "CA-2013-126732\n",
      "Yes\n",
      "US-2013-144057\n",
      "Yes\n",
      "CA-2013-168921\n",
      "Yes\n",
      "CA-2013-109806\n",
      "Yes\n",
      "CA-2011-104829\n",
      "Yes\n",
      "CA-2013-147375\n",
      "Yes\n",
      "CA-2011-134726\n",
      "Yes\n",
      "CA-2014-117513\n",
      "Yes\n",
      "US-2011-138758\n",
      "Yes\n",
      "CA-2011-126522\n",
      "Yes\n",
      "CA-2014-115994\n",
      "Yes\n",
      "CA-2013-138282\n",
      "Yes\n",
      "CA-2014-161459\n",
      "Yes\n",
      "CA-2013-136483\n",
      "Yes\n",
      "CA-2013-116547\n",
      "Yes\n",
      "CA-2012-130785\n",
      "Yes\n",
      "CA-2014-165008\n",
      "Yes\n",
      "US-2012-137008\n",
      "Yes\n",
      "CA-2014-169894\n",
      "Yes\n",
      "CA-2011-105270\n",
      "Yes\n",
      "CA-2013-165330\n",
      "Yes\n",
      "CA-2011-111871\n",
      "Yes\n",
      "CA-2012-157812\n",
      "Yes\n",
      "CA-2013-145982\n",
      "Yes\n",
      "CA-2014-166142\n",
      "Yes\n",
      "CA-2011-127131\n",
      "Yes\n",
      "CA-2014-143084\n",
      "Yes\n",
      "CA-2012-151547\n",
      "Yes\n",
      "CA-2012-138674\n",
      "Yes\n",
      "CA-2011-169019\n",
      "Yes\n",
      "CA-2011-100762\n",
      "Yes\n",
      "US-2011-164406\n",
      "Yes\n",
      "CA-2013-118500\n",
      "Yes\n",
      "CA-2012-143490\n",
      "Yes\n",
      "CA-2014-115427\n",
      "Yes\n",
      "CA-2012-124058\n",
      "Yes\n",
      "CA-2014-132346\n",
      "Yes\n",
      "CA-2013-150077\n",
      "Yes\n",
      "CA-2014-124401\n",
      "Yes\n",
      "CA-2014-137414\n",
      "Yes\n",
      "CA-2014-142867\n",
      "Yes\n",
      "CA-2014-157196\n",
      "Yes\n",
      "CA-2012-149342\n",
      "Yes\n",
      "CA-2013-112123\n",
      "Yes\n",
      "US-2014-147998\n",
      "Yes\n",
      "CA-2012-103716\n",
      "Yes\n",
      "CA-2012-144267\n",
      "Yes\n",
      "CA-2013-109869\n",
      "Yes\n",
      "CA-2014-166898\n",
      "Yes\n",
      "CA-2014-169327\n",
      "Yes\n",
      "CA-2014-169859\n",
      "Yes\n",
      "CA-2014-137085\n",
      "Yes\n",
      "CA-2014-154074\n",
      "Yes\n",
      "CA-2013-130477\n",
      "Yes\n",
      "CA-2013-134775\n",
      "Yes\n",
      "US-2014-105046\n",
      "Yes\n",
      "CA-2013-136924\n",
      "Yes\n",
      "CA-2014-166093\n",
      "Yes\n",
      "CA-2013-106950\n",
      "Yes\n",
      "CA-2014-145128\n",
      "Yes\n",
      "US-2013-114293\n",
      "Yes\n",
      "CA-2014-137099\n",
      "Yes\n",
      "CA-2013-133319\n",
      "Yes\n",
      "CA-2011-103744\n",
      "Yes\n",
      "CA-2012-161627\n",
      "Yes\n",
      "CA-2012-142601\n",
      "Yes\n",
      "CA-2012-112144\n",
      "Yes\n",
      "CA-2011-164861\n",
      "Yes\n",
      "US-2012-128090\n",
      "Yes\n",
      "CA-2011-108609\n",
      "Yes\n",
      "CA-2014-147452\n",
      "Yes\n",
      "CA-2012-123568\n",
      "Yes\n",
      "CA-2014-102519\n",
      "Yes\n",
      "CA-2014-121853\n",
      "Yes\n",
      "CA-2012-132374\n",
      "Yes\n",
      "US-2011-150574\n",
      "Yes\n",
      "CA-2011-148614\n",
      "Yes\n",
      "CA-2014-165491\n",
      "Yes\n",
      "CA-2013-133802\n",
      "Yes\n",
      "CA-2014-112865\n",
      "Yes\n",
      "CA-2013-130680\n",
      "Yes\n",
      "CA-2012-114048\n",
      "Yes\n",
      "CA-2014-108931\n",
      "Yes\n",
      "CA-2014-136308\n",
      "Yes\n",
      "CA-2013-126529\n",
      "Yes\n",
      "CA-2011-135699\n",
      "Yes\n",
      "CA-2012-146255\n",
      "Yes\n",
      "CA-2014-140053\n",
      "Yes\n",
      "CA-2011-143336\n",
      "Yes\n",
      "CA-2014-159954\n",
      "Yes\n",
      "CA-2013-105291\n",
      "Yes\n",
      "CA-2014-158729\n",
      "Yes\n",
      "CA-2014-101273\n",
      "Yes\n",
      "CA-2014-123085\n",
      "Yes\n",
      "CA-2014-131828\n",
      "Yes\n",
      "CA-2014-113670\n",
      "Yes\n",
      "CA-2012-135580\n",
      "Yes\n",
      "US-2013-157490\n",
      "Yes\n",
      "CA-2014-142888\n",
      "Yes\n",
      "CA-2011-153150\n",
      "Yes\n",
      "US-2013-152051\n",
      "Yes\n",
      "CA-2011-103940\n",
      "Yes\n",
      "CA-2013-159345\n",
      "Yes\n",
      "CA-2014-162012\n",
      "Yes\n",
      "CA-2012-148873\n",
      "Yes\n",
      "CA-2014-167395\n",
      "Yes\n",
      "US-2013-127425\n",
      "Yes\n",
      "CA-2014-142342\n",
      "Yes\n",
      "CA-2013-159212\n",
      "Yes\n",
      "CA-2013-116736\n",
      "Yes\n",
      "CA-2013-128671\n",
      "Yes\n",
      "CA-2014-112753\n",
      "Yes\n",
      "US-2013-148957\n",
      "Yes\n",
      "CA-2012-110814\n",
      "Yes\n",
      "CA-2011-164721\n",
      "Yes\n",
      "US-2012-136987\n",
      "Yes\n",
      "CA-2013-151372\n",
      "Yes\n",
      "US-2014-151127\n",
      "Yes\n",
      "US-2012-110569\n",
      "Yes\n",
      "CA-2012-153220\n",
      "Yes\n",
      "CA-2014-117212\n",
      "Yes\n",
      "CA-2014-101574\n",
      "Yes\n",
      "CA-2013-151323\n",
      "Yes\n",
      "CA-2011-166744\n",
      "Yes\n",
      "US-2013-119046\n",
      "Yes\n",
      "CA-2012-105158\n",
      "Yes\n",
      "CA-2014-103380\n",
      "Yes\n",
      "CA-2013-161746\n",
      "Yes\n",
      "CA-2012-111948\n",
      "Yes\n",
      "CA-2014-138163\n",
      "Yes\n",
      "CA-2012-134201\n",
      "Yes\n",
      "US-2012-126214\n",
      "Yes\n",
      "CA-2011-140816\n",
      "Yes\n",
      "CA-2011-133690\n",
      "Yes\n",
      "CA-2013-120873\n",
      "Yes\n",
      "US-2014-103247\n",
      "Yes\n",
      "CA-2014-155712\n",
      "Yes\n",
      "US-2013-108455\n",
      "Yes\n",
      "CA-2013-104689\n",
      "Yes\n",
      "CA-2014-152660\n",
      "Yes\n",
      "US-2012-136749\n",
      "Yes\n",
      "CA-2012-143602\n",
      "Yes\n",
      "CA-2013-134803\n",
      "Yes\n",
      "CA-2013-139269\n",
      "Yes\n",
      "CA-2011-123253\n",
      "Yes\n",
      "CA-2013-162159\n",
      "Yes\n",
      "US-2013-135720\n",
      "Yes\n",
      "CA-2011-159338\n",
      "Yes\n",
      "US-2014-136679\n",
      "Yes\n",
      "CA-2012-113628\n",
      "Yes\n",
      "CA-2014-107825\n",
      "Yes\n",
      "CA-2011-160766\n",
      "Yes\n",
      "CA-2013-118311\n",
      "Yes\n",
      "CA-2012-130456\n",
      "Yes\n",
      "CA-2011-148950\n",
      "Yes\n",
      "CA-2012-119214\n",
      "Yes\n",
      "CA-2012-119907\n",
      "Yes\n",
      "CA-2014-137428\n",
      "Yes\n",
      "CA-2011-108861\n",
      "Yes\n",
      "CA-2013-130638\n",
      "Yes\n",
      "CA-2012-143238\n",
      "Yes\n",
      "CA-2012-109736\n",
      "Yes\n",
      "CA-2011-124688\n",
      "Yes\n",
      "CA-2013-133368\n",
      "Yes\n",
      "CA-2014-168193\n",
      "Yes\n",
      "CA-2011-135657\n",
      "Yes\n",
      "CA-2013-105081\n",
      "Yes\n",
      "CA-2014-154214\n",
      "Yes\n",
      "CA-2012-107678\n",
      "Yes\n",
      "CA-2014-144064\n",
      "Yes\n",
      "CA-2014-101700\n",
      "Yes\n",
      "CA-2013-113341\n",
      "Yes\n",
      "CA-2012-139731\n",
      "Yes\n",
      "CA-2012-132941\n",
      "Yes\n",
      "CA-2012-146262\n",
      "Yes\n",
      "CA-2013-115917\n",
      "Yes\n",
      "US-2013-111528\n",
      "Yes\n",
      "CA-2014-142328\n",
      "Yes\n",
      "CA-2012-141593\n",
      "Yes\n",
      "CA-2014-121258\n",
      "Yes\n",
      "CA-2011-141726\n",
      "Yes\n",
      "CA-2014-167003\n",
      "Yes\n",
      "US-2012-160857\n",
      "Yes\n",
      "CA-2013-145261\n",
      "Yes\n",
      "CA-2014-112725\n",
      "Yes\n",
      "CA-2013-145919\n",
      "Yes\n",
      "CA-2014-140151\n",
      "Yes\n",
      "CA-2012-164882\n",
      "Yes\n",
      "CA-2014-123491\n",
      "Yes\n",
      "CA-2011-127012\n",
      "Yes\n",
      "CA-2013-123526\n",
      "Yes\n",
      "CA-2014-161557\n",
      "Yes\n",
      "CA-2012-150875\n",
      "Yes\n",
      "CA-2012-150770\n",
      "Yes\n",
      "US-2011-140452\n",
      "Yes\n",
      "CA-2012-149650\n",
      "Yes\n",
      "CA-2011-100867\n",
      "Yes\n",
      "CA-2014-140186\n",
      "Yes\n",
      "CA-2014-156391\n",
      "Yes\n",
      "CA-2012-157770\n",
      "Yes\n",
      "CA-2014-140963\n",
      "Yes\n",
      "CA-2014-154949\n",
      "Yes\n",
      "CA-2013-166275\n",
      "Yes\n",
      "US-2011-143287\n",
      "Yes\n",
      "CA-2011-151162\n",
      "Yes\n",
      "US-2014-103828\n",
      "Yes\n",
      "CA-2011-143840\n",
      "Yes\n",
      "CA-2011-160773\n",
      "Yes\n",
      "CA-2014-111556\n",
      "Yes\n",
      "CA-2014-140585\n",
      "Yes\n",
      "CA-2011-103373\n",
      "Yes\n",
      "CA-2013-159023\n",
      "Yes\n",
      "CA-2013-145492\n",
      "Yes\n",
      "CA-2014-118122\n",
      "Yes\n",
      "CA-2011-116785\n",
      "Yes\n",
      "US-2011-164763\n",
      "Yes\n",
      "CA-2014-122504\n",
      "Yes\n",
      "CA-2014-150910\n",
      "Yes\n",
      "CA-2012-162166\n",
      "Yes\n",
      "US-2013-140172\n",
      "Yes\n",
      "CA-2012-101910\n",
      "Yes\n",
      "CA-2014-156958\n",
      "Yes\n",
      "CA-2013-105585\n",
      "Yes\n",
      "CA-2013-148796\n",
      "Yes\n",
      "CA-2012-149636\n"
     ]
    }
   ],
   "source": [
    "for row in ws.rows:\n",
    "    for cell in row:\n",
    "        print(cell.value) #Afficher la valeur de toutes les cellules"
   ]
  },
  {
   "cell_type": "markdown",
   "metadata": {},
   "source": [
    "#AVEC MARRAINE"
   ]
  },
  {
   "cell_type": "code",
   "execution_count": 21,
   "metadata": {},
   "outputs": [],
   "source": [
    "Tweet=[\"Drogba\",\"Keita\",\"Blaise\"]\n",
    "Followers=[\"Pepe\",\"Zaha\",\"Gbongouo\",23]\n",
    "Equipe_nationale=[Tweet,Followers]\n",
    "#Afficher Drogba,23 puis la longueur de la prémière liste\n"
   ]
  },
  {
   "cell_type": "code",
   "execution_count": 22,
   "metadata": {},
   "outputs": [
    {
     "name": "stdout",
     "output_type": "stream",
     "text": [
      "Drogba 23\n"
     ]
    }
   ],
   "source": [
    "tache1=Equipe_nationale[0][0]\n",
    "tache2=Equipe_nationale[1][3]\n",
    "print(tache1,tache2)"
   ]
  },
  {
   "cell_type": "code",
   "execution_count": 24,
   "metadata": {},
   "outputs": [
    {
     "name": "stdout",
     "output_type": "stream",
     "text": [
      "3\n"
     ]
    }
   ],
   "source": [
    "tache3=len(Equipe_nationale[0])\n",
    "print(tache3)"
   ]
  },
  {
   "cell_type": "markdown",
   "metadata": {},
   "source": [
    "# LES TUPLES ET ENSEMBLES"
   ]
  },
  {
   "cell_type": "code",
   "execution_count": 25,
   "metadata": {},
   "outputs": [],
   "source": [
    "ensemble=set({\"France\",\"usa\",\"Russie\",\"Canada\",1}) #Les ensembles sont des collections d'objet non ordonnées & distinct"
   ]
  },
  {
   "cell_type": "code",
   "execution_count": 27,
   "metadata": {},
   "outputs": [
    {
     "data": {
      "text/plain": [
       "True"
      ]
     },
     "execution_count": 27,
     "metadata": {},
     "output_type": "execute_result"
    }
   ],
   "source": [
    "\"usa\" in ensemble\n"
   ]
  },
  {
   "cell_type": "code",
   "execution_count": 28,
   "metadata": {},
   "outputs": [
    {
     "name": "stdout",
     "output_type": "stream",
     "text": [
      "{'Canada', 1, 'France', 'Norvege', 'usa', 'Russie'} {'Canada', 1, 'France', 'usa', 'Russie'}\n"
     ]
    }
   ],
   "source": [
    "c=ensemble.copy()\n",
    "c.add(\"Norvege\")\n",
    "print(c, ensemble)"
   ]
  },
  {
   "cell_type": "code",
   "execution_count": 29,
   "metadata": {},
   "outputs": [
    {
     "name": "stdout",
     "output_type": "stream",
     "text": [
      "<class 'dict'>\n"
     ]
    }
   ],
   "source": [
    "t={}\n",
    "print(type(t)) #est un dictionnaire"
   ]
  },
  {
   "cell_type": "markdown",
   "metadata": {},
   "source": [
    "# Les dictionnaires **sont des ensembles de clés valeurs"
   ]
  },
  {
   "cell_type": "code",
   "execution_count": 30,
   "metadata": {},
   "outputs": [],
   "source": [
    "profile_student={\"nom\":\"Meite\",\n",
    "                \"Prenom\":\"En ligne\",\n",
    "                \"Classe\":\"AD3\",\n",
    "                \"Age\":24,\n",
    "                \"Nourriture pref\":[\"Toho\",\"Placali\",\"sauce daa\"]}"
   ]
  },
  {
   "cell_type": "code",
   "execution_count": 33,
   "metadata": {},
   "outputs": [
    {
     "name": "stdout",
     "output_type": "stream",
     "text": [
      "{'nom': 'Meite', 'Prenom': 'En ligne', 'Classe': 'AD3', 'Age': 24, 'Nourriture pref': ['Toho', 'Placali', 'sauce daa']}\n"
     ]
    }
   ],
   "source": [
    "print(profile_student)"
   ]
  },
  {
   "cell_type": "code",
   "execution_count": 46,
   "metadata": {},
   "outputs": [
    {
     "name": "stdout",
     "output_type": "stream",
     "text": [
      "{'nom': 'Meite', 'Prenom': 'En ligne', 'Classe': 'AD2'}\n"
     ]
    }
   ],
   "source": [
    "profile_student2=dict([(\"nom\",\"Meite\"),\n",
    "                (\"Prenom\",\"En ligne\"),\n",
    "                (\"Classe\",\"AD2\")])\n",
    "print(profile_student2)"
   ]
  },
  {
   "cell_type": "code",
   "execution_count": 36,
   "metadata": {},
   "outputs": [
    {
     "name": "stdout",
     "output_type": "stream",
     "text": [
      "Meite\n"
     ]
    }
   ],
   "source": [
    "print(profile_student2[\"nom\"])"
   ]
  },
  {
   "cell_type": "code",
   "execution_count": 39,
   "metadata": {},
   "outputs": [
    {
     "data": {
      "text/plain": [
       "dict_keys(['nom', 'Prenom', 'Classe', 'Age', 'Nourriture pref'])"
      ]
     },
     "execution_count": 39,
     "metadata": {},
     "output_type": "execute_result"
    }
   ],
   "source": [
    "dict.keys(profile_student)"
   ]
  },
  {
   "cell_type": "code",
   "execution_count": 41,
   "metadata": {},
   "outputs": [
    {
     "data": {
      "text/plain": [
       "dict_values(['Meite', 'En ligne', 'AD3', 24, ['Toho', 'Placali', 'sauce daa']])"
      ]
     },
     "execution_count": 41,
     "metadata": {},
     "output_type": "execute_result"
    }
   ],
   "source": [
    "dict.values(profile_student)"
   ]
  },
  {
   "cell_type": "code",
   "execution_count": 42,
   "metadata": {},
   "outputs": [
    {
     "data": {
      "text/plain": [
       "dict_items([('nom', 'Meite'), ('Prenom', 'En ligne'), ('Classe', 'AD3'), ('Age', 24), ('Nourriture pref', ['Toho', 'Placali', 'sauce daa'])])"
      ]
     },
     "execution_count": 42,
     "metadata": {},
     "output_type": "execute_result"
    }
   ],
   "source": [
    "dict.items(profile_student)"
   ]
  },
  {
   "cell_type": "code",
   "execution_count": 43,
   "metadata": {},
   "outputs": [
    {
     "name": "stdout",
     "output_type": "stream",
     "text": [
      "dict_values(['Meite', 'En ligne', 'AD3', 24, ['Toho', 'Placali', 'sauce daa']])\n"
     ]
    }
   ],
   "source": [
    "list_values=profile_student.values()\n",
    "print(list_values)"
   ]
  },
  {
   "cell_type": "code",
   "execution_count": 44,
   "metadata": {},
   "outputs": [],
   "source": [
    "profile_student['Prenom']=\"Anliou\" #Modifie une valeur dans un dictionnaire"
   ]
  },
  {
   "cell_type": "code",
   "execution_count": 45,
   "metadata": {},
   "outputs": [
    {
     "name": "stdout",
     "output_type": "stream",
     "text": [
      "{'nom': 'Meite', 'Prenom': 'Anliou', 'Classe': 'AD3', 'Age': 24, 'Nourriture pref': ['Toho', 'Placali', 'sauce daa']}\n"
     ]
    }
   ],
   "source": [
    "print(profile_student)"
   ]
  },
  {
   "cell_type": "code",
   "execution_count": 47,
   "metadata": {},
   "outputs": [],
   "source": [
    "profile_student2[\"nom\"]=\"Haziel\""
   ]
  },
  {
   "cell_type": "code",
   "execution_count": 48,
   "metadata": {},
   "outputs": [
    {
     "name": "stdout",
     "output_type": "stream",
     "text": [
      "{'nom': 'Haziel', 'Prenom': 'En ligne', 'Classe': 'AD2', 'Age': 24, 'Nourriture pref': ['Toho', 'Placali', 'sauce daa']}\n"
     ]
    }
   ],
   "source": [
    "profile_student.update(profile_student2)\n",
    "print(profile_student) #Sert à remplacer les valeurs de la premiere variable par les variables de la seconde var"
   ]
  },
  {
   "cell_type": "code",
   "execution_count": 49,
   "metadata": {},
   "outputs": [
    {
     "name": "stdout",
     "output_type": "stream",
     "text": [
      "{'Prenom': 'En ligne', 'Classe': 'AD2'}\n"
     ]
    }
   ],
   "source": [
    "del profile_student2[\"nom\"] #Sert à supprimer la clé nom\n",
    "print(profile_student2) "
   ]
  },
  {
   "cell_type": "code",
   "execution_count": 50,
   "metadata": {},
   "outputs": [
    {
     "name": "stdout",
     "output_type": "stream",
     "text": [
      "AD2\n"
     ]
    }
   ],
   "source": [
    "residu=profile_student2.pop(\"Classe\") #Supprime la classe et l'insere dans une variable comme corbeille\n",
    "print(residu)"
   ]
  },
  {
   "cell_type": "markdown",
   "metadata": {},
   "source": [
    "# ESSAI    **Lundi 1 juillet 2019**"
   ]
  },
  {
   "cell_type": "code",
   "execution_count": 5,
   "metadata": {},
   "outputs": [
    {
     "name": "stdout",
     "output_type": "stream",
     "text": [
      "Entrez le nom du pays :France\n",
      "Ce  France  est en Europe\n"
     ]
    }
   ],
   "source": [
    "europe=[\"Allemagne\",\"France\",\"Espagne\"]\n",
    "asie=[\"Vietnam\",\"Chine\",\"Inde\"]\n",
    "pays=str(input(\"Entrez le nom du pays :\"))\n",
    "continent=(\"\")\n",
    "if pays in europe :\n",
    "    continent=\"Europe\"\n",
    "    #print(\"Le pays est en\",continent)\n",
    "elif pays in asie :\n",
    "    continent=\"Asie\"\n",
    "    #print(\"Le pays est en\",continent)\n",
    "else :\n",
    "    continent=\"Autre\"\n",
    "print(\"Ce \",pays,\" est en\",continent)"
   ]
  },
  {
   "cell_type": "code",
   "execution_count": 12,
   "metadata": {},
   "outputs": [
    {
     "name": "stdout",
     "output_type": "stream",
     "text": [
      "Le carré de 0 est 0 \n",
      "Le carré de 1 est 1 \n",
      "Le carré de 2 est 4 \n",
      "Le carré de 3 est 9 \n",
      "Le carré de 4 est 16 \n",
      "Le carré de 5 est 25 \n",
      "Le carré de 6 est 36 \n",
      "Le carré de 7 est 49 \n",
      "Le carré de 8 est 64 \n",
      "Le carré de 9 est 81 \n"
     ]
    }
   ],
   "source": [
    "\n",
    "for i in range(10):\n",
    "    j=i**2\n",
    "    print(\"Le carré de {} est {} \".format(i,j))\n"
   ]
  },
  {
   "cell_type": "code",
   "execution_count": 14,
   "metadata": {},
   "outputs": [
    {
     "name": "stdout",
     "output_type": "stream",
     "text": [
      "Le carré de 0 est 0 \n",
      "Le carré de 1 est 1 \n",
      "Le carré de 2 est 4 \n",
      "Le carré de 3 est 9 \n",
      "Le carré de 4 est 16 \n",
      "Le carré de 5 est 25 \n",
      "Le carré de 6 est 36 \n",
      "Le carré de 7 est 49 \n",
      "Le carré de 8 est 64 \n",
      "Le carré de 9 est 81 \n"
     ]
    }
   ],
   "source": [
    "for i in range(10):\n",
    "    j=i**2\n",
    "    print(\"Le carré de %i est %i \"%(i,j))"
   ]
  },
  {
   "cell_type": "code",
   "execution_count": 2,
   "metadata": {},
   "outputs": [
    {
     "name": "stdout",
     "output_type": "stream",
     "text": [
      "le nombre 20.0 est divisible par 5\n",
      "le nombre 4.0 est divisible par 5\n"
     ]
    }
   ],
   "source": [
    "a=100\n",
    "\n",
    "while a%5==0 :\n",
    "    n=a/5\n",
    "    print(\"le nombre\",n,\"est divisible par 5\")\n",
    "    a=a/5"
   ]
  },
  {
   "cell_type": "code",
   "execution_count": 4,
   "metadata": {},
   "outputs": [
    {
     "name": "stdout",
     "output_type": "stream",
     "text": [
      "le resultat 0\n",
      "le resultat 1\n",
      "le resultat 4\n",
      "le resultat 9\n",
      "le resultat 16\n",
      "le resultat 25\n",
      "le resultat 36\n",
      "le resultat 49\n",
      "le resultat 64\n",
      "le resultat 81\n",
      "le resultat 100\n"
     ]
    }
   ],
   "source": [
    "cpte=0\n",
    "resultat=0\n",
    "while resultat<100:\n",
    "    resultat=cpte**2\n",
    "    print(\"le resultat\",resultat)\n",
    "    cpte+=1"
   ]
  },
  {
   "cell_type": "markdown",
   "metadata": {},
   "source": [
    "                               ***Les fonctions***"
   ]
  },
  {
   "cell_type": "code",
   "execution_count": 5,
   "metadata": {},
   "outputs": [],
   "source": [
    "def fonction_cobbDouglass(K,L):\n",
    "    return (K**0.4)*(L**0.6)"
   ]
  },
  {
   "cell_type": "code",
   "execution_count": 6,
   "metadata": {},
   "outputs": [
    {
     "data": {
      "text/plain": [
       "81.51931096059228"
      ]
     },
     "execution_count": 6,
     "metadata": {},
     "output_type": "execute_result"
    }
   ],
   "source": [
    " fonction_cobbDouglass(60,100)\n"
   ]
  },
  {
   "cell_type": "code",
   "execution_count": 7,
   "metadata": {},
   "outputs": [
    {
     "name": "stdout",
     "output_type": "stream",
     "text": [
      "19.331820449317625\n"
     ]
    }
   ],
   "source": [
    "production=fonction_cobbDouglass(10,30)\n",
    "print(production)"
   ]
  },
  {
   "cell_type": "code",
   "execution_count": 8,
   "metadata": {},
   "outputs": [],
   "source": [
    "import statistics\n",
    "def stat_des(x):\n",
    "    \"\"\"Retourne la moyenne et l'ecart type\"\"\"\n",
    "    return(\"La moyenne est : \",statistics.mean(x),\"et son ecart_type est \",statistics.stdev(x))"
   ]
  },
  {
   "cell_type": "code",
   "execution_count": 9,
   "metadata": {},
   "outputs": [
    {
     "name": "stdout",
     "output_type": "stream",
     "text": [
      "('La moyenne est : ', 17.75, 'et son ecart_type est ', 2.9860788111948193)\n"
     ]
    }
   ],
   "source": [
    "x=[15,17,22,17]\n",
    "resultat=stat_des(x)\n",
    "print(resultat)"
   ]
  },
  {
   "cell_type": "code",
   "execution_count": 10,
   "metadata": {},
   "outputs": [],
   "source": [
    "import pandas\n",
    "df = pandas.DataFrame({'A': [1.1, 2.7, 5.3], 'B': [2, 10, 9], 'C': [3.3, 5.4, 1.5], 'D': [4, 7, 15]},\n",
    "                      index = ['a1', 'a2', 'a3'])"
   ]
  },
  {
   "cell_type": "code",
   "execution_count": 11,
   "metadata": {},
   "outputs": [
    {
     "name": "stdout",
     "output_type": "stream",
     "text": [
      "      A   B    C   D\n",
      "a1  1.1   2  3.3   4\n",
      "a2  2.7  10  5.4   7\n",
      "a3  5.3   9  1.5  15\n"
     ]
    }
   ],
   "source": [
    "print(df)"
   ]
  },
  {
   "cell_type": "markdown",
   "metadata": {},
   "source": [
    "# Utimisation de numpy\n"
   ]
  },
  {
   "cell_type": "code",
   "execution_count": 12,
   "metadata": {},
   "outputs": [],
   "source": [
    "import numpy as np"
   ]
  },
  {
   "cell_type": "code",
   "execution_count": 13,
   "metadata": {},
   "outputs": [
    {
     "name": "stdout",
     "output_type": "stream",
     "text": [
      "[3 4 5 6]\n"
     ]
    }
   ],
   "source": [
    "liste1=[3,4,5,6]\n",
    "liste2=[9,8,7,6]\n",
    "tableau=np.array(liste1)\n",
    "print(tableau)"
   ]
  },
  {
   "cell_type": "code",
   "execution_count": 14,
   "metadata": {},
   "outputs": [
    {
     "name": "stdout",
     "output_type": "stream",
     "text": [
      "[[0. 0. 0. 0. 0.]\n",
      " [0. 0. 0. 0. 0.]\n",
      " [0. 0. 0. 0. 0.]\n",
      " [0. 0. 0. 0. 0.]]\n",
      "[[1. 1. 1. 1. 1.]\n",
      " [1. 1. 1. 1. 1.]\n",
      " [1. 1. 1. 1. 1.]\n",
      " [1. 1. 1. 1. 1.]]\n"
     ]
    }
   ],
   "source": [
    "print(np.zeros((4,5)))\n",
    "print(np.ones((4,5)))"
   ]
  },
  {
   "cell_type": "code",
   "execution_count": 18,
   "metadata": {},
   "outputs": [
    {
     "name": "stdout",
     "output_type": "stream",
     "text": [
      "[[1 0 0]\n",
      " [0 1 0]\n",
      " [0 0 1]]\n"
     ]
    }
   ],
   "source": [
    "print(np.eye(3,dtype=\"int\"))"
   ]
  },
  {
   "cell_type": "code",
   "execution_count": 19,
   "metadata": {},
   "outputs": [
    {
     "name": "stdout",
     "output_type": "stream",
     "text": [
      "1\n"
     ]
    }
   ],
   "source": [
    "print(np.ndim(tableau))"
   ]
  },
  {
   "cell_type": "code",
   "execution_count": 22,
   "metadata": {},
   "outputs": [
    {
     "name": "stdout",
     "output_type": "stream",
     "text": [
      "[[11  4  9]\n",
      " [ 8  7  6]\n",
      " [87 43 12]]\n"
     ]
    }
   ],
   "source": [
    "tu1=(11,4,9,8,7,6,87,43,12)\n",
    "tableau=np.array(tu1)\n",
    "tableau.shape=(3,3)\n",
    "print(tableau)"
   ]
  },
  {
   "cell_type": "markdown",
   "metadata": {},
   "source": [
    "# Vendredi le 03 juillet 2019"
   ]
  },
  {
   "cell_type": "code",
   "execution_count": 6,
   "metadata": {},
   "outputs": [
    {
     "name": "stdout",
     "output_type": "stream",
     "text": [
      "Entrez la borne inf : 2\n",
      "Entrez la borne sup : 5\n"
     ]
    }
   ],
   "source": [
    "x=int(input(\"Entrez la borne inf : \"))\n",
    "y=int(input(\"Entrez la borne sup : \"))\n",
    "\n",
    "def intervalle(x,y):\n",
    "    \"\"\"Renvoie un intervalle formé des deux nombres\"\"\"\n",
    "    if x==y :\n",
    "        print(\"Les deux nombres entrés doivent etre different\")\n",
    "    elif x>y: \n",
    "        print(\"Le premier nombre doit etre inférieur au second\")\n",
    "    elif x<y :\n",
    "        return (print(\"l'intervalle est [\",x,\";\",y,\"]\"))\n",
    "        \n",
    "    "
   ]
  },
  {
   "cell_type": "code",
   "execution_count": 7,
   "metadata": {},
   "outputs": [
    {
     "name": "stdout",
     "output_type": "stream",
     "text": [
      "l'intervalle est [ 2 ; 5 ]\n"
     ]
    }
   ],
   "source": [
    "intervalle(x,y)"
   ]
  },
  {
   "cell_type": "code",
   "execution_count": 11,
   "metadata": {},
   "outputs": [
    {
     "name": "stdout",
     "output_type": "stream",
     "text": [
      "[[1. 0. 0. 0.]\n",
      " [0. 1. 0. 0.]\n",
      " [0. 0. 1. 0.]\n",
      " [0. 0. 0. 1.]]\n"
     ]
    }
   ],
   "source": [
    "import numpy as np\n",
    "print(np.eye(4))"
   ]
  },
  {
   "cell_type": "code",
   "execution_count": 14,
   "metadata": {},
   "outputs": [
    {
     "name": "stdout",
     "output_type": "stream",
     "text": [
      "[[ 1.  2.  3.  4.]\n",
      " [ 5.  6.  7.  8.]\n",
      " [ 9.  0. -7.  2.]\n",
      " [ 6. -1.  0.  3.]]\n"
     ]
    }
   ],
   "source": [
    "table = (1,2,3,4,5,6,7,8,9,0,-2-5,2,6,-1,0,3)\n",
    "m=np.array((table),dtype=float)\n",
    "m.shape= (4,4)\n",
    "print(m)"
   ]
  },
  {
   "cell_type": "code",
   "execution_count": 15,
   "metadata": {},
   "outputs": [
    {
     "name": "stdout",
     "output_type": "stream",
     "text": [
      "[[ 1  2  3  4]\n",
      " [ 5  6  7  8]\n",
      " [ 9  0 -7  2]\n",
      " [ 6 -1  0  3]]\n"
     ]
    }
   ],
   "source": [
    "y=m.astype(\"int\")\n",
    "print(y)"
   ]
  },
  {
   "cell_type": "code",
   "execution_count": 16,
   "metadata": {},
   "outputs": [
    {
     "name": "stdout",
     "output_type": "stream",
     "text": [
      "(4, 4)\n"
     ]
    }
   ],
   "source": [
    "print(y.shape)\n"
   ]
  },
  {
   "cell_type": "code",
   "execution_count": 17,
   "metadata": {},
   "outputs": [
    {
     "name": "stdout",
     "output_type": "stream",
     "text": [
      "16\n"
     ]
    }
   ],
   "source": [
    "print(y.size)"
   ]
  },
  {
   "cell_type": "code",
   "execution_count": 18,
   "metadata": {},
   "outputs": [
    {
     "data": {
      "text/plain": [
       "7"
      ]
     },
     "execution_count": 18,
     "metadata": {},
     "output_type": "execute_result"
    }
   ],
   "source": [
    "y[1][2]"
   ]
  },
  {
   "cell_type": "code",
   "execution_count": 29,
   "metadata": {},
   "outputs": [
    {
     "data": {
      "text/plain": [
       "array([[ 9,  0, -7,  2]])"
      ]
     },
     "execution_count": 29,
     "metadata": {},
     "output_type": "execute_result"
    }
   ],
   "source": [
    "y[1:][1:2]"
   ]
  },
  {
   "cell_type": "code",
   "execution_count": 20,
   "metadata": {},
   "outputs": [
    {
     "data": {
      "text/plain": [
       "array([ 9,  0, -7,  2])"
      ]
     },
     "execution_count": 20,
     "metadata": {},
     "output_type": "execute_result"
    }
   ],
   "source": [
    "y[2]"
   ]
  },
  {
   "cell_type": "code",
   "execution_count": 30,
   "metadata": {},
   "outputs": [
    {
     "data": {
      "text/plain": [
       "array([[ 2],\n",
       "       [ 6],\n",
       "       [ 0],\n",
       "       [-1]])"
      ]
     },
     "execution_count": 30,
     "metadata": {},
     "output_type": "execute_result"
    }
   ],
   "source": [
    "y[:,[1]]"
   ]
  },
  {
   "cell_type": "code",
   "execution_count": 34,
   "metadata": {},
   "outputs": [
    {
     "data": {
      "text/plain": [
       "array([[1, 4],\n",
       "       [5, 8],\n",
       "       [9, 2],\n",
       "       [6, 3]])"
      ]
     },
     "execution_count": 34,
     "metadata": {},
     "output_type": "execute_result"
    }
   ],
   "source": [
    "y[:,[0,3]] #premier crochet pour les lignes et la deuxieme pour les colonnes\n"
   ]
  },
  {
   "cell_type": "code",
   "execution_count": 35,
   "metadata": {},
   "outputs": [],
   "source": [
    "y[0]=[0,0,2,2]"
   ]
  },
  {
   "cell_type": "code",
   "execution_count": 36,
   "metadata": {},
   "outputs": [
    {
     "name": "stdout",
     "output_type": "stream",
     "text": [
      "[[ 0  0  2  2]\n",
      " [ 5  6  7  8]\n",
      " [ 9  0 -7  2]\n",
      " [ 6 -1  0  3]]\n"
     ]
    }
   ],
   "source": [
    "print(y)\n"
   ]
  },
  {
   "cell_type": "code",
   "execution_count": 37,
   "metadata": {},
   "outputs": [
    {
     "data": {
      "text/plain": [
       "array([[0],\n",
       "       [5],\n",
       "       [9],\n",
       "       [6]])"
      ]
     },
     "execution_count": 37,
     "metadata": {},
     "output_type": "execute_result"
    }
   ],
   "source": [
    "y[:,[0]]"
   ]
  },
  {
   "cell_type": "code",
   "execution_count": 39,
   "metadata": {},
   "outputs": [],
   "source": [
    "b = np.array(([1,2,3,4]))\n",
    "table1 = np.c_[y,b]"
   ]
  },
  {
   "cell_type": "code",
   "execution_count": 40,
   "metadata": {},
   "outputs": [
    {
     "name": "stdout",
     "output_type": "stream",
     "text": [
      "[[ 0  0  2  2  1]\n",
      " [ 5  6  7  8  2]\n",
      " [ 9  0 -7  2  3]\n",
      " [ 6 -1  0  3  4]]\n"
     ]
    }
   ],
   "source": [
    "print(table1)"
   ]
  },
  {
   "cell_type": "code",
   "execution_count": 43,
   "metadata": {},
   "outputs": [
    {
     "data": {
      "text/plain": [
       "array([[ 0,  0,  2,  2],\n",
       "       [ 3,  1,  5,  0],\n",
       "       [ 5,  6,  7,  8],\n",
       "       [ 9,  0, -7,  2],\n",
       "       [ 6, -1,  0,  3]])"
      ]
     },
     "execution_count": 43,
     "metadata": {},
     "output_type": "execute_result"
    }
   ],
   "source": [
    "b=np.array(([3,1,5,0]))\n",
    "np.insert(y,1,b,axis=0)"
   ]
  },
  {
   "cell_type": "code",
   "execution_count": 44,
   "metadata": {},
   "outputs": [
    {
     "data": {
      "text/plain": [
       "array([[ 5,  6,  7,  8],\n",
       "       [ 9,  0, -7,  2],\n",
       "       [ 6, -1,  0,  3]])"
      ]
     },
     "execution_count": 44,
     "metadata": {},
     "output_type": "execute_result"
    }
   ],
   "source": [
    "np.delete(y,0,axis=0)"
   ]
  },
  {
   "cell_type": "code",
   "execution_count": 45,
   "metadata": {},
   "outputs": [
    {
     "data": {
      "text/plain": [
       "array([[ 0,  0,  2,  2],\n",
       "       [ 9,  0, -7,  2],\n",
       "       [ 6, -1,  0,  3]])"
      ]
     },
     "execution_count": 45,
     "metadata": {},
     "output_type": "execute_result"
    }
   ],
   "source": [
    "np.delete(y,1,axis=0)"
   ]
  },
  {
   "cell_type": "code",
   "execution_count": 49,
   "metadata": {},
   "outputs": [
    {
     "name": "stdout",
     "output_type": "stream",
     "text": [
      "[[ 0  2  2  1]\n",
      " [ 5  7  8  2]\n",
      " [ 9 -7  2  3]\n",
      " [ 6  0  3  4]]\n"
     ]
    }
   ],
   "source": [
    "z=np.delete(table1,1,axis=1)\n",
    "print(z)"
   ]
  },
  {
   "cell_type": "code",
   "execution_count": 50,
   "metadata": {},
   "outputs": [
    {
     "name": "stdout",
     "output_type": "stream",
     "text": [
      "[[ 0  2  2  1]\n",
      " [ 5  7  8  2]\n",
      " [ 9 -7  2  3]\n",
      " [ 6  0  3  4]]\n"
     ]
    }
   ],
   "source": [
    "print(z)"
   ]
  },
  {
   "cell_type": "code",
   "execution_count": 51,
   "metadata": {},
   "outputs": [
    {
     "name": "stdout",
     "output_type": "stream",
     "text": [
      "[[ 0  2  2  1]\n",
      " [ 5  7  8  2]\n",
      " [ 9 -7  2  3]\n",
      " [ 6  0  3  4]]\n"
     ]
    }
   ],
   "source": [
    "import copy\n",
    "e=copy.deepcopy(z)\n",
    "print(e)"
   ]
  },
  {
   "cell_type": "code",
   "execution_count": 52,
   "metadata": {},
   "outputs": [
    {
     "name": "stdout",
     "output_type": "stream",
     "text": [
      "[[ 0  5  9  6]\n",
      " [ 2  7 -7  0]\n",
      " [ 2  8  2  3]\n",
      " [ 1  2  3  4]]\n"
     ]
    }
   ],
   "source": [
    "e_transpose=e.T\n",
    "print(e_transpose)"
   ]
  },
  {
   "cell_type": "code",
   "execution_count": 60,
   "metadata": {},
   "outputs": [
    {
     "name": "stdout",
     "output_type": "stream",
     "text": [
      "[[1 2]\n",
      " [3 4]]\n"
     ]
    }
   ],
   "source": [
    "t_1=(1,2,3,4)\n",
    "table2=np.array((t_1))\n",
    "table2.shape = (2,2)\n",
    "\n",
    "print(table2)"
   ]
  },
  {
   "cell_type": "code",
   "execution_count": 61,
   "metadata": {},
   "outputs": [
    {
     "name": "stdout",
     "output_type": "stream",
     "text": [
      "[[11 -2]\n",
      " [ 3 14]]\n"
     ]
    }
   ],
   "source": [
    "t_2=([[11,-2],[3,14]])\n",
    "table3=np.array(t_2)\n",
    "table3.shape = (2,2)\n",
    "print(table3)"
   ]
  },
  {
   "cell_type": "markdown",
   "metadata": {},
   "source": [
    "# Les calculs scientifiques avec numpy"
   ]
  },
  {
   "cell_type": "code",
   "execution_count": 62,
   "metadata": {},
   "outputs": [
    {
     "name": "stdout",
     "output_type": "stream",
     "text": [
      "[[ 0  0  2  2]\n",
      " [ 5  6  7  8]\n",
      " [ 9  0 -7  2]\n",
      " [ 6 -1  0  3]]\n"
     ]
    }
   ],
   "source": [
    "print(y)"
   ]
  },
  {
   "cell_type": "code",
   "execution_count": 63,
   "metadata": {},
   "outputs": [
    {
     "name": "stdout",
     "output_type": "stream",
     "text": [
      "La somme des element est  42\n"
     ]
    }
   ],
   "source": [
    "print(\"La somme des element est \",y.sum())"
   ]
  },
  {
   "cell_type": "code",
   "execution_count": 64,
   "metadata": {},
   "outputs": [
    {
     "name": "stdout",
     "output_type": "stream",
     "text": [
      "La somme des element de y par colonne est  [20  5  2 15]\n"
     ]
    }
   ],
   "source": [
    "print(\"La somme des element de y par colonne est \",y.sum(axis=0))"
   ]
  },
  {
   "cell_type": "code",
   "execution_count": 65,
   "metadata": {},
   "outputs": [
    {
     "name": "stdout",
     "output_type": "stream",
     "text": [
      "2.625\n",
      "2.625\n"
     ]
    }
   ],
   "source": [
    "print(y.mean())\n",
    "print(np.mean(y))"
   ]
  },
  {
   "cell_type": "code",
   "execution_count": 74,
   "metadata": {},
   "outputs": [
    {
     "name": "stdout",
     "output_type": "stream",
     "text": [
      "moyenne pondérée=  3.3962264150943398\n"
     ]
    }
   ],
   "source": [
    "#Attribuer une ponderation\n",
    "v_1=np.array([1,2,3,4])\n",
    "v_ponderation=np.array([3,6,11,33])\n",
    "print(\"moyenne pondérée= \",np.average(v_1,weights= v_ponderation))"
   ]
  },
  {
   "cell_type": "code",
   "execution_count": 72,
   "metadata": {},
   "outputs": [
    {
     "name": "stdout",
     "output_type": "stream",
     "text": [
      "[78, 8, 65, 11, 4]\n"
     ]
    }
   ],
   "source": [
    "#Transformer une liste en entier\n",
    "liste = [78,8.354387,65,10.9885,3.5742]\n",
    " \n",
    "for i in range(0,len(liste)):\n",
    "        liste[i]=round(float(liste[i]))\n",
    "print (liste)\n"
   ]
  },
  {
   "cell_type": "code",
   "execution_count": 75,
   "metadata": {},
   "outputs": [
    {
     "name": "stdout",
     "output_type": "stream",
     "text": [
      "Entrée d'une nouvelle note.\n",
      "Entrez votre note:  23\n",
      "0\n",
      "True\n",
      "0\n",
      "True\n",
      "Entrez la note maximale de ce devoir:  40\n",
      "Entrez le coefficient de ce devoir:  5\n",
      "Voulez-vous entrer une nouvelle note? O/N  N\n",
      "notes:  ['23']\n",
      "totaux:  ['40']\n",
      "coefficients:  ['5']\n",
      "Moyenne obtenue:  11.5\n"
     ]
    }
   ],
   "source": [
    "# Calcul d'une moyenne pondérée\n",
    "\n",
    "# Fonction permettent de tester que l'entrée d'une note est bien un nombre décimal\n",
    "def nombre_decimal(nombre):\n",
    "    \"\"\" Examine chaque caractère de la chaîne note et en vérifiant qu'il fait partie de la liste éléments comprenant les caractères d'un nombre décmal.\"\"\"\n",
    "    conforme=True # cette variable est initialisée à True et passe à False si au monis un des caractères testés n'est pas conforme\n",
    "    elements=[\"+\",\"-\",\".\",\"0\",\"1\",\"2\",\"3\",\"4\",\"5\",\"6\",\"7\",\"8\",\"9\"] # liste des caractères autorisés\n",
    "    # boucle permettant de tester chaque caractère de la note l'un après l'autre\n",
    "    for i in nombre: \n",
    "        conformei=False # variable initialisée à False et passant à True si le caractère testé est dans la liste elements\n",
    "        # Boucle permettant de comparer i à chaque caractère de la liste elements\n",
    "        for j in elements:\n",
    "            if i==j:\n",
    "                conformei=True # passage de la variable conformei à True si i correspond à un caractère le la liste elements\n",
    "        conforme=conforme and conformei # la valeur de la variable conforme est le résultat d'un et logique entre conforme et conforme i\n",
    "        # conforme est vraie si tous les caractères testés sont dans la liste elements\n",
    "    # Il reste à vérifier qu'il y a au maximum un signe et une virgule\n",
    "    signe=nombre.count(\"+\")+nombre.count(\"-\") # compte le nombre de + et - dans la variable \"nombre\"\n",
    "    print(signe)\n",
    "    if signe>1: # si ce nombre est >1, la valeur False est attribuée à la variable conforme.\n",
    "        conforme=False\n",
    "    print(conforme)\n",
    "    virgule=nombre.count(\".\") # compte le nombre de. dans la variable \"nombre\"\n",
    "    print(virgule)\n",
    "    if virgule>1: # si ce nombre est >1, la valeur False est attribuée à la variable conforme.\n",
    "        conforme=False\n",
    "    print(conforme)\n",
    "    return conforme\n",
    "                \n",
    "\n",
    "# Fonction pour entrer des notes, totaux et coefficients.\n",
    "def entree_donnees():\n",
    "    # Initialisation des variables locales\n",
    "    note=\"\" #note à ajouter\n",
    "    notes=[] # liste des notes\n",
    "    totaux=[] # liste des totaux\n",
    "    coefficients=[] #liste des coefficients\n",
    "    encore=True # veriable permettant de continuer à rentrer des notes ou arrêter\n",
    "    while encore==True: # test de la variable encore pour l'entrée des notes\n",
    "        continuer=\"\" # Initialisation de la variable permettant de s'assurer que la valeur entrée pour entrer des notes ou arrêter est conforme\n",
    "        decimal=False # variable permettant de contrôler que la note rentrée est conforme \n",
    "        # Entrée d'une note, du total et du coefficcients correspondants\n",
    "        print(\"Entrée d'une nouvelle note.\")\n",
    "        while decimal==False:\n",
    "            note=input(\"Entrez votre note:  \")\n",
    "            decimal=nombre_decimal(note)\n",
    "        notes.append(note) # Ajout de la note à la liste des notes\n",
    "        totaux.append(input(\"Entrez la note maximale de ce devoir:  \")) # Ajout du total à la liste des totaux\n",
    "        coefficients.append(input(\"Entrez le coefficient de ce devoir:  \")) # Ajout du coefficient à liste des coefficcients\n",
    "        # Boucle sur la question permettant de vérifier que la réponse est conforme et renouvellement de la question sinon\n",
    "        while continuer!=\"O\" and continuer!=\"N\" and continuer!=\"o\"and continuer!=\"n\":\n",
    "            continuer=input(\"Voulez-vous entrer une nouvelle note? O/N  \")\n",
    "            if continuer == \"O\":\n",
    "                encore=True\n",
    "            elif continuer ==\"N\":\n",
    "                encore=False\n",
    "            else:\n",
    "                continuer=\"\"\n",
    "    # création d'un tupple contenant les notes, totaux et coefficients puis exportation en résultat de la fonction\n",
    "    donnees=notes,totaux,coefficients\n",
    "    return donnees\n",
    "\n",
    "\n",
    "#fonction de calcul d'une moyenne pondérée\n",
    "def moyenne_ponderee(notes,coefficients,totaux):\n",
    "    \"\"\" Cacul d'une moyenne pondérée à partir d'une liste de notes et d'une liste de coefficients\"\"\"\n",
    "    somme=0\n",
    "    maximum=0\n",
    "    for i in range (len(notes)):\n",
    "        somme+=float(notes[i])*float(coefficients[i])\n",
    "        maximum+=float(totaux[i])*float(coefficients[i])\n",
    "        moyenne=somme*20/maximum\n",
    "    return moyenne\n",
    "\n",
    "\n",
    "# Programme pricipal: Calcul et affichage de la moyenne\n",
    "donnees=entree_donnees()\n",
    "notes=donnees[0]\n",
    "print (\"notes: \",notes)\n",
    "totaux=donnees[1]\n",
    "print(\"totaux: \",totaux)\n",
    "coefficients=donnees[2]\n",
    "print(\"coefficients: \",coefficients)\n",
    "print (\"Moyenne obtenue: \",moyenne_ponderee(notes,coefficients,totaux))\n"
   ]
  },
  {
   "cell_type": "code",
   "execution_count": 78,
   "metadata": {},
   "outputs": [
    {
     "data": {
      "text/plain": [
       "array([1, 4])"
      ]
     },
     "execution_count": 78,
     "metadata": {},
     "output_type": "execute_result"
    }
   ],
   "source": [
    "vec=np.array([1,2,3,4])#Creation d'un vecteur\n",
    "vec[0:4:3]"
   ]
  },
  {
   "cell_type": "code",
   "execution_count": 91,
   "metadata": {},
   "outputs": [
    {
     "ename": "AttributeError",
     "evalue": "'numpy.ndarray' object has no attribute 'append'",
     "output_type": "error",
     "traceback": [
      "\u001b[1;31m---------------------------------------------------------------------------\u001b[0m",
      "\u001b[1;31mAttributeError\u001b[0m                            Traceback (most recent call last)",
      "\u001b[1;32m<ipython-input-91-274ddf53f967>\u001b[0m in \u001b[0;36m<module>\u001b[1;34m\u001b[0m\n\u001b[0;32m      1\u001b[0m \u001b[0mvec\u001b[0m\u001b[1;33m=\u001b[0m\u001b[0mnp\u001b[0m\u001b[1;33m.\u001b[0m\u001b[0marray\u001b[0m\u001b[1;33m(\u001b[0m\u001b[1;33m[\u001b[0m\u001b[1;36m1\u001b[0m\u001b[1;33m,\u001b[0m\u001b[1;36m2\u001b[0m\u001b[1;33m,\u001b[0m\u001b[1;36m3\u001b[0m\u001b[1;33m,\u001b[0m\u001b[1;36m4\u001b[0m\u001b[1;33m]\u001b[0m\u001b[1;33m)\u001b[0m\u001b[1;33m\u001b[0m\u001b[1;33m\u001b[0m\u001b[0m\n\u001b[1;32m----> 2\u001b[1;33m \u001b[0mvec2\u001b[0m\u001b[1;33m=\u001b[0m\u001b[1;33m(\u001b[0m\u001b[0mvec\u001b[0m\u001b[1;33m[\u001b[0m\u001b[1;36m0\u001b[0m\u001b[1;33m:\u001b[0m\u001b[1;36m2\u001b[0m\u001b[1;33m]\u001b[0m\u001b[1;33m)\u001b[0m\u001b[1;33m.\u001b[0m\u001b[0mappend\u001b[0m\u001b[1;33m(\u001b[0m\u001b[0mvec\u001b[0m\u001b[1;33m[\u001b[0m\u001b[1;33m-\u001b[0m\u001b[1;36m1\u001b[0m\u001b[1;33m]\u001b[0m\u001b[1;33m)\u001b[0m\u001b[1;33m\u001b[0m\u001b[1;33m\u001b[0m\u001b[0m\n\u001b[0m",
      "\u001b[1;31mAttributeError\u001b[0m: 'numpy.ndarray' object has no attribute 'append'"
     ]
    }
   ],
   "source": [
    "vec=np.array([1,2,3,4])\n",
    "vec2=(vec[0:2]).append(vec[-1])"
   ]
  },
  {
   "cell_type": "code",
   "execution_count": 87,
   "metadata": {},
   "outputs": [
    {
     "name": "stdout",
     "output_type": "stream",
     "text": [
      "[1 2]4\n"
     ]
    }
   ],
   "source": [
    "print(vec2)"
   ]
  },
  {
   "cell_type": "markdown",
   "metadata": {},
   "source": [
    "# les graphiques\n"
   ]
  },
  {
   "cell_type": "code",
   "execution_count": 92,
   "metadata": {},
   "outputs": [],
   "source": [
    "import matplotlib.pyplot as plt\n"
   ]
  },
  {
   "cell_type": "code",
   "execution_count": 93,
   "metadata": {},
   "outputs": [
    {
     "data": {
      "text/plain": [
       "[<matplotlib.lines.Line2D at 0x12e3763ec88>]"
      ]
     },
     "execution_count": 93,
     "metadata": {},
     "output_type": "execute_result"
    },
    {
     "data": {
      "image/png": "[encoded data removed]",
      "text/plain": [
       "<Figure size 432x288 with 1 Axes>"
      ]
     },
     "metadata": {
      "needs_background": "light"
     },
     "output_type": "display_data"
    }
   ],
   "source": [
    "vecteur =np.arange(-10,10)\n",
    "vecteur1=vecteur**2\n",
    "plt.plot (vecteur,vecteur1)"
   ]
  },
  {
   "cell_type": "code",
   "execution_count": 94,
   "metadata": {},
   "outputs": [
    {
     "data": {
      "text/plain": [
       "[<matplotlib.lines.Line2D at 0x12e37a669b0>]"
      ]
     },
     "execution_count": 94,
     "metadata": {},
     "output_type": "execute_result"
    },
    {
     "data": {
      "image/png": "[encoded data removed]",
      "text/plain": [
       "<Figure size 432x288 with 1 Axes>"
      ]
     },
     "metadata": {
      "needs_background": "light"
     },
     "output_type": "display_data"
    }
   ],
   "source": [
    "vecteur2=-vecteur1\n",
    "plt.plot (vecteur,vecteur1,\"--\",color=\"red\")\n",
    "plt.plot (vecteur,vecteur2)"
   ]
  },
  {
   "cell_type": "code",
   "execution_count": 98,
   "metadata": {},
   "outputs": [
    {
     "data": {
      "text/plain": [
       "[<matplotlib.lines.Line2D at 0x12e36f27710>]"
      ]
     },
     "execution_count": 98,
     "metadata": {},
     "output_type": "execute_result"
    },
    {
     "data": {
      "image/png": "[encoded data removed]",
      "text/plain": [
       "<Figure size 432x288 with 1 Axes>"
      ]
     },
     "metadata": {
      "needs_background": "light"
     },
     "output_type": "display_data"
    }
   ],
   "source": [
    "vecteur2=-vecteur1\n",
    "plt.scatter(vecteur,vecteur1,marker=\"+\",color=\"red\")\n",
    "plt.plot (vecteur,vecteur2,linewidth=6)"
   ]
  },
  {
   "cell_type": "markdown",
   "metadata": {},
   "source": [
    "                                             TEST  "
   ]
  },
  {
   "cell_type": "code",
   "execution_count": 2,
   "metadata": {},
   "outputs": [
    {
     "name": "stdout",
     "output_type": "stream",
     "text": [
      "Cochise County        5\n",
      "Pima County           6\n",
      "Santa Cruz County     2\n",
      "Maricopa County       9\n",
      "Yuma County          12\n",
      "dtype: int64\n"
     ]
    }
   ],
   "source": [
    "import pandas\n",
    "mySerie = pandas.Series([5, 6, 2, 9, 12],index=['Cochise County', 'Pima County', 'Santa Cruz County', 'Maricopa County', 'Yuma County']) \n",
    "print(mySerie) "
   ]
  },
  {
   "cell_type": "code",
   "execution_count": 5,
   "metadata": {},
   "outputs": [
    {
     "name": "stdout",
     "output_type": "stream",
     "text": [
      "0     5\n",
      "1     6\n",
      "2     2\n",
      "3     9\n",
      "4    12\n",
      "dtype: int64\n",
      "0     5\n",
      "1     6\n",
      "2     2\n",
      "3     9\n",
      "4    12\n",
      "dtype: int64\n"
     ]
    }
   ],
   "source": [
    "import pandas \n",
    "mySerie1 = pandas.Series([5, 6, 2, 9, 12]) \n",
    "print(mySerie1) \n",
    "myList=[5, 6, 2, 9, 12] \n",
    "mySerie2 = pandas.Series(myList) \n",
    "print(mySerie2)"
   ]
  },
  {
   "cell_type": "code",
   "execution_count": 6,
   "metadata": {},
   "outputs": [
    {
     "name": "stdout",
     "output_type": "stream",
     "text": [
      "5\n"
     ]
    }
   ],
   "source": [
    "print(mySerie[\"Cochise County\"])"
   ]
  },
  {
   "cell_type": "code",
   "execution_count": 8,
   "metadata": {},
   "outputs": [],
   "source": [
    "year = pandas.Series([1875, 1876, 1877, 1878, 1879, 1880, 1881, 1882, 1883, 1884,1885, 1886, 1887, 1888, 1889, 1890, 1891, 1892, 1893, 1894]) \n",
    "guardCorps = pandas.Series([0,2,2,1,0,0,1,1,0,3,0,2,1,0,0,1,0,1,0,1]) \n",
    "corps1 = pandas.Series([0,0,0,2,0,3,0,2,0,0,0,1,1,1,0,2,0,3,1,0]) \n",
    "corps2 = pandas.Series([0,0,0,2,0,2,0,0,1,1,0,0,2,1,1,0,0,2,0,0]) \n",
    "corps3 = pandas.Series([0,0,0,1,1,1,2,0,2,0,0,0,1,0,1,2,1,0,0,0]) \n",
    "corps4 = pandas.Series([0,1,0,1,1,1,1,0,0,0,0,1,0,0,0,0,1,1,0,0]) \n",
    "corps5 = pandas.Series([0,0,0,0,2,1,0,0,1,0,0,1,0,1,1,1,1,1,1,0]) \n",
    "corps6 = pandas.Series([0,0,1,0,2,0,0,1,2,0,1,1,3,1,1,1,0,3,0,0]) \n",
    "corps7 = pandas.Series([1,0,1,0,0,0,1,0,1,1,0,0,2,0,0,2,1,0,2,0]) \n",
    "corps8 = pandas.Series([1,0,0,0,1,0,0,1,0,0,0,0,1,0,0,0,1,1,0,1]) \n",
    "corps9 = pandas.Series([0,0,0,0,0,2,1,1,1,0,2,1,1,0,1,2,0,1,0,0]) \n",
    "corps10 = pandas.Series([0,0,1,1,0,1,0,2,0,2,0,0,0,0,2,1,3,0,1,1]) \n",
    "corps11 = pandas.Series([0,0,0,0,2,4,0,1,3,0,1,1,1,1,2,1,3,1,3,1]) \n",
    "corps14 = pandas.Series([ 1,1,2,1,1,3,0,4,0,1,0,3,2,1,0,2,1,1,0,0]) \n",
    "corps15 = pandas.Series([0,1,0,0,0,0,0,1,0,1,1,0,0,0,2,2,0,0,0,0])"
   ]
  },
  {
   "cell_type": "code",
   "execution_count": 9,
   "metadata": {},
   "outputs": [],
   "source": [
    "variables = dict(year=year, guardCorps = guardCorps, corps1 = corps1 ,corps2 = corps2, corps3 = corps3, corps4 = corps4 ,corps5 = corps5, corps6 = corps6, corps7 = corps7,corps8 = corps8, corps9 = corps9, corps10 = corps10, corps11 = corps11 , corps14 = corps14, corps15 = corps15)"
   ]
  },
  {
   "cell_type": "code",
   "execution_count": 11,
   "metadata": {},
   "outputs": [],
   "source": [
    "mydata = pandas.DataFrame(variables, columns = ['year', 'guardCorps',  'corps1', 'corps2','corps3', 'corps4', 'corps5', 'corps6','corps7', 'corps8','corps9', 'corps10', 'corps11', 'corps14','corps15'])"
   ]
  },
  {
   "cell_type": "code",
   "execution_count": 12,
   "metadata": {},
   "outputs": [
    {
     "name": "stdout",
     "output_type": "stream",
     "text": [
      "    year  guardCorps  corps1  corps2  corps3  corps4  corps5  corps6  corps7  \\\n",
      "0   1875           0       0       0       0       0       0       0       1   \n",
      "1   1876           2       0       0       0       1       0       0       0   \n",
      "2   1877           2       0       0       0       0       0       1       1   \n",
      "3   1878           1       2       2       1       1       0       0       0   \n",
      "4   1879           0       0       0       1       1       2       2       0   \n",
      "5   1880           0       3       2       1       1       1       0       0   \n",
      "6   1881           1       0       0       2       1       0       0       1   \n",
      "7   1882           1       2       0       0       0       0       1       0   \n",
      "8   1883           0       0       1       2       0       1       2       1   \n",
      "9   1884           3       0       1       0       0       0       0       1   \n",
      "10  1885           0       0       0       0       0       0       1       0   \n",
      "11  1886           2       1       0       0       1       1       1       0   \n",
      "12  1887           1       1       2       1       0       0       3       2   \n",
      "13  1888           0       1       1       0       0       1       1       0   \n",
      "14  1889           0       0       1       1       0       1       1       0   \n",
      "15  1890           1       2       0       2       0       1       1       2   \n",
      "16  1891           0       0       0       1       1       1       0       1   \n",
      "17  1892           1       3       2       0       1       1       3       0   \n",
      "18  1893           0       1       0       0       0       1       0       2   \n",
      "19  1894           1       0       0       0       0       0       0       0   \n",
      "\n",
      "    corps8  corps9  corps10  corps11  corps14  corps15  \n",
      "0        1       0        0        0        1        0  \n",
      "1        0       0        0        0        1        1  \n",
      "2        0       0        1        0        2        0  \n",
      "3        0       0        1        0        1        0  \n",
      "4        1       0        0        2        1        0  \n",
      "5        0       2        1        4        3        0  \n",
      "6        0       1        0        0        0        0  \n",
      "7        1       1        2        1        4        1  \n",
      "8        0       1        0        3        0        0  \n",
      "9        0       0        2        0        1        1  \n",
      "10       0       2        0        1        0        1  \n",
      "11       0       1        0        1        3        0  \n",
      "12       1       1        0        1        2        0  \n",
      "13       0       0        0        1        1        0  \n",
      "14       0       1        2        2        0        2  \n",
      "15       0       2        1        1        2        2  \n",
      "16       1       0        3        3        1        0  \n",
      "17       1       1        0        1        1        0  \n",
      "18       0       0        1        3        0        0  \n",
      "19       1       0        1        1        0        0  \n"
     ]
    }
   ],
   "source": [
    "print (mydata)"
   ]
  },
  {
   "cell_type": "markdown",
   "metadata": {},
   "source": [
    "# Vendredi le 5 juillet 2019"
   ]
  },
  {
   "cell_type": "code",
   "execution_count": 4,
   "metadata": {},
   "outputs": [],
   "source": [
    "def reduc(age):\n",
    "    age=int(input(\"Donnez votre age : \"))\n",
    "    reduction=0\n",
    "    if age <0:\n",
    "        print(\"Donnez votre age : \")\n",
    "    else:\n",
    "        \n",
    "        if age<10 :\n",
    "            reduction=0.5\n",
    "        #print(\"VOUS AVEZ DROIT A UNE REDUCTION DE \",reduction)\n",
    "        elif age <= 18:\n",
    "            reduction=0.3\n",
    "        #print(\"VOUS AVEZ DROIT A UNE REDUCTION DE \",reduction)\n",
    "        elif age>60:\n",
    "            reduction=0.2\n",
    "        #print(\"VOUS AVEZ DROIT A UNE REDUCTION DE \",reduction)\n",
    "        \n",
    "     \n",
    "    return  reduction"
   ]
  },
  {
   "cell_type": "code",
   "execution_count": 18,
   "metadata": {},
   "outputs": [
    {
     "name": "stdout",
     "output_type": "stream",
     "text": [
      "Donnez votre age : 12\n"
     ]
    },
    {
     "data": {
      "text/plain": [
       "0.3"
      ]
     },
     "execution_count": 18,
     "metadata": {},
     "output_type": "execute_result"
    }
   ],
   "source": [
    "reduc(0)"
   ]
  },
  {
   "cell_type": "code",
   "execution_count": 8,
   "metadata": {},
   "outputs": [],
   "source": [
    "def montant(tarif,age):\n",
    "    tarif=0\n",
    "    tarif=int(input(\"Entrez le tarif : \"))\n",
    "    #age=int(input(\"Donnez votre age : \"))\n",
    "    return(print(\"Avec votre age vous avez une reduction :\",tarif*reduc(age)))"
   ]
  },
  {
   "cell_type": "code",
   "execution_count": 9,
   "metadata": {},
   "outputs": [
    {
     "name": "stdout",
     "output_type": "stream",
     "text": [
      "Entrez le tarif : 10000\n",
      "Donnez votre age : 12\n",
      "Avec votre age vous avez une reduction : 3000.0\n"
     ]
    }
   ],
   "source": [
    "montant(10000,12)"
   ]
  },
  {
   "cell_type": "code",
   "execution_count": 10,
   "metadata": {},
   "outputs": [],
   "source": [
    "#tarif=int(input(\"Entrez le tarif : \"))\n",
    "#age=int(input(\"Donnez votre age : \"))\n",
    "#montant(tarif,age)"
   ]
  },
  {
   "cell_type": "markdown",
   "metadata": {},
   "source": [
    "# Le module Pandas\n"
   ]
  },
  {
   "cell_type": "code",
   "execution_count": 58,
   "metadata": {},
   "outputs": [],
   "source": [
    "import pandas as pd\n",
    "#Pib annuel 2017\n",
    "dico_PIB_courant={\"France\":2582,\n",
    "                 \"USA\": 1939 ,\n",
    "                 \"UK\": 2622}\n",
    "dico_IPC={\"France\":0.2,\n",
    "         \"USA\": 1.3 ,\n",
    "         \"UK\": 0.6,\n",
    "         \"Germany\":0.5}\n",
    "S_PIB_courant=pd.Series(dico_PIB_courant)\n",
    "S_IPC=pd.Series(dico_IPC)\n"
   ]
  },
  {
   "cell_type": "code",
   "execution_count": 59,
   "metadata": {},
   "outputs": [],
   "source": [
    "dico=dict(S_PIB_courant=S_PIB_courant,S_IPC=S_IPC)"
   ]
  },
  {
   "cell_type": "code",
   "execution_count": 60,
   "metadata": {},
   "outputs": [
    {
     "name": "stdout",
     "output_type": "stream",
     "text": [
      "         S_PIB_courant  S_IPC\n",
      "France          2582.0    0.2\n",
      "Germany            NaN    0.5\n",
      "UK              2622.0    0.6\n",
      "USA             1939.0    1.3\n"
     ]
    }
   ],
   "source": [
    "df_dico=pd.DataFrame(dico)\n",
    "print(df_dico)"
   ]
  },
  {
   "cell_type": "code",
   "execution_count": 117,
   "metadata": {},
   "outputs": [
    {
     "data": {
      "text/plain": [
       "'Kouadio'"
      ]
     },
     "execution_count": 117,
     "metadata": {},
     "output_type": "execute_result"
    }
   ],
   "source": [
    "df_dico['pays'][3]\n"
   ]
  },
  {
   "cell_type": "code",
   "execution_count": 169,
   "metadata": {},
   "outputs": [],
   "source": [
    "df_dico['test']=\"\"\n",
    "a=[]\n",
    "df_dico['pays']=[\"mali\",\"japon\",\"Jean\",\"Kouadio\"]\n",
    "lol=['mali','Koudio']\n",
    "pib=df_dico['pays']\n",
    "#for i in pib:\n",
    "for i in range(4) :\n",
    "    if df_dico['pays'][i]=='' :\n",
    "        df_dico['test']=1\n",
    "        df_dico['a']=1\n",
    "    else :\n",
    "        df_dico['test']=0\n",
    "        df_dico['a']=0\n",
    "            \n",
    "        "
   ]
  },
  {
   "cell_type": "code",
   "execution_count": 170,
   "metadata": {},
   "outputs": [
    {
     "data": {
      "text/plain": [
       "France     0\n",
       "Germany    0\n",
       "UK         0\n",
       "USA        0\n",
       "Name: a, dtype: int64"
      ]
     },
     "execution_count": 170,
     "metadata": {},
     "output_type": "execute_result"
    }
   ],
   "source": [
    "df_dico['a']"
   ]
  },
  {
   "cell_type": "code",
   "execution_count": 154,
   "metadata": {},
   "outputs": [
    {
     "data": {
      "text/plain": [
       "France     1\n",
       "Germany    1\n",
       "UK         1\n",
       "USA        1\n",
       "Name: tt, dtype: int64"
      ]
     },
     "execution_count": 154,
     "metadata": {},
     "output_type": "execute_result"
    }
   ],
   "source": [
    "df_dico['tt']=1\n",
    "df_dico['tt']"
   ]
  },
  {
   "cell_type": "code",
   "execution_count": 16,
   "metadata": {},
   "outputs": [
    {
     "data": {
      "text/plain": [
       "4"
      ]
     },
     "execution_count": 16,
     "metadata": {},
     "output_type": "execute_result"
    }
   ],
   "source": [
    "#Pour avoir le nombre de colonne \n",
    "len(df_dico)"
   ]
  },
  {
   "cell_type": "code",
   "execution_count": 74,
   "metadata": {},
   "outputs": [
    {
     "data": {
      "text/html": [
       "<div>\n",
       "<style scoped>\n",
       "    .dataframe tbody tr th:only-of-type {\n",
       "        vertical-align: middle;\n",
       "    }\n",
       "\n",
       "    .dataframe tbody tr th {\n",
       "        vertical-align: top;\n",
       "    }\n",
       "\n",
       "    .dataframe thead th {\n",
       "        text-align: right;\n",
       "    }\n",
       "</style>\n",
       "<table border=\"1\" class=\"dataframe\">\n",
       "  <thead>\n",
       "    <tr style=\"text-align: right;\">\n",
       "      <th></th>\n",
       "      <th>S_PIB_courant</th>\n",
       "      <th>S_IPC</th>\n",
       "      <th>test</th>\n",
       "    </tr>\n",
       "  </thead>\n",
       "  <tbody>\n",
       "    <tr>\n",
       "      <th>France</th>\n",
       "      <td>2582.0</td>\n",
       "      <td>0.2</td>\n",
       "      <td>0</td>\n",
       "    </tr>\n",
       "    <tr>\n",
       "      <th>Germany</th>\n",
       "      <td>NaN</td>\n",
       "      <td>0.5</td>\n",
       "      <td>0</td>\n",
       "    </tr>\n",
       "    <tr>\n",
       "      <th>UK</th>\n",
       "      <td>2622.0</td>\n",
       "      <td>0.6</td>\n",
       "      <td>0</td>\n",
       "    </tr>\n",
       "    <tr>\n",
       "      <th>USA</th>\n",
       "      <td>1939.0</td>\n",
       "      <td>1.3</td>\n",
       "      <td>0</td>\n",
       "    </tr>\n",
       "  </tbody>\n",
       "</table>\n",
       "</div>"
      ],
      "text/plain": [
       "         S_PIB_courant  S_IPC  test\n",
       "France          2582.0    0.2     0\n",
       "Germany            NaN    0.5     0\n",
       "UK              2622.0    0.6     0\n",
       "USA             1939.0    1.3     0"
      ]
     },
     "execution_count": 74,
     "metadata": {},
     "output_type": "execute_result"
    }
   ],
   "source": [
    "df_dico"
   ]
  },
  {
   "cell_type": "code",
   "execution_count": 18,
   "metadata": {},
   "outputs": [
    {
     "data": {
      "text/plain": [
       "(4, 2)"
      ]
     },
     "execution_count": 18,
     "metadata": {},
     "output_type": "execute_result"
    }
   ],
   "source": [
    "df_dico.shape #Pour avoir la dimension"
   ]
  },
  {
   "cell_type": "code",
   "execution_count": 20,
   "metadata": {},
   "outputs": [
    {
     "data": {
      "text/plain": [
       "2"
      ]
     },
     "execution_count": 20,
     "metadata": {},
     "output_type": "execute_result"
    }
   ],
   "source": [
    "len(df_dico.columns) #Pour avoir le nombre de columns"
   ]
  },
  {
   "cell_type": "code",
   "execution_count": 21,
   "metadata": {},
   "outputs": [],
   "source": [
    "df_dico.columns=[\"PIB\",\"IPC\"]"
   ]
  },
  {
   "cell_type": "code",
   "execution_count": 22,
   "metadata": {},
   "outputs": [
    {
     "name": "stdout",
     "output_type": "stream",
     "text": [
      "            PIB  IPC\n",
      "France   2582.0  0.2\n",
      "Germany     NaN  0.5\n",
      "UK       2622.0  0.6\n",
      "USA      1939.0  1.3\n"
     ]
    }
   ],
   "source": [
    "print(df_dico)"
   ]
  },
  {
   "cell_type": "code",
   "execution_count": 27,
   "metadata": {},
   "outputs": [
    {
     "name": "stdout",
     "output_type": "stream",
     "text": [
      "[[1 2 3]\n",
      " [4 5 6]]\n"
     ]
    }
   ],
   "source": [
    "import numpy as np\n",
    "a = np.array([[1, 2, 3], [4, 5, 6]])\n",
    "print(a)"
   ]
  },
  {
   "cell_type": "code",
   "execution_count": 26,
   "metadata": {},
   "outputs": [
    {
     "data": {
      "text/plain": [
       "array([1, 4])"
      ]
     },
     "execution_count": 26,
     "metadata": {},
     "output_type": "execute_result"
    }
   ],
   "source": [
    "a[:,0]"
   ]
  },
  {
   "cell_type": "code",
   "execution_count": 29,
   "metadata": {},
   "outputs": [
    {
     "data": {
      "text/plain": [
       "array([3, 6])"
      ]
     },
     "execution_count": 29,
     "metadata": {},
     "output_type": "execute_result"
    }
   ],
   "source": [
    "a[:,2]"
   ]
  },
  {
   "cell_type": "code",
   "execution_count": 30,
   "metadata": {},
   "outputs": [
    {
     "data": {
      "text/plain": [
       "array([4, 5, 6])"
      ]
     },
     "execution_count": 30,
     "metadata": {},
     "output_type": "execute_result"
    }
   ],
   "source": [
    "a[1,:]"
   ]
  },
  {
   "cell_type": "code",
   "execution_count": 32,
   "metadata": {},
   "outputs": [
    {
     "ename": "IndexError",
     "evalue": "too many indices for array",
     "output_type": "error",
     "traceback": [
      "\u001b[1;31m---------------------------------------------------------------------------\u001b[0m",
      "\u001b[1;31mIndexError\u001b[0m                                Traceback (most recent call last)",
      "\u001b[1;32m<ipython-input-32-a6463b894a99>\u001b[0m in \u001b[0;36m<module>\u001b[1;34m\u001b[0m\n\u001b[1;32m----> 1\u001b[1;33m \u001b[0ma\u001b[0m\u001b[1;33m[\u001b[0m\u001b[1;36m1\u001b[0m\u001b[1;33m,\u001b[0m\u001b[1;33m:\u001b[0m\u001b[1;33m,\u001b[0m\u001b[1;36m2\u001b[0m\u001b[1;33m]\u001b[0m\u001b[1;33m\u001b[0m\u001b[1;33m\u001b[0m\u001b[0m\n\u001b[0m",
      "\u001b[1;31mIndexError\u001b[0m: too many indices for array"
     ]
    }
   ],
   "source": [
    "a[1,:,2]"
   ]
  },
  {
   "cell_type": "code",
   "execution_count": null,
   "metadata": {},
   "outputs": [],
   "source": []
  }
 ],
 "metadata": {
  "kernelspec": {
   "display_name": "Python 3",
   "language": "python",
   "name": "python3"
  },
  "language_info": {
   "codemirror_mode": {
    "name": "ipython",
    "version": 3
   },
   "file_extension": ".py",
   "mimetype": "text/x-python",
   "name": "python",
   "nbconvert_exporter": "python",
   "pygments_lexer": "ipython3",
   "version": "3.7.3"
  }
 },
 "nbformat": 4,
 "nbformat_minor": 2
}
