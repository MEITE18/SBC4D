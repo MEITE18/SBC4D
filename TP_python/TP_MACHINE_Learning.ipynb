{
 "cells": [
  {
   "cell_type": "code",
   "execution_count": 61,
   "metadata": {},
   "outputs": [
    {
     "name": "stdout",
     "output_type": "stream",
     "text": [
      "           City   Age    Salary Approved\n",
      "0  Apple Valley  25.0   65000.0      Yes\n",
      "1     Maplewood  30.0   81000.0       No\n",
      "2         Eagan  33.0       NaN      Yes\n",
      "3  Apple Valley  39.0  100000.0       No\n",
      "4     Maplewood  28.0   91000.0      Yes\n",
      "5         Eagan   NaN   66000.0       No\n",
      "6  Apple Valley  40.0   98000.0      Yes\n",
      "7     Maplewood  34.0   86000.0      Yes\n",
      "8         Eagan  25.0   70000.0       No\n",
      "9     Maplewood  24.0   62000.0      Yes\n"
     ]
    }
   ],
   "source": [
    "import pandas as pd\n",
    "import numpy as np\n",
    "import matplotlib.pyplot as plt\n",
    "dataset= pd.read_csv(\"D:\\TP DEH ABOUBACAR\\STAGE_SEJEN\\MACHINE LEARNING\\loans.csv\")\n",
    "print(dataset)"
   ]
  },
  {
   "cell_type": "code",
   "execution_count": 62,
   "metadata": {},
   "outputs": [
    {
     "data": {
      "text/html": [
       "<div>\n",
       "<style scoped>\n",
       "    .dataframe tbody tr th:only-of-type {\n",
       "        vertical-align: middle;\n",
       "    }\n",
       "\n",
       "    .dataframe tbody tr th {\n",
       "        vertical-align: top;\n",
       "    }\n",
       "\n",
       "    .dataframe thead th {\n",
       "        text-align: right;\n",
       "    }\n",
       "</style>\n",
       "<table border=\"1\" class=\"dataframe\">\n",
       "  <thead>\n",
       "    <tr style=\"text-align: right;\">\n",
       "      <th></th>\n",
       "      <th>City</th>\n",
       "      <th>Age</th>\n",
       "      <th>Salary</th>\n",
       "      <th>Approved</th>\n",
       "    </tr>\n",
       "  </thead>\n",
       "  <tbody>\n",
       "    <tr>\n",
       "      <th>0</th>\n",
       "      <td>Apple Valley</td>\n",
       "      <td>25.0</td>\n",
       "      <td>65000.0</td>\n",
       "      <td>Yes</td>\n",
       "    </tr>\n",
       "    <tr>\n",
       "      <th>1</th>\n",
       "      <td>Maplewood</td>\n",
       "      <td>30.0</td>\n",
       "      <td>81000.0</td>\n",
       "      <td>No</td>\n",
       "    </tr>\n",
       "    <tr>\n",
       "      <th>2</th>\n",
       "      <td>Eagan</td>\n",
       "      <td>33.0</td>\n",
       "      <td>NaN</td>\n",
       "      <td>Yes</td>\n",
       "    </tr>\n",
       "    <tr>\n",
       "      <th>3</th>\n",
       "      <td>Apple Valley</td>\n",
       "      <td>39.0</td>\n",
       "      <td>100000.0</td>\n",
       "      <td>No</td>\n",
       "    </tr>\n",
       "    <tr>\n",
       "      <th>4</th>\n",
       "      <td>Maplewood</td>\n",
       "      <td>28.0</td>\n",
       "      <td>91000.0</td>\n",
       "      <td>Yes</td>\n",
       "    </tr>\n",
       "  </tbody>\n",
       "</table>\n",
       "</div>"
      ],
      "text/plain": [
       "           City   Age    Salary Approved\n",
       "0  Apple Valley  25.0   65000.0      Yes\n",
       "1     Maplewood  30.0   81000.0       No\n",
       "2         Eagan  33.0       NaN      Yes\n",
       "3  Apple Valley  39.0  100000.0       No\n",
       "4     Maplewood  28.0   91000.0      Yes"
      ]
     },
     "execution_count": 62,
     "metadata": {},
     "output_type": "execute_result"
    }
   ],
   "source": [
    "dataset.head()"
   ]
  },
  {
   "cell_type": "code",
   "execution_count": 63,
   "metadata": {},
   "outputs": [
    {
     "data": {
      "text/html": [
       "<div>\n",
       "<style scoped>\n",
       "    .dataframe tbody tr th:only-of-type {\n",
       "        vertical-align: middle;\n",
       "    }\n",
       "\n",
       "    .dataframe tbody tr th {\n",
       "        vertical-align: top;\n",
       "    }\n",
       "\n",
       "    .dataframe thead th {\n",
       "        text-align: right;\n",
       "    }\n",
       "</style>\n",
       "<table border=\"1\" class=\"dataframe\">\n",
       "  <thead>\n",
       "    <tr style=\"text-align: right;\">\n",
       "      <th></th>\n",
       "      <th>City</th>\n",
       "      <th>Age</th>\n",
       "      <th>Salary</th>\n",
       "      <th>Approved</th>\n",
       "    </tr>\n",
       "  </thead>\n",
       "  <tbody>\n",
       "    <tr>\n",
       "      <th>5</th>\n",
       "      <td>Eagan</td>\n",
       "      <td>NaN</td>\n",
       "      <td>66000.0</td>\n",
       "      <td>No</td>\n",
       "    </tr>\n",
       "    <tr>\n",
       "      <th>6</th>\n",
       "      <td>Apple Valley</td>\n",
       "      <td>40.0</td>\n",
       "      <td>98000.0</td>\n",
       "      <td>Yes</td>\n",
       "    </tr>\n",
       "    <tr>\n",
       "      <th>7</th>\n",
       "      <td>Maplewood</td>\n",
       "      <td>34.0</td>\n",
       "      <td>86000.0</td>\n",
       "      <td>Yes</td>\n",
       "    </tr>\n",
       "    <tr>\n",
       "      <th>8</th>\n",
       "      <td>Eagan</td>\n",
       "      <td>25.0</td>\n",
       "      <td>70000.0</td>\n",
       "      <td>No</td>\n",
       "    </tr>\n",
       "    <tr>\n",
       "      <th>9</th>\n",
       "      <td>Maplewood</td>\n",
       "      <td>24.0</td>\n",
       "      <td>62000.0</td>\n",
       "      <td>Yes</td>\n",
       "    </tr>\n",
       "  </tbody>\n",
       "</table>\n",
       "</div>"
      ],
      "text/plain": [
       "           City   Age   Salary Approved\n",
       "5         Eagan   NaN  66000.0       No\n",
       "6  Apple Valley  40.0  98000.0      Yes\n",
       "7     Maplewood  34.0  86000.0      Yes\n",
       "8         Eagan  25.0  70000.0       No\n",
       "9     Maplewood  24.0  62000.0      Yes"
      ]
     },
     "execution_count": 63,
     "metadata": {},
     "output_type": "execute_result"
    }
   ],
   "source": [
    "dataset.tail()"
   ]
  },
  {
   "cell_type": "code",
   "execution_count": 64,
   "metadata": {},
   "outputs": [],
   "source": [
    "x=dataset.iloc[:, :-1].values #Prends toutes les colonnes sauf la derniere"
   ]
  },
  {
   "cell_type": "code",
   "execution_count": 36,
   "metadata": {},
   "outputs": [
    {
     "name": "stdout",
     "output_type": "stream",
     "text": [
      "[['Apple Valley' 25.0 65000.0]\n",
      " ['Maplewood' 30.0 81000.0]\n",
      " ['Eagan' 33.0 nan]\n",
      " ['Apple Valley' 39.0 100000.0]\n",
      " ['Maplewood' 28.0 91000.0]\n",
      " ['Eagan' nan 66000.0]\n",
      " ['Apple Valley' 40.0 98000.0]\n",
      " ['Maplewood' 34.0 86000.0]\n",
      " ['Eagan' 25.0 70000.0]\n",
      " ['Maplewood' 24.0 62000.0]]\n"
     ]
    }
   ],
   "source": [
    "print(x)"
   ]
  },
  {
   "cell_type": "code",
   "execution_count": 43,
   "metadata": {},
   "outputs": [
    {
     "name": "stdout",
     "output_type": "stream",
     "text": [
      "['Yes' 'No' 'Yes' 'No' 'Yes' 'No' 'Yes' 'Yes' 'No' 'Yes']\n"
     ]
    }
   ],
   "source": [
    "y=dataset.iloc[:,3].values # Affiche la derniere colonne\n",
    "print(y)"
   ]
  },
  {
   "cell_type": "code",
   "execution_count": 66,
   "metadata": {},
   "outputs": [
    {
     "name": "stdout",
     "output_type": "stream",
     "text": [
      "[['Apple Valley' 25.0 65000.0]\n",
      " ['Maplewood' 30.0 81000.0]\n",
      " ['Eagan' 33.0 79888.88888888889]\n",
      " ['Apple Valley' 39.0 100000.0]\n",
      " ['Maplewood' 28.0 91000.0]\n",
      " ['Eagan' 30.88888888888889 66000.0]\n",
      " ['Apple Valley' 40.0 98000.0]\n",
      " ['Maplewood' 34.0 86000.0]\n",
      " ['Eagan' 25.0 70000.0]\n",
      " ['Maplewood' 24.0 62000.0]]\n"
     ]
    },
    {
     "name": "stderr",
     "output_type": "stream",
     "text": [
      "C:\\ProgramData\\Anaconda3\\lib\\site-packages\\sklearn\\utils\\deprecation.py:58: DeprecationWarning: Class Imputer is deprecated; Imputer was deprecated in version 0.20 and will be removed in 0.22. Import impute.SimpleImputer from sklearn instead.\n",
      "  warnings.warn(msg, category=DeprecationWarning)\n"
     ]
    }
   ],
   "source": [
    "#Traitement des données\n",
    "from sklearn.preprocessing import Imputer\n",
    "imputer= Imputer(missing_values =\"NaN\", strategy = \"mean\", axis = 0)\n",
    "imputer= imputer.fit(x[:,[1,2]]) #prends toutes les lignes et les colonnes 1 & 2 car il y a des valeurs manquantes sur l'age et le salaire\n",
    "x[:,1:3]=imputer.transform(x[:,1:3]) #Prends toutes les lignes et prend les colonnes 1 & 2\n",
    "print(x)"
   ]
  },
  {
   "cell_type": "code",
   "execution_count": 68,
   "metadata": {},
   "outputs": [
    {
     "name": "stdout",
     "output_type": "stream",
     "text": [
      "[[0.00000000e+00 1.00000000e+00 0.00000000e+00 0.00000000e+00\n",
      "  2.50000000e+01 6.50000000e+04]\n",
      " [1.00000000e+00 0.00000000e+00 0.00000000e+00 1.00000000e+00\n",
      "  3.00000000e+01 8.10000000e+04]\n",
      " [1.00000000e+00 0.00000000e+00 1.00000000e+00 0.00000000e+00\n",
      "  3.30000000e+01 7.98888889e+04]\n",
      " [0.00000000e+00 1.00000000e+00 0.00000000e+00 0.00000000e+00\n",
      "  3.90000000e+01 1.00000000e+05]\n",
      " [1.00000000e+00 0.00000000e+00 0.00000000e+00 1.00000000e+00\n",
      "  2.80000000e+01 9.10000000e+04]\n",
      " [1.00000000e+00 0.00000000e+00 1.00000000e+00 0.00000000e+00\n",
      "  3.08888889e+01 6.60000000e+04]\n",
      " [0.00000000e+00 1.00000000e+00 0.00000000e+00 0.00000000e+00\n",
      "  4.00000000e+01 9.80000000e+04]\n",
      " [1.00000000e+00 0.00000000e+00 0.00000000e+00 1.00000000e+00\n",
      "  3.40000000e+01 8.60000000e+04]\n",
      " [1.00000000e+00 0.00000000e+00 1.00000000e+00 0.00000000e+00\n",
      "  2.50000000e+01 7.00000000e+04]\n",
      " [1.00000000e+00 0.00000000e+00 0.00000000e+00 1.00000000e+00\n",
      "  2.40000000e+01 6.20000000e+04]]\n"
     ]
    },
    {
     "name": "stderr",
     "output_type": "stream",
     "text": [
      "C:\\ProgramData\\Anaconda3\\lib\\site-packages\\sklearn\\preprocessing\\_encoders.py:371: FutureWarning: The handling of integer data will change in version 0.22. Currently, the categories are determined based on the range [0, max(values)], while in the future they will be determined based on the unique values.\n",
      "If you want the future behaviour and silence this warning, you can specify \"categories='auto'\".\n",
      "In case you used a LabelEncoder before this OneHotEncoder to convert the categories to integers, then you can now use the OneHotEncoder directly.\n",
      "  warnings.warn(msg, FutureWarning)\n",
      "C:\\ProgramData\\Anaconda3\\lib\\site-packages\\sklearn\\preprocessing\\_encoders.py:392: DeprecationWarning: The 'categorical_features' keyword is deprecated in version 0.20 and will be removed in 0.22. You can use the ColumnTransformer instead.\n",
      "  \"use the ColumnTransformer instead.\", DeprecationWarning)\n"
     ]
    }
   ],
   "source": [
    "#Traitement des données -variables categorielles- qualitative\n",
    "from sklearn.preprocessing import LabelEncoder, OneHotEncoder\n",
    "labelencoder_x=LabelEncoder()\n",
    "x[:,0] = labelencoder_x.fit_transform(x[:,0])\n",
    "onehotencoder =OneHotEncoder(categorical_features=[0]) #Lorsque les modalités sont superieur à 2\n",
    "x =onehotencoder.fit_transform(x).toarray()  \n",
    "print(x)\n",
    "#on transforme les variables en tableau disjontifs complet\n",
    "#Variable dépendante\n",
    "labelencoder_y = LabelEncoder()  \n",
    "y =labelencoder_y.fit_transform(y)\n"
   ]
  },
  {
   "cell_type": "code",
   "execution_count": 70,
   "metadata": {},
   "outputs": [
    {
     "data": {
      "text/plain": [
       "(10, 6)"
      ]
     },
     "execution_count": 70,
     "metadata": {},
     "output_type": "execute_result"
    }
   ],
   "source": [
    "x.shape\n",
    "#print(np.shape(x))\n",
    "\n",
    "#h=pd.DataFrame(x)\n",
    "#h.columns=[\"City\",\"Age\",\"Salary\"]\n",
    "#print(h)\n"
   ]
  },
  {
   "cell_type": "code",
   "execution_count": 71,
   "metadata": {},
   "outputs": [],
   "source": [
    "#Scinder le jeu de données d'apprentissage et données test\n",
    "from sklearn.model_selection import train_test_split \n",
    "x_train, x_test, y_train, y_test = train_test_split(x,y,test_size=0.2,random_state=0) #y la variable à expliquer, test_size est la proportion des personnes à attribuer au test"
   ]
  },
  {
   "cell_type": "code",
   "execution_count": 28,
   "metadata": {},
   "outputs": [],
   "source": [
    "#Normalisation des caractéristiques: Elles consiste à mettre les données dans la meme unité en centrant et reduisant par exemple\n",
    "from sklearn.preprocessing import StandardScaler  \n",
    "sc_x =StandardScaler() #StandarScaler pour centrer reduit et pour l'autre c'est min_maxScaler\n",
    "x_train=sc_x.fit_transform(x_train)\n",
    "x_test =sc_x.transform(x_test)"
   ]
  },
  {
   "cell_type": "code",
   "execution_count": null,
   "metadata": {},
   "outputs": [],
   "source": []
  }
 ],
 "metadata": {
  "kernelspec": {
   "display_name": "Python 3",
   "language": "python",
   "name": "python3"
  },
  "language_info": {
   "codemirror_mode": {
    "name": "ipython",
    "version": 3
   },
   "file_extension": ".py",
   "mimetype": "text/x-python",
   "name": "python",
   "nbconvert_exporter": "python",
   "pygments_lexer": "ipython3",
   "version": "3.7.3"
  }
 },
 "nbformat": 4,
 "nbformat_minor": 2
}
