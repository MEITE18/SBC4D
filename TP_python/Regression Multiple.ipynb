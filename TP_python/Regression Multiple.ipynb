{
 "cells": [
  {
   "cell_type": "code",
   "execution_count": 5,
   "metadata": {},
   "outputs": [
    {
     "name": "stdout",
     "output_type": "stream",
     "text": [
      "     Department  WorkedHours  Certification  YearsExperience  Salary\n",
      "0   Development         2300              0              1.1   39343\n",
      "1       Testing         2100              1              1.3   46205\n",
      "2   Development         2104              2              1.5   37731\n",
      "3   UX Designer         1200              1              2.0   43525\n",
      "4       Testing         1254              2              2.2   39891\n",
      "5   UX Designer         1236              1              2.9   56642\n",
      "6   Development         1452              2              3.0   60150\n",
      "7       Testing         1789              1              3.2   54445\n",
      "8   UX Designer         1645              1              3.2   64445\n",
      "9   UX Designer         1258              0              3.7   57189\n",
      "10      Testing         1478              3              3.9   63218\n",
      "11  Development         1257              2              4.0   55794\n",
      "12  Development         1596              1              4.0   56957\n",
      "13      Testing         1256              2              4.1   57081\n",
      "14  UX Designer         1489              3              4.5   61111\n",
      "15  Development         1236              3              4.9   67938\n",
      "16      Testing         2311              2              5.1   66029\n",
      "17  UX Designer         2245              3              5.3   83088\n",
      "18  Development         2365              1              5.9   81363\n",
      "19  Development         1500              3              6.0   93940\n",
      "20      Testing         1456              2              6.8   91738\n",
      "21      Testing         1760              1              7.1   98273\n",
      "22  UX Designer         2400              4              7.9  101302\n",
      "23  Development         2148              3              8.2  113812\n",
      "24  UX Designer         1450              2              8.7  109431\n",
      "25  UX Designer         1000              4              9.0  105582\n",
      "26      Testing         1540              3              9.5  116969\n",
      "27  Development         1500              2              9.6  112635\n",
      "28      Testing         3000              4             10.3  122391\n",
      "29  UX Designer         2100              3             10.5  121872\n",
      "[['Development' 2300 0 1.1]\n",
      " ['Testing' 2100 1 1.3]\n",
      " ['Development' 2104 2 1.5]\n",
      " ['UX Designer' 1200 1 2.0]\n",
      " ['Testing' 1254 2 2.2]\n",
      " ['UX Designer' 1236 1 2.9]\n",
      " ['Development' 1452 2 3.0]\n",
      " ['Testing' 1789 1 3.2]\n",
      " ['UX Designer' 1645 1 3.2]\n",
      " ['UX Designer' 1258 0 3.7]\n",
      " ['Testing' 1478 3 3.9]\n",
      " ['Development' 1257 2 4.0]\n",
      " ['Development' 1596 1 4.0]\n",
      " ['Testing' 1256 2 4.1]\n",
      " ['UX Designer' 1489 3 4.5]\n",
      " ['Development' 1236 3 4.9]\n",
      " ['Testing' 2311 2 5.1]\n",
      " ['UX Designer' 2245 3 5.3]\n",
      " ['Development' 2365 1 5.9]\n",
      " ['Development' 1500 3 6.0]\n",
      " ['Testing' 1456 2 6.8]\n",
      " ['Testing' 1760 1 7.1]\n",
      " ['UX Designer' 2400 4 7.9]\n",
      " ['Development' 2148 3 8.2]\n",
      " ['UX Designer' 1450 2 8.7]\n",
      " ['UX Designer' 1000 4 9.0]\n",
      " ['Testing' 1540 3 9.5]\n",
      " ['Development' 1500 2 9.6]\n",
      " ['Testing' 3000 4 10.3]\n",
      " ['UX Designer' 2100 3 10.5]]\n",
      "[ 39343  46205  37731  43525  39891  56642  60150  54445  64445  57189\n",
      "  63218  55794  56957  57081  61111  67938  66029  83088  81363  93940\n",
      "  91738  98273 101302 113812 109431 105582 116969 112635 122391 121872]\n"
     ]
    },
    {
     "name": "stderr",
     "output_type": "stream",
     "text": [
      "C:\\ProgramData\\Anaconda3\\lib\\site-packages\\sklearn\\preprocessing\\_encoders.py:371: FutureWarning: The handling of integer data will change in version 0.22. Currently, the categories are determined based on the range [0, max(values)], while in the future they will be determined based on the unique values.\n",
      "If you want the future behaviour and silence this warning, you can specify \"categories='auto'\".\n",
      "In case you used a LabelEncoder before this OneHotEncoder to convert the categories to integers, then you can now use the OneHotEncoder directly.\n",
      "  warnings.warn(msg, FutureWarning)\n",
      "C:\\ProgramData\\Anaconda3\\lib\\site-packages\\sklearn\\preprocessing\\_encoders.py:392: DeprecationWarning: The 'categorical_features' keyword is deprecated in version 0.20 and will be removed in 0.22. You can use the ColumnTransformer instead.\n",
      "  \"use the ColumnTransformer instead.\", DeprecationWarning)\n"
     ]
    }
   ],
   "source": [
    "import pandas as pd\n",
    "import numpy as np\n",
    "import matplotlib.pyplot as plt\n",
    "dataset= pd.read_csv(\"D:\\TP DEH ABOUBACAR\\STAGE_SEJEN\\MACHINE LEARNING\\employee.csv\")\n",
    "print(dataset)\n",
    "\n",
    "x=dataset.iloc[:, :4].values #Prends toutes les colonnes sauf la derniere et affecte x toutes les colonnes sauf la derniere\n",
    "y=dataset.iloc[:,-1].values # Affiche la derniere colonne et affecte à y la derniere colone\n",
    "print(x)\n",
    "print(y)\n",
    "#Traitement des données -variables categorielles- qualitative\n",
    "from sklearn.preprocessing import LabelEncoder, OneHotEncoder\n",
    "labelencoder_x=LabelEncoder()\n",
    "x[:,0] = labelencoder_x.fit_transform(x[:,0])\n",
    "onehotencoder =OneHotEncoder(categorical_features=[0]) #Lorsque les modalités sont superieur à 2\n",
    "x =onehotencoder.fit_transform(x).toarray()  \n",
    "\n",
    "#Scinder le jeu de données d'apprentissage et données test\n",
    "from sklearn.model_selection import train_test_split \n",
    "x_train, x_test, y_train, y_test = train_test_split(x,y,test_size=0.2,random_state=0)"
   ]
  },
  {
   "cell_type": "code",
   "execution_count": 4,
   "metadata": {},
   "outputs": [
    {
     "data": {
      "text/plain": [
       "(30, 6)"
      ]
     },
     "execution_count": 4,
     "metadata": {},
     "output_type": "execute_result"
    }
   ],
   "source": [
    "x.shape"
   ]
  },
  {
   "cell_type": "code",
   "execution_count": 14,
   "metadata": {},
   "outputs": [],
   "source": [
    "#Supprime la variable dummy supplementaire\n",
    "x = x[:,1:] #Attribut à la variable x la valeur des colonnes de 1 à la derniere"
   ]
  },
  {
   "cell_type": "code",
   "execution_count": 6,
   "metadata": {},
   "outputs": [],
   "source": [
    "#Ajuster la Régression linéaire Multiple sur la donnée d’apprentissage  \n",
    "from sklearn.linear_model import LinearRegression \n",
    "mlrObj = LinearRegression()  \n",
    "mlrObj.fit(x_train,y_train)\n",
    "\n",
    "#Prediction sur la donnée Test \n",
    "y_pred =mlrObj.predict(x_test)\n"
   ]
  },
  {
   "cell_type": "code",
   "execution_count": 8,
   "metadata": {},
   "outputs": [
    {
     "name": "stdout",
     "output_type": "stream",
     "text": [
      "[ 43891.26902659 126961.49881403  62010.54552121  61270.23196485\n",
      " 112780.99305321 106171.56595799]\n",
      "[ 37731 122391  57081  63218 116969 109431]\n"
     ]
    }
   ],
   "source": [
    "print(y_pred)\n",
    "print(y_test)"
   ]
  },
  {
   "cell_type": "markdown",
   "metadata": {},
   "source": [
    "1**la regression pas à pas permet de selectionner les variables pertinentes par rapport à notre etude et qui donneront une meilleure regression du modèle.\n",
    "les valeurs (leur signe signifie que ca impact positivement ou negativement) sont associés à un test de significativité de student avec un seuil de 5% et l'hypothese nulle qui donne un T alpha qu'on compare à la valeur theorique. \n",
    "si le T calculé > T théorique = Pvalue >5% on rejete alors H0:la valeur est correlé ==>  qui est que la variable n'est pas significative\n",
    "les methodes de backward "
   ]
  },
  {
   "cell_type": "markdown",
   "metadata": {},
   "source": [
    "#"
   ]
  },
  {
   "cell_type": "code",
   "execution_count": null,
   "metadata": {},
   "outputs": [],
   "source": [
    "import pandas as pd\n",
    "import numpy as np\n",
    "import matplotlib.pyplot as plt\n",
    "dataset= pd.read_csv(\"D:\\TP DEH ABOUBACAR\\STAGE_SEJEN\\MACHINE LEARNING\\employee.csv\")\n",
    "print(dataset)\n",
    "\n",
    "x=dataset.iloc[:, :4].values #Prends toutes les colonnes sauf la derniere et affecte x toutes les colonnes sauf la derniere\n",
    "y=dataset.iloc[:,-1].values # Affiche la derniere colonne et affecte à y la derniere colone\n",
    "#Traitement des données -variables categorielles- qualitative\n",
    "from sklearn.preprocessing import LabelEncoder, OneHotEncoder\n",
    "labelencoder_x=LabelEncoder()\n",
    "x[:,0] = labelencoder_x.fit_transform(x[:,0])\n",
    "onehotencoder =OneHotEncoder(categorical_features=[0]) #Lorsque les modalités sont superieur à 2\n",
    "x =onehotencoder.fit_transform(x).toarray()"
   ]
  }
 ],
 "metadata": {
  "kernelspec": {
   "display_name": "Python 3",
   "language": "python",
   "name": "python3"
  },
  "language_info": {
   "codemirror_mode": {
    "name": "ipython",
    "version": 3
   },
   "file_extension": ".py",
   "mimetype": "text/x-python",
   "name": "python",
   "nbconvert_exporter": "python",
   "pygments_lexer": "ipython3",
   "version": "3.7.3"
  }
 },
 "nbformat": 4,
 "nbformat_minor": 2
}
